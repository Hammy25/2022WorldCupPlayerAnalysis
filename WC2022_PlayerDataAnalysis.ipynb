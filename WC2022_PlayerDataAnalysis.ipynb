{
 "cells": [
  {
   "cell_type": "markdown",
   "id": "90033e3c",
   "metadata": {},
   "source": [
    "# Analysis of Players in the 2022 World Cup Tournament"
   ]
  },
  {
   "cell_type": "code",
   "execution_count": 1,
   "id": "021d1fb5",
   "metadata": {},
   "outputs": [],
   "source": [
    "# Import libraries\n",
    "import numpy as np\n",
    "import pandas as pd\n",
    "import plotly.express as px"
   ]
  },
  {
   "cell_type": "code",
   "execution_count": 2,
   "id": "d34fdb3d",
   "metadata": {},
   "outputs": [
    {
     "name": "stdout",
     "output_type": "stream",
     "text": [
      "831\n"
     ]
    },
    {
     "data": {
      "text/html": [
       "<div>\n",
       "<style scoped>\n",
       "    .dataframe tbody tr th:only-of-type {\n",
       "        vertical-align: middle;\n",
       "    }\n",
       "\n",
       "    .dataframe tbody tr th {\n",
       "        vertical-align: top;\n",
       "    }\n",
       "\n",
       "    .dataframe thead th {\n",
       "        text-align: right;\n",
       "    }\n",
       "</style>\n",
       "<table border=\"1\" class=\"dataframe\">\n",
       "  <thead>\n",
       "    <tr style=\"text-align: right;\">\n",
       "      <th></th>\n",
       "      <th>No</th>\n",
       "      <th>First Name</th>\n",
       "      <th>Other Names</th>\n",
       "      <th>Full Name</th>\n",
       "      <th>DOB</th>\n",
       "      <th>Day of Birth</th>\n",
       "      <th>Month of Birth</th>\n",
       "      <th>Year of Birth</th>\n",
       "      <th>Age</th>\n",
       "      <th>Position</th>\n",
       "      <th>Nationality</th>\n",
       "      <th>International Caps</th>\n",
       "      <th>International Goals</th>\n",
       "      <th>Club</th>\n",
       "      <th>League</th>\n",
       "      <th>Club Country</th>\n",
       "    </tr>\n",
       "  </thead>\n",
       "  <tbody>\n",
       "    <tr>\n",
       "      <th>0</th>\n",
       "      <td>1</td>\n",
       "      <td>Hernan</td>\n",
       "      <td>Galindez</td>\n",
       "      <td>Galindez, Hernan</td>\n",
       "      <td>30-Mar-87</td>\n",
       "      <td>30</td>\n",
       "      <td>March</td>\n",
       "      <td>1987</td>\n",
       "      <td>35</td>\n",
       "      <td>GK</td>\n",
       "      <td>Ecuador</td>\n",
       "      <td>12</td>\n",
       "      <td>0</td>\n",
       "      <td>Aucas</td>\n",
       "      <td>Ecuadorian Serie A</td>\n",
       "      <td>Ecuador</td>\n",
       "    </tr>\n",
       "    <tr>\n",
       "      <th>1</th>\n",
       "      <td>2</td>\n",
       "      <td>Felix</td>\n",
       "      <td>Torres</td>\n",
       "      <td>Torres, Felix</td>\n",
       "      <td>11-Jan-97</td>\n",
       "      <td>11</td>\n",
       "      <td>January</td>\n",
       "      <td>1997</td>\n",
       "      <td>25</td>\n",
       "      <td>DF</td>\n",
       "      <td>Ecuador</td>\n",
       "      <td>17</td>\n",
       "      <td>2</td>\n",
       "      <td>Santos Laguna</td>\n",
       "      <td>Mexican Liga MX</td>\n",
       "      <td>Mexico</td>\n",
       "    </tr>\n",
       "    <tr>\n",
       "      <th>2</th>\n",
       "      <td>3</td>\n",
       "      <td>Piero</td>\n",
       "      <td>Hincapie</td>\n",
       "      <td>Hincapie, Piero</td>\n",
       "      <td>9-Jan-02</td>\n",
       "      <td>9</td>\n",
       "      <td>January</td>\n",
       "      <td>2002</td>\n",
       "      <td>20</td>\n",
       "      <td>DF</td>\n",
       "      <td>Ecuador</td>\n",
       "      <td>21</td>\n",
       "      <td>1</td>\n",
       "      <td>Bayer Leverkusen</td>\n",
       "      <td>German 1. Bundesliga</td>\n",
       "      <td>Germany</td>\n",
       "    </tr>\n",
       "    <tr>\n",
       "      <th>3</th>\n",
       "      <td>4</td>\n",
       "      <td>Robert</td>\n",
       "      <td>Arboleda</td>\n",
       "      <td>Arboleda, Robert</td>\n",
       "      <td>22-Oct-91</td>\n",
       "      <td>22</td>\n",
       "      <td>October</td>\n",
       "      <td>1991</td>\n",
       "      <td>31</td>\n",
       "      <td>DF</td>\n",
       "      <td>Ecuador</td>\n",
       "      <td>33</td>\n",
       "      <td>2</td>\n",
       "      <td>São Paulo</td>\n",
       "      <td>Campeonato Brasileiro Série A</td>\n",
       "      <td>Brazil</td>\n",
       "    </tr>\n",
       "    <tr>\n",
       "      <th>4</th>\n",
       "      <td>5</td>\n",
       "      <td>Jose</td>\n",
       "      <td>Cifuentes</td>\n",
       "      <td>Cifuentes, Jose</td>\n",
       "      <td>12-Mar-99</td>\n",
       "      <td>12</td>\n",
       "      <td>March</td>\n",
       "      <td>1999</td>\n",
       "      <td>23</td>\n",
       "      <td>MF</td>\n",
       "      <td>Ecuador</td>\n",
       "      <td>11</td>\n",
       "      <td>0</td>\n",
       "      <td>Los Angeles FC</td>\n",
       "      <td>USA Major League Soccer</td>\n",
       "      <td>United States</td>\n",
       "    </tr>\n",
       "  </tbody>\n",
       "</table>\n",
       "</div>"
      ],
      "text/plain": [
       "   No First Name Other Names         Full Name        DOB  Day of Birth  \\\n",
       "0   1     Hernan    Galindez  Galindez, Hernan  30-Mar-87            30   \n",
       "1   2      Felix      Torres     Torres, Felix  11-Jan-97            11   \n",
       "2   3      Piero    Hincapie   Hincapie, Piero   9-Jan-02             9   \n",
       "3   4     Robert    Arboleda  Arboleda, Robert  22-Oct-91            22   \n",
       "4   5       Jose   Cifuentes   Cifuentes, Jose  12-Mar-99            12   \n",
       "\n",
       "  Month of Birth  Year of Birth  Age Position Nationality  International Caps  \\\n",
       "0          March           1987   35       GK     Ecuador                  12   \n",
       "1        January           1997   25       DF     Ecuador                  17   \n",
       "2        January           2002   20       DF     Ecuador                  21   \n",
       "3        October           1991   31       DF     Ecuador                  33   \n",
       "4          March           1999   23       MF     Ecuador                  11   \n",
       "\n",
       "   International Goals              Club                         League  \\\n",
       "0                    0             Aucas             Ecuadorian Serie A   \n",
       "1                    2     Santos Laguna                Mexican Liga MX   \n",
       "2                    1  Bayer Leverkusen           German 1. Bundesliga   \n",
       "3                    2         São Paulo  Campeonato Brasileiro Série A   \n",
       "4                    0    Los Angeles FC        USA Major League Soccer   \n",
       "\n",
       "    Club Country  \n",
       "0        Ecuador  \n",
       "1         Mexico  \n",
       "2        Germany  \n",
       "3         Brazil  \n",
       "4  United States  "
      ]
     },
     "execution_count": 2,
     "metadata": {},
     "output_type": "execute_result"
    }
   ],
   "source": [
    "data = pd.read_csv(\"WorldCup2022Players_final2.csv\")\n",
    "print(len(data))\n",
    "data.head()"
   ]
  },
  {
   "cell_type": "markdown",
   "id": "c4102e26",
   "metadata": {},
   "source": [
    "## Age Analysis"
   ]
  },
  {
   "cell_type": "code",
   "execution_count": 3,
   "id": "1eb31ec1",
   "metadata": {
    "scrolled": true
   },
   "outputs": [
    {
     "name": "stdout",
     "output_type": "stream",
     "text": [
      "Average age of World Cup 2022 players is: 26.948255114320098.\n"
     ]
    }
   ],
   "source": [
    "# Average age of Players\n",
    "ages = data[\"Age\"]\n",
    "average = sum(ages) / len(ages)\n",
    "print(\"Average age of World Cup 2022 players is: \" + str(average) + \".\")"
   ]
  },
  {
   "cell_type": "code",
   "execution_count": 4,
   "id": "4227738c",
   "metadata": {},
   "outputs": [
    {
     "data": {
      "text/html": [
       "<div>\n",
       "<style scoped>\n",
       "    .dataframe tbody tr th:only-of-type {\n",
       "        vertical-align: middle;\n",
       "    }\n",
       "\n",
       "    .dataframe tbody tr th {\n",
       "        vertical-align: top;\n",
       "    }\n",
       "\n",
       "    .dataframe thead th {\n",
       "        text-align: right;\n",
       "    }\n",
       "</style>\n",
       "<table border=\"1\" class=\"dataframe\">\n",
       "  <thead>\n",
       "    <tr style=\"text-align: right;\">\n",
       "      <th></th>\n",
       "      <th>No</th>\n",
       "      <th>First Name</th>\n",
       "      <th>Other Names</th>\n",
       "      <th>Full Name</th>\n",
       "      <th>DOB</th>\n",
       "      <th>Day of Birth</th>\n",
       "      <th>Month of Birth</th>\n",
       "      <th>Year of Birth</th>\n",
       "      <th>Age</th>\n",
       "      <th>Position</th>\n",
       "      <th>Nationality</th>\n",
       "      <th>International Caps</th>\n",
       "      <th>International Goals</th>\n",
       "      <th>Club</th>\n",
       "      <th>League</th>\n",
       "      <th>Club Country</th>\n",
       "    </tr>\n",
       "  </thead>\n",
       "  <tbody>\n",
       "    <tr>\n",
       "      <th>233</th>\n",
       "      <td>234</td>\n",
       "      <td>Alfredo</td>\n",
       "      <td>Talavera</td>\n",
       "      <td>Talavera, Alfredo</td>\n",
       "      <td>18-Sep-82</td>\n",
       "      <td>18</td>\n",
       "      <td>September</td>\n",
       "      <td>1982</td>\n",
       "      <td>40</td>\n",
       "      <td>GK</td>\n",
       "      <td>Mexico</td>\n",
       "      <td>40</td>\n",
       "      <td>0</td>\n",
       "      <td>Juárez</td>\n",
       "      <td>Mexican Liga MX</td>\n",
       "      <td>Mexico</td>\n",
       "    </tr>\n",
       "  </tbody>\n",
       "</table>\n",
       "</div>"
      ],
      "text/plain": [
       "      No First Name Other Names          Full Name        DOB  Day of Birth  \\\n",
       "233  234    Alfredo    Talavera  Talavera, Alfredo  18-Sep-82            18   \n",
       "\n",
       "    Month of Birth  Year of Birth  Age Position Nationality  \\\n",
       "233      September           1982   40       GK      Mexico   \n",
       "\n",
       "     International Caps  International Goals    Club           League  \\\n",
       "233                  40                    0  Juárez  Mexican Liga MX   \n",
       "\n",
       "    Club Country  \n",
       "233       Mexico  "
      ]
     },
     "metadata": {},
     "output_type": "display_data"
    }
   ],
   "source": [
    "# Oldest player\n",
    "oldest_player = data.loc[data.Age == max(ages), :]\n",
    "display(oldest_player)"
   ]
  },
  {
   "cell_type": "markdown",
   "id": "8b25f7b0",
   "metadata": {},
   "source": [
    "Oldest Player is Alfredo Talavera of Mexico. 40 years old. I thought it was Dani Alves."
   ]
  },
  {
   "cell_type": "code",
   "execution_count": 5,
   "id": "7499f69c",
   "metadata": {
    "scrolled": false
   },
   "outputs": [
    {
     "data": {
      "text/html": [
       "<div>\n",
       "<style scoped>\n",
       "    .dataframe tbody tr th:only-of-type {\n",
       "        vertical-align: middle;\n",
       "    }\n",
       "\n",
       "    .dataframe tbody tr th {\n",
       "        vertical-align: top;\n",
       "    }\n",
       "\n",
       "    .dataframe thead th {\n",
       "        text-align: right;\n",
       "    }\n",
       "</style>\n",
       "<table border=\"1\" class=\"dataframe\">\n",
       "  <thead>\n",
       "    <tr style=\"text-align: right;\">\n",
       "      <th></th>\n",
       "      <th>No</th>\n",
       "      <th>First Name</th>\n",
       "      <th>Other Names</th>\n",
       "      <th>Full Name</th>\n",
       "      <th>DOB</th>\n",
       "      <th>Day of Birth</th>\n",
       "      <th>Month of Birth</th>\n",
       "      <th>Year of Birth</th>\n",
       "      <th>Age</th>\n",
       "      <th>Position</th>\n",
       "      <th>Nationality</th>\n",
       "      <th>International Caps</th>\n",
       "      <th>International Goals</th>\n",
       "      <th>Club</th>\n",
       "      <th>League</th>\n",
       "      <th>Club Country</th>\n",
       "    </tr>\n",
       "  </thead>\n",
       "  <tbody>\n",
       "    <tr>\n",
       "      <th>331</th>\n",
       "      <td>332</td>\n",
       "      <td>Garang</td>\n",
       "      <td>Kuol</td>\n",
       "      <td>Kuol, Garang</td>\n",
       "      <td>15-Sep-04</td>\n",
       "      <td>15</td>\n",
       "      <td>September</td>\n",
       "      <td>2004</td>\n",
       "      <td>18</td>\n",
       "      <td>FW</td>\n",
       "      <td>Australia</td>\n",
       "      <td>1</td>\n",
       "      <td>0</td>\n",
       "      <td>Central Coast Mariners</td>\n",
       "      <td>Australian Hyundai A-League</td>\n",
       "      <td>Australia</td>\n",
       "    </tr>\n",
       "    <tr>\n",
       "      <th>423</th>\n",
       "      <td>424</td>\n",
       "      <td>Jewison</td>\n",
       "      <td>Bennette</td>\n",
       "      <td>Bennette, Jewison</td>\n",
       "      <td>15-Jun-04</td>\n",
       "      <td>15</td>\n",
       "      <td>June</td>\n",
       "      <td>2004</td>\n",
       "      <td>18</td>\n",
       "      <td>MF</td>\n",
       "      <td>Costa Rica</td>\n",
       "      <td>7</td>\n",
       "      <td>2</td>\n",
       "      <td>Sunderland</td>\n",
       "      <td>English League One</td>\n",
       "      <td>England</td>\n",
       "    </tr>\n",
       "    <tr>\n",
       "      <th>466</th>\n",
       "      <td>467</td>\n",
       "      <td>Youssoufa</td>\n",
       "      <td>Moukoko</td>\n",
       "      <td>Moukoko, Youssoufa</td>\n",
       "      <td>20-Nov-04</td>\n",
       "      <td>20</td>\n",
       "      <td>November</td>\n",
       "      <td>2004</td>\n",
       "      <td>18</td>\n",
       "      <td>FW</td>\n",
       "      <td>Germany</td>\n",
       "      <td>1</td>\n",
       "      <td>0</td>\n",
       "      <td>Borussia Dortmund</td>\n",
       "      <td>German 1. Bundesliga</td>\n",
       "      <td>Germany</td>\n",
       "    </tr>\n",
       "    <tr>\n",
       "      <th>501</th>\n",
       "      <td>502</td>\n",
       "      <td>Gavi</td>\n",
       "      <td>NaN</td>\n",
       "      <td>Gavi</td>\n",
       "      <td>5-Aug-04</td>\n",
       "      <td>5</td>\n",
       "      <td>August</td>\n",
       "      <td>2004</td>\n",
       "      <td>18</td>\n",
       "      <td>MF</td>\n",
       "      <td>Spain</td>\n",
       "      <td>13</td>\n",
       "      <td>2</td>\n",
       "      <td>Barcelona</td>\n",
       "      <td>Spain Primera Division</td>\n",
       "      <td>Spain</td>\n",
       "    </tr>\n",
       "    <tr>\n",
       "      <th>619</th>\n",
       "      <td>620</td>\n",
       "      <td>Bilal</td>\n",
       "      <td>Khannous</td>\n",
       "      <td>Khannous, Bilal</td>\n",
       "      <td>10-May-04</td>\n",
       "      <td>10</td>\n",
       "      <td>May</td>\n",
       "      <td>2004</td>\n",
       "      <td>18</td>\n",
       "      <td>MF</td>\n",
       "      <td>Morocco</td>\n",
       "      <td>0</td>\n",
       "      <td>0</td>\n",
       "      <td>Genk</td>\n",
       "      <td>Belgian Jupiler Pro League</td>\n",
       "      <td>Belgium</td>\n",
       "    </tr>\n",
       "    <tr>\n",
       "      <th>733</th>\n",
       "      <td>734</td>\n",
       "      <td>Abdul Fatawu</td>\n",
       "      <td>Issahaku</td>\n",
       "      <td>Issahaku, Abdul Fatawu</td>\n",
       "      <td>8-Mar-04</td>\n",
       "      <td>8</td>\n",
       "      <td>March</td>\n",
       "      <td>2004</td>\n",
       "      <td>18</td>\n",
       "      <td>MF</td>\n",
       "      <td>Ghana</td>\n",
       "      <td>13</td>\n",
       "      <td>1</td>\n",
       "      <td>Sporting CP</td>\n",
       "      <td>Portuguese Liga ZON SAGRES</td>\n",
       "      <td>Portugal</td>\n",
       "    </tr>\n",
       "  </tbody>\n",
       "</table>\n",
       "</div>"
      ],
      "text/plain": [
       "      No    First Name Other Names               Full Name        DOB  \\\n",
       "331  332        Garang        Kuol            Kuol, Garang  15-Sep-04   \n",
       "423  424       Jewison    Bennette       Bennette, Jewison  15-Jun-04   \n",
       "466  467     Youssoufa     Moukoko      Moukoko, Youssoufa  20-Nov-04   \n",
       "501  502          Gavi         NaN                    Gavi   5-Aug-04   \n",
       "619  620         Bilal    Khannous         Khannous, Bilal  10-May-04   \n",
       "733  734  Abdul Fatawu    Issahaku  Issahaku, Abdul Fatawu   8-Mar-04   \n",
       "\n",
       "     Day of Birth Month of Birth  Year of Birth  Age Position Nationality  \\\n",
       "331            15      September           2004   18       FW   Australia   \n",
       "423            15           June           2004   18       MF  Costa Rica   \n",
       "466            20       November           2004   18       FW     Germany   \n",
       "501             5         August           2004   18       MF       Spain   \n",
       "619            10            May           2004   18       MF     Morocco   \n",
       "733             8          March           2004   18       MF       Ghana   \n",
       "\n",
       "     International Caps  International Goals                    Club  \\\n",
       "331                   1                    0  Central Coast Mariners   \n",
       "423                   7                    2              Sunderland   \n",
       "466                   1                    0       Borussia Dortmund   \n",
       "501                  13                    2               Barcelona   \n",
       "619                   0                    0                    Genk   \n",
       "733                  13                    1             Sporting CP   \n",
       "\n",
       "                          League Club Country  \n",
       "331  Australian Hyundai A-League    Australia  \n",
       "423           English League One      England  \n",
       "466         German 1. Bundesliga      Germany  \n",
       "501       Spain Primera Division        Spain  \n",
       "619   Belgian Jupiler Pro League      Belgium  \n",
       "733   Portuguese Liga ZON SAGRES     Portugal  "
      ]
     },
     "metadata": {},
     "output_type": "display_data"
    }
   ],
   "source": [
    "# Youngest Player\n",
    "youngest_player = data.loc[data.Age == min(ages), :]\n",
    "display(youngest_player)"
   ]
  },
  {
   "cell_type": "markdown",
   "id": "2f3d8d94",
   "metadata": {},
   "source": [
    "There are six 18 year-old players at the world cup. Who is the youngest?"
   ]
  },
  {
   "cell_type": "code",
   "execution_count": 6,
   "id": "901d8357",
   "metadata": {},
   "outputs": [
    {
     "data": {
      "text/html": [
       "<div>\n",
       "<style scoped>\n",
       "    .dataframe tbody tr th:only-of-type {\n",
       "        vertical-align: middle;\n",
       "    }\n",
       "\n",
       "    .dataframe tbody tr th {\n",
       "        vertical-align: top;\n",
       "    }\n",
       "\n",
       "    .dataframe thead th {\n",
       "        text-align: right;\n",
       "    }\n",
       "</style>\n",
       "<table border=\"1\" class=\"dataframe\">\n",
       "  <thead>\n",
       "    <tr style=\"text-align: right;\">\n",
       "      <th></th>\n",
       "      <th>No</th>\n",
       "      <th>First Name</th>\n",
       "      <th>Other Names</th>\n",
       "      <th>Full Name</th>\n",
       "      <th>DOB</th>\n",
       "      <th>Day of Birth</th>\n",
       "      <th>Month of Birth</th>\n",
       "      <th>Year of Birth</th>\n",
       "      <th>Age</th>\n",
       "      <th>Position</th>\n",
       "      <th>Nationality</th>\n",
       "      <th>International Caps</th>\n",
       "      <th>International Goals</th>\n",
       "      <th>Club</th>\n",
       "      <th>League</th>\n",
       "      <th>Club Country</th>\n",
       "    </tr>\n",
       "  </thead>\n",
       "  <tbody>\n",
       "    <tr>\n",
       "      <th>619</th>\n",
       "      <td>620</td>\n",
       "      <td>Bilal</td>\n",
       "      <td>Khannous</td>\n",
       "      <td>Khannous, Bilal</td>\n",
       "      <td>10-May-04</td>\n",
       "      <td>10</td>\n",
       "      <td>May</td>\n",
       "      <td>2004</td>\n",
       "      <td>18</td>\n",
       "      <td>MF</td>\n",
       "      <td>Morocco</td>\n",
       "      <td>0</td>\n",
       "      <td>0</td>\n",
       "      <td>Genk</td>\n",
       "      <td>Belgian Jupiler Pro League</td>\n",
       "      <td>Belgium</td>\n",
       "    </tr>\n",
       "  </tbody>\n",
       "</table>\n",
       "</div>"
      ],
      "text/plain": [
       "      No First Name Other Names        Full Name        DOB  Day of Birth  \\\n",
       "619  620      Bilal    Khannous  Khannous, Bilal  10-May-04            10   \n",
       "\n",
       "    Month of Birth  Year of Birth  Age Position Nationality  \\\n",
       "619            May           2004   18       MF     Morocco   \n",
       "\n",
       "     International Caps  International Goals  Club  \\\n",
       "619                   0                    0  Genk   \n",
       "\n",
       "                         League Club Country  \n",
       "619  Belgian Jupiler Pro League      Belgium  "
      ]
     },
     "metadata": {},
     "output_type": "display_data"
    }
   ],
   "source": [
    "# youngest 18 year old\n",
    "y_dob = youngest_player[\"DOB\"]\n",
    "youngest = youngest_player.loc[youngest_player.DOB == min(y_dob), :]\n",
    "display(youngest)"
   ]
  },
  {
   "cell_type": "markdown",
   "id": "b3071ab0",
   "metadata": {},
   "source": [
    "The youngest player at the world cup is Moroccan Bilal Khannous (18 years old). Born on 10 May, 2004."
   ]
  },
  {
   "cell_type": "markdown",
   "id": "5a65144e",
   "metadata": {},
   "source": [
    "## International Statistics"
   ]
  },
  {
   "cell_type": "code",
   "execution_count": 8,
   "id": "5ba54b42",
   "metadata": {
    "scrolled": false
   },
   "outputs": [
    {
     "name": "stdout",
     "output_type": "stream",
     "text": [
      "20\n",
      "108.5\n"
     ]
    },
    {
     "data": {
      "application/vnd.plotly.v1+json": {
       "config": {
        "plotlyServerURL": "https://plot.ly"
       },
       "data": [
        {
         "alignmentgroup": "True",
         "customdata": [
          [
           31,
           "MF",
           "Switzerland",
           26,
           "Chicago Fire FC",
           "United States Premeir League"
          ],
          [
           33,
           "DF",
           "Wales",
           0,
           "AFC Wimbledon",
           "English League One"
          ],
          [
           38,
           "DF",
           "Brazil",
           7,
           "Chelsea",
           "English Premier League"
          ],
          [
           32,
           "FW",
           "Ghana",
           23,
           "Al-Sadd",
           "Qatar Premeir League"
          ],
          [
           31,
           "FW",
           "France",
           42,
           "Atlético Madrid",
           "Spain Primera Division"
          ],
          [
           36,
           "GK",
           "Germany",
           0,
           "Bayern Munich",
           "German 1. Bundesliga"
          ],
          [
           36,
           "FW",
           "France",
           49,
           "Milan",
           "Italian Serie A"
          ],
          [
           35,
           "DF",
           "Uruguay",
           4,
           "LA Galaxy",
           "USA Major League Soccer"
          ],
          [
           32,
           "MF",
           "Qatar",
           6,
           "Al-Duhail",
           "Qatar Stars League"
          ],
          [
           33,
           "FW",
           "Croatia",
           32,
           "Tottenham Hotspur",
           "English Premier League"
          ],
          [
           30,
           "MF",
           "Denmark",
           39,
           "Manchester United",
           "English Premier League"
          ],
          [
           33,
           "MF",
           "Germany",
           44,
           "Bayern Munich",
           "German 1. Bundesliga"
          ],
          [
           30,
           "FW",
           "Costa Rica",
           25,
           "León",
           "Mexico Premeir League"
          ],
          [
           32,
           "DF",
           "Iran",
           7,
           "AEK Athens",
           "Greek Super League"
          ],
          [
           30,
           "FW",
           "Brazil",
           75,
           "Paris Saint-Germain",
           "French Ligue 1"
          ],
          [
           33,
           "DF",
           "Denmark",
           5,
           "Milan",
           "Italian Serie A"
          ],
          [
           34,
           "DF",
           "Japan",
           12,
           "Schalke 04",
           "Germany Premeir League"
          ],
          [
           31,
           "FW",
           "Belgium",
           33,
           "Real Madrid",
           "Spain Primera Division"
          ],
          [
           39,
           "DF",
           "Brazil",
           8,
           "UNAM",
           "Mexico Premeir League"
          ],
          [
           34,
           "FW",
           "Argentina",
           27,
           "Juventus",
           "Italian Serie A"
          ],
          [
           33,
           "DF",
           "Belgium",
           5,
           "Antwerp",
           "Belgium Premeir League"
          ],
          [
           33,
           "MF",
           "Belgium",
           12,
           "Atlético Madrid",
           "Spain Premeir League"
          ],
          [
           34,
           "DF",
           "Mexico",
           5,
           "Monterrey",
           "Mexican Liga MX"
          ],
          [
           39,
           "DF",
           "Portugal",
           7,
           "Porto",
           "Portugal Premeir League"
          ],
          [
           29,
           "MF",
           "Qatar",
           15,
           "Al-Sadd",
           "Qatar Stars League"
          ],
          [
           37,
           "GK",
           "Mexico",
           0,
           "América",
           "Mexican Liga MX"
          ],
          [
           35,
           "FW",
           "Uruguay",
           58,
           "Valencia",
           "Spain Premeir League"
          ],
          [
           36,
           "GK",
           "Uruguay",
           0,
           "Galatasaray",
           "Turkey Premeir League"
          ],
          [
           34,
           "FW",
           "Poland",
           76,
           "Barcelona",
           "Spain Primera Division"
          ],
          [
           35,
           "FW",
           "Uruguay",
           68,
           "Nacional",
           "Uruguay Premeir League"
          ],
          [
           36,
           "DF",
           "Japan",
           4,
           "FC Tokyo",
           "Japanese J. League Division 1"
          ],
          [
           35,
           "GK",
           "France",
           0,
           "Tottenham Hotspur",
           "English Premier League"
          ],
          [
           34,
           "MF",
           "Spain",
           2,
           "Barcelona",
           "Spain Primera Division"
          ],
          [
           35,
           "DF",
           "Belgium",
           9,
           "Anderlecht",
           "Belgium Premeir League"
          ],
          [
           37,
           "MF",
           "Costa Rica",
           29,
           "Alajuelense",
           "Costa Rica Premeir League"
          ],
          [
           37,
           "MF",
           "Croatia",
           23,
           "Real Madrid",
           "Spain Primera Division"
          ],
          [
           34,
           "MF",
           "Costa Rica",
           27,
           "Alajuelense",
           "Costa Rica Premeir League"
          ],
          [
           36,
           "DF",
           "Uruguay",
           8,
           "Vélez Sarsfield",
           "Argentina Primera División"
          ],
          [
           35,
           "FW",
           "Argentina",
           91,
           "Paris Saint-Germain",
           "French Ligue 1"
          ],
          [
           31,
           "MF",
           "Qatar",
           36,
           "Al-Sadd",
           "Qatar Stars League"
          ],
          [
           36,
           "MF",
           "Mexico",
           28,
           "Real Betis",
           "Spain Primera Division"
          ],
          [
           37,
           "FW",
           "Portugal",
           117,
           "Manchester United",
           "English Premier League"
          ]
         ],
         "hovertemplate": "<b>%{hovertext}</b><br><br>Full Name=%{x}<br>International Caps=%{y}<br>Age=%{customdata[0]}<br>Position=%{customdata[1]}<br>Nationality=%{customdata[2]}<br>International Goals=%{customdata[3]}<br>Club=%{customdata[4]}<br>League=%{customdata[5]}<extra></extra>",
         "hovertext": [
          "Shaqiri, Xherdan",
          "Gunter, Chris",
          "Silva, Thiago",
          "Ayew, Andre",
          "Griezmann, Antoine",
          "Neuer, Manuel",
          "Giroud, Olivier",
          "Caceres, Martin",
          "Boudiaf, Karim",
          "Perisic, Ivan",
          "Eriksen, Christian",
          "Muller, Thomas",
          "Campbell, Joel",
          "Hajsafi, Ehsan",
          "Neymar",
          "Kjaer, Simon",
          "Yoshida, Maya",
          "Hazard, Eden",
          "Alves, Dani",
          "Di Maria, Angel",
          "Alderweireld, Toby",
          "Witsel, Axel",
          "Moreno, Hector",
          "Pepe",
          "Hassan, Abdelkarim",
          "Ochoa, Guillermo",
          "Cavani, Edinson",
          "Muslera, Fernando",
          "Lewandowski, Robert",
          "Suarez, Luis",
          "Nagatomo, Yuto",
          "Lloris, Hugo",
          "Busquets, Sergio",
          "Vertonghen, Jan",
          "Ruiz, Bryan",
          "Modric, Luka",
          "Borges, Celso",
          "Godin, Diego",
          "Messi, Lionel",
          "Haydos, Hassan",
          "Guardado, Andres",
          "Ronaldo, Cristiano"
         ],
         "legendgroup": "",
         "marker": {
          "color": "#636efa",
          "pattern": {
           "shape": ""
          }
         },
         "name": "",
         "offsetgroup": "",
         "orientation": "v",
         "showlegend": false,
         "textposition": "auto",
         "type": "bar",
         "x": [
          "Shaqiri, Xherdan",
          "Gunter, Chris",
          "Silva, Thiago",
          "Ayew, Andre",
          "Griezmann, Antoine",
          "Neuer, Manuel",
          "Giroud, Olivier",
          "Caceres, Martin",
          "Boudiaf, Karim",
          "Perisic, Ivan",
          "Eriksen, Christian",
          "Muller, Thomas",
          "Campbell, Joel",
          "Hajsafi, Ehsan",
          "Neymar",
          "Kjaer, Simon",
          "Yoshida, Maya",
          "Hazard, Eden",
          "Alves, Dani",
          "Di Maria, Angel",
          "Alderweireld, Toby",
          "Witsel, Axel",
          "Moreno, Hector",
          "Pepe",
          "Hassan, Abdelkarim",
          "Ochoa, Guillermo",
          "Cavani, Edinson",
          "Muslera, Fernando",
          "Lewandowski, Robert",
          "Suarez, Luis",
          "Nagatomo, Yuto",
          "Lloris, Hugo",
          "Busquets, Sergio",
          "Vertonghen, Jan",
          "Ruiz, Bryan",
          "Modric, Luka",
          "Borges, Celso",
          "Godin, Diego",
          "Messi, Lionel",
          "Haydos, Hassan",
          "Guardado, Andres",
          "Ronaldo, Cristiano"
         ],
         "xaxis": "x",
         "y": [
          109,
          109,
          109,
          110,
          110,
          114,
          114,
          115,
          115,
          116,
          117,
          118,
          119,
          121,
          121,
          121,
          122,
          123,
          124,
          124,
          124,
          127,
          128,
          129,
          130,
          131,
          133,
          133,
          134,
          134,
          138,
          139,
          139,
          142,
          146,
          155,
          155,
          159,
          165,
          169,
          178,
          191
         ],
         "yaxis": "y"
        }
       ],
       "layout": {
        "barmode": "relative",
        "legend": {
         "tracegroupgap": 0
        },
        "template": {
         "data": {
          "bar": [
           {
            "error_x": {
             "color": "#2a3f5f"
            },
            "error_y": {
             "color": "#2a3f5f"
            },
            "marker": {
             "line": {
              "color": "#E5ECF6",
              "width": 0.5
             },
             "pattern": {
              "fillmode": "overlay",
              "size": 10,
              "solidity": 0.2
             }
            },
            "type": "bar"
           }
          ],
          "barpolar": [
           {
            "marker": {
             "line": {
              "color": "#E5ECF6",
              "width": 0.5
             },
             "pattern": {
              "fillmode": "overlay",
              "size": 10,
              "solidity": 0.2
             }
            },
            "type": "barpolar"
           }
          ],
          "carpet": [
           {
            "aaxis": {
             "endlinecolor": "#2a3f5f",
             "gridcolor": "white",
             "linecolor": "white",
             "minorgridcolor": "white",
             "startlinecolor": "#2a3f5f"
            },
            "baxis": {
             "endlinecolor": "#2a3f5f",
             "gridcolor": "white",
             "linecolor": "white",
             "minorgridcolor": "white",
             "startlinecolor": "#2a3f5f"
            },
            "type": "carpet"
           }
          ],
          "choropleth": [
           {
            "colorbar": {
             "outlinewidth": 0,
             "ticks": ""
            },
            "type": "choropleth"
           }
          ],
          "contour": [
           {
            "colorbar": {
             "outlinewidth": 0,
             "ticks": ""
            },
            "colorscale": [
             [
              0,
              "#0d0887"
             ],
             [
              0.1111111111111111,
              "#46039f"
             ],
             [
              0.2222222222222222,
              "#7201a8"
             ],
             [
              0.3333333333333333,
              "#9c179e"
             ],
             [
              0.4444444444444444,
              "#bd3786"
             ],
             [
              0.5555555555555556,
              "#d8576b"
             ],
             [
              0.6666666666666666,
              "#ed7953"
             ],
             [
              0.7777777777777778,
              "#fb9f3a"
             ],
             [
              0.8888888888888888,
              "#fdca26"
             ],
             [
              1,
              "#f0f921"
             ]
            ],
            "type": "contour"
           }
          ],
          "contourcarpet": [
           {
            "colorbar": {
             "outlinewidth": 0,
             "ticks": ""
            },
            "type": "contourcarpet"
           }
          ],
          "heatmap": [
           {
            "colorbar": {
             "outlinewidth": 0,
             "ticks": ""
            },
            "colorscale": [
             [
              0,
              "#0d0887"
             ],
             [
              0.1111111111111111,
              "#46039f"
             ],
             [
              0.2222222222222222,
              "#7201a8"
             ],
             [
              0.3333333333333333,
              "#9c179e"
             ],
             [
              0.4444444444444444,
              "#bd3786"
             ],
             [
              0.5555555555555556,
              "#d8576b"
             ],
             [
              0.6666666666666666,
              "#ed7953"
             ],
             [
              0.7777777777777778,
              "#fb9f3a"
             ],
             [
              0.8888888888888888,
              "#fdca26"
             ],
             [
              1,
              "#f0f921"
             ]
            ],
            "type": "heatmap"
           }
          ],
          "heatmapgl": [
           {
            "colorbar": {
             "outlinewidth": 0,
             "ticks": ""
            },
            "colorscale": [
             [
              0,
              "#0d0887"
             ],
             [
              0.1111111111111111,
              "#46039f"
             ],
             [
              0.2222222222222222,
              "#7201a8"
             ],
             [
              0.3333333333333333,
              "#9c179e"
             ],
             [
              0.4444444444444444,
              "#bd3786"
             ],
             [
              0.5555555555555556,
              "#d8576b"
             ],
             [
              0.6666666666666666,
              "#ed7953"
             ],
             [
              0.7777777777777778,
              "#fb9f3a"
             ],
             [
              0.8888888888888888,
              "#fdca26"
             ],
             [
              1,
              "#f0f921"
             ]
            ],
            "type": "heatmapgl"
           }
          ],
          "histogram": [
           {
            "marker": {
             "pattern": {
              "fillmode": "overlay",
              "size": 10,
              "solidity": 0.2
             }
            },
            "type": "histogram"
           }
          ],
          "histogram2d": [
           {
            "colorbar": {
             "outlinewidth": 0,
             "ticks": ""
            },
            "colorscale": [
             [
              0,
              "#0d0887"
             ],
             [
              0.1111111111111111,
              "#46039f"
             ],
             [
              0.2222222222222222,
              "#7201a8"
             ],
             [
              0.3333333333333333,
              "#9c179e"
             ],
             [
              0.4444444444444444,
              "#bd3786"
             ],
             [
              0.5555555555555556,
              "#d8576b"
             ],
             [
              0.6666666666666666,
              "#ed7953"
             ],
             [
              0.7777777777777778,
              "#fb9f3a"
             ],
             [
              0.8888888888888888,
              "#fdca26"
             ],
             [
              1,
              "#f0f921"
             ]
            ],
            "type": "histogram2d"
           }
          ],
          "histogram2dcontour": [
           {
            "colorbar": {
             "outlinewidth": 0,
             "ticks": ""
            },
            "colorscale": [
             [
              0,
              "#0d0887"
             ],
             [
              0.1111111111111111,
              "#46039f"
             ],
             [
              0.2222222222222222,
              "#7201a8"
             ],
             [
              0.3333333333333333,
              "#9c179e"
             ],
             [
              0.4444444444444444,
              "#bd3786"
             ],
             [
              0.5555555555555556,
              "#d8576b"
             ],
             [
              0.6666666666666666,
              "#ed7953"
             ],
             [
              0.7777777777777778,
              "#fb9f3a"
             ],
             [
              0.8888888888888888,
              "#fdca26"
             ],
             [
              1,
              "#f0f921"
             ]
            ],
            "type": "histogram2dcontour"
           }
          ],
          "mesh3d": [
           {
            "colorbar": {
             "outlinewidth": 0,
             "ticks": ""
            },
            "type": "mesh3d"
           }
          ],
          "parcoords": [
           {
            "line": {
             "colorbar": {
              "outlinewidth": 0,
              "ticks": ""
             }
            },
            "type": "parcoords"
           }
          ],
          "pie": [
           {
            "automargin": true,
            "type": "pie"
           }
          ],
          "scatter": [
           {
            "marker": {
             "colorbar": {
              "outlinewidth": 0,
              "ticks": ""
             }
            },
            "type": "scatter"
           }
          ],
          "scatter3d": [
           {
            "line": {
             "colorbar": {
              "outlinewidth": 0,
              "ticks": ""
             }
            },
            "marker": {
             "colorbar": {
              "outlinewidth": 0,
              "ticks": ""
             }
            },
            "type": "scatter3d"
           }
          ],
          "scattercarpet": [
           {
            "marker": {
             "colorbar": {
              "outlinewidth": 0,
              "ticks": ""
             }
            },
            "type": "scattercarpet"
           }
          ],
          "scattergeo": [
           {
            "marker": {
             "colorbar": {
              "outlinewidth": 0,
              "ticks": ""
             }
            },
            "type": "scattergeo"
           }
          ],
          "scattergl": [
           {
            "marker": {
             "colorbar": {
              "outlinewidth": 0,
              "ticks": ""
             }
            },
            "type": "scattergl"
           }
          ],
          "scattermapbox": [
           {
            "marker": {
             "colorbar": {
              "outlinewidth": 0,
              "ticks": ""
             }
            },
            "type": "scattermapbox"
           }
          ],
          "scatterpolar": [
           {
            "marker": {
             "colorbar": {
              "outlinewidth": 0,
              "ticks": ""
             }
            },
            "type": "scatterpolar"
           }
          ],
          "scatterpolargl": [
           {
            "marker": {
             "colorbar": {
              "outlinewidth": 0,
              "ticks": ""
             }
            },
            "type": "scatterpolargl"
           }
          ],
          "scatterternary": [
           {
            "marker": {
             "colorbar": {
              "outlinewidth": 0,
              "ticks": ""
             }
            },
            "type": "scatterternary"
           }
          ],
          "surface": [
           {
            "colorbar": {
             "outlinewidth": 0,
             "ticks": ""
            },
            "colorscale": [
             [
              0,
              "#0d0887"
             ],
             [
              0.1111111111111111,
              "#46039f"
             ],
             [
              0.2222222222222222,
              "#7201a8"
             ],
             [
              0.3333333333333333,
              "#9c179e"
             ],
             [
              0.4444444444444444,
              "#bd3786"
             ],
             [
              0.5555555555555556,
              "#d8576b"
             ],
             [
              0.6666666666666666,
              "#ed7953"
             ],
             [
              0.7777777777777778,
              "#fb9f3a"
             ],
             [
              0.8888888888888888,
              "#fdca26"
             ],
             [
              1,
              "#f0f921"
             ]
            ],
            "type": "surface"
           }
          ],
          "table": [
           {
            "cells": {
             "fill": {
              "color": "#EBF0F8"
             },
             "line": {
              "color": "white"
             }
            },
            "header": {
             "fill": {
              "color": "#C8D4E3"
             },
             "line": {
              "color": "white"
             }
            },
            "type": "table"
           }
          ]
         },
         "layout": {
          "annotationdefaults": {
           "arrowcolor": "#2a3f5f",
           "arrowhead": 0,
           "arrowwidth": 1
          },
          "autotypenumbers": "strict",
          "coloraxis": {
           "colorbar": {
            "outlinewidth": 0,
            "ticks": ""
           }
          },
          "colorscale": {
           "diverging": [
            [
             0,
             "#8e0152"
            ],
            [
             0.1,
             "#c51b7d"
            ],
            [
             0.2,
             "#de77ae"
            ],
            [
             0.3,
             "#f1b6da"
            ],
            [
             0.4,
             "#fde0ef"
            ],
            [
             0.5,
             "#f7f7f7"
            ],
            [
             0.6,
             "#e6f5d0"
            ],
            [
             0.7,
             "#b8e186"
            ],
            [
             0.8,
             "#7fbc41"
            ],
            [
             0.9,
             "#4d9221"
            ],
            [
             1,
             "#276419"
            ]
           ],
           "sequential": [
            [
             0,
             "#0d0887"
            ],
            [
             0.1111111111111111,
             "#46039f"
            ],
            [
             0.2222222222222222,
             "#7201a8"
            ],
            [
             0.3333333333333333,
             "#9c179e"
            ],
            [
             0.4444444444444444,
             "#bd3786"
            ],
            [
             0.5555555555555556,
             "#d8576b"
            ],
            [
             0.6666666666666666,
             "#ed7953"
            ],
            [
             0.7777777777777778,
             "#fb9f3a"
            ],
            [
             0.8888888888888888,
             "#fdca26"
            ],
            [
             1,
             "#f0f921"
            ]
           ],
           "sequentialminus": [
            [
             0,
             "#0d0887"
            ],
            [
             0.1111111111111111,
             "#46039f"
            ],
            [
             0.2222222222222222,
             "#7201a8"
            ],
            [
             0.3333333333333333,
             "#9c179e"
            ],
            [
             0.4444444444444444,
             "#bd3786"
            ],
            [
             0.5555555555555556,
             "#d8576b"
            ],
            [
             0.6666666666666666,
             "#ed7953"
            ],
            [
             0.7777777777777778,
             "#fb9f3a"
            ],
            [
             0.8888888888888888,
             "#fdca26"
            ],
            [
             1,
             "#f0f921"
            ]
           ]
          },
          "colorway": [
           "#636efa",
           "#EF553B",
           "#00cc96",
           "#ab63fa",
           "#FFA15A",
           "#19d3f3",
           "#FF6692",
           "#B6E880",
           "#FF97FF",
           "#FECB52"
          ],
          "font": {
           "color": "#2a3f5f"
          },
          "geo": {
           "bgcolor": "white",
           "lakecolor": "white",
           "landcolor": "#E5ECF6",
           "showlakes": true,
           "showland": true,
           "subunitcolor": "white"
          },
          "hoverlabel": {
           "align": "left"
          },
          "hovermode": "closest",
          "mapbox": {
           "style": "light"
          },
          "paper_bgcolor": "white",
          "plot_bgcolor": "#E5ECF6",
          "polar": {
           "angularaxis": {
            "gridcolor": "white",
            "linecolor": "white",
            "ticks": ""
           },
           "bgcolor": "#E5ECF6",
           "radialaxis": {
            "gridcolor": "white",
            "linecolor": "white",
            "ticks": ""
           }
          },
          "scene": {
           "xaxis": {
            "backgroundcolor": "#E5ECF6",
            "gridcolor": "white",
            "gridwidth": 2,
            "linecolor": "white",
            "showbackground": true,
            "ticks": "",
            "zerolinecolor": "white"
           },
           "yaxis": {
            "backgroundcolor": "#E5ECF6",
            "gridcolor": "white",
            "gridwidth": 2,
            "linecolor": "white",
            "showbackground": true,
            "ticks": "",
            "zerolinecolor": "white"
           },
           "zaxis": {
            "backgroundcolor": "#E5ECF6",
            "gridcolor": "white",
            "gridwidth": 2,
            "linecolor": "white",
            "showbackground": true,
            "ticks": "",
            "zerolinecolor": "white"
           }
          },
          "shapedefaults": {
           "line": {
            "color": "#2a3f5f"
           }
          },
          "ternary": {
           "aaxis": {
            "gridcolor": "white",
            "linecolor": "white",
            "ticks": ""
           },
           "baxis": {
            "gridcolor": "white",
            "linecolor": "white",
            "ticks": ""
           },
           "bgcolor": "#E5ECF6",
           "caxis": {
            "gridcolor": "white",
            "linecolor": "white",
            "ticks": ""
           }
          },
          "title": {
           "x": 0.05
          },
          "xaxis": {
           "automargin": true,
           "gridcolor": "white",
           "linecolor": "white",
           "ticks": "",
           "title": {
            "standoff": 15
           },
           "zerolinecolor": "white",
           "zerolinewidth": 2
          },
          "yaxis": {
           "automargin": true,
           "gridcolor": "white",
           "linecolor": "white",
           "ticks": "",
           "title": {
            "standoff": 15
           },
           "zerolinecolor": "white",
           "zerolinewidth": 2
          }
         }
        },
        "title": {
         "text": "International Caps Above 0.9 Quantile"
        },
        "xaxis": {
         "anchor": "y",
         "domain": [
          0,
          1
         ],
         "title": {
          "text": "Full Name"
         }
        },
        "yaxis": {
         "anchor": "x",
         "domain": [
          0,
          1
         ],
         "title": {
          "text": "International Caps"
         }
        }
       }
      },
      "text/html": [
       "<div>                            <div id=\"f2653340-efa0-4fe1-bae0-22beaa99841b\" class=\"plotly-graph-div\" style=\"height:525px; width:100%;\"></div>            <script type=\"text/javascript\">                require([\"plotly\"], function(Plotly) {                    window.PLOTLYENV=window.PLOTLYENV || {};                                    if (document.getElementById(\"f2653340-efa0-4fe1-bae0-22beaa99841b\")) {                    Plotly.newPlot(                        \"f2653340-efa0-4fe1-bae0-22beaa99841b\",                        [{\"alignmentgroup\":\"True\",\"customdata\":[[31,\"MF\",\"Switzerland\",26,\"Chicago Fire FC\",\"United States Premeir League\"],[33,\"DF\",\"Wales\",0,\"AFC Wimbledon\",\"English League One\"],[38,\"DF\",\"Brazil\",7,\"Chelsea\",\"English Premier League\"],[32,\"FW\",\"Ghana\",23,\"Al-Sadd\",\"Qatar Premeir League\"],[31,\"FW\",\"France\",42,\"Atl\\u00e9tico Madrid\",\"Spain Primera Division\"],[36,\"GK\",\"Germany\",0,\"Bayern Munich\",\"German 1. Bundesliga\"],[36,\"FW\",\"France\",49,\"Milan\",\"Italian Serie A\"],[35,\"DF\",\"Uruguay\",4,\"LA Galaxy\",\"USA Major League Soccer\"],[32,\"MF\",\"Qatar\",6,\"Al-Duhail\",\"Qatar Stars League\"],[33,\"FW\",\"Croatia\",32,\"Tottenham Hotspur\",\"English Premier League\"],[30,\"MF\",\"Denmark\",39,\"Manchester United\",\"English Premier League\"],[33,\"MF\",\"Germany\",44,\"Bayern Munich\",\"German 1. Bundesliga\"],[30,\"FW\",\"Costa Rica\",25,\"Le\\u00f3n\",\"Mexico Premeir League\"],[32,\"DF\",\"Iran\",7,\"AEK Athens\",\"Greek Super League\"],[30,\"FW\",\"Brazil\",75,\"Paris Saint-Germain\",\"French Ligue 1\"],[33,\"DF\",\"Denmark\",5,\"Milan\",\"Italian Serie A\"],[34,\"DF\",\"Japan\",12,\"Schalke 04\",\"Germany Premeir League\"],[31,\"FW\",\"Belgium\",33,\"Real Madrid\",\"Spain Primera Division\"],[39,\"DF\",\"Brazil\",8,\"UNAM\",\"Mexico Premeir League\"],[34,\"FW\",\"Argentina\",27,\"Juventus\",\"Italian Serie A\"],[33,\"DF\",\"Belgium\",5,\"Antwerp\",\"Belgium Premeir League\"],[33,\"MF\",\"Belgium\",12,\"Atl\\u00e9tico Madrid\",\"Spain Premeir League\"],[34,\"DF\",\"Mexico\",5,\"Monterrey\",\"Mexican Liga MX\"],[39,\"DF\",\"Portugal\",7,\"Porto\",\"Portugal Premeir League\"],[29,\"MF\",\"Qatar\",15,\"Al-Sadd\",\"Qatar Stars League\"],[37,\"GK\",\"Mexico\",0,\"Am\\u00e9rica\",\"Mexican Liga MX\"],[35,\"FW\",\"Uruguay\",58,\"Valencia\",\"Spain Premeir League\"],[36,\"GK\",\"Uruguay\",0,\"Galatasaray\",\"Turkey Premeir League\"],[34,\"FW\",\"Poland\",76,\"Barcelona\",\"Spain Primera Division\"],[35,\"FW\",\"Uruguay\",68,\"Nacional\",\"Uruguay Premeir League\"],[36,\"DF\",\"Japan\",4,\"FC Tokyo\",\"Japanese J. League Division 1\"],[35,\"GK\",\"France\",0,\"Tottenham Hotspur\",\"English Premier League\"],[34,\"MF\",\"Spain\",2,\"Barcelona\",\"Spain Primera Division\"],[35,\"DF\",\"Belgium\",9,\"Anderlecht\",\"Belgium Premeir League\"],[37,\"MF\",\"Costa Rica\",29,\"Alajuelense\",\"Costa Rica Premeir League\"],[37,\"MF\",\"Croatia\",23,\"Real Madrid\",\"Spain Primera Division\"],[34,\"MF\",\"Costa Rica\",27,\"Alajuelense\",\"Costa Rica Premeir League\"],[36,\"DF\",\"Uruguay\",8,\"V\\u00e9lez Sarsfield\",\"Argentina Primera Divisi\\u00f3n\"],[35,\"FW\",\"Argentina\",91,\"Paris Saint-Germain\",\"French Ligue 1\"],[31,\"MF\",\"Qatar\",36,\"Al-Sadd\",\"Qatar Stars League\"],[36,\"MF\",\"Mexico\",28,\"Real Betis\",\"Spain Primera Division\"],[37,\"FW\",\"Portugal\",117,\"Manchester United\",\"English Premier League\"]],\"hovertemplate\":\"<b>%{hovertext}</b><br><br>Full Name=%{x}<br>International Caps=%{y}<br>Age=%{customdata[0]}<br>Position=%{customdata[1]}<br>Nationality=%{customdata[2]}<br>International Goals=%{customdata[3]}<br>Club=%{customdata[4]}<br>League=%{customdata[5]}<extra></extra>\",\"hovertext\":[\"Shaqiri, Xherdan\",\"Gunter, Chris\",\"Silva, Thiago\",\"Ayew, Andre\",\"Griezmann, Antoine\",\"Neuer, Manuel\",\"Giroud, Olivier\",\"Caceres, Martin\",\"Boudiaf, Karim\",\"Perisic, Ivan\",\"Eriksen, Christian\",\"Muller, Thomas\",\"Campbell, Joel\",\"Hajsafi, Ehsan\",\"Neymar\",\"Kjaer, Simon\",\"Yoshida, Maya\",\"Hazard, Eden\",\"Alves, Dani\",\"Di Maria, Angel\",\"Alderweireld, Toby\",\"Witsel, Axel\",\"Moreno, Hector\",\"Pepe\",\"Hassan, Abdelkarim\",\"Ochoa, Guillermo\",\"Cavani, Edinson\",\"Muslera, Fernando\",\"Lewandowski, Robert\",\"Suarez, Luis\",\"Nagatomo, Yuto\",\"Lloris, Hugo\",\"Busquets, Sergio\",\"Vertonghen, Jan\",\"Ruiz, Bryan\",\"Modric, Luka\",\"Borges, Celso\",\"Godin, Diego\",\"Messi, Lionel\",\"Haydos, Hassan\",\"Guardado, Andres\",\"Ronaldo, Cristiano\"],\"legendgroup\":\"\",\"marker\":{\"color\":\"#636efa\",\"pattern\":{\"shape\":\"\"}},\"name\":\"\",\"offsetgroup\":\"\",\"orientation\":\"v\",\"showlegend\":false,\"textposition\":\"auto\",\"x\":[\"Shaqiri, Xherdan\",\"Gunter, Chris\",\"Silva, Thiago\",\"Ayew, Andre\",\"Griezmann, Antoine\",\"Neuer, Manuel\",\"Giroud, Olivier\",\"Caceres, Martin\",\"Boudiaf, Karim\",\"Perisic, Ivan\",\"Eriksen, Christian\",\"Muller, Thomas\",\"Campbell, Joel\",\"Hajsafi, Ehsan\",\"Neymar\",\"Kjaer, Simon\",\"Yoshida, Maya\",\"Hazard, Eden\",\"Alves, Dani\",\"Di Maria, Angel\",\"Alderweireld, Toby\",\"Witsel, Axel\",\"Moreno, Hector\",\"Pepe\",\"Hassan, Abdelkarim\",\"Ochoa, Guillermo\",\"Cavani, Edinson\",\"Muslera, Fernando\",\"Lewandowski, Robert\",\"Suarez, Luis\",\"Nagatomo, Yuto\",\"Lloris, Hugo\",\"Busquets, Sergio\",\"Vertonghen, Jan\",\"Ruiz, Bryan\",\"Modric, Luka\",\"Borges, Celso\",\"Godin, Diego\",\"Messi, Lionel\",\"Haydos, Hassan\",\"Guardado, Andres\",\"Ronaldo, Cristiano\"],\"xaxis\":\"x\",\"y\":[109,109,109,110,110,114,114,115,115,116,117,118,119,121,121,121,122,123,124,124,124,127,128,129,130,131,133,133,134,134,138,139,139,142,146,155,155,159,165,169,178,191],\"yaxis\":\"y\",\"type\":\"bar\"}],                        {\"template\":{\"data\":{\"bar\":[{\"error_x\":{\"color\":\"#2a3f5f\"},\"error_y\":{\"color\":\"#2a3f5f\"},\"marker\":{\"line\":{\"color\":\"#E5ECF6\",\"width\":0.5},\"pattern\":{\"fillmode\":\"overlay\",\"size\":10,\"solidity\":0.2}},\"type\":\"bar\"}],\"barpolar\":[{\"marker\":{\"line\":{\"color\":\"#E5ECF6\",\"width\":0.5},\"pattern\":{\"fillmode\":\"overlay\",\"size\":10,\"solidity\":0.2}},\"type\":\"barpolar\"}],\"carpet\":[{\"aaxis\":{\"endlinecolor\":\"#2a3f5f\",\"gridcolor\":\"white\",\"linecolor\":\"white\",\"minorgridcolor\":\"white\",\"startlinecolor\":\"#2a3f5f\"},\"baxis\":{\"endlinecolor\":\"#2a3f5f\",\"gridcolor\":\"white\",\"linecolor\":\"white\",\"minorgridcolor\":\"white\",\"startlinecolor\":\"#2a3f5f\"},\"type\":\"carpet\"}],\"choropleth\":[{\"colorbar\":{\"outlinewidth\":0,\"ticks\":\"\"},\"type\":\"choropleth\"}],\"contour\":[{\"colorbar\":{\"outlinewidth\":0,\"ticks\":\"\"},\"colorscale\":[[0.0,\"#0d0887\"],[0.1111111111111111,\"#46039f\"],[0.2222222222222222,\"#7201a8\"],[0.3333333333333333,\"#9c179e\"],[0.4444444444444444,\"#bd3786\"],[0.5555555555555556,\"#d8576b\"],[0.6666666666666666,\"#ed7953\"],[0.7777777777777778,\"#fb9f3a\"],[0.8888888888888888,\"#fdca26\"],[1.0,\"#f0f921\"]],\"type\":\"contour\"}],\"contourcarpet\":[{\"colorbar\":{\"outlinewidth\":0,\"ticks\":\"\"},\"type\":\"contourcarpet\"}],\"heatmap\":[{\"colorbar\":{\"outlinewidth\":0,\"ticks\":\"\"},\"colorscale\":[[0.0,\"#0d0887\"],[0.1111111111111111,\"#46039f\"],[0.2222222222222222,\"#7201a8\"],[0.3333333333333333,\"#9c179e\"],[0.4444444444444444,\"#bd3786\"],[0.5555555555555556,\"#d8576b\"],[0.6666666666666666,\"#ed7953\"],[0.7777777777777778,\"#fb9f3a\"],[0.8888888888888888,\"#fdca26\"],[1.0,\"#f0f921\"]],\"type\":\"heatmap\"}],\"heatmapgl\":[{\"colorbar\":{\"outlinewidth\":0,\"ticks\":\"\"},\"colorscale\":[[0.0,\"#0d0887\"],[0.1111111111111111,\"#46039f\"],[0.2222222222222222,\"#7201a8\"],[0.3333333333333333,\"#9c179e\"],[0.4444444444444444,\"#bd3786\"],[0.5555555555555556,\"#d8576b\"],[0.6666666666666666,\"#ed7953\"],[0.7777777777777778,\"#fb9f3a\"],[0.8888888888888888,\"#fdca26\"],[1.0,\"#f0f921\"]],\"type\":\"heatmapgl\"}],\"histogram\":[{\"marker\":{\"pattern\":{\"fillmode\":\"overlay\",\"size\":10,\"solidity\":0.2}},\"type\":\"histogram\"}],\"histogram2d\":[{\"colorbar\":{\"outlinewidth\":0,\"ticks\":\"\"},\"colorscale\":[[0.0,\"#0d0887\"],[0.1111111111111111,\"#46039f\"],[0.2222222222222222,\"#7201a8\"],[0.3333333333333333,\"#9c179e\"],[0.4444444444444444,\"#bd3786\"],[0.5555555555555556,\"#d8576b\"],[0.6666666666666666,\"#ed7953\"],[0.7777777777777778,\"#fb9f3a\"],[0.8888888888888888,\"#fdca26\"],[1.0,\"#f0f921\"]],\"type\":\"histogram2d\"}],\"histogram2dcontour\":[{\"colorbar\":{\"outlinewidth\":0,\"ticks\":\"\"},\"colorscale\":[[0.0,\"#0d0887\"],[0.1111111111111111,\"#46039f\"],[0.2222222222222222,\"#7201a8\"],[0.3333333333333333,\"#9c179e\"],[0.4444444444444444,\"#bd3786\"],[0.5555555555555556,\"#d8576b\"],[0.6666666666666666,\"#ed7953\"],[0.7777777777777778,\"#fb9f3a\"],[0.8888888888888888,\"#fdca26\"],[1.0,\"#f0f921\"]],\"type\":\"histogram2dcontour\"}],\"mesh3d\":[{\"colorbar\":{\"outlinewidth\":0,\"ticks\":\"\"},\"type\":\"mesh3d\"}],\"parcoords\":[{\"line\":{\"colorbar\":{\"outlinewidth\":0,\"ticks\":\"\"}},\"type\":\"parcoords\"}],\"pie\":[{\"automargin\":true,\"type\":\"pie\"}],\"scatter\":[{\"marker\":{\"colorbar\":{\"outlinewidth\":0,\"ticks\":\"\"}},\"type\":\"scatter\"}],\"scatter3d\":[{\"line\":{\"colorbar\":{\"outlinewidth\":0,\"ticks\":\"\"}},\"marker\":{\"colorbar\":{\"outlinewidth\":0,\"ticks\":\"\"}},\"type\":\"scatter3d\"}],\"scattercarpet\":[{\"marker\":{\"colorbar\":{\"outlinewidth\":0,\"ticks\":\"\"}},\"type\":\"scattercarpet\"}],\"scattergeo\":[{\"marker\":{\"colorbar\":{\"outlinewidth\":0,\"ticks\":\"\"}},\"type\":\"scattergeo\"}],\"scattergl\":[{\"marker\":{\"colorbar\":{\"outlinewidth\":0,\"ticks\":\"\"}},\"type\":\"scattergl\"}],\"scattermapbox\":[{\"marker\":{\"colorbar\":{\"outlinewidth\":0,\"ticks\":\"\"}},\"type\":\"scattermapbox\"}],\"scatterpolar\":[{\"marker\":{\"colorbar\":{\"outlinewidth\":0,\"ticks\":\"\"}},\"type\":\"scatterpolar\"}],\"scatterpolargl\":[{\"marker\":{\"colorbar\":{\"outlinewidth\":0,\"ticks\":\"\"}},\"type\":\"scatterpolargl\"}],\"scatterternary\":[{\"marker\":{\"colorbar\":{\"outlinewidth\":0,\"ticks\":\"\"}},\"type\":\"scatterternary\"}],\"surface\":[{\"colorbar\":{\"outlinewidth\":0,\"ticks\":\"\"},\"colorscale\":[[0.0,\"#0d0887\"],[0.1111111111111111,\"#46039f\"],[0.2222222222222222,\"#7201a8\"],[0.3333333333333333,\"#9c179e\"],[0.4444444444444444,\"#bd3786\"],[0.5555555555555556,\"#d8576b\"],[0.6666666666666666,\"#ed7953\"],[0.7777777777777778,\"#fb9f3a\"],[0.8888888888888888,\"#fdca26\"],[1.0,\"#f0f921\"]],\"type\":\"surface\"}],\"table\":[{\"cells\":{\"fill\":{\"color\":\"#EBF0F8\"},\"line\":{\"color\":\"white\"}},\"header\":{\"fill\":{\"color\":\"#C8D4E3\"},\"line\":{\"color\":\"white\"}},\"type\":\"table\"}]},\"layout\":{\"annotationdefaults\":{\"arrowcolor\":\"#2a3f5f\",\"arrowhead\":0,\"arrowwidth\":1},\"autotypenumbers\":\"strict\",\"coloraxis\":{\"colorbar\":{\"outlinewidth\":0,\"ticks\":\"\"}},\"colorscale\":{\"diverging\":[[0,\"#8e0152\"],[0.1,\"#c51b7d\"],[0.2,\"#de77ae\"],[0.3,\"#f1b6da\"],[0.4,\"#fde0ef\"],[0.5,\"#f7f7f7\"],[0.6,\"#e6f5d0\"],[0.7,\"#b8e186\"],[0.8,\"#7fbc41\"],[0.9,\"#4d9221\"],[1,\"#276419\"]],\"sequential\":[[0.0,\"#0d0887\"],[0.1111111111111111,\"#46039f\"],[0.2222222222222222,\"#7201a8\"],[0.3333333333333333,\"#9c179e\"],[0.4444444444444444,\"#bd3786\"],[0.5555555555555556,\"#d8576b\"],[0.6666666666666666,\"#ed7953\"],[0.7777777777777778,\"#fb9f3a\"],[0.8888888888888888,\"#fdca26\"],[1.0,\"#f0f921\"]],\"sequentialminus\":[[0.0,\"#0d0887\"],[0.1111111111111111,\"#46039f\"],[0.2222222222222222,\"#7201a8\"],[0.3333333333333333,\"#9c179e\"],[0.4444444444444444,\"#bd3786\"],[0.5555555555555556,\"#d8576b\"],[0.6666666666666666,\"#ed7953\"],[0.7777777777777778,\"#fb9f3a\"],[0.8888888888888888,\"#fdca26\"],[1.0,\"#f0f921\"]]},\"colorway\":[\"#636efa\",\"#EF553B\",\"#00cc96\",\"#ab63fa\",\"#FFA15A\",\"#19d3f3\",\"#FF6692\",\"#B6E880\",\"#FF97FF\",\"#FECB52\"],\"font\":{\"color\":\"#2a3f5f\"},\"geo\":{\"bgcolor\":\"white\",\"lakecolor\":\"white\",\"landcolor\":\"#E5ECF6\",\"showlakes\":true,\"showland\":true,\"subunitcolor\":\"white\"},\"hoverlabel\":{\"align\":\"left\"},\"hovermode\":\"closest\",\"mapbox\":{\"style\":\"light\"},\"paper_bgcolor\":\"white\",\"plot_bgcolor\":\"#E5ECF6\",\"polar\":{\"angularaxis\":{\"gridcolor\":\"white\",\"linecolor\":\"white\",\"ticks\":\"\"},\"bgcolor\":\"#E5ECF6\",\"radialaxis\":{\"gridcolor\":\"white\",\"linecolor\":\"white\",\"ticks\":\"\"}},\"scene\":{\"xaxis\":{\"backgroundcolor\":\"#E5ECF6\",\"gridcolor\":\"white\",\"gridwidth\":2,\"linecolor\":\"white\",\"showbackground\":true,\"ticks\":\"\",\"zerolinecolor\":\"white\"},\"yaxis\":{\"backgroundcolor\":\"#E5ECF6\",\"gridcolor\":\"white\",\"gridwidth\":2,\"linecolor\":\"white\",\"showbackground\":true,\"ticks\":\"\",\"zerolinecolor\":\"white\"},\"zaxis\":{\"backgroundcolor\":\"#E5ECF6\",\"gridcolor\":\"white\",\"gridwidth\":2,\"linecolor\":\"white\",\"showbackground\":true,\"ticks\":\"\",\"zerolinecolor\":\"white\"}},\"shapedefaults\":{\"line\":{\"color\":\"#2a3f5f\"}},\"ternary\":{\"aaxis\":{\"gridcolor\":\"white\",\"linecolor\":\"white\",\"ticks\":\"\"},\"baxis\":{\"gridcolor\":\"white\",\"linecolor\":\"white\",\"ticks\":\"\"},\"bgcolor\":\"#E5ECF6\",\"caxis\":{\"gridcolor\":\"white\",\"linecolor\":\"white\",\"ticks\":\"\"}},\"title\":{\"x\":0.05},\"xaxis\":{\"automargin\":true,\"gridcolor\":\"white\",\"linecolor\":\"white\",\"ticks\":\"\",\"title\":{\"standoff\":15},\"zerolinecolor\":\"white\",\"zerolinewidth\":2},\"yaxis\":{\"automargin\":true,\"gridcolor\":\"white\",\"linecolor\":\"white\",\"ticks\":\"\",\"title\":{\"standoff\":15},\"zerolinecolor\":\"white\",\"zerolinewidth\":2}}},\"xaxis\":{\"anchor\":\"y\",\"domain\":[0.0,1.0],\"title\":{\"text\":\"Full Name\"}},\"yaxis\":{\"anchor\":\"x\",\"domain\":[0.0,1.0],\"title\":{\"text\":\"International Caps\"}},\"legend\":{\"tracegroupgap\":0},\"title\":{\"text\":\"International Caps Above 0.9 Quantile\"},\"barmode\":\"relative\"},                        {\"responsive\": true}                    ).then(function(){\n",
       "                            \n",
       "var gd = document.getElementById('f2653340-efa0-4fe1-bae0-22beaa99841b');\n",
       "var x = new MutationObserver(function (mutations, observer) {{\n",
       "        var display = window.getComputedStyle(gd).display;\n",
       "        if (!display || display === 'none') {{\n",
       "            console.log([gd, 'removed!']);\n",
       "            Plotly.purge(gd);\n",
       "            observer.disconnect();\n",
       "        }}\n",
       "}});\n",
       "\n",
       "// Listen for the removal of the full notebook cells\n",
       "var notebookContainer = gd.closest('#notebook-container');\n",
       "if (notebookContainer) {{\n",
       "    x.observe(notebookContainer, {childList: true});\n",
       "}}\n",
       "\n",
       "// Listen for the clearing of the current output cell\n",
       "var outputEl = gd.closest('.output');\n",
       "if (outputEl) {{\n",
       "    x.observe(outputEl, {childList: true});\n",
       "}}\n",
       "\n",
       "                        })                };                });            </script>        </div>"
      ]
     },
     "metadata": {},
     "output_type": "display_data"
    }
   ],
   "source": [
    "# International Caps\n",
    "caps = data[\"International Caps\"]\n",
    "quantiles = np.quantile(caps, [0, 0.1, 0.15, 0.2, 0.25, 0.3, 0.35, 0.4, 0.45, 0.5, 0.55, 0.6, 0.65 ,0.7, 0.75, 0.8, 0.85, 0.9, 0.95, 1])\n",
    "# print(quantiles)\n",
    "print(len(quantiles))\n",
    "# Plotting International Caps\n",
    "print(quantiles[18])\n",
    "fig_plt = px.bar(data.loc[data[\"International Caps\"] >= quantiles[18], :].sort_values(\"International Caps\"), x=\"Full Name\", y=\"International Caps\", hover_name=\"Full Name\", hover_data=[\"Age\",\"Position\", \"Nationality\", \"International Caps\", \"International Goals\", \"Club\", \"League\"], title=\"International Caps Above 0.9 Quantile\")\n",
    "fig_plt.show()"
   ]
  },
  {
   "cell_type": "code",
   "execution_count": 9,
   "id": "42c84832",
   "metadata": {},
   "outputs": [
    {
     "name": "stdout",
     "output_type": "stream",
     "text": [
      "[  0.    0.    0.    0.    0.    0.    0.    0.    1.    1.    1.    2.\n",
      "   2.5   3.    5.    6.    8.   12.   23.  117. ]\n"
     ]
    },
    {
     "data": {
      "application/vnd.plotly.v1+json": {
       "config": {
        "plotlyServerURL": "https://plot.ly"
       },
       "data": [
        {
         "alignmentgroup": "True",
         "customdata": [
          [
           32,
           "FW",
           "Ghana",
           110,
           "Al-Sadd",
           "Qatar Premeir League"
          ],
          [
           37,
           "MF",
           "Croatia",
           155,
           "Real Madrid",
           "Spain Primera Division"
          ],
          [
           31,
           "FW",
           "Tunisia",
           72,
           "Montpellier",
           "France Premeir League"
          ],
          [
           30,
           "FW",
           "Switzerland",
           89,
           "Galatasaray",
           "Turkey Premeir League"
          ],
          [
           31,
           "MF",
           "Belgium",
           94,
           "Manchester City",
           "English Premier League"
          ],
          [
           27,
           "FW",
           "Canada",
           55,
           "Club Brugge",
           "Belgian Jupiler Pro League"
          ],
          [
           30,
           "FW",
           "Costa Rica",
           119,
           "León",
           "Mexico Premeir League"
          ],
          [
           26,
           "FW",
           "Qatar",
           89,
           "Al-Sadd",
           "Qatar Stars League"
          ],
          [
           31,
           "MF",
           "Switzerland",
           109,
           "Chicago Fire FC",
           "United States Premeir League"
          ],
          [
           29,
           "FW",
           "Belgium",
           48,
           "Fenerbahçe",
           "Turkey Premeir League"
          ],
          [
           34,
           "MF",
           "Costa Rica",
           155,
           "Alajuelense",
           "Costa Rica Premeir League"
          ],
          [
           30,
           "FW",
           "Spain",
           57,
           "Atlético Madrid",
           "Spain Primera Division"
          ],
          [
           34,
           "FW",
           "Argentina",
           124,
           "Juventus",
           "Italian Serie A"
          ],
          [
           36,
           "MF",
           "Mexico",
           178,
           "Real Betis",
           "Spain Primera Division"
          ],
          [
           23,
           "FW",
           "France",
           59,
           "Paris Saint-Germain",
           "French Ligue 1"
          ],
          [
           30,
           "FW",
           "Iran",
           60,
           "Porto",
           "Portuguese Liga ZON SAGRES"
          ],
          [
           32,
           "FW",
           "Iran",
           94,
           "Omonia",
           "Cypriot First Division"
          ],
          [
           31,
           "FW",
           "Mexico",
           95,
           "Wolverhampton Wanderers",
           "English Premier League"
          ],
          [
           37,
           "MF",
           "Costa Rica",
           146,
           "Alajuelense",
           "Costa Rica Premeir League"
          ],
          [
           33,
           "FW",
           "Croatia",
           116,
           "Tottenham Hotspur",
           "English Premier League"
          ],
          [
           30,
           "FW",
           "Cameroon",
           92,
           "Al-Nassr",
           "Saudi Arabia Premeir League"
          ],
          [
           31,
           "FW",
           "Belgium",
           123,
           "Real Madrid",
           "Spain Primera Division"
          ],
          [
           30,
           "MF",
           "South Korea",
           104,
           "Tottenham Hotspur",
           "English Premier League"
          ],
          [
           33,
           "FW",
           "Ecuador",
           74,
           "Fenerbahçe",
           "Turkish Süper Lig"
          ],
          [
           31,
           "MF",
           "Qatar",
           169,
           "Al-Sadd",
           "Qatar Stars League"
          ],
          [
           34,
           "FW",
           "France",
           97,
           "Real Madrid",
           "Spain Primera Division"
          ],
          [
           30,
           "MF",
           "Denmark",
           117,
           "Manchester United",
           "English Premier League"
          ],
          [
           33,
           "FW",
           "Wales",
           108,
           "Los Angeles FC",
           "USA Major League Soccer"
          ],
          [
           27,
           "FW",
           "Iran",
           65,
           "Bayer Leverkusen",
           "German 1. Bundesliga"
          ],
          [
           28,
           "FW",
           "Netherlands",
           81,
           "Barcelona",
           "Spain Primera Division"
          ],
          [
           31,
           "FW",
           "France",
           110,
           "Atlético Madrid",
           "Spain Primera Division"
          ],
          [
           26,
           "FW",
           "Qatar",
           85,
           "Al-Duhail",
           "Qatar Stars League"
          ],
          [
           33,
           "MF",
           "Germany",
           118,
           "Bayern Munich",
           "German 1. Bundesliga"
          ],
          [
           36,
           "FW",
           "France",
           114,
           "Milan",
           "Italian Serie A"
          ],
          [
           28,
           "FW",
           "Serbia",
           76,
           "Fulham",
           "English League Championship"
          ],
          [
           29,
           "FW",
           "England",
           75,
           "Tottenham Hotspur",
           "English Premier League"
          ],
          [
           35,
           "FW",
           "Uruguay",
           133,
           "Valencia",
           "Spain Premeir League"
          ],
          [
           29,
           "FW",
           "Belgium",
           102,
           "Internazionale",
           "Italy Premeir League"
          ],
          [
           35,
           "FW",
           "Uruguay",
           134,
           "Nacional",
           "Uruguay Premeir League"
          ],
          [
           30,
           "FW",
           "Brazil",
           121,
           "Paris Saint-Germain",
           "French Ligue 1"
          ],
          [
           34,
           "FW",
           "Poland",
           134,
           "Barcelona",
           "Spain Primera Division"
          ],
          [
           35,
           "FW",
           "Argentina",
           165,
           "Paris Saint-Germain",
           "French Ligue 1"
          ],
          [
           37,
           "FW",
           "Portugal",
           191,
           "Manchester United",
           "English Premier League"
          ]
         ],
         "hovertemplate": "<b>%{hovertext}</b><br><br>Full Name=%{x}<br>International Goals=%{y}<br>Age=%{customdata[0]}<br>Position=%{customdata[1]}<br>Nationality=%{customdata[2]}<br>International Caps=%{customdata[3]}<br>Club=%{customdata[4]}<br>League=%{customdata[5]}<extra></extra>",
         "hovertext": [
          "Ayew, Andre",
          "Modric, Luka",
          "Khazri, Wahbi",
          "Seferovic, Haris",
          "De Bruyne, Kevin",
          "Larin, Cyle",
          "Campbell, Joel",
          "Afif, Akram",
          "Shaqiri, Xherdan",
          "Batshuayi, Michy",
          "Borges, Celso",
          "Morata, Alvaro",
          "Di Maria, Angel",
          "Guardado, Andres",
          "Mbappe, Kylian",
          "Taremi, Mehdi",
          "Ansarifard, Karim",
          "Jimenez, Raul",
          "Ruiz, Bryan",
          "Perisic, Ivan",
          "Aboubakar, Vincent",
          "Hazard, Eden",
          "Son, Heung-min",
          "Valencia, Enner",
          "Haydos, Hassan",
          "Benzema, Karim",
          "Eriksen, Christian",
          "Bale, Gareth",
          "Azmoun, Sardar",
          "Depay, Memphis",
          "Griezmann, Antoine",
          "Ali, Almoez",
          "Muller, Thomas",
          "Giroud, Olivier",
          "Mitrovic, Aleksandar",
          "Kane, Harry",
          "Cavani, Edinson",
          "Lukaku, Romelu",
          "Suarez, Luis",
          "Neymar",
          "Lewandowski, Robert",
          "Messi, Lionel",
          "Ronaldo, Cristiano"
         ],
         "legendgroup": "",
         "marker": {
          "color": "#636efa",
          "pattern": {
           "shape": ""
          }
         },
         "name": "",
         "offsetgroup": "",
         "orientation": "v",
         "showlegend": false,
         "textposition": "auto",
         "type": "bar",
         "x": [
          "Ayew, Andre",
          "Modric, Luka",
          "Khazri, Wahbi",
          "Seferovic, Haris",
          "De Bruyne, Kevin",
          "Larin, Cyle",
          "Campbell, Joel",
          "Afif, Akram",
          "Shaqiri, Xherdan",
          "Batshuayi, Michy",
          "Borges, Celso",
          "Morata, Alvaro",
          "Di Maria, Angel",
          "Guardado, Andres",
          "Mbappe, Kylian",
          "Taremi, Mehdi",
          "Ansarifard, Karim",
          "Jimenez, Raul",
          "Ruiz, Bryan",
          "Perisic, Ivan",
          "Aboubakar, Vincent",
          "Hazard, Eden",
          "Son, Heung-min",
          "Valencia, Enner",
          "Haydos, Hassan",
          "Benzema, Karim",
          "Eriksen, Christian",
          "Bale, Gareth",
          "Azmoun, Sardar",
          "Depay, Memphis",
          "Griezmann, Antoine",
          "Ali, Almoez",
          "Muller, Thomas",
          "Giroud, Olivier",
          "Mitrovic, Aleksandar",
          "Kane, Harry",
          "Cavani, Edinson",
          "Lukaku, Romelu",
          "Suarez, Luis",
          "Neymar",
          "Lewandowski, Robert",
          "Messi, Lionel",
          "Ronaldo, Cristiano"
         ],
         "xaxis": "x",
         "y": [
          23,
          23,
          24,
          25,
          25,
          25,
          25,
          26,
          26,
          26,
          27,
          27,
          27,
          28,
          28,
          28,
          29,
          29,
          29,
          32,
          33,
          33,
          35,
          35,
          36,
          37,
          39,
          40,
          41,
          42,
          42,
          42,
          44,
          49,
          50,
          51,
          58,
          68,
          68,
          75,
          76,
          91,
          117
         ],
         "yaxis": "y"
        }
       ],
       "layout": {
        "barmode": "relative",
        "legend": {
         "tracegroupgap": 0
        },
        "template": {
         "data": {
          "bar": [
           {
            "error_x": {
             "color": "#2a3f5f"
            },
            "error_y": {
             "color": "#2a3f5f"
            },
            "marker": {
             "line": {
              "color": "#E5ECF6",
              "width": 0.5
             },
             "pattern": {
              "fillmode": "overlay",
              "size": 10,
              "solidity": 0.2
             }
            },
            "type": "bar"
           }
          ],
          "barpolar": [
           {
            "marker": {
             "line": {
              "color": "#E5ECF6",
              "width": 0.5
             },
             "pattern": {
              "fillmode": "overlay",
              "size": 10,
              "solidity": 0.2
             }
            },
            "type": "barpolar"
           }
          ],
          "carpet": [
           {
            "aaxis": {
             "endlinecolor": "#2a3f5f",
             "gridcolor": "white",
             "linecolor": "white",
             "minorgridcolor": "white",
             "startlinecolor": "#2a3f5f"
            },
            "baxis": {
             "endlinecolor": "#2a3f5f",
             "gridcolor": "white",
             "linecolor": "white",
             "minorgridcolor": "white",
             "startlinecolor": "#2a3f5f"
            },
            "type": "carpet"
           }
          ],
          "choropleth": [
           {
            "colorbar": {
             "outlinewidth": 0,
             "ticks": ""
            },
            "type": "choropleth"
           }
          ],
          "contour": [
           {
            "colorbar": {
             "outlinewidth": 0,
             "ticks": ""
            },
            "colorscale": [
             [
              0,
              "#0d0887"
             ],
             [
              0.1111111111111111,
              "#46039f"
             ],
             [
              0.2222222222222222,
              "#7201a8"
             ],
             [
              0.3333333333333333,
              "#9c179e"
             ],
             [
              0.4444444444444444,
              "#bd3786"
             ],
             [
              0.5555555555555556,
              "#d8576b"
             ],
             [
              0.6666666666666666,
              "#ed7953"
             ],
             [
              0.7777777777777778,
              "#fb9f3a"
             ],
             [
              0.8888888888888888,
              "#fdca26"
             ],
             [
              1,
              "#f0f921"
             ]
            ],
            "type": "contour"
           }
          ],
          "contourcarpet": [
           {
            "colorbar": {
             "outlinewidth": 0,
             "ticks": ""
            },
            "type": "contourcarpet"
           }
          ],
          "heatmap": [
           {
            "colorbar": {
             "outlinewidth": 0,
             "ticks": ""
            },
            "colorscale": [
             [
              0,
              "#0d0887"
             ],
             [
              0.1111111111111111,
              "#46039f"
             ],
             [
              0.2222222222222222,
              "#7201a8"
             ],
             [
              0.3333333333333333,
              "#9c179e"
             ],
             [
              0.4444444444444444,
              "#bd3786"
             ],
             [
              0.5555555555555556,
              "#d8576b"
             ],
             [
              0.6666666666666666,
              "#ed7953"
             ],
             [
              0.7777777777777778,
              "#fb9f3a"
             ],
             [
              0.8888888888888888,
              "#fdca26"
             ],
             [
              1,
              "#f0f921"
             ]
            ],
            "type": "heatmap"
           }
          ],
          "heatmapgl": [
           {
            "colorbar": {
             "outlinewidth": 0,
             "ticks": ""
            },
            "colorscale": [
             [
              0,
              "#0d0887"
             ],
             [
              0.1111111111111111,
              "#46039f"
             ],
             [
              0.2222222222222222,
              "#7201a8"
             ],
             [
              0.3333333333333333,
              "#9c179e"
             ],
             [
              0.4444444444444444,
              "#bd3786"
             ],
             [
              0.5555555555555556,
              "#d8576b"
             ],
             [
              0.6666666666666666,
              "#ed7953"
             ],
             [
              0.7777777777777778,
              "#fb9f3a"
             ],
             [
              0.8888888888888888,
              "#fdca26"
             ],
             [
              1,
              "#f0f921"
             ]
            ],
            "type": "heatmapgl"
           }
          ],
          "histogram": [
           {
            "marker": {
             "pattern": {
              "fillmode": "overlay",
              "size": 10,
              "solidity": 0.2
             }
            },
            "type": "histogram"
           }
          ],
          "histogram2d": [
           {
            "colorbar": {
             "outlinewidth": 0,
             "ticks": ""
            },
            "colorscale": [
             [
              0,
              "#0d0887"
             ],
             [
              0.1111111111111111,
              "#46039f"
             ],
             [
              0.2222222222222222,
              "#7201a8"
             ],
             [
              0.3333333333333333,
              "#9c179e"
             ],
             [
              0.4444444444444444,
              "#bd3786"
             ],
             [
              0.5555555555555556,
              "#d8576b"
             ],
             [
              0.6666666666666666,
              "#ed7953"
             ],
             [
              0.7777777777777778,
              "#fb9f3a"
             ],
             [
              0.8888888888888888,
              "#fdca26"
             ],
             [
              1,
              "#f0f921"
             ]
            ],
            "type": "histogram2d"
           }
          ],
          "histogram2dcontour": [
           {
            "colorbar": {
             "outlinewidth": 0,
             "ticks": ""
            },
            "colorscale": [
             [
              0,
              "#0d0887"
             ],
             [
              0.1111111111111111,
              "#46039f"
             ],
             [
              0.2222222222222222,
              "#7201a8"
             ],
             [
              0.3333333333333333,
              "#9c179e"
             ],
             [
              0.4444444444444444,
              "#bd3786"
             ],
             [
              0.5555555555555556,
              "#d8576b"
             ],
             [
              0.6666666666666666,
              "#ed7953"
             ],
             [
              0.7777777777777778,
              "#fb9f3a"
             ],
             [
              0.8888888888888888,
              "#fdca26"
             ],
             [
              1,
              "#f0f921"
             ]
            ],
            "type": "histogram2dcontour"
           }
          ],
          "mesh3d": [
           {
            "colorbar": {
             "outlinewidth": 0,
             "ticks": ""
            },
            "type": "mesh3d"
           }
          ],
          "parcoords": [
           {
            "line": {
             "colorbar": {
              "outlinewidth": 0,
              "ticks": ""
             }
            },
            "type": "parcoords"
           }
          ],
          "pie": [
           {
            "automargin": true,
            "type": "pie"
           }
          ],
          "scatter": [
           {
            "marker": {
             "colorbar": {
              "outlinewidth": 0,
              "ticks": ""
             }
            },
            "type": "scatter"
           }
          ],
          "scatter3d": [
           {
            "line": {
             "colorbar": {
              "outlinewidth": 0,
              "ticks": ""
             }
            },
            "marker": {
             "colorbar": {
              "outlinewidth": 0,
              "ticks": ""
             }
            },
            "type": "scatter3d"
           }
          ],
          "scattercarpet": [
           {
            "marker": {
             "colorbar": {
              "outlinewidth": 0,
              "ticks": ""
             }
            },
            "type": "scattercarpet"
           }
          ],
          "scattergeo": [
           {
            "marker": {
             "colorbar": {
              "outlinewidth": 0,
              "ticks": ""
             }
            },
            "type": "scattergeo"
           }
          ],
          "scattergl": [
           {
            "marker": {
             "colorbar": {
              "outlinewidth": 0,
              "ticks": ""
             }
            },
            "type": "scattergl"
           }
          ],
          "scattermapbox": [
           {
            "marker": {
             "colorbar": {
              "outlinewidth": 0,
              "ticks": ""
             }
            },
            "type": "scattermapbox"
           }
          ],
          "scatterpolar": [
           {
            "marker": {
             "colorbar": {
              "outlinewidth": 0,
              "ticks": ""
             }
            },
            "type": "scatterpolar"
           }
          ],
          "scatterpolargl": [
           {
            "marker": {
             "colorbar": {
              "outlinewidth": 0,
              "ticks": ""
             }
            },
            "type": "scatterpolargl"
           }
          ],
          "scatterternary": [
           {
            "marker": {
             "colorbar": {
              "outlinewidth": 0,
              "ticks": ""
             }
            },
            "type": "scatterternary"
           }
          ],
          "surface": [
           {
            "colorbar": {
             "outlinewidth": 0,
             "ticks": ""
            },
            "colorscale": [
             [
              0,
              "#0d0887"
             ],
             [
              0.1111111111111111,
              "#46039f"
             ],
             [
              0.2222222222222222,
              "#7201a8"
             ],
             [
              0.3333333333333333,
              "#9c179e"
             ],
             [
              0.4444444444444444,
              "#bd3786"
             ],
             [
              0.5555555555555556,
              "#d8576b"
             ],
             [
              0.6666666666666666,
              "#ed7953"
             ],
             [
              0.7777777777777778,
              "#fb9f3a"
             ],
             [
              0.8888888888888888,
              "#fdca26"
             ],
             [
              1,
              "#f0f921"
             ]
            ],
            "type": "surface"
           }
          ],
          "table": [
           {
            "cells": {
             "fill": {
              "color": "#EBF0F8"
             },
             "line": {
              "color": "white"
             }
            },
            "header": {
             "fill": {
              "color": "#C8D4E3"
             },
             "line": {
              "color": "white"
             }
            },
            "type": "table"
           }
          ]
         },
         "layout": {
          "annotationdefaults": {
           "arrowcolor": "#2a3f5f",
           "arrowhead": 0,
           "arrowwidth": 1
          },
          "autotypenumbers": "strict",
          "coloraxis": {
           "colorbar": {
            "outlinewidth": 0,
            "ticks": ""
           }
          },
          "colorscale": {
           "diverging": [
            [
             0,
             "#8e0152"
            ],
            [
             0.1,
             "#c51b7d"
            ],
            [
             0.2,
             "#de77ae"
            ],
            [
             0.3,
             "#f1b6da"
            ],
            [
             0.4,
             "#fde0ef"
            ],
            [
             0.5,
             "#f7f7f7"
            ],
            [
             0.6,
             "#e6f5d0"
            ],
            [
             0.7,
             "#b8e186"
            ],
            [
             0.8,
             "#7fbc41"
            ],
            [
             0.9,
             "#4d9221"
            ],
            [
             1,
             "#276419"
            ]
           ],
           "sequential": [
            [
             0,
             "#0d0887"
            ],
            [
             0.1111111111111111,
             "#46039f"
            ],
            [
             0.2222222222222222,
             "#7201a8"
            ],
            [
             0.3333333333333333,
             "#9c179e"
            ],
            [
             0.4444444444444444,
             "#bd3786"
            ],
            [
             0.5555555555555556,
             "#d8576b"
            ],
            [
             0.6666666666666666,
             "#ed7953"
            ],
            [
             0.7777777777777778,
             "#fb9f3a"
            ],
            [
             0.8888888888888888,
             "#fdca26"
            ],
            [
             1,
             "#f0f921"
            ]
           ],
           "sequentialminus": [
            [
             0,
             "#0d0887"
            ],
            [
             0.1111111111111111,
             "#46039f"
            ],
            [
             0.2222222222222222,
             "#7201a8"
            ],
            [
             0.3333333333333333,
             "#9c179e"
            ],
            [
             0.4444444444444444,
             "#bd3786"
            ],
            [
             0.5555555555555556,
             "#d8576b"
            ],
            [
             0.6666666666666666,
             "#ed7953"
            ],
            [
             0.7777777777777778,
             "#fb9f3a"
            ],
            [
             0.8888888888888888,
             "#fdca26"
            ],
            [
             1,
             "#f0f921"
            ]
           ]
          },
          "colorway": [
           "#636efa",
           "#EF553B",
           "#00cc96",
           "#ab63fa",
           "#FFA15A",
           "#19d3f3",
           "#FF6692",
           "#B6E880",
           "#FF97FF",
           "#FECB52"
          ],
          "font": {
           "color": "#2a3f5f"
          },
          "geo": {
           "bgcolor": "white",
           "lakecolor": "white",
           "landcolor": "#E5ECF6",
           "showlakes": true,
           "showland": true,
           "subunitcolor": "white"
          },
          "hoverlabel": {
           "align": "left"
          },
          "hovermode": "closest",
          "mapbox": {
           "style": "light"
          },
          "paper_bgcolor": "white",
          "plot_bgcolor": "#E5ECF6",
          "polar": {
           "angularaxis": {
            "gridcolor": "white",
            "linecolor": "white",
            "ticks": ""
           },
           "bgcolor": "#E5ECF6",
           "radialaxis": {
            "gridcolor": "white",
            "linecolor": "white",
            "ticks": ""
           }
          },
          "scene": {
           "xaxis": {
            "backgroundcolor": "#E5ECF6",
            "gridcolor": "white",
            "gridwidth": 2,
            "linecolor": "white",
            "showbackground": true,
            "ticks": "",
            "zerolinecolor": "white"
           },
           "yaxis": {
            "backgroundcolor": "#E5ECF6",
            "gridcolor": "white",
            "gridwidth": 2,
            "linecolor": "white",
            "showbackground": true,
            "ticks": "",
            "zerolinecolor": "white"
           },
           "zaxis": {
            "backgroundcolor": "#E5ECF6",
            "gridcolor": "white",
            "gridwidth": 2,
            "linecolor": "white",
            "showbackground": true,
            "ticks": "",
            "zerolinecolor": "white"
           }
          },
          "shapedefaults": {
           "line": {
            "color": "#2a3f5f"
           }
          },
          "ternary": {
           "aaxis": {
            "gridcolor": "white",
            "linecolor": "white",
            "ticks": ""
           },
           "baxis": {
            "gridcolor": "white",
            "linecolor": "white",
            "ticks": ""
           },
           "bgcolor": "#E5ECF6",
           "caxis": {
            "gridcolor": "white",
            "linecolor": "white",
            "ticks": ""
           }
          },
          "title": {
           "x": 0.05
          },
          "xaxis": {
           "automargin": true,
           "gridcolor": "white",
           "linecolor": "white",
           "ticks": "",
           "title": {
            "standoff": 15
           },
           "zerolinecolor": "white",
           "zerolinewidth": 2
          },
          "yaxis": {
           "automargin": true,
           "gridcolor": "white",
           "linecolor": "white",
           "ticks": "",
           "title": {
            "standoff": 15
           },
           "zerolinecolor": "white",
           "zerolinewidth": 2
          }
         }
        },
        "title": {
         "text": "International Goals Above 0.9 Quantile"
        },
        "xaxis": {
         "anchor": "y",
         "domain": [
          0,
          1
         ],
         "title": {
          "text": "Full Name"
         }
        },
        "yaxis": {
         "anchor": "x",
         "domain": [
          0,
          1
         ],
         "title": {
          "text": "International Goals"
         }
        }
       }
      },
      "text/html": [
       "<div>                            <div id=\"545f6c45-3e55-4fb8-96ac-60ac19a4cb61\" class=\"plotly-graph-div\" style=\"height:525px; width:100%;\"></div>            <script type=\"text/javascript\">                require([\"plotly\"], function(Plotly) {                    window.PLOTLYENV=window.PLOTLYENV || {};                                    if (document.getElementById(\"545f6c45-3e55-4fb8-96ac-60ac19a4cb61\")) {                    Plotly.newPlot(                        \"545f6c45-3e55-4fb8-96ac-60ac19a4cb61\",                        [{\"alignmentgroup\":\"True\",\"customdata\":[[32,\"FW\",\"Ghana\",110,\"Al-Sadd\",\"Qatar Premeir League\"],[37,\"MF\",\"Croatia\",155,\"Real Madrid\",\"Spain Primera Division\"],[31,\"FW\",\"Tunisia\",72,\"Montpellier\",\"France Premeir League\"],[30,\"FW\",\"Switzerland\",89,\"Galatasaray\",\"Turkey Premeir League\"],[31,\"MF\",\"Belgium\",94,\"Manchester City\",\"English Premier League\"],[27,\"FW\",\"Canada\",55,\"Club Brugge\",\"Belgian Jupiler Pro League\"],[30,\"FW\",\"Costa Rica\",119,\"Le\\u00f3n\",\"Mexico Premeir League\"],[26,\"FW\",\"Qatar\",89,\"Al-Sadd\",\"Qatar Stars League\"],[31,\"MF\",\"Switzerland\",109,\"Chicago Fire FC\",\"United States Premeir League\"],[29,\"FW\",\"Belgium\",48,\"Fenerbah\\u00e7e\",\"Turkey Premeir League\"],[34,\"MF\",\"Costa Rica\",155,\"Alajuelense\",\"Costa Rica Premeir League\"],[30,\"FW\",\"Spain\",57,\"Atl\\u00e9tico Madrid\",\"Spain Primera Division\"],[34,\"FW\",\"Argentina\",124,\"Juventus\",\"Italian Serie A\"],[36,\"MF\",\"Mexico\",178,\"Real Betis\",\"Spain Primera Division\"],[23,\"FW\",\"France\",59,\"Paris Saint-Germain\",\"French Ligue 1\"],[30,\"FW\",\"Iran\",60,\"Porto\",\"Portuguese Liga ZON SAGRES\"],[32,\"FW\",\"Iran\",94,\"Omonia\",\"Cypriot First Division\"],[31,\"FW\",\"Mexico\",95,\"Wolverhampton Wanderers\",\"English Premier League\"],[37,\"MF\",\"Costa Rica\",146,\"Alajuelense\",\"Costa Rica Premeir League\"],[33,\"FW\",\"Croatia\",116,\"Tottenham Hotspur\",\"English Premier League\"],[30,\"FW\",\"Cameroon\",92,\"Al-Nassr\",\"Saudi Arabia Premeir League\"],[31,\"FW\",\"Belgium\",123,\"Real Madrid\",\"Spain Primera Division\"],[30,\"MF\",\"South Korea\",104,\"Tottenham Hotspur\",\"English Premier League\"],[33,\"FW\",\"Ecuador\",74,\"Fenerbah\\u00e7e\",\"Turkish S\\u00fcper Lig\"],[31,\"MF\",\"Qatar\",169,\"Al-Sadd\",\"Qatar Stars League\"],[34,\"FW\",\"France\",97,\"Real Madrid\",\"Spain Primera Division\"],[30,\"MF\",\"Denmark\",117,\"Manchester United\",\"English Premier League\"],[33,\"FW\",\"Wales\",108,\"Los Angeles FC\",\"USA Major League Soccer\"],[27,\"FW\",\"Iran\",65,\"Bayer Leverkusen\",\"German 1. Bundesliga\"],[28,\"FW\",\"Netherlands\",81,\"Barcelona\",\"Spain Primera Division\"],[31,\"FW\",\"France\",110,\"Atl\\u00e9tico Madrid\",\"Spain Primera Division\"],[26,\"FW\",\"Qatar\",85,\"Al-Duhail\",\"Qatar Stars League\"],[33,\"MF\",\"Germany\",118,\"Bayern Munich\",\"German 1. Bundesliga\"],[36,\"FW\",\"France\",114,\"Milan\",\"Italian Serie A\"],[28,\"FW\",\"Serbia\",76,\"Fulham\",\"English League Championship\"],[29,\"FW\",\"England\",75,\"Tottenham Hotspur\",\"English Premier League\"],[35,\"FW\",\"Uruguay\",133,\"Valencia\",\"Spain Premeir League\"],[29,\"FW\",\"Belgium\",102,\"Internazionale\",\"Italy Premeir League\"],[35,\"FW\",\"Uruguay\",134,\"Nacional\",\"Uruguay Premeir League\"],[30,\"FW\",\"Brazil\",121,\"Paris Saint-Germain\",\"French Ligue 1\"],[34,\"FW\",\"Poland\",134,\"Barcelona\",\"Spain Primera Division\"],[35,\"FW\",\"Argentina\",165,\"Paris Saint-Germain\",\"French Ligue 1\"],[37,\"FW\",\"Portugal\",191,\"Manchester United\",\"English Premier League\"]],\"hovertemplate\":\"<b>%{hovertext}</b><br><br>Full Name=%{x}<br>International Goals=%{y}<br>Age=%{customdata[0]}<br>Position=%{customdata[1]}<br>Nationality=%{customdata[2]}<br>International Caps=%{customdata[3]}<br>Club=%{customdata[4]}<br>League=%{customdata[5]}<extra></extra>\",\"hovertext\":[\"Ayew, Andre\",\"Modric, Luka\",\"Khazri, Wahbi\",\"Seferovic, Haris\",\"De Bruyne, Kevin\",\"Larin, Cyle\",\"Campbell, Joel\",\"Afif, Akram\",\"Shaqiri, Xherdan\",\"Batshuayi, Michy\",\"Borges, Celso\",\"Morata, Alvaro\",\"Di Maria, Angel\",\"Guardado, Andres\",\"Mbappe, Kylian\",\"Taremi, Mehdi\",\"Ansarifard, Karim\",\"Jimenez, Raul\",\"Ruiz, Bryan\",\"Perisic, Ivan\",\"Aboubakar, Vincent\",\"Hazard, Eden\",\"Son, Heung-min\",\"Valencia, Enner\",\"Haydos, Hassan\",\"Benzema, Karim\",\"Eriksen, Christian\",\"Bale, Gareth\",\"Azmoun, Sardar\",\"Depay, Memphis\",\"Griezmann, Antoine\",\"Ali, Almoez\",\"Muller, Thomas\",\"Giroud, Olivier\",\"Mitrovic, Aleksandar\",\"Kane, Harry\",\"Cavani, Edinson\",\"Lukaku, Romelu\",\"Suarez, Luis\",\"Neymar\",\"Lewandowski, Robert\",\"Messi, Lionel\",\"Ronaldo, Cristiano\"],\"legendgroup\":\"\",\"marker\":{\"color\":\"#636efa\",\"pattern\":{\"shape\":\"\"}},\"name\":\"\",\"offsetgroup\":\"\",\"orientation\":\"v\",\"showlegend\":false,\"textposition\":\"auto\",\"x\":[\"Ayew, Andre\",\"Modric, Luka\",\"Khazri, Wahbi\",\"Seferovic, Haris\",\"De Bruyne, Kevin\",\"Larin, Cyle\",\"Campbell, Joel\",\"Afif, Akram\",\"Shaqiri, Xherdan\",\"Batshuayi, Michy\",\"Borges, Celso\",\"Morata, Alvaro\",\"Di Maria, Angel\",\"Guardado, Andres\",\"Mbappe, Kylian\",\"Taremi, Mehdi\",\"Ansarifard, Karim\",\"Jimenez, Raul\",\"Ruiz, Bryan\",\"Perisic, Ivan\",\"Aboubakar, Vincent\",\"Hazard, Eden\",\"Son, Heung-min\",\"Valencia, Enner\",\"Haydos, Hassan\",\"Benzema, Karim\",\"Eriksen, Christian\",\"Bale, Gareth\",\"Azmoun, Sardar\",\"Depay, Memphis\",\"Griezmann, Antoine\",\"Ali, Almoez\",\"Muller, Thomas\",\"Giroud, Olivier\",\"Mitrovic, Aleksandar\",\"Kane, Harry\",\"Cavani, Edinson\",\"Lukaku, Romelu\",\"Suarez, Luis\",\"Neymar\",\"Lewandowski, Robert\",\"Messi, Lionel\",\"Ronaldo, Cristiano\"],\"xaxis\":\"x\",\"y\":[23,23,24,25,25,25,25,26,26,26,27,27,27,28,28,28,29,29,29,32,33,33,35,35,36,37,39,40,41,42,42,42,44,49,50,51,58,68,68,75,76,91,117],\"yaxis\":\"y\",\"type\":\"bar\"}],                        {\"template\":{\"data\":{\"bar\":[{\"error_x\":{\"color\":\"#2a3f5f\"},\"error_y\":{\"color\":\"#2a3f5f\"},\"marker\":{\"line\":{\"color\":\"#E5ECF6\",\"width\":0.5},\"pattern\":{\"fillmode\":\"overlay\",\"size\":10,\"solidity\":0.2}},\"type\":\"bar\"}],\"barpolar\":[{\"marker\":{\"line\":{\"color\":\"#E5ECF6\",\"width\":0.5},\"pattern\":{\"fillmode\":\"overlay\",\"size\":10,\"solidity\":0.2}},\"type\":\"barpolar\"}],\"carpet\":[{\"aaxis\":{\"endlinecolor\":\"#2a3f5f\",\"gridcolor\":\"white\",\"linecolor\":\"white\",\"minorgridcolor\":\"white\",\"startlinecolor\":\"#2a3f5f\"},\"baxis\":{\"endlinecolor\":\"#2a3f5f\",\"gridcolor\":\"white\",\"linecolor\":\"white\",\"minorgridcolor\":\"white\",\"startlinecolor\":\"#2a3f5f\"},\"type\":\"carpet\"}],\"choropleth\":[{\"colorbar\":{\"outlinewidth\":0,\"ticks\":\"\"},\"type\":\"choropleth\"}],\"contour\":[{\"colorbar\":{\"outlinewidth\":0,\"ticks\":\"\"},\"colorscale\":[[0.0,\"#0d0887\"],[0.1111111111111111,\"#46039f\"],[0.2222222222222222,\"#7201a8\"],[0.3333333333333333,\"#9c179e\"],[0.4444444444444444,\"#bd3786\"],[0.5555555555555556,\"#d8576b\"],[0.6666666666666666,\"#ed7953\"],[0.7777777777777778,\"#fb9f3a\"],[0.8888888888888888,\"#fdca26\"],[1.0,\"#f0f921\"]],\"type\":\"contour\"}],\"contourcarpet\":[{\"colorbar\":{\"outlinewidth\":0,\"ticks\":\"\"},\"type\":\"contourcarpet\"}],\"heatmap\":[{\"colorbar\":{\"outlinewidth\":0,\"ticks\":\"\"},\"colorscale\":[[0.0,\"#0d0887\"],[0.1111111111111111,\"#46039f\"],[0.2222222222222222,\"#7201a8\"],[0.3333333333333333,\"#9c179e\"],[0.4444444444444444,\"#bd3786\"],[0.5555555555555556,\"#d8576b\"],[0.6666666666666666,\"#ed7953\"],[0.7777777777777778,\"#fb9f3a\"],[0.8888888888888888,\"#fdca26\"],[1.0,\"#f0f921\"]],\"type\":\"heatmap\"}],\"heatmapgl\":[{\"colorbar\":{\"outlinewidth\":0,\"ticks\":\"\"},\"colorscale\":[[0.0,\"#0d0887\"],[0.1111111111111111,\"#46039f\"],[0.2222222222222222,\"#7201a8\"],[0.3333333333333333,\"#9c179e\"],[0.4444444444444444,\"#bd3786\"],[0.5555555555555556,\"#d8576b\"],[0.6666666666666666,\"#ed7953\"],[0.7777777777777778,\"#fb9f3a\"],[0.8888888888888888,\"#fdca26\"],[1.0,\"#f0f921\"]],\"type\":\"heatmapgl\"}],\"histogram\":[{\"marker\":{\"pattern\":{\"fillmode\":\"overlay\",\"size\":10,\"solidity\":0.2}},\"type\":\"histogram\"}],\"histogram2d\":[{\"colorbar\":{\"outlinewidth\":0,\"ticks\":\"\"},\"colorscale\":[[0.0,\"#0d0887\"],[0.1111111111111111,\"#46039f\"],[0.2222222222222222,\"#7201a8\"],[0.3333333333333333,\"#9c179e\"],[0.4444444444444444,\"#bd3786\"],[0.5555555555555556,\"#d8576b\"],[0.6666666666666666,\"#ed7953\"],[0.7777777777777778,\"#fb9f3a\"],[0.8888888888888888,\"#fdca26\"],[1.0,\"#f0f921\"]],\"type\":\"histogram2d\"}],\"histogram2dcontour\":[{\"colorbar\":{\"outlinewidth\":0,\"ticks\":\"\"},\"colorscale\":[[0.0,\"#0d0887\"],[0.1111111111111111,\"#46039f\"],[0.2222222222222222,\"#7201a8\"],[0.3333333333333333,\"#9c179e\"],[0.4444444444444444,\"#bd3786\"],[0.5555555555555556,\"#d8576b\"],[0.6666666666666666,\"#ed7953\"],[0.7777777777777778,\"#fb9f3a\"],[0.8888888888888888,\"#fdca26\"],[1.0,\"#f0f921\"]],\"type\":\"histogram2dcontour\"}],\"mesh3d\":[{\"colorbar\":{\"outlinewidth\":0,\"ticks\":\"\"},\"type\":\"mesh3d\"}],\"parcoords\":[{\"line\":{\"colorbar\":{\"outlinewidth\":0,\"ticks\":\"\"}},\"type\":\"parcoords\"}],\"pie\":[{\"automargin\":true,\"type\":\"pie\"}],\"scatter\":[{\"marker\":{\"colorbar\":{\"outlinewidth\":0,\"ticks\":\"\"}},\"type\":\"scatter\"}],\"scatter3d\":[{\"line\":{\"colorbar\":{\"outlinewidth\":0,\"ticks\":\"\"}},\"marker\":{\"colorbar\":{\"outlinewidth\":0,\"ticks\":\"\"}},\"type\":\"scatter3d\"}],\"scattercarpet\":[{\"marker\":{\"colorbar\":{\"outlinewidth\":0,\"ticks\":\"\"}},\"type\":\"scattercarpet\"}],\"scattergeo\":[{\"marker\":{\"colorbar\":{\"outlinewidth\":0,\"ticks\":\"\"}},\"type\":\"scattergeo\"}],\"scattergl\":[{\"marker\":{\"colorbar\":{\"outlinewidth\":0,\"ticks\":\"\"}},\"type\":\"scattergl\"}],\"scattermapbox\":[{\"marker\":{\"colorbar\":{\"outlinewidth\":0,\"ticks\":\"\"}},\"type\":\"scattermapbox\"}],\"scatterpolar\":[{\"marker\":{\"colorbar\":{\"outlinewidth\":0,\"ticks\":\"\"}},\"type\":\"scatterpolar\"}],\"scatterpolargl\":[{\"marker\":{\"colorbar\":{\"outlinewidth\":0,\"ticks\":\"\"}},\"type\":\"scatterpolargl\"}],\"scatterternary\":[{\"marker\":{\"colorbar\":{\"outlinewidth\":0,\"ticks\":\"\"}},\"type\":\"scatterternary\"}],\"surface\":[{\"colorbar\":{\"outlinewidth\":0,\"ticks\":\"\"},\"colorscale\":[[0.0,\"#0d0887\"],[0.1111111111111111,\"#46039f\"],[0.2222222222222222,\"#7201a8\"],[0.3333333333333333,\"#9c179e\"],[0.4444444444444444,\"#bd3786\"],[0.5555555555555556,\"#d8576b\"],[0.6666666666666666,\"#ed7953\"],[0.7777777777777778,\"#fb9f3a\"],[0.8888888888888888,\"#fdca26\"],[1.0,\"#f0f921\"]],\"type\":\"surface\"}],\"table\":[{\"cells\":{\"fill\":{\"color\":\"#EBF0F8\"},\"line\":{\"color\":\"white\"}},\"header\":{\"fill\":{\"color\":\"#C8D4E3\"},\"line\":{\"color\":\"white\"}},\"type\":\"table\"}]},\"layout\":{\"annotationdefaults\":{\"arrowcolor\":\"#2a3f5f\",\"arrowhead\":0,\"arrowwidth\":1},\"autotypenumbers\":\"strict\",\"coloraxis\":{\"colorbar\":{\"outlinewidth\":0,\"ticks\":\"\"}},\"colorscale\":{\"diverging\":[[0,\"#8e0152\"],[0.1,\"#c51b7d\"],[0.2,\"#de77ae\"],[0.3,\"#f1b6da\"],[0.4,\"#fde0ef\"],[0.5,\"#f7f7f7\"],[0.6,\"#e6f5d0\"],[0.7,\"#b8e186\"],[0.8,\"#7fbc41\"],[0.9,\"#4d9221\"],[1,\"#276419\"]],\"sequential\":[[0.0,\"#0d0887\"],[0.1111111111111111,\"#46039f\"],[0.2222222222222222,\"#7201a8\"],[0.3333333333333333,\"#9c179e\"],[0.4444444444444444,\"#bd3786\"],[0.5555555555555556,\"#d8576b\"],[0.6666666666666666,\"#ed7953\"],[0.7777777777777778,\"#fb9f3a\"],[0.8888888888888888,\"#fdca26\"],[1.0,\"#f0f921\"]],\"sequentialminus\":[[0.0,\"#0d0887\"],[0.1111111111111111,\"#46039f\"],[0.2222222222222222,\"#7201a8\"],[0.3333333333333333,\"#9c179e\"],[0.4444444444444444,\"#bd3786\"],[0.5555555555555556,\"#d8576b\"],[0.6666666666666666,\"#ed7953\"],[0.7777777777777778,\"#fb9f3a\"],[0.8888888888888888,\"#fdca26\"],[1.0,\"#f0f921\"]]},\"colorway\":[\"#636efa\",\"#EF553B\",\"#00cc96\",\"#ab63fa\",\"#FFA15A\",\"#19d3f3\",\"#FF6692\",\"#B6E880\",\"#FF97FF\",\"#FECB52\"],\"font\":{\"color\":\"#2a3f5f\"},\"geo\":{\"bgcolor\":\"white\",\"lakecolor\":\"white\",\"landcolor\":\"#E5ECF6\",\"showlakes\":true,\"showland\":true,\"subunitcolor\":\"white\"},\"hoverlabel\":{\"align\":\"left\"},\"hovermode\":\"closest\",\"mapbox\":{\"style\":\"light\"},\"paper_bgcolor\":\"white\",\"plot_bgcolor\":\"#E5ECF6\",\"polar\":{\"angularaxis\":{\"gridcolor\":\"white\",\"linecolor\":\"white\",\"ticks\":\"\"},\"bgcolor\":\"#E5ECF6\",\"radialaxis\":{\"gridcolor\":\"white\",\"linecolor\":\"white\",\"ticks\":\"\"}},\"scene\":{\"xaxis\":{\"backgroundcolor\":\"#E5ECF6\",\"gridcolor\":\"white\",\"gridwidth\":2,\"linecolor\":\"white\",\"showbackground\":true,\"ticks\":\"\",\"zerolinecolor\":\"white\"},\"yaxis\":{\"backgroundcolor\":\"#E5ECF6\",\"gridcolor\":\"white\",\"gridwidth\":2,\"linecolor\":\"white\",\"showbackground\":true,\"ticks\":\"\",\"zerolinecolor\":\"white\"},\"zaxis\":{\"backgroundcolor\":\"#E5ECF6\",\"gridcolor\":\"white\",\"gridwidth\":2,\"linecolor\":\"white\",\"showbackground\":true,\"ticks\":\"\",\"zerolinecolor\":\"white\"}},\"shapedefaults\":{\"line\":{\"color\":\"#2a3f5f\"}},\"ternary\":{\"aaxis\":{\"gridcolor\":\"white\",\"linecolor\":\"white\",\"ticks\":\"\"},\"baxis\":{\"gridcolor\":\"white\",\"linecolor\":\"white\",\"ticks\":\"\"},\"bgcolor\":\"#E5ECF6\",\"caxis\":{\"gridcolor\":\"white\",\"linecolor\":\"white\",\"ticks\":\"\"}},\"title\":{\"x\":0.05},\"xaxis\":{\"automargin\":true,\"gridcolor\":\"white\",\"linecolor\":\"white\",\"ticks\":\"\",\"title\":{\"standoff\":15},\"zerolinecolor\":\"white\",\"zerolinewidth\":2},\"yaxis\":{\"automargin\":true,\"gridcolor\":\"white\",\"linecolor\":\"white\",\"ticks\":\"\",\"title\":{\"standoff\":15},\"zerolinecolor\":\"white\",\"zerolinewidth\":2}}},\"xaxis\":{\"anchor\":\"y\",\"domain\":[0.0,1.0],\"title\":{\"text\":\"Full Name\"}},\"yaxis\":{\"anchor\":\"x\",\"domain\":[0.0,1.0],\"title\":{\"text\":\"International Goals\"}},\"legend\":{\"tracegroupgap\":0},\"title\":{\"text\":\"International Goals Above 0.9 Quantile\"},\"barmode\":\"relative\"},                        {\"responsive\": true}                    ).then(function(){\n",
       "                            \n",
       "var gd = document.getElementById('545f6c45-3e55-4fb8-96ac-60ac19a4cb61');\n",
       "var x = new MutationObserver(function (mutations, observer) {{\n",
       "        var display = window.getComputedStyle(gd).display;\n",
       "        if (!display || display === 'none') {{\n",
       "            console.log([gd, 'removed!']);\n",
       "            Plotly.purge(gd);\n",
       "            observer.disconnect();\n",
       "        }}\n",
       "}});\n",
       "\n",
       "// Listen for the removal of the full notebook cells\n",
       "var notebookContainer = gd.closest('#notebook-container');\n",
       "if (notebookContainer) {{\n",
       "    x.observe(notebookContainer, {childList: true});\n",
       "}}\n",
       "\n",
       "// Listen for the clearing of the current output cell\n",
       "var outputEl = gd.closest('.output');\n",
       "if (outputEl) {{\n",
       "    x.observe(outputEl, {childList: true});\n",
       "}}\n",
       "\n",
       "                        })                };                });            </script>        </div>"
      ]
     },
     "metadata": {},
     "output_type": "display_data"
    }
   ],
   "source": [
    "# International Goals\n",
    "# Plotting International Goals\n",
    "goals = data[\"International Goals\"]\n",
    "goals_quantiles = np.quantile(goals, [0, 0.1, 0.15, 0.2, 0.25, 0.3, 0.35, 0.4, 0.45, 0.5, 0.55, 0.6, 0.65 ,0.7, 0.75, 0.8, 0.85, 0.9, 0.95, 1])\n",
    "print(goals_quantiles)\n",
    "fig_plt_goals = px.bar(data.loc[data[\"International Goals\"] >= goals_quantiles[18], :].sort_values(\"International Goals\"), x=\"Full Name\", y=\"International Goals\", hover_name=\"Full Name\", hover_data=[\"Age\",\"Position\", \"Nationality\", \"International Caps\", \"International Goals\", \"Club\", \"League\"], title=\"International Goals Above 0.9 Quantile\" )\n",
    "fig_plt_goals.show()"
   ]
  },
  {
   "cell_type": "code",
   "execution_count": 10,
   "id": "c127ce58",
   "metadata": {},
   "outputs": [
    {
     "name": "stdout",
     "output_type": "stream",
     "text": [
      "17\n"
     ]
    },
    {
     "data": {
      "text/html": [
       "<div>\n",
       "<style scoped>\n",
       "    .dataframe tbody tr th:only-of-type {\n",
       "        vertical-align: middle;\n",
       "    }\n",
       "\n",
       "    .dataframe tbody tr th {\n",
       "        vertical-align: top;\n",
       "    }\n",
       "\n",
       "    .dataframe thead th {\n",
       "        text-align: right;\n",
       "    }\n",
       "</style>\n",
       "<table border=\"1\" class=\"dataframe\">\n",
       "  <thead>\n",
       "    <tr style=\"text-align: right;\">\n",
       "      <th></th>\n",
       "      <th>No</th>\n",
       "      <th>First Name</th>\n",
       "      <th>Other Names</th>\n",
       "      <th>Full Name</th>\n",
       "      <th>DOB</th>\n",
       "      <th>Day of Birth</th>\n",
       "      <th>Month of Birth</th>\n",
       "      <th>Year of Birth</th>\n",
       "      <th>Age</th>\n",
       "      <th>Position</th>\n",
       "      <th>Nationality</th>\n",
       "      <th>International Caps</th>\n",
       "      <th>International Goals</th>\n",
       "      <th>Club</th>\n",
       "      <th>League</th>\n",
       "      <th>Club Country</th>\n",
       "    </tr>\n",
       "  </thead>\n",
       "  <tbody>\n",
       "    <tr>\n",
       "      <th>5</th>\n",
       "      <td>6</td>\n",
       "      <td>William</td>\n",
       "      <td>Pacho</td>\n",
       "      <td>Pacho, William</td>\n",
       "      <td>16-Oct-01</td>\n",
       "      <td>16</td>\n",
       "      <td>October</td>\n",
       "      <td>2001</td>\n",
       "      <td>21</td>\n",
       "      <td>DF</td>\n",
       "      <td>Ecuador</td>\n",
       "      <td>0</td>\n",
       "      <td>0</td>\n",
       "      <td>Antwerp</td>\n",
       "      <td>Belgian Jupiler Pro League</td>\n",
       "      <td>Belgium</td>\n",
       "    </tr>\n",
       "    <tr>\n",
       "      <th>48</th>\n",
       "      <td>49</td>\n",
       "      <td>Andries</td>\n",
       "      <td>Noppert</td>\n",
       "      <td>Noppert, Andries</td>\n",
       "      <td>7-Apr-94</td>\n",
       "      <td>7</td>\n",
       "      <td>April</td>\n",
       "      <td>1994</td>\n",
       "      <td>28</td>\n",
       "      <td>GK</td>\n",
       "      <td>Netherlands</td>\n",
       "      <td>0</td>\n",
       "      <td>0</td>\n",
       "      <td>Heerenveen</td>\n",
       "      <td>Holland Eredivisie</td>\n",
       "      <td>Netherlands</td>\n",
       "    </tr>\n",
       "    <tr>\n",
       "      <th>50</th>\n",
       "      <td>51</td>\n",
       "      <td>Xavi</td>\n",
       "      <td>Simons</td>\n",
       "      <td>Simons, Xavi</td>\n",
       "      <td>21-Apr-03</td>\n",
       "      <td>21</td>\n",
       "      <td>April</td>\n",
       "      <td>2003</td>\n",
       "      <td>19</td>\n",
       "      <td>MF</td>\n",
       "      <td>Netherlands</td>\n",
       "      <td>0</td>\n",
       "      <td>0</td>\n",
       "      <td>PSV Eindhoven</td>\n",
       "      <td>Holland Eredivisie</td>\n",
       "      <td>Netherlands</td>\n",
       "    </tr>\n",
       "    <tr>\n",
       "      <th>51</th>\n",
       "      <td>52</td>\n",
       "      <td>Jeremie</td>\n",
       "      <td>Frimpong</td>\n",
       "      <td>Frimpong, Jeremie</td>\n",
       "      <td>10-Dec-00</td>\n",
       "      <td>10</td>\n",
       "      <td>December</td>\n",
       "      <td>2000</td>\n",
       "      <td>21</td>\n",
       "      <td>DF</td>\n",
       "      <td>Netherlands</td>\n",
       "      <td>0</td>\n",
       "      <td>0</td>\n",
       "      <td>Bayer Leverkusen</td>\n",
       "      <td>German 1. Bundesliga</td>\n",
       "      <td>Germany</td>\n",
       "    </tr>\n",
       "    <tr>\n",
       "      <th>76</th>\n",
       "      <td>77</td>\n",
       "      <td>Jassem</td>\n",
       "      <td>Gaber</td>\n",
       "      <td>Gaber, Jassem</td>\n",
       "      <td>20-Feb-02</td>\n",
       "      <td>20</td>\n",
       "      <td>February</td>\n",
       "      <td>2002</td>\n",
       "      <td>20</td>\n",
       "      <td>MF</td>\n",
       "      <td>Qatar</td>\n",
       "      <td>0</td>\n",
       "      <td>0</td>\n",
       "      <td>Al-Arabi</td>\n",
       "      <td>Qatar Stars League</td>\n",
       "      <td>Qatar</td>\n",
       "    </tr>\n",
       "    <tr>\n",
       "      <th>84</th>\n",
       "      <td>85</td>\n",
       "      <td>Nicolas</td>\n",
       "      <td>Jackson</td>\n",
       "      <td>Jackson, Nicolas</td>\n",
       "      <td>20-Jun-01</td>\n",
       "      <td>20</td>\n",
       "      <td>June</td>\n",
       "      <td>2001</td>\n",
       "      <td>21</td>\n",
       "      <td>FW</td>\n",
       "      <td>Senegal</td>\n",
       "      <td>0</td>\n",
       "      <td>0</td>\n",
       "      <td>Villarreal</td>\n",
       "      <td>Spain Primera Division</td>\n",
       "      <td>Spain</td>\n",
       "    </tr>\n",
       "    <tr>\n",
       "      <th>87</th>\n",
       "      <td>88</td>\n",
       "      <td>Moussa</td>\n",
       "      <td>Ndiaye</td>\n",
       "      <td>Ndiaye, Moussa</td>\n",
       "      <td>18-Jun-02</td>\n",
       "      <td>18</td>\n",
       "      <td>June</td>\n",
       "      <td>2002</td>\n",
       "      <td>20</td>\n",
       "      <td>DF</td>\n",
       "      <td>Senegal</td>\n",
       "      <td>0</td>\n",
       "      <td>0</td>\n",
       "      <td>Anderlecht</td>\n",
       "      <td>Belgian Jupiler Pro League</td>\n",
       "      <td>Belgium</td>\n",
       "    </tr>\n",
       "    <tr>\n",
       "      <th>306</th>\n",
       "      <td>307</td>\n",
       "      <td>Nawaf</td>\n",
       "      <td>Aqidi</td>\n",
       "      <td>Aqidi, Nawaf</td>\n",
       "      <td>10-May-00</td>\n",
       "      <td>10</td>\n",
       "      <td>May</td>\n",
       "      <td>2000</td>\n",
       "      <td>22</td>\n",
       "      <td>GK</td>\n",
       "      <td>Saudi Arabia</td>\n",
       "      <td>0</td>\n",
       "      <td>0</td>\n",
       "      <td>Al-Nassr</td>\n",
       "      <td>Saudi Abdul L. Jameel League</td>\n",
       "      <td>Saudi Arabia</td>\n",
       "    </tr>\n",
       "    <tr>\n",
       "      <th>365</th>\n",
       "      <td>366</td>\n",
       "      <td>Axel</td>\n",
       "      <td>Disasi</td>\n",
       "      <td>Disasi, Axel</td>\n",
       "      <td>11-Mar-98</td>\n",
       "      <td>11</td>\n",
       "      <td>March</td>\n",
       "      <td>1998</td>\n",
       "      <td>24</td>\n",
       "      <td>DF</td>\n",
       "      <td>France</td>\n",
       "      <td>0</td>\n",
       "      <td>0</td>\n",
       "      <td>Monaco</td>\n",
       "      <td>French Ligue 1</td>\n",
       "      <td>France</td>\n",
       "    </tr>\n",
       "    <tr>\n",
       "      <th>506</th>\n",
       "      <td>507</td>\n",
       "      <td>Alejandro</td>\n",
       "      <td>Balde</td>\n",
       "      <td>Balde, Alejandro</td>\n",
       "      <td>18-Oct-03</td>\n",
       "      <td>18</td>\n",
       "      <td>October</td>\n",
       "      <td>2003</td>\n",
       "      <td>19</td>\n",
       "      <td>DF</td>\n",
       "      <td>Spain</td>\n",
       "      <td>0</td>\n",
       "      <td>0</td>\n",
       "      <td>Barcelona</td>\n",
       "      <td>Spain Primera Division</td>\n",
       "      <td>Spain</td>\n",
       "    </tr>\n",
       "    <tr>\n",
       "      <th>560</th>\n",
       "      <td>561</td>\n",
       "      <td>James</td>\n",
       "      <td>Pantemis</td>\n",
       "      <td>Pantemis, James</td>\n",
       "      <td>21-Feb-97</td>\n",
       "      <td>21</td>\n",
       "      <td>February</td>\n",
       "      <td>1997</td>\n",
       "      <td>25</td>\n",
       "      <td>GK</td>\n",
       "      <td>Canada</td>\n",
       "      <td>0</td>\n",
       "      <td>0</td>\n",
       "      <td>CF Montréal</td>\n",
       "      <td>Canada Premeir League</td>\n",
       "      <td>Canada</td>\n",
       "    </tr>\n",
       "    <tr>\n",
       "      <th>619</th>\n",
       "      <td>620</td>\n",
       "      <td>Bilal</td>\n",
       "      <td>Khannous</td>\n",
       "      <td>Khannous, Bilal</td>\n",
       "      <td>10-May-04</td>\n",
       "      <td>10</td>\n",
       "      <td>May</td>\n",
       "      <td>2004</td>\n",
       "      <td>18</td>\n",
       "      <td>MF</td>\n",
       "      <td>Morocco</td>\n",
       "      <td>0</td>\n",
       "      <td>0</td>\n",
       "      <td>Genk</td>\n",
       "      <td>Belgian Jupiler Pro League</td>\n",
       "      <td>Belgium</td>\n",
       "    </tr>\n",
       "    <tr>\n",
       "      <th>649</th>\n",
       "      <td>650</td>\n",
       "      <td>Simon</td>\n",
       "      <td>Ngapandouetnbu</td>\n",
       "      <td>Ngapandouetnbu, Simon</td>\n",
       "      <td>12-Apr-03</td>\n",
       "      <td>12</td>\n",
       "      <td>April</td>\n",
       "      <td>2003</td>\n",
       "      <td>19</td>\n",
       "      <td>GK</td>\n",
       "      <td>Cameroon</td>\n",
       "      <td>0</td>\n",
       "      <td>0</td>\n",
       "      <td>Marseille</td>\n",
       "      <td>France Premeir League</td>\n",
       "      <td>France</td>\n",
       "    </tr>\n",
       "    <tr>\n",
       "      <th>724</th>\n",
       "      <td>725</td>\n",
       "      <td>Philipp</td>\n",
       "      <td>Kohn</td>\n",
       "      <td>Kohn, Philipp</td>\n",
       "      <td>2-Apr-98</td>\n",
       "      <td>2</td>\n",
       "      <td>April</td>\n",
       "      <td>1998</td>\n",
       "      <td>24</td>\n",
       "      <td>GK</td>\n",
       "      <td>Switzerland</td>\n",
       "      <td>0</td>\n",
       "      <td>0</td>\n",
       "      <td>Red Bull Salzburg</td>\n",
       "      <td>Austria Premeir League</td>\n",
       "      <td>Austria</td>\n",
       "    </tr>\n",
       "    <tr>\n",
       "      <th>725</th>\n",
       "      <td>726</td>\n",
       "      <td>Fabian</td>\n",
       "      <td>Rieder</td>\n",
       "      <td>Rieder, Fabian</td>\n",
       "      <td>16-Feb-02</td>\n",
       "      <td>16</td>\n",
       "      <td>February</td>\n",
       "      <td>2002</td>\n",
       "      <td>20</td>\n",
       "      <td>MF</td>\n",
       "      <td>Switzerland</td>\n",
       "      <td>0</td>\n",
       "      <td>0</td>\n",
       "      <td>Young Boys</td>\n",
       "      <td>Switzerland Premeir League</td>\n",
       "      <td>Switzerland</td>\n",
       "    </tr>\n",
       "    <tr>\n",
       "      <th>764</th>\n",
       "      <td>765</td>\n",
       "      <td>Jose</td>\n",
       "      <td>Sa</td>\n",
       "      <td>Sa, Jose</td>\n",
       "      <td>17-Jan-93</td>\n",
       "      <td>17</td>\n",
       "      <td>January</td>\n",
       "      <td>1993</td>\n",
       "      <td>29</td>\n",
       "      <td>GK</td>\n",
       "      <td>Portugal</td>\n",
       "      <td>0</td>\n",
       "      <td>0</td>\n",
       "      <td>Wolverhampton Wanderers</td>\n",
       "      <td>English Premier League</td>\n",
       "      <td>England</td>\n",
       "    </tr>\n",
       "    <tr>\n",
       "      <th>830</th>\n",
       "      <td>831</td>\n",
       "      <td>Jose Luis</td>\n",
       "      <td>Rodriguez</td>\n",
       "      <td>Rodriguez, Jose Luis</td>\n",
       "      <td>14-Mar-97</td>\n",
       "      <td>14</td>\n",
       "      <td>March</td>\n",
       "      <td>1997</td>\n",
       "      <td>25</td>\n",
       "      <td>DF</td>\n",
       "      <td>Uruguay</td>\n",
       "      <td>0</td>\n",
       "      <td>0</td>\n",
       "      <td>Nacional</td>\n",
       "      <td>Uruguay Premeir League</td>\n",
       "      <td>Uruguay</td>\n",
       "    </tr>\n",
       "  </tbody>\n",
       "</table>\n",
       "</div>"
      ],
      "text/plain": [
       "      No First Name     Other Names              Full Name        DOB  \\\n",
       "5      6    William           Pacho         Pacho, William  16-Oct-01   \n",
       "48    49    Andries         Noppert       Noppert, Andries   7-Apr-94   \n",
       "50    51       Xavi          Simons           Simons, Xavi  21-Apr-03   \n",
       "51    52    Jeremie        Frimpong      Frimpong, Jeremie  10-Dec-00   \n",
       "76    77     Jassem           Gaber          Gaber, Jassem  20-Feb-02   \n",
       "84    85    Nicolas         Jackson       Jackson, Nicolas  20-Jun-01   \n",
       "87    88     Moussa          Ndiaye         Ndiaye, Moussa  18-Jun-02   \n",
       "306  307      Nawaf           Aqidi           Aqidi, Nawaf  10-May-00   \n",
       "365  366       Axel          Disasi           Disasi, Axel  11-Mar-98   \n",
       "506  507  Alejandro           Balde       Balde, Alejandro  18-Oct-03   \n",
       "560  561      James        Pantemis        Pantemis, James  21-Feb-97   \n",
       "619  620      Bilal        Khannous        Khannous, Bilal  10-May-04   \n",
       "649  650      Simon  Ngapandouetnbu  Ngapandouetnbu, Simon  12-Apr-03   \n",
       "724  725    Philipp            Kohn          Kohn, Philipp   2-Apr-98   \n",
       "725  726     Fabian          Rieder         Rieder, Fabian  16-Feb-02   \n",
       "764  765       Jose              Sa               Sa, Jose  17-Jan-93   \n",
       "830  831  Jose Luis       Rodriguez   Rodriguez, Jose Luis  14-Mar-97   \n",
       "\n",
       "     Day of Birth Month of Birth  Year of Birth  Age Position   Nationality  \\\n",
       "5              16        October           2001   21       DF       Ecuador   \n",
       "48              7          April           1994   28       GK   Netherlands   \n",
       "50             21          April           2003   19       MF   Netherlands   \n",
       "51             10       December           2000   21       DF   Netherlands   \n",
       "76             20       February           2002   20       MF         Qatar   \n",
       "84             20           June           2001   21       FW       Senegal   \n",
       "87             18           June           2002   20       DF       Senegal   \n",
       "306            10            May           2000   22       GK  Saudi Arabia   \n",
       "365            11          March           1998   24       DF        France   \n",
       "506            18        October           2003   19       DF         Spain   \n",
       "560            21       February           1997   25       GK        Canada   \n",
       "619            10            May           2004   18       MF       Morocco   \n",
       "649            12          April           2003   19       GK      Cameroon   \n",
       "724             2          April           1998   24       GK   Switzerland   \n",
       "725            16       February           2002   20       MF   Switzerland   \n",
       "764            17        January           1993   29       GK      Portugal   \n",
       "830            14          March           1997   25       DF       Uruguay   \n",
       "\n",
       "     International Caps  International Goals                     Club  \\\n",
       "5                     0                    0                  Antwerp   \n",
       "48                    0                    0               Heerenveen   \n",
       "50                    0                    0            PSV Eindhoven   \n",
       "51                    0                    0         Bayer Leverkusen   \n",
       "76                    0                    0                 Al-Arabi   \n",
       "84                    0                    0               Villarreal   \n",
       "87                    0                    0               Anderlecht   \n",
       "306                   0                    0                 Al-Nassr   \n",
       "365                   0                    0                   Monaco   \n",
       "506                   0                    0                Barcelona   \n",
       "560                   0                    0              CF Montréal   \n",
       "619                   0                    0                     Genk   \n",
       "649                   0                    0                Marseille   \n",
       "724                   0                    0        Red Bull Salzburg   \n",
       "725                   0                    0               Young Boys   \n",
       "764                   0                    0  Wolverhampton Wanderers   \n",
       "830                   0                    0                 Nacional   \n",
       "\n",
       "                           League  Club Country  \n",
       "5      Belgian Jupiler Pro League       Belgium  \n",
       "48             Holland Eredivisie   Netherlands  \n",
       "50             Holland Eredivisie   Netherlands  \n",
       "51           German 1. Bundesliga       Germany  \n",
       "76             Qatar Stars League         Qatar  \n",
       "84         Spain Primera Division         Spain  \n",
       "87     Belgian Jupiler Pro League       Belgium  \n",
       "306  Saudi Abdul L. Jameel League  Saudi Arabia  \n",
       "365                French Ligue 1        France  \n",
       "506        Spain Primera Division         Spain  \n",
       "560         Canada Premeir League        Canada  \n",
       "619    Belgian Jupiler Pro League       Belgium  \n",
       "649         France Premeir League        France  \n",
       "724        Austria Premeir League       Austria  \n",
       "725    Switzerland Premeir League   Switzerland  \n",
       "764        English Premier League       England  \n",
       "830        Uruguay Premeir League       Uruguay  "
      ]
     },
     "metadata": {},
     "output_type": "display_data"
    }
   ],
   "source": [
    "# Players with no international caps\n",
    "print(len(data.loc[data[\"International Caps\"] == 0, :]))\n",
    "display(data.loc[data[\"International Caps\"] == 0, :])"
   ]
  },
  {
   "cell_type": "code",
   "execution_count": 12,
   "id": "28caa24a",
   "metadata": {},
   "outputs": [
    {
     "data": {
      "application/vnd.plotly.v1+json": {
       "config": {
        "plotlyServerURL": "https://plot.ly"
       },
       "data": [
        {
         "alignmentgroup": "True",
         "customdata": [
          [
           36,
           "MF",
           "Mexico",
           178,
           28,
           "Real Betis",
           "Spain Primera Division"
          ],
          [
           34,
           "MF",
           "Costa Rica",
           155,
           27,
           "Alajuelense",
           "Costa Rica Premeir League"
          ],
          [
           37,
           "MF",
           "Costa Rica",
           146,
           29,
           "Alajuelense",
           "Costa Rica Premeir League"
          ],
          [
           30,
           "FW",
           "Costa Rica",
           119,
           25,
           "León",
           "Mexico Premeir League"
          ],
          [
           31,
           "MF",
           "Qatar",
           169,
           36,
           "Al-Sadd",
           "Qatar Stars League"
          ],
          [
           34,
           "FW",
           "Argentina",
           124,
           27,
           "Juventus",
           "Italian Serie A"
          ],
          [
           31,
           "MF",
           "Switzerland",
           109,
           26,
           "Chicago Fire FC",
           "United States Premeir League"
          ],
          [
           31,
           "MF",
           "Belgium",
           94,
           25,
           "Manchester City",
           "English Premier League"
          ],
          [
           31,
           "FW",
           "Belgium",
           123,
           33,
           "Real Madrid",
           "Spain Primera Division"
          ],
          [
           33,
           "FW",
           "Croatia",
           116,
           32,
           "Tottenham Hotspur",
           "English Premier League"
          ],
          [
           30,
           "FW",
           "Switzerland",
           89,
           25,
           "Galatasaray",
           "Turkey Premeir League"
          ],
          [
           26,
           "FW",
           "Qatar",
           89,
           26,
           "Al-Sadd",
           "Qatar Stars League"
          ],
          [
           31,
           "FW",
           "Mexico",
           95,
           29,
           "Wolverhampton Wanderers",
           "English Premier League"
          ],
          [
           32,
           "FW",
           "Iran",
           94,
           29,
           "Omonia",
           "Cypriot First Division"
          ],
          [
           30,
           "MF",
           "Denmark",
           117,
           39,
           "Manchester United",
           "English Premier League"
          ],
          [
           31,
           "FW",
           "Tunisia",
           72,
           24,
           "Montpellier",
           "France Premeir League"
          ],
          [
           30,
           "MF",
           "South Korea",
           104,
           35,
           "Tottenham Hotspur",
           "English Premier League"
          ],
          [
           30,
           "FW",
           "Cameroon",
           92,
           33,
           "Al-Nassr",
           "Saudi Arabia Premeir League"
          ],
          [
           33,
           "FW",
           "Wales",
           108,
           40,
           "Los Angeles FC",
           "USA Major League Soccer"
          ],
          [
           33,
           "MF",
           "Germany",
           118,
           44,
           "Bayern Munich",
           "German 1. Bundesliga"
          ],
          [
           34,
           "FW",
           "France",
           97,
           37,
           "Real Madrid",
           "Spain Primera Division"
          ],
          [
           31,
           "FW",
           "France",
           110,
           42,
           "Atlético Madrid",
           "Spain Primera Division"
          ],
          [
           36,
           "FW",
           "France",
           114,
           49,
           "Milan",
           "Italian Serie A"
          ],
          [
           35,
           "FW",
           "Uruguay",
           133,
           58,
           "Valencia",
           "Spain Premeir League"
          ],
          [
           27,
           "FW",
           "Canada",
           55,
           25,
           "Club Brugge",
           "Belgian Jupiler Pro League"
          ],
          [
           30,
           "FW",
           "Iran",
           60,
           28,
           "Porto",
           "Portuguese Liga ZON SAGRES"
          ],
          [
           33,
           "FW",
           "Ecuador",
           74,
           35,
           "Fenerbahçe",
           "Turkish Süper Lig"
          ],
          [
           30,
           "FW",
           "Spain",
           57,
           27,
           "Atlético Madrid",
           "Spain Primera Division"
          ],
          [
           23,
           "FW",
           "France",
           59,
           28,
           "Paris Saint-Germain",
           "French Ligue 1"
          ],
          [
           26,
           "FW",
           "Qatar",
           85,
           42,
           "Al-Duhail",
           "Qatar Stars League"
          ],
          [
           35,
           "FW",
           "Uruguay",
           134,
           68,
           "Nacional",
           "Uruguay Premeir League"
          ],
          [
           28,
           "FW",
           "Netherlands",
           81,
           42,
           "Barcelona",
           "Spain Primera Division"
          ],
          [
           29,
           "FW",
           "Belgium",
           48,
           26,
           "Fenerbahçe",
           "Turkey Premeir League"
          ],
          [
           35,
           "FW",
           "Argentina",
           165,
           91,
           "Paris Saint-Germain",
           "French Ligue 1"
          ],
          [
           34,
           "FW",
           "Poland",
           134,
           76,
           "Barcelona",
           "Spain Primera Division"
          ],
          [
           37,
           "FW",
           "Portugal",
           191,
           117,
           "Manchester United",
           "English Premier League"
          ],
          [
           30,
           "FW",
           "Brazil",
           121,
           75,
           "Paris Saint-Germain",
           "French Ligue 1"
          ],
          [
           27,
           "FW",
           "Iran",
           65,
           41,
           "Bayer Leverkusen",
           "German 1. Bundesliga"
          ],
          [
           28,
           "FW",
           "Serbia",
           76,
           50,
           "Fulham",
           "English League Championship"
          ],
          [
           29,
           "FW",
           "Belgium",
           102,
           68,
           "Internazionale",
           "Italy Premeir League"
          ],
          [
           29,
           "FW",
           "England",
           75,
           51,
           "Tottenham Hotspur",
           "English Premier League"
          ]
         ],
         "hovertemplate": "<b>%{hovertext}</b><br><br>Full Name=%{x}<br>GoalsToCaps=%{y}<br>Age=%{customdata[0]}<br>Position=%{customdata[1]}<br>Nationality=%{customdata[2]}<br>International Caps=%{customdata[3]}<br>International Goals=%{customdata[4]}<br>Club=%{customdata[5]}<br>League=%{customdata[6]}<extra></extra>",
         "hovertext": [
          "Guardado, Andres",
          "Borges, Celso",
          "Ruiz, Bryan",
          "Campbell, Joel",
          "Haydos, Hassan",
          "Di Maria, Angel",
          "Shaqiri, Xherdan",
          "De Bruyne, Kevin",
          "Hazard, Eden",
          "Perisic, Ivan",
          "Seferovic, Haris",
          "Afif, Akram",
          "Jimenez, Raul",
          "Ansarifard, Karim",
          "Eriksen, Christian",
          "Khazri, Wahbi",
          "Son, Heung-min",
          "Aboubakar, Vincent",
          "Bale, Gareth",
          "Muller, Thomas",
          "Benzema, Karim",
          "Griezmann, Antoine",
          "Giroud, Olivier",
          "Cavani, Edinson",
          "Larin, Cyle",
          "Taremi, Mehdi",
          "Valencia, Enner",
          "Morata, Alvaro",
          "Mbappe, Kylian",
          "Ali, Almoez",
          "Suarez, Luis",
          "Depay, Memphis",
          "Batshuayi, Michy",
          "Messi, Lionel",
          "Lewandowski, Robert",
          "Ronaldo, Cristiano",
          "Neymar",
          "Azmoun, Sardar",
          "Mitrovic, Aleksandar",
          "Lukaku, Romelu",
          "Kane, Harry"
         ],
         "legendgroup": "",
         "marker": {
          "color": "#636efa",
          "pattern": {
           "shape": ""
          }
         },
         "name": "",
         "offsetgroup": "",
         "orientation": "v",
         "showlegend": false,
         "textposition": "auto",
         "type": "bar",
         "x": [
          "Guardado, Andres",
          "Borges, Celso",
          "Ruiz, Bryan",
          "Campbell, Joel",
          "Haydos, Hassan",
          "Di Maria, Angel",
          "Shaqiri, Xherdan",
          "De Bruyne, Kevin",
          "Hazard, Eden",
          "Perisic, Ivan",
          "Seferovic, Haris",
          "Afif, Akram",
          "Jimenez, Raul",
          "Ansarifard, Karim",
          "Eriksen, Christian",
          "Khazri, Wahbi",
          "Son, Heung-min",
          "Aboubakar, Vincent",
          "Bale, Gareth",
          "Muller, Thomas",
          "Benzema, Karim",
          "Griezmann, Antoine",
          "Giroud, Olivier",
          "Cavani, Edinson",
          "Larin, Cyle",
          "Taremi, Mehdi",
          "Valencia, Enner",
          "Morata, Alvaro",
          "Mbappe, Kylian",
          "Ali, Almoez",
          "Suarez, Luis",
          "Depay, Memphis",
          "Batshuayi, Michy",
          "Messi, Lionel",
          "Lewandowski, Robert",
          "Ronaldo, Cristiano",
          "Neymar",
          "Azmoun, Sardar",
          "Mitrovic, Aleksandar",
          "Lukaku, Romelu",
          "Kane, Harry"
         ],
         "xaxis": "x",
         "y": [
          0.15730337078651685,
          0.17419354838709677,
          0.19863013698630136,
          0.21008403361344538,
          0.21301775147928995,
          0.21774193548387097,
          0.23853211009174313,
          0.26595744680851063,
          0.2682926829268293,
          0.27586206896551724,
          0.2808988764044944,
          0.29213483146067415,
          0.30526315789473685,
          0.30851063829787234,
          0.3333333333333333,
          0.3333333333333333,
          0.33653846153846156,
          0.358695652173913,
          0.37037037037037035,
          0.3728813559322034,
          0.38144329896907214,
          0.38181818181818183,
          0.4298245614035088,
          0.43609022556390975,
          0.45454545454545453,
          0.4666666666666667,
          0.47297297297297297,
          0.47368421052631576,
          0.4745762711864407,
          0.49411764705882355,
          0.5074626865671642,
          0.5185185185185185,
          0.5416666666666666,
          0.5515151515151515,
          0.5671641791044776,
          0.612565445026178,
          0.6198347107438017,
          0.6307692307692307,
          0.6578947368421053,
          0.6666666666666666,
          0.68
         ],
         "yaxis": "y"
        }
       ],
       "layout": {
        "barmode": "relative",
        "legend": {
         "tracegroupgap": 0
        },
        "template": {
         "data": {
          "bar": [
           {
            "error_x": {
             "color": "#2a3f5f"
            },
            "error_y": {
             "color": "#2a3f5f"
            },
            "marker": {
             "line": {
              "color": "#E5ECF6",
              "width": 0.5
             },
             "pattern": {
              "fillmode": "overlay",
              "size": 10,
              "solidity": 0.2
             }
            },
            "type": "bar"
           }
          ],
          "barpolar": [
           {
            "marker": {
             "line": {
              "color": "#E5ECF6",
              "width": 0.5
             },
             "pattern": {
              "fillmode": "overlay",
              "size": 10,
              "solidity": 0.2
             }
            },
            "type": "barpolar"
           }
          ],
          "carpet": [
           {
            "aaxis": {
             "endlinecolor": "#2a3f5f",
             "gridcolor": "white",
             "linecolor": "white",
             "minorgridcolor": "white",
             "startlinecolor": "#2a3f5f"
            },
            "baxis": {
             "endlinecolor": "#2a3f5f",
             "gridcolor": "white",
             "linecolor": "white",
             "minorgridcolor": "white",
             "startlinecolor": "#2a3f5f"
            },
            "type": "carpet"
           }
          ],
          "choropleth": [
           {
            "colorbar": {
             "outlinewidth": 0,
             "ticks": ""
            },
            "type": "choropleth"
           }
          ],
          "contour": [
           {
            "colorbar": {
             "outlinewidth": 0,
             "ticks": ""
            },
            "colorscale": [
             [
              0,
              "#0d0887"
             ],
             [
              0.1111111111111111,
              "#46039f"
             ],
             [
              0.2222222222222222,
              "#7201a8"
             ],
             [
              0.3333333333333333,
              "#9c179e"
             ],
             [
              0.4444444444444444,
              "#bd3786"
             ],
             [
              0.5555555555555556,
              "#d8576b"
             ],
             [
              0.6666666666666666,
              "#ed7953"
             ],
             [
              0.7777777777777778,
              "#fb9f3a"
             ],
             [
              0.8888888888888888,
              "#fdca26"
             ],
             [
              1,
              "#f0f921"
             ]
            ],
            "type": "contour"
           }
          ],
          "contourcarpet": [
           {
            "colorbar": {
             "outlinewidth": 0,
             "ticks": ""
            },
            "type": "contourcarpet"
           }
          ],
          "heatmap": [
           {
            "colorbar": {
             "outlinewidth": 0,
             "ticks": ""
            },
            "colorscale": [
             [
              0,
              "#0d0887"
             ],
             [
              0.1111111111111111,
              "#46039f"
             ],
             [
              0.2222222222222222,
              "#7201a8"
             ],
             [
              0.3333333333333333,
              "#9c179e"
             ],
             [
              0.4444444444444444,
              "#bd3786"
             ],
             [
              0.5555555555555556,
              "#d8576b"
             ],
             [
              0.6666666666666666,
              "#ed7953"
             ],
             [
              0.7777777777777778,
              "#fb9f3a"
             ],
             [
              0.8888888888888888,
              "#fdca26"
             ],
             [
              1,
              "#f0f921"
             ]
            ],
            "type": "heatmap"
           }
          ],
          "heatmapgl": [
           {
            "colorbar": {
             "outlinewidth": 0,
             "ticks": ""
            },
            "colorscale": [
             [
              0,
              "#0d0887"
             ],
             [
              0.1111111111111111,
              "#46039f"
             ],
             [
              0.2222222222222222,
              "#7201a8"
             ],
             [
              0.3333333333333333,
              "#9c179e"
             ],
             [
              0.4444444444444444,
              "#bd3786"
             ],
             [
              0.5555555555555556,
              "#d8576b"
             ],
             [
              0.6666666666666666,
              "#ed7953"
             ],
             [
              0.7777777777777778,
              "#fb9f3a"
             ],
             [
              0.8888888888888888,
              "#fdca26"
             ],
             [
              1,
              "#f0f921"
             ]
            ],
            "type": "heatmapgl"
           }
          ],
          "histogram": [
           {
            "marker": {
             "pattern": {
              "fillmode": "overlay",
              "size": 10,
              "solidity": 0.2
             }
            },
            "type": "histogram"
           }
          ],
          "histogram2d": [
           {
            "colorbar": {
             "outlinewidth": 0,
             "ticks": ""
            },
            "colorscale": [
             [
              0,
              "#0d0887"
             ],
             [
              0.1111111111111111,
              "#46039f"
             ],
             [
              0.2222222222222222,
              "#7201a8"
             ],
             [
              0.3333333333333333,
              "#9c179e"
             ],
             [
              0.4444444444444444,
              "#bd3786"
             ],
             [
              0.5555555555555556,
              "#d8576b"
             ],
             [
              0.6666666666666666,
              "#ed7953"
             ],
             [
              0.7777777777777778,
              "#fb9f3a"
             ],
             [
              0.8888888888888888,
              "#fdca26"
             ],
             [
              1,
              "#f0f921"
             ]
            ],
            "type": "histogram2d"
           }
          ],
          "histogram2dcontour": [
           {
            "colorbar": {
             "outlinewidth": 0,
             "ticks": ""
            },
            "colorscale": [
             [
              0,
              "#0d0887"
             ],
             [
              0.1111111111111111,
              "#46039f"
             ],
             [
              0.2222222222222222,
              "#7201a8"
             ],
             [
              0.3333333333333333,
              "#9c179e"
             ],
             [
              0.4444444444444444,
              "#bd3786"
             ],
             [
              0.5555555555555556,
              "#d8576b"
             ],
             [
              0.6666666666666666,
              "#ed7953"
             ],
             [
              0.7777777777777778,
              "#fb9f3a"
             ],
             [
              0.8888888888888888,
              "#fdca26"
             ],
             [
              1,
              "#f0f921"
             ]
            ],
            "type": "histogram2dcontour"
           }
          ],
          "mesh3d": [
           {
            "colorbar": {
             "outlinewidth": 0,
             "ticks": ""
            },
            "type": "mesh3d"
           }
          ],
          "parcoords": [
           {
            "line": {
             "colorbar": {
              "outlinewidth": 0,
              "ticks": ""
             }
            },
            "type": "parcoords"
           }
          ],
          "pie": [
           {
            "automargin": true,
            "type": "pie"
           }
          ],
          "scatter": [
           {
            "marker": {
             "colorbar": {
              "outlinewidth": 0,
              "ticks": ""
             }
            },
            "type": "scatter"
           }
          ],
          "scatter3d": [
           {
            "line": {
             "colorbar": {
              "outlinewidth": 0,
              "ticks": ""
             }
            },
            "marker": {
             "colorbar": {
              "outlinewidth": 0,
              "ticks": ""
             }
            },
            "type": "scatter3d"
           }
          ],
          "scattercarpet": [
           {
            "marker": {
             "colorbar": {
              "outlinewidth": 0,
              "ticks": ""
             }
            },
            "type": "scattercarpet"
           }
          ],
          "scattergeo": [
           {
            "marker": {
             "colorbar": {
              "outlinewidth": 0,
              "ticks": ""
             }
            },
            "type": "scattergeo"
           }
          ],
          "scattergl": [
           {
            "marker": {
             "colorbar": {
              "outlinewidth": 0,
              "ticks": ""
             }
            },
            "type": "scattergl"
           }
          ],
          "scattermapbox": [
           {
            "marker": {
             "colorbar": {
              "outlinewidth": 0,
              "ticks": ""
             }
            },
            "type": "scattermapbox"
           }
          ],
          "scatterpolar": [
           {
            "marker": {
             "colorbar": {
              "outlinewidth": 0,
              "ticks": ""
             }
            },
            "type": "scatterpolar"
           }
          ],
          "scatterpolargl": [
           {
            "marker": {
             "colorbar": {
              "outlinewidth": 0,
              "ticks": ""
             }
            },
            "type": "scatterpolargl"
           }
          ],
          "scatterternary": [
           {
            "marker": {
             "colorbar": {
              "outlinewidth": 0,
              "ticks": ""
             }
            },
            "type": "scatterternary"
           }
          ],
          "surface": [
           {
            "colorbar": {
             "outlinewidth": 0,
             "ticks": ""
            },
            "colorscale": [
             [
              0,
              "#0d0887"
             ],
             [
              0.1111111111111111,
              "#46039f"
             ],
             [
              0.2222222222222222,
              "#7201a8"
             ],
             [
              0.3333333333333333,
              "#9c179e"
             ],
             [
              0.4444444444444444,
              "#bd3786"
             ],
             [
              0.5555555555555556,
              "#d8576b"
             ],
             [
              0.6666666666666666,
              "#ed7953"
             ],
             [
              0.7777777777777778,
              "#fb9f3a"
             ],
             [
              0.8888888888888888,
              "#fdca26"
             ],
             [
              1,
              "#f0f921"
             ]
            ],
            "type": "surface"
           }
          ],
          "table": [
           {
            "cells": {
             "fill": {
              "color": "#EBF0F8"
             },
             "line": {
              "color": "white"
             }
            },
            "header": {
             "fill": {
              "color": "#C8D4E3"
             },
             "line": {
              "color": "white"
             }
            },
            "type": "table"
           }
          ]
         },
         "layout": {
          "annotationdefaults": {
           "arrowcolor": "#2a3f5f",
           "arrowhead": 0,
           "arrowwidth": 1
          },
          "autotypenumbers": "strict",
          "coloraxis": {
           "colorbar": {
            "outlinewidth": 0,
            "ticks": ""
           }
          },
          "colorscale": {
           "diverging": [
            [
             0,
             "#8e0152"
            ],
            [
             0.1,
             "#c51b7d"
            ],
            [
             0.2,
             "#de77ae"
            ],
            [
             0.3,
             "#f1b6da"
            ],
            [
             0.4,
             "#fde0ef"
            ],
            [
             0.5,
             "#f7f7f7"
            ],
            [
             0.6,
             "#e6f5d0"
            ],
            [
             0.7,
             "#b8e186"
            ],
            [
             0.8,
             "#7fbc41"
            ],
            [
             0.9,
             "#4d9221"
            ],
            [
             1,
             "#276419"
            ]
           ],
           "sequential": [
            [
             0,
             "#0d0887"
            ],
            [
             0.1111111111111111,
             "#46039f"
            ],
            [
             0.2222222222222222,
             "#7201a8"
            ],
            [
             0.3333333333333333,
             "#9c179e"
            ],
            [
             0.4444444444444444,
             "#bd3786"
            ],
            [
             0.5555555555555556,
             "#d8576b"
            ],
            [
             0.6666666666666666,
             "#ed7953"
            ],
            [
             0.7777777777777778,
             "#fb9f3a"
            ],
            [
             0.8888888888888888,
             "#fdca26"
            ],
            [
             1,
             "#f0f921"
            ]
           ],
           "sequentialminus": [
            [
             0,
             "#0d0887"
            ],
            [
             0.1111111111111111,
             "#46039f"
            ],
            [
             0.2222222222222222,
             "#7201a8"
            ],
            [
             0.3333333333333333,
             "#9c179e"
            ],
            [
             0.4444444444444444,
             "#bd3786"
            ],
            [
             0.5555555555555556,
             "#d8576b"
            ],
            [
             0.6666666666666666,
             "#ed7953"
            ],
            [
             0.7777777777777778,
             "#fb9f3a"
            ],
            [
             0.8888888888888888,
             "#fdca26"
            ],
            [
             1,
             "#f0f921"
            ]
           ]
          },
          "colorway": [
           "#636efa",
           "#EF553B",
           "#00cc96",
           "#ab63fa",
           "#FFA15A",
           "#19d3f3",
           "#FF6692",
           "#B6E880",
           "#FF97FF",
           "#FECB52"
          ],
          "font": {
           "color": "#2a3f5f"
          },
          "geo": {
           "bgcolor": "white",
           "lakecolor": "white",
           "landcolor": "#E5ECF6",
           "showlakes": true,
           "showland": true,
           "subunitcolor": "white"
          },
          "hoverlabel": {
           "align": "left"
          },
          "hovermode": "closest",
          "mapbox": {
           "style": "light"
          },
          "paper_bgcolor": "white",
          "plot_bgcolor": "#E5ECF6",
          "polar": {
           "angularaxis": {
            "gridcolor": "white",
            "linecolor": "white",
            "ticks": ""
           },
           "bgcolor": "#E5ECF6",
           "radialaxis": {
            "gridcolor": "white",
            "linecolor": "white",
            "ticks": ""
           }
          },
          "scene": {
           "xaxis": {
            "backgroundcolor": "#E5ECF6",
            "gridcolor": "white",
            "gridwidth": 2,
            "linecolor": "white",
            "showbackground": true,
            "ticks": "",
            "zerolinecolor": "white"
           },
           "yaxis": {
            "backgroundcolor": "#E5ECF6",
            "gridcolor": "white",
            "gridwidth": 2,
            "linecolor": "white",
            "showbackground": true,
            "ticks": "",
            "zerolinecolor": "white"
           },
           "zaxis": {
            "backgroundcolor": "#E5ECF6",
            "gridcolor": "white",
            "gridwidth": 2,
            "linecolor": "white",
            "showbackground": true,
            "ticks": "",
            "zerolinecolor": "white"
           }
          },
          "shapedefaults": {
           "line": {
            "color": "#2a3f5f"
           }
          },
          "ternary": {
           "aaxis": {
            "gridcolor": "white",
            "linecolor": "white",
            "ticks": ""
           },
           "baxis": {
            "gridcolor": "white",
            "linecolor": "white",
            "ticks": ""
           },
           "bgcolor": "#E5ECF6",
           "caxis": {
            "gridcolor": "white",
            "linecolor": "white",
            "ticks": ""
           }
          },
          "title": {
           "x": 0.05
          },
          "xaxis": {
           "automargin": true,
           "gridcolor": "white",
           "linecolor": "white",
           "ticks": "",
           "title": {
            "standoff": 15
           },
           "zerolinecolor": "white",
           "zerolinewidth": 2
          },
          "yaxis": {
           "automargin": true,
           "gridcolor": "white",
           "linecolor": "white",
           "ticks": "",
           "title": {
            "standoff": 15
           },
           "zerolinecolor": "white",
           "zerolinewidth": 2
          }
         }
        },
        "title": {
         "text": "Goals To Caps Ratio"
        },
        "xaxis": {
         "anchor": "y",
         "domain": [
          0,
          1
         ],
         "title": {
          "text": "Full Name"
         }
        },
        "yaxis": {
         "anchor": "x",
         "domain": [
          0,
          1
         ],
         "title": {
          "text": "GoalsToCaps"
         }
        }
       }
      },
      "text/html": [
       "<div>                            <div id=\"074cde7c-5d63-429d-a386-b9fd00267b31\" class=\"plotly-graph-div\" style=\"height:525px; width:100%;\"></div>            <script type=\"text/javascript\">                require([\"plotly\"], function(Plotly) {                    window.PLOTLYENV=window.PLOTLYENV || {};                                    if (document.getElementById(\"074cde7c-5d63-429d-a386-b9fd00267b31\")) {                    Plotly.newPlot(                        \"074cde7c-5d63-429d-a386-b9fd00267b31\",                        [{\"alignmentgroup\":\"True\",\"customdata\":[[36,\"MF\",\"Mexico\",178,28,\"Real Betis\",\"Spain Primera Division\"],[34,\"MF\",\"Costa Rica\",155,27,\"Alajuelense\",\"Costa Rica Premeir League\"],[37,\"MF\",\"Costa Rica\",146,29,\"Alajuelense\",\"Costa Rica Premeir League\"],[30,\"FW\",\"Costa Rica\",119,25,\"Le\\u00f3n\",\"Mexico Premeir League\"],[31,\"MF\",\"Qatar\",169,36,\"Al-Sadd\",\"Qatar Stars League\"],[34,\"FW\",\"Argentina\",124,27,\"Juventus\",\"Italian Serie A\"],[31,\"MF\",\"Switzerland\",109,26,\"Chicago Fire FC\",\"United States Premeir League\"],[31,\"MF\",\"Belgium\",94,25,\"Manchester City\",\"English Premier League\"],[31,\"FW\",\"Belgium\",123,33,\"Real Madrid\",\"Spain Primera Division\"],[33,\"FW\",\"Croatia\",116,32,\"Tottenham Hotspur\",\"English Premier League\"],[30,\"FW\",\"Switzerland\",89,25,\"Galatasaray\",\"Turkey Premeir League\"],[26,\"FW\",\"Qatar\",89,26,\"Al-Sadd\",\"Qatar Stars League\"],[31,\"FW\",\"Mexico\",95,29,\"Wolverhampton Wanderers\",\"English Premier League\"],[32,\"FW\",\"Iran\",94,29,\"Omonia\",\"Cypriot First Division\"],[30,\"MF\",\"Denmark\",117,39,\"Manchester United\",\"English Premier League\"],[31,\"FW\",\"Tunisia\",72,24,\"Montpellier\",\"France Premeir League\"],[30,\"MF\",\"South Korea\",104,35,\"Tottenham Hotspur\",\"English Premier League\"],[30,\"FW\",\"Cameroon\",92,33,\"Al-Nassr\",\"Saudi Arabia Premeir League\"],[33,\"FW\",\"Wales\",108,40,\"Los Angeles FC\",\"USA Major League Soccer\"],[33,\"MF\",\"Germany\",118,44,\"Bayern Munich\",\"German 1. Bundesliga\"],[34,\"FW\",\"France\",97,37,\"Real Madrid\",\"Spain Primera Division\"],[31,\"FW\",\"France\",110,42,\"Atl\\u00e9tico Madrid\",\"Spain Primera Division\"],[36,\"FW\",\"France\",114,49,\"Milan\",\"Italian Serie A\"],[35,\"FW\",\"Uruguay\",133,58,\"Valencia\",\"Spain Premeir League\"],[27,\"FW\",\"Canada\",55,25,\"Club Brugge\",\"Belgian Jupiler Pro League\"],[30,\"FW\",\"Iran\",60,28,\"Porto\",\"Portuguese Liga ZON SAGRES\"],[33,\"FW\",\"Ecuador\",74,35,\"Fenerbah\\u00e7e\",\"Turkish S\\u00fcper Lig\"],[30,\"FW\",\"Spain\",57,27,\"Atl\\u00e9tico Madrid\",\"Spain Primera Division\"],[23,\"FW\",\"France\",59,28,\"Paris Saint-Germain\",\"French Ligue 1\"],[26,\"FW\",\"Qatar\",85,42,\"Al-Duhail\",\"Qatar Stars League\"],[35,\"FW\",\"Uruguay\",134,68,\"Nacional\",\"Uruguay Premeir League\"],[28,\"FW\",\"Netherlands\",81,42,\"Barcelona\",\"Spain Primera Division\"],[29,\"FW\",\"Belgium\",48,26,\"Fenerbah\\u00e7e\",\"Turkey Premeir League\"],[35,\"FW\",\"Argentina\",165,91,\"Paris Saint-Germain\",\"French Ligue 1\"],[34,\"FW\",\"Poland\",134,76,\"Barcelona\",\"Spain Primera Division\"],[37,\"FW\",\"Portugal\",191,117,\"Manchester United\",\"English Premier League\"],[30,\"FW\",\"Brazil\",121,75,\"Paris Saint-Germain\",\"French Ligue 1\"],[27,\"FW\",\"Iran\",65,41,\"Bayer Leverkusen\",\"German 1. Bundesliga\"],[28,\"FW\",\"Serbia\",76,50,\"Fulham\",\"English League Championship\"],[29,\"FW\",\"Belgium\",102,68,\"Internazionale\",\"Italy Premeir League\"],[29,\"FW\",\"England\",75,51,\"Tottenham Hotspur\",\"English Premier League\"]],\"hovertemplate\":\"<b>%{hovertext}</b><br><br>Full Name=%{x}<br>GoalsToCaps=%{y}<br>Age=%{customdata[0]}<br>Position=%{customdata[1]}<br>Nationality=%{customdata[2]}<br>International Caps=%{customdata[3]}<br>International Goals=%{customdata[4]}<br>Club=%{customdata[5]}<br>League=%{customdata[6]}<extra></extra>\",\"hovertext\":[\"Guardado, Andres\",\"Borges, Celso\",\"Ruiz, Bryan\",\"Campbell, Joel\",\"Haydos, Hassan\",\"Di Maria, Angel\",\"Shaqiri, Xherdan\",\"De Bruyne, Kevin\",\"Hazard, Eden\",\"Perisic, Ivan\",\"Seferovic, Haris\",\"Afif, Akram\",\"Jimenez, Raul\",\"Ansarifard, Karim\",\"Eriksen, Christian\",\"Khazri, Wahbi\",\"Son, Heung-min\",\"Aboubakar, Vincent\",\"Bale, Gareth\",\"Muller, Thomas\",\"Benzema, Karim\",\"Griezmann, Antoine\",\"Giroud, Olivier\",\"Cavani, Edinson\",\"Larin, Cyle\",\"Taremi, Mehdi\",\"Valencia, Enner\",\"Morata, Alvaro\",\"Mbappe, Kylian\",\"Ali, Almoez\",\"Suarez, Luis\",\"Depay, Memphis\",\"Batshuayi, Michy\",\"Messi, Lionel\",\"Lewandowski, Robert\",\"Ronaldo, Cristiano\",\"Neymar\",\"Azmoun, Sardar\",\"Mitrovic, Aleksandar\",\"Lukaku, Romelu\",\"Kane, Harry\"],\"legendgroup\":\"\",\"marker\":{\"color\":\"#636efa\",\"pattern\":{\"shape\":\"\"}},\"name\":\"\",\"offsetgroup\":\"\",\"orientation\":\"v\",\"showlegend\":false,\"textposition\":\"auto\",\"x\":[\"Guardado, Andres\",\"Borges, Celso\",\"Ruiz, Bryan\",\"Campbell, Joel\",\"Haydos, Hassan\",\"Di Maria, Angel\",\"Shaqiri, Xherdan\",\"De Bruyne, Kevin\",\"Hazard, Eden\",\"Perisic, Ivan\",\"Seferovic, Haris\",\"Afif, Akram\",\"Jimenez, Raul\",\"Ansarifard, Karim\",\"Eriksen, Christian\",\"Khazri, Wahbi\",\"Son, Heung-min\",\"Aboubakar, Vincent\",\"Bale, Gareth\",\"Muller, Thomas\",\"Benzema, Karim\",\"Griezmann, Antoine\",\"Giroud, Olivier\",\"Cavani, Edinson\",\"Larin, Cyle\",\"Taremi, Mehdi\",\"Valencia, Enner\",\"Morata, Alvaro\",\"Mbappe, Kylian\",\"Ali, Almoez\",\"Suarez, Luis\",\"Depay, Memphis\",\"Batshuayi, Michy\",\"Messi, Lionel\",\"Lewandowski, Robert\",\"Ronaldo, Cristiano\",\"Neymar\",\"Azmoun, Sardar\",\"Mitrovic, Aleksandar\",\"Lukaku, Romelu\",\"Kane, Harry\"],\"xaxis\":\"x\",\"y\":[0.15730337078651685,0.17419354838709677,0.19863013698630136,0.21008403361344538,0.21301775147928995,0.21774193548387097,0.23853211009174313,0.26595744680851063,0.2682926829268293,0.27586206896551724,0.2808988764044944,0.29213483146067415,0.30526315789473685,0.30851063829787234,0.3333333333333333,0.3333333333333333,0.33653846153846156,0.358695652173913,0.37037037037037035,0.3728813559322034,0.38144329896907214,0.38181818181818183,0.4298245614035088,0.43609022556390975,0.45454545454545453,0.4666666666666667,0.47297297297297297,0.47368421052631576,0.4745762711864407,0.49411764705882355,0.5074626865671642,0.5185185185185185,0.5416666666666666,0.5515151515151515,0.5671641791044776,0.612565445026178,0.6198347107438017,0.6307692307692307,0.6578947368421053,0.6666666666666666,0.68],\"yaxis\":\"y\",\"type\":\"bar\"}],                        {\"template\":{\"data\":{\"bar\":[{\"error_x\":{\"color\":\"#2a3f5f\"},\"error_y\":{\"color\":\"#2a3f5f\"},\"marker\":{\"line\":{\"color\":\"#E5ECF6\",\"width\":0.5},\"pattern\":{\"fillmode\":\"overlay\",\"size\":10,\"solidity\":0.2}},\"type\":\"bar\"}],\"barpolar\":[{\"marker\":{\"line\":{\"color\":\"#E5ECF6\",\"width\":0.5},\"pattern\":{\"fillmode\":\"overlay\",\"size\":10,\"solidity\":0.2}},\"type\":\"barpolar\"}],\"carpet\":[{\"aaxis\":{\"endlinecolor\":\"#2a3f5f\",\"gridcolor\":\"white\",\"linecolor\":\"white\",\"minorgridcolor\":\"white\",\"startlinecolor\":\"#2a3f5f\"},\"baxis\":{\"endlinecolor\":\"#2a3f5f\",\"gridcolor\":\"white\",\"linecolor\":\"white\",\"minorgridcolor\":\"white\",\"startlinecolor\":\"#2a3f5f\"},\"type\":\"carpet\"}],\"choropleth\":[{\"colorbar\":{\"outlinewidth\":0,\"ticks\":\"\"},\"type\":\"choropleth\"}],\"contour\":[{\"colorbar\":{\"outlinewidth\":0,\"ticks\":\"\"},\"colorscale\":[[0.0,\"#0d0887\"],[0.1111111111111111,\"#46039f\"],[0.2222222222222222,\"#7201a8\"],[0.3333333333333333,\"#9c179e\"],[0.4444444444444444,\"#bd3786\"],[0.5555555555555556,\"#d8576b\"],[0.6666666666666666,\"#ed7953\"],[0.7777777777777778,\"#fb9f3a\"],[0.8888888888888888,\"#fdca26\"],[1.0,\"#f0f921\"]],\"type\":\"contour\"}],\"contourcarpet\":[{\"colorbar\":{\"outlinewidth\":0,\"ticks\":\"\"},\"type\":\"contourcarpet\"}],\"heatmap\":[{\"colorbar\":{\"outlinewidth\":0,\"ticks\":\"\"},\"colorscale\":[[0.0,\"#0d0887\"],[0.1111111111111111,\"#46039f\"],[0.2222222222222222,\"#7201a8\"],[0.3333333333333333,\"#9c179e\"],[0.4444444444444444,\"#bd3786\"],[0.5555555555555556,\"#d8576b\"],[0.6666666666666666,\"#ed7953\"],[0.7777777777777778,\"#fb9f3a\"],[0.8888888888888888,\"#fdca26\"],[1.0,\"#f0f921\"]],\"type\":\"heatmap\"}],\"heatmapgl\":[{\"colorbar\":{\"outlinewidth\":0,\"ticks\":\"\"},\"colorscale\":[[0.0,\"#0d0887\"],[0.1111111111111111,\"#46039f\"],[0.2222222222222222,\"#7201a8\"],[0.3333333333333333,\"#9c179e\"],[0.4444444444444444,\"#bd3786\"],[0.5555555555555556,\"#d8576b\"],[0.6666666666666666,\"#ed7953\"],[0.7777777777777778,\"#fb9f3a\"],[0.8888888888888888,\"#fdca26\"],[1.0,\"#f0f921\"]],\"type\":\"heatmapgl\"}],\"histogram\":[{\"marker\":{\"pattern\":{\"fillmode\":\"overlay\",\"size\":10,\"solidity\":0.2}},\"type\":\"histogram\"}],\"histogram2d\":[{\"colorbar\":{\"outlinewidth\":0,\"ticks\":\"\"},\"colorscale\":[[0.0,\"#0d0887\"],[0.1111111111111111,\"#46039f\"],[0.2222222222222222,\"#7201a8\"],[0.3333333333333333,\"#9c179e\"],[0.4444444444444444,\"#bd3786\"],[0.5555555555555556,\"#d8576b\"],[0.6666666666666666,\"#ed7953\"],[0.7777777777777778,\"#fb9f3a\"],[0.8888888888888888,\"#fdca26\"],[1.0,\"#f0f921\"]],\"type\":\"histogram2d\"}],\"histogram2dcontour\":[{\"colorbar\":{\"outlinewidth\":0,\"ticks\":\"\"},\"colorscale\":[[0.0,\"#0d0887\"],[0.1111111111111111,\"#46039f\"],[0.2222222222222222,\"#7201a8\"],[0.3333333333333333,\"#9c179e\"],[0.4444444444444444,\"#bd3786\"],[0.5555555555555556,\"#d8576b\"],[0.6666666666666666,\"#ed7953\"],[0.7777777777777778,\"#fb9f3a\"],[0.8888888888888888,\"#fdca26\"],[1.0,\"#f0f921\"]],\"type\":\"histogram2dcontour\"}],\"mesh3d\":[{\"colorbar\":{\"outlinewidth\":0,\"ticks\":\"\"},\"type\":\"mesh3d\"}],\"parcoords\":[{\"line\":{\"colorbar\":{\"outlinewidth\":0,\"ticks\":\"\"}},\"type\":\"parcoords\"}],\"pie\":[{\"automargin\":true,\"type\":\"pie\"}],\"scatter\":[{\"marker\":{\"colorbar\":{\"outlinewidth\":0,\"ticks\":\"\"}},\"type\":\"scatter\"}],\"scatter3d\":[{\"line\":{\"colorbar\":{\"outlinewidth\":0,\"ticks\":\"\"}},\"marker\":{\"colorbar\":{\"outlinewidth\":0,\"ticks\":\"\"}},\"type\":\"scatter3d\"}],\"scattercarpet\":[{\"marker\":{\"colorbar\":{\"outlinewidth\":0,\"ticks\":\"\"}},\"type\":\"scattercarpet\"}],\"scattergeo\":[{\"marker\":{\"colorbar\":{\"outlinewidth\":0,\"ticks\":\"\"}},\"type\":\"scattergeo\"}],\"scattergl\":[{\"marker\":{\"colorbar\":{\"outlinewidth\":0,\"ticks\":\"\"}},\"type\":\"scattergl\"}],\"scattermapbox\":[{\"marker\":{\"colorbar\":{\"outlinewidth\":0,\"ticks\":\"\"}},\"type\":\"scattermapbox\"}],\"scatterpolar\":[{\"marker\":{\"colorbar\":{\"outlinewidth\":0,\"ticks\":\"\"}},\"type\":\"scatterpolar\"}],\"scatterpolargl\":[{\"marker\":{\"colorbar\":{\"outlinewidth\":0,\"ticks\":\"\"}},\"type\":\"scatterpolargl\"}],\"scatterternary\":[{\"marker\":{\"colorbar\":{\"outlinewidth\":0,\"ticks\":\"\"}},\"type\":\"scatterternary\"}],\"surface\":[{\"colorbar\":{\"outlinewidth\":0,\"ticks\":\"\"},\"colorscale\":[[0.0,\"#0d0887\"],[0.1111111111111111,\"#46039f\"],[0.2222222222222222,\"#7201a8\"],[0.3333333333333333,\"#9c179e\"],[0.4444444444444444,\"#bd3786\"],[0.5555555555555556,\"#d8576b\"],[0.6666666666666666,\"#ed7953\"],[0.7777777777777778,\"#fb9f3a\"],[0.8888888888888888,\"#fdca26\"],[1.0,\"#f0f921\"]],\"type\":\"surface\"}],\"table\":[{\"cells\":{\"fill\":{\"color\":\"#EBF0F8\"},\"line\":{\"color\":\"white\"}},\"header\":{\"fill\":{\"color\":\"#C8D4E3\"},\"line\":{\"color\":\"white\"}},\"type\":\"table\"}]},\"layout\":{\"annotationdefaults\":{\"arrowcolor\":\"#2a3f5f\",\"arrowhead\":0,\"arrowwidth\":1},\"autotypenumbers\":\"strict\",\"coloraxis\":{\"colorbar\":{\"outlinewidth\":0,\"ticks\":\"\"}},\"colorscale\":{\"diverging\":[[0,\"#8e0152\"],[0.1,\"#c51b7d\"],[0.2,\"#de77ae\"],[0.3,\"#f1b6da\"],[0.4,\"#fde0ef\"],[0.5,\"#f7f7f7\"],[0.6,\"#e6f5d0\"],[0.7,\"#b8e186\"],[0.8,\"#7fbc41\"],[0.9,\"#4d9221\"],[1,\"#276419\"]],\"sequential\":[[0.0,\"#0d0887\"],[0.1111111111111111,\"#46039f\"],[0.2222222222222222,\"#7201a8\"],[0.3333333333333333,\"#9c179e\"],[0.4444444444444444,\"#bd3786\"],[0.5555555555555556,\"#d8576b\"],[0.6666666666666666,\"#ed7953\"],[0.7777777777777778,\"#fb9f3a\"],[0.8888888888888888,\"#fdca26\"],[1.0,\"#f0f921\"]],\"sequentialminus\":[[0.0,\"#0d0887\"],[0.1111111111111111,\"#46039f\"],[0.2222222222222222,\"#7201a8\"],[0.3333333333333333,\"#9c179e\"],[0.4444444444444444,\"#bd3786\"],[0.5555555555555556,\"#d8576b\"],[0.6666666666666666,\"#ed7953\"],[0.7777777777777778,\"#fb9f3a\"],[0.8888888888888888,\"#fdca26\"],[1.0,\"#f0f921\"]]},\"colorway\":[\"#636efa\",\"#EF553B\",\"#00cc96\",\"#ab63fa\",\"#FFA15A\",\"#19d3f3\",\"#FF6692\",\"#B6E880\",\"#FF97FF\",\"#FECB52\"],\"font\":{\"color\":\"#2a3f5f\"},\"geo\":{\"bgcolor\":\"white\",\"lakecolor\":\"white\",\"landcolor\":\"#E5ECF6\",\"showlakes\":true,\"showland\":true,\"subunitcolor\":\"white\"},\"hoverlabel\":{\"align\":\"left\"},\"hovermode\":\"closest\",\"mapbox\":{\"style\":\"light\"},\"paper_bgcolor\":\"white\",\"plot_bgcolor\":\"#E5ECF6\",\"polar\":{\"angularaxis\":{\"gridcolor\":\"white\",\"linecolor\":\"white\",\"ticks\":\"\"},\"bgcolor\":\"#E5ECF6\",\"radialaxis\":{\"gridcolor\":\"white\",\"linecolor\":\"white\",\"ticks\":\"\"}},\"scene\":{\"xaxis\":{\"backgroundcolor\":\"#E5ECF6\",\"gridcolor\":\"white\",\"gridwidth\":2,\"linecolor\":\"white\",\"showbackground\":true,\"ticks\":\"\",\"zerolinecolor\":\"white\"},\"yaxis\":{\"backgroundcolor\":\"#E5ECF6\",\"gridcolor\":\"white\",\"gridwidth\":2,\"linecolor\":\"white\",\"showbackground\":true,\"ticks\":\"\",\"zerolinecolor\":\"white\"},\"zaxis\":{\"backgroundcolor\":\"#E5ECF6\",\"gridcolor\":\"white\",\"gridwidth\":2,\"linecolor\":\"white\",\"showbackground\":true,\"ticks\":\"\",\"zerolinecolor\":\"white\"}},\"shapedefaults\":{\"line\":{\"color\":\"#2a3f5f\"}},\"ternary\":{\"aaxis\":{\"gridcolor\":\"white\",\"linecolor\":\"white\",\"ticks\":\"\"},\"baxis\":{\"gridcolor\":\"white\",\"linecolor\":\"white\",\"ticks\":\"\"},\"bgcolor\":\"#E5ECF6\",\"caxis\":{\"gridcolor\":\"white\",\"linecolor\":\"white\",\"ticks\":\"\"}},\"title\":{\"x\":0.05},\"xaxis\":{\"automargin\":true,\"gridcolor\":\"white\",\"linecolor\":\"white\",\"ticks\":\"\",\"title\":{\"standoff\":15},\"zerolinecolor\":\"white\",\"zerolinewidth\":2},\"yaxis\":{\"automargin\":true,\"gridcolor\":\"white\",\"linecolor\":\"white\",\"ticks\":\"\",\"title\":{\"standoff\":15},\"zerolinecolor\":\"white\",\"zerolinewidth\":2}}},\"xaxis\":{\"anchor\":\"y\",\"domain\":[0.0,1.0],\"title\":{\"text\":\"Full Name\"}},\"yaxis\":{\"anchor\":\"x\",\"domain\":[0.0,1.0],\"title\":{\"text\":\"GoalsToCaps\"}},\"legend\":{\"tracegroupgap\":0},\"title\":{\"text\":\"Goals To Caps Ratio\"},\"barmode\":\"relative\"},                        {\"responsive\": true}                    ).then(function(){\n",
       "                            \n",
       "var gd = document.getElementById('074cde7c-5d63-429d-a386-b9fd00267b31');\n",
       "var x = new MutationObserver(function (mutations, observer) {{\n",
       "        var display = window.getComputedStyle(gd).display;\n",
       "        if (!display || display === 'none') {{\n",
       "            console.log([gd, 'removed!']);\n",
       "            Plotly.purge(gd);\n",
       "            observer.disconnect();\n",
       "        }}\n",
       "}});\n",
       "\n",
       "// Listen for the removal of the full notebook cells\n",
       "var notebookContainer = gd.closest('#notebook-container');\n",
       "if (notebookContainer) {{\n",
       "    x.observe(notebookContainer, {childList: true});\n",
       "}}\n",
       "\n",
       "// Listen for the clearing of the current output cell\n",
       "var outputEl = gd.closest('.output');\n",
       "if (outputEl) {{\n",
       "    x.observe(outputEl, {childList: true});\n",
       "}}\n",
       "\n",
       "                        })                };                });            </script>        </div>"
      ]
     },
     "metadata": {},
     "output_type": "display_data"
    }
   ],
   "source": [
    "# International goals to caps ratio\n",
    "data[\"GoalsToCaps\"] = ( data[\"International Goals\"] / data[\"International Caps\"])\n",
    "fig_plt_capsgoals = px.bar(data.loc[data[\"International Goals\"] >= quantiles[9], :].sort_values(\"GoalsToCaps\"), x=\"Full Name\", y=\"GoalsToCaps\", hover_name=\"Full Name\", hover_data=[\"Age\",\"Position\", \"Nationality\", \"International Caps\", \"International Goals\", \"Club\", \"League\",\"GoalsToCaps\"], title=\"Goals To Caps Ratio\")\n",
    "fig_plt_capsgoals.show()"
   ]
  },
  {
   "cell_type": "markdown",
   "id": "72dae1da",
   "metadata": {},
   "source": [
    "Neymar of Brazil, Sardar Azmoun of Iran, Aleksander Mitrovic of Serbia, Romelu Lukaku of Belgium and Harry Kane of England score more often for their national teams than Cristiano Ronaldo."
   ]
  },
  {
   "cell_type": "markdown",
   "id": "590d7c66",
   "metadata": {},
   "source": [
    "## Football Leagues Representation"
   ]
  },
  {
   "cell_type": "code",
   "execution_count": 13,
   "id": "6e9a1a51",
   "metadata": {},
   "outputs": [
    {
     "data": {
      "text/html": [
       "<div>\n",
       "<style scoped>\n",
       "    .dataframe tbody tr th:only-of-type {\n",
       "        vertical-align: middle;\n",
       "    }\n",
       "\n",
       "    .dataframe tbody tr th {\n",
       "        vertical-align: top;\n",
       "    }\n",
       "\n",
       "    .dataframe thead th {\n",
       "        text-align: right;\n",
       "    }\n",
       "</style>\n",
       "<table border=\"1\" class=\"dataframe\">\n",
       "  <thead>\n",
       "    <tr style=\"text-align: right;\">\n",
       "      <th></th>\n",
       "      <th>Club Name</th>\n",
       "      <th>Representation</th>\n",
       "      <th>League</th>\n",
       "      <th>League Country</th>\n",
       "    </tr>\n",
       "  </thead>\n",
       "  <tbody>\n",
       "    <tr>\n",
       "      <th>0</th>\n",
       "      <td>Cádiz</td>\n",
       "      <td>1</td>\n",
       "      <td>Spanish Primera Division</td>\n",
       "      <td>Spain</td>\n",
       "    </tr>\n",
       "    <tr>\n",
       "      <th>213</th>\n",
       "      <td>Omonia</td>\n",
       "      <td>1</td>\n",
       "      <td>Cypriot First Division</td>\n",
       "      <td>Cyprus</td>\n",
       "    </tr>\n",
       "    <tr>\n",
       "      <th>211</th>\n",
       "      <td>Coton Sport</td>\n",
       "      <td>1</td>\n",
       "      <td>Cameroon Premeir League</td>\n",
       "      <td>Cameroon</td>\n",
       "    </tr>\n",
       "    <tr>\n",
       "      <th>208</th>\n",
       "      <td>Daegu FC</td>\n",
       "      <td>1</td>\n",
       "      <td>Korean K League 1</td>\n",
       "      <td>South Korea</td>\n",
       "    </tr>\n",
       "    <tr>\n",
       "      <th>207</th>\n",
       "      <td>Osijek</td>\n",
       "      <td>1</td>\n",
       "      <td>Croatia Premeir League</td>\n",
       "      <td>Croatia</td>\n",
       "    </tr>\n",
       "  </tbody>\n",
       "</table>\n",
       "</div>"
      ],
      "text/plain": [
       "       Club Name  Representation                    League League Country\n",
       "0          Cádiz               1  Spanish Primera Division          Spain\n",
       "213       Omonia               1    Cypriot First Division         Cyprus\n",
       "211  Coton Sport               1   Cameroon Premeir League       Cameroon\n",
       "208     Daegu FC               1         Korean K League 1    South Korea\n",
       "207       Osijek               1    Croatia Premeir League        Croatia"
      ]
     },
     "execution_count": 13,
     "metadata": {},
     "output_type": "execute_result"
    }
   ],
   "source": [
    "football_clubs = list(set(data[\"Club\"]))\n",
    "# print(football_clubs)\n",
    "club_count = []\n",
    "club_country = []\n",
    "leagues = []\n",
    "for football_club in football_clubs:\n",
    "    d = data.loc[data[\"Club\"] == football_club, :]\n",
    "    league = d.iloc[0][\"League\"]\n",
    "    leagues.append(league)\n",
    "    league_country = d.iloc[0][\"Club Country\"]\n",
    "    club_country.append(league_country)\n",
    "    count = 0\n",
    "    for index in data.index:\n",
    "        if data[\"Club\"][index] == football_club:\n",
    "            count += 1\n",
    "    club_count.append(count)\n",
    "# print(len(football_clubs))\n",
    "# print(len(club_count)\n",
    "# print(len(club_country))\n",
    "club_rep_df = pd.DataFrame(list(zip(football_clubs, club_count, leagues, club_country)), columns=[\"Club Name\", \"Representation\", \"League\", \"League Country\"])\n",
    "club_rep_df = club_rep_df.sort_values(\"Representation\")\n",
    "club_rep_df.head()"
   ]
  },
  {
   "cell_type": "code",
   "execution_count": 14,
   "id": "9ff7b432",
   "metadata": {},
   "outputs": [
    {
     "data": {
      "application/vnd.plotly.v1+json": {
       "config": {
        "plotlyServerURL": "https://plot.ly"
       },
       "data": [
        {
         "alignmentgroup": "True",
         "customdata": [
          [
           "Spanish Primera Division",
           "Spain"
          ],
          [
           "Cypriot First Division",
           "Cyprus"
          ],
          [
           "Cameroon Premeir League",
           "Cameroon"
          ],
          [
           "Korean K League 1",
           "South Korea"
          ],
          [
           "Croatia Premeir League",
           "Croatia"
          ],
          [
           "USA Major League Soccer",
           "United States"
          ],
          [
           "Scotland Premeir League",
           "Scotland"
          ],
          [
           "German 2. Bundesliga",
           "Germany"
          ],
          [
           "Argentina Premeir League",
           "Argentina"
          ],
          [
           "Italian Serie B",
           "Italy"
          ],
          [
           "USA Major League Soccer",
           "United States"
          ],
          [
           "J2 League",
           "Japan"
          ],
          [
           "United States Premeir League",
           "United States"
          ],
          [
           "German 1. Bundesliga",
           "Germany"
          ],
          [
           "Qatar Premeir League",
           "Qatar"
          ],
          [
           "Japanese J. League Division 1",
           "Japan"
          ],
          [
           "Costa Rica Premeir League",
           "Costa Rica"
          ],
          [
           "Turkey Premeir League",
           "Turkey"
          ],
          [
           "USA Major League Soccer",
           "United States"
          ],
          [
           "Ecuadorian Serie A",
           "Ecuador"
          ],
          [
           "Egypt Premeir League",
           "Egypt"
          ],
          [
           "Italy Premeir League",
           "Italy"
          ],
          [
           "Egypt Premeir League",
           "Egypt"
          ],
          [
           "Russia Premeir League",
           "Russia"
          ],
          [
           "Portugal Premeir League",
           "Portugal"
          ],
          [
           "Tunisia Premeir League",
           "Tunisia"
          ],
          [
           "Argentina Primera División",
           "Argentina"
          ],
          [
           "Japanese J. League Division 1",
           "Japan"
          ],
          [
           "Greek Super League",
           "Greece"
          ],
          [
           "Argentina Primera División",
           "Argentina"
          ],
          [
           "Hungary Premeir League",
           "Hungary"
          ],
          [
           "Russia Premeir League",
           "Russia"
          ],
          [
           "USA Major League Soccer",
           "United States"
          ],
          [
           "Ghana Premeir League",
           "Ghana"
          ],
          [
           "Belgium Premeir League",
           "Belgium"
          ],
          [
           "USA Major League Soccer",
           "United States"
          ],
          [
           "Costa Rica Premeir League",
           "Costa Rica"
          ],
          [
           "France Premeir League",
           "France"
          ],
          [
           "Mexican Liga MX",
           "Mexico"
          ],
          [
           "English League Championship",
           "England"
          ],
          [
           "Turkish Süper Lig",
           "Turkey"
          ],
          [
           "English Premier League",
           "England"
          ],
          [
           "Turkish Süper Lig",
           "Turkey"
          ],
          [
           "United States Premeir League",
           "United States"
          ],
          [
           "USA Major League Soccer",
           "United States"
          ],
          [
           "France Premeir League",
           "France"
          ],
          [
           "Tunisia Premeir League",
           "Tunisia"
          ],
          [
           "Italian Seria A",
           "Italy"
          ],
          [
           "German 1. Bundesliga",
           "Germany"
          ],
          [
           "German 2. Bundesliga",
           "Germany"
          ],
          [
           "USA Major League Soccer",
           "United States"
          ],
          [
           "Italy Premeir League",
           "Italy"
          ],
          [
           "Germany Premeir League",
           "Germany"
          ],
          [
           "Belgium Premeir League",
           "Belgium"
          ],
          [
           "Ecuadorian Serie A",
           "Ecuador"
          ],
          [
           "Spain Primera Division",
           "Spain"
          ],
          [
           "Spain Premeir League",
           "Spain"
          ],
          [
           "Japanese J. League Division 1",
           "Japan"
          ],
          [
           "French Ligue 2",
           "France"
          ],
          [
           "Qatar Stars League",
           "Qatar"
          ],
          [
           "Japanese J. League Division 1",
           "Japan"
          ],
          [
           "Costa Rica Premeir League",
           "Costa Rica"
          ],
          [
           "Polish T-Mobile Ekstraklasa",
           "Poland"
          ],
          [
           "German 2. Bundesliga",
           "Germany"
          ],
          [
           "Turkey Premeir League",
           "Turkey"
          ],
          [
           "Belgium Premeir League",
           "Belgium"
          ],
          [
           "France Premeir League",
           "France"
          ],
          [
           "Ecuadorian Serie A",
           "Ecuador"
          ],
          [
           "Switzerland Premeir League",
           "Switzerland"
          ],
          [
           "USA Major League Soccer",
           "United States"
          ],
          [
           "Australian Hyundai A-League",
           "Australia"
          ],
          [
           "Switzerland Premeir League",
           "Switzerland"
          ],
          [
           "Greece Premeir League",
           "Greece"
          ],
          [
           "Scotland Premeir League",
           "Scotland"
          ],
          [
           "Italy Premeir League",
           "Italy"
          ],
          [
           "English League One",
           "England"
          ],
          [
           "USA Major League Soccer",
           "Canada"
          ],
          [
           "USA Major League Soccer",
           "United States"
          ],
          [
           "Belgian Jupiler Pro League",
           "Belgium"
          ],
          [
           "Cypriot First Division",
           "Cyprus"
          ],
          [
           "Italian Serie A",
           "Italy"
          ],
          [
           "Japanese J. League Division 1",
           "Japan"
          ],
          [
           "Danish Superliga",
           "Denmark"
          ],
          [
           "Cameroon Premeir League",
           "Cameroon"
          ],
          [
           "Spain Primera Division",
           "Spain"
          ],
          [
           "English League Two",
           "England"
          ],
          [
           "USA Major League Soccer",
           "United States"
          ],
          [
           "English League One",
           "England"
          ],
          [
           "South Korea Premeir League",
           "South Korea"
          ],
          [
           "Tunisian Ligue Professionnelle 1",
           "Tunisia"
          ],
          [
           "J2 League",
           "Japan"
          ],
          [
           "Liga Pro Serie B",
           "Ecuador"
          ],
          [
           "Croatian Prva HNL",
           "Croatia"
          ],
          [
           "Ghana Premeir League",
           "Ghana"
          ],
          [
           "Scottish Premiership",
           "Scotland"
          ],
          [
           "Greece Premeir League",
           "Greece"
          ],
          [
           "South Korea Premeir League",
           "South Korea"
          ],
          [
           "Campeonato Brasileiro Série A",
           "Brazil"
          ],
          [
           "English Premier League",
           "England"
          ],
          [
           "Holland Eredivisie",
           "Netherlands"
          ],
          [
           "France Premeir League",
           "France"
          ],
          [
           "Argentina Primera División",
           "Argentina"
          ],
          [
           "Costa Rica Premeir League",
           "Costa Rica"
          ],
          [
           "Saudi Abdul L. Jameel League",
           "Saudi Arabia"
          ],
          [
           "Greece Premeir League",
           "Greece"
          ],
          [
           "Germany Premeir League",
           "Germany"
          ],
          [
           "English League Championship",
           "England"
          ],
          [
           "USA Major League Soccer",
           "United States"
          ],
          [
           "Saudi Arabia Premeir League",
           "Saudi Arabia"
          ],
          [
           "English League Championship",
           "England"
          ],
          [
           "Spain Primera Division",
           "Spain"
          ],
          [
           "France Premeir League",
           "France"
          ],
          [
           "USA Major League Soccer",
           "United States"
          ],
          [
           "Costa Rica Premeir League",
           "Costa Rica"
          ],
          [
           "Spain Premeir League",
           "Spain"
          ],
          [
           "Mexico Premeir League",
           "Mexico"
          ],
          [
           "Spain Premeir League",
           "Spain"
          ],
          [
           "UAE Pro League",
           "United Arab Emirates"
          ],
          [
           "English League One",
           "England"
          ],
          [
           "Belgium Premeir League",
           "Belgium"
          ],
          [
           "Campeonato Brasileiro Série A",
           "Brazil"
          ],
          [
           "USA Major League Soccer",
           "United States"
          ],
          [
           "German 1. Bundesliga",
           "Germany"
          ],
          [
           "Spanish Segunda División",
           "Spain"
          ],
          [
           "Australian Hyundai A-League",
           "Australia"
          ],
          [
           "Colombia Premeir League",
           "Colombia"
          ],
          [
           "Polish T-Mobile Ekstraklasa",
           "Poland"
          ],
          [
           "Chinese Super League",
           "China"
          ],
          [
           "Brazil Premeir League",
           "Brazil"
          ],
          [
           "Japanese J. League Division 1",
           "Japan"
          ],
          [
           "Belgian Jupiler Pro League",
           "Belgium"
          ],
          [
           "France Premeir League",
           "France"
          ],
          [
           "English League Championship",
           "England"
          ],
          [
           "Belgium Premeir League",
           "Belgium"
          ],
          [
           "Belgium Premeir League",
           "Belgium"
          ],
          [
           "Saudi Arabia Premeir League",
           "Saudi Arabia"
          ],
          [
           "China Premeir League",
           "China"
          ],
          [
           "France Premeir League",
           "France"
          ],
          [
           "Belgian Jupiler Pro League",
           "Denmark"
          ],
          [
           "French Ligue 1",
           "France"
          ],
          [
           "Saudi Abdul L. Jameel League",
           "Saudi Arabia"
          ],
          [
           "Saudi Arabia Premeir League",
           "Saudi Arabia"
          ],
          [
           "Tunisia Premeir League",
           "Tunisia"
          ],
          [
           "Turkish Süper Lig",
           "Turkey"
          ],
          [
           "Danish Superliga",
           "Denmark"
          ],
          [
           "English Premier League",
           "England"
          ],
          [
           "France Premeir League",
           "France"
          ],
          [
           "German 1. Bundesliga",
           "Germany"
          ],
          [
           "English League Championship",
           "England"
          ],
          [
           "Switzerland Premeir League",
           "Switzerland"
          ],
          [
           "French Ligue 1",
           "France"
          ],
          [
           "Turkish Süper Liga",
           "Turkey"
          ],
          [
           "USA Major League Soccer",
           "United States"
          ],
          [
           "Italian Serie A",
           "Italy"
          ],
          [
           "France Premeir League",
           "France"
          ],
          [
           "Polish T-Mobile Ekstraklasa",
           "Poland"
          ],
          [
           "English Premier League",
           "England"
          ],
          [
           "English League Championship",
           "Wales"
          ],
          [
           "Saudi Abdul L. Jameel League",
           "Saudi Arabia"
          ],
          [
           "Argentina Primera División",
           "Argentina"
          ],
          [
           "Qatar Stars League",
           "Qatar"
          ],
          [
           "Italian Serie A",
           "Italy"
          ],
          [
           "English League Championship",
           "England"
          ],
          [
           "Japanese J. League Division 1",
           "Japan"
          ],
          [
           "Mexican Liga MX",
           "Mexico"
          ],
          [
           "French Ligue 1",
           "France"
          ],
          [
           "Kuwait Premeir League",
           "Kuwait"
          ],
          [
           "Qatar Stars League",
           "Qatar"
          ],
          [
           "English Premier League",
           "England"
          ],
          [
           "English League Championship",
           "England"
          ],
          [
           "Spain Premeir League",
           "Spain"
          ],
          [
           "Switzerland Premeir League",
           "Switzerland"
          ],
          [
           "France Premeir League",
           "France"
          ],
          [
           "Spain Primera Division",
           "Spain"
          ],
          [
           "Spanish Segunda División",
           "Spain"
          ],
          [
           "Mexican Liga MX",
           "Mexico"
          ],
          [
           "English League Championship",
           "England"
          ],
          [
           "Scottish Premiership",
           "Scotland"
          ],
          [
           "Spain Premeir League",
           "Spain"
          ],
          [
           "Portugal Premeir League",
           "Portugal"
          ],
          [
           "Korean K League 1",
           "South Korea"
          ],
          [
           "Turkish Süper Lig",
           "Turkey"
          ],
          [
           "Saudi Abdul L. Jameel League",
           "Saudi Arabia"
          ],
          [
           "English League Championship",
           "England"
          ],
          [
           "Italian Serie A",
           "Italy"
          ],
          [
           "Persian Gulf Pro League",
           "Iran"
          ],
          [
           "English League One",
           "England"
          ],
          [
           "French Ligue 1",
           "France"
          ],
          [
           "Qatar Stars League",
           "Qatar"
          ],
          [
           "German 1. Bundesliga",
           "Germany"
          ],
          [
           "French Ligue 1",
           "France"
          ],
          [
           "Spain Premeir League",
           "Spain"
          ],
          [
           "Tunisia Premeir League",
           "Tunisia"
          ],
          [
           "Persian Gulf Pro League",
           "Iran"
          ],
          [
           "Qatar Stars League",
           "Qatar"
          ],
          [
           "Switzerland Premeir League",
           "Switzerland"
          ],
          [
           "Mexican Liga MX",
           "Mexico"
          ],
          [
           "Uruguay Premeir League",
           "Uruguay"
          ],
          [
           "USA Major League Soccer",
           "Canada"
          ],
          [
           "English League Championship",
           "England"
          ],
          [
           "Spain Primera Division",
           "Spain"
          ],
          [
           "German 1. Bundesliga",
           "Germany"
          ],
          [
           "Belgian Jupiler Pro League",
           "Belgium"
          ],
          [
           "English Premier League",
           "England"
          ],
          [
           "French Ligue 1",
           "France"
          ],
          [
           "German 1. Bundesliga",
           "Germany"
          ],
          [
           "Morocco Premeir League",
           "Morocco"
          ],
          [
           "Italian Serie A",
           "Italy"
          ],
          [
           "Serbia Premeir League",
           "Serbia"
          ],
          [
           "Danish Superliga",
           "Denmark"
          ],
          [
           "Australian Hyundai A-League",
           "Australia"
          ],
          [
           "Scottish Premiership",
           "Scotland"
          ],
          [
           "Belgian Jupiler Pro League",
           "Belgium"
          ],
          [
           "Holland Eredivisie",
           "Netherlands"
          ],
          [
           "Mexican Liga MX",
           "Mexico"
          ],
          [
           "Belgian Jupiler Pro League",
           "Belgium"
          ],
          [
           "South Korea Premeir League",
           "South Korea"
          ],
          [
           "Mexican Liga MX",
           "Mexico"
          ],
          [
           "Italian Serie A",
           "Italy"
          ],
          [
           "Mexican Liga MX",
           "Mexico"
          ],
          [
           "English League Championship",
           "Wales"
          ],
          [
           "Germany Premeir League",
           "Germany"
          ],
          [
           "German 1. Bundesliga",
           "Germany"
          ],
          [
           "Costa Rica Premeir League",
           "Costa Rica"
          ],
          [
           "Australian Hyundai A-League",
           "Australia"
          ],
          [
           "Costa Rica Premeir League",
           "Costa Rica"
          ],
          [
           "Italian Serie A",
           "Italy"
          ],
          [
           "Spain Primera Division",
           "Spain"
          ],
          [
           "English Premier League",
           "England"
          ],
          [
           "Turkish Süper Lig",
           "Turkey"
          ],
          [
           "Italian Serie A",
           "Italy"
          ],
          [
           "Italian Serie A",
           "Italy"
          ],
          [
           "German 1. Bundesliga",
           "Germany"
          ],
          [
           "Italian Serie A",
           "Italy"
          ],
          [
           "Campeonato Brasileiro Série A",
           "Brazil"
          ],
          [
           "Scottish Premiership",
           "Scotland"
          ],
          [
           "Super League Greece",
           "Greece"
          ],
          [
           "Portuguese Liga ZON SAGRES",
           "Portugal"
          ],
          [
           "Austria Premeir League",
           "Austria"
          ],
          [
           "Persian Gulf Pro League",
           "Iran"
          ],
          [
           "USA Major League Soccer",
           "United States"
          ],
          [
           "English Premier League",
           "England"
          ],
          [
           "Holland Eredivisie",
           "Netherlands"
          ],
          [
           "UAE Pro League",
           "Saudi Arabia"
          ],
          [
           "English League Championship",
           "England"
          ],
          [
           "Spain Primera Division",
           "Spain"
          ],
          [
           "English Premier League",
           "England"
          ],
          [
           "English Premier League",
           "England"
          ],
          [
           "French Ligue 1",
           "France"
          ],
          [
           "Spain Primera Division",
           "Spain"
          ],
          [
           "English Premier League",
           "England"
          ],
          [
           "German 1. Bundesliga",
           "Germany"
          ],
          [
           "Greek Super League",
           "Greece"
          ],
          [
           "Croatian Prva HNL",
           "Croatia"
          ],
          [
           "Italian Serie A",
           "Italy"
          ],
          [
           "USA Major League Soccer",
           "United States"
          ],
          [
           "Turkish Süper Lig",
           "Turkey"
          ],
          [
           "Mexican Liga MX",
           "Mexico"
          ],
          [
           "Italian Serie A",
           "Italy"
          ],
          [
           "Italian Serie A",
           "Italy"
          ],
          [
           "English League Championship",
           "England"
          ],
          [
           "Canada Premeir League",
           "Canada"
          ],
          [
           "French Ligue 1",
           "France"
          ],
          [
           "German 1. Bundesliga",
           "Germany"
          ],
          [
           "Costa Rica Premeir League",
           "Costa Rica"
          ],
          [
           "Portuguese Liga ZON SAGRES",
           "Portugal"
          ],
          [
           "Korean K League 1",
           "South Korea"
          ],
          [
           "Portuguese Liga ZON SAGRES",
           "Portugal"
          ],
          [
           "English Premier League",
           "England"
          ],
          [
           "German 1. Bundesliga",
           "Germany"
          ],
          [
           "German 1. Bundesliga",
           "Germany"
          ],
          [
           "Saudi Abdul L. Jameel League",
           "Saudi Arabia"
          ],
          [
           "English Premier League",
           "England"
          ],
          [
           "English Premier League",
           "England"
          ],
          [
           "Qatar Stars League",
           "Qatar"
          ],
          [
           "Italian Serie A",
           "Italy"
          ],
          [
           "Belgian Jupiler Pro League",
           "Belgium"
          ],
          [
           "French Ligue 1",
           "France"
          ],
          [
           "English Premier League",
           "England"
          ],
          [
           "Spain Primera Division",
           "Spain"
          ],
          [
           "English Premier League",
           "England"
          ],
          [
           "Italian Serie A",
           "Italy"
          ],
          [
           "German 1. Bundesliga",
           "Germany"
          ],
          [
           "Holland Eredivisie",
           "Netherlands"
          ],
          [
           "English Premier League",
           "England"
          ],
          [
           "French Ligue 1",
           "France"
          ],
          [
           "English Premier League",
           "England"
          ],
          [
           "Saudi Abdul L. Jameel League",
           "Saudi Arabia"
          ],
          [
           "Spain Primera Division",
           "Spain"
          ],
          [
           "Spain Primera Division",
           "Spain"
          ],
          [
           "English Premier League",
           "England"
          ],
          [
           "Qatar Stars League",
           "Qatar"
          ],
          [
           "English Premier League",
           "England"
          ],
          [
           "German 1. Bundesliga",
           "Germany"
          ],
          [
           "Spain Primera Division",
           "Spain"
          ]
         ],
         "hovertemplate": "Club Name=%{x}<br>Representation=%{y}<br>League=%{customdata[0]}<br>League Country=%{customdata[1]}<extra></extra>",
         "legendgroup": "",
         "marker": {
          "color": "#636efa",
          "pattern": {
           "shape": ""
          }
         },
         "name": "",
         "offsetgroup": "",
         "orientation": "v",
         "showlegend": false,
         "textposition": "auto",
         "type": "bar",
         "x": [
          "Cádiz",
          "Omonia",
          "Coton Sport",
          "Daegu FC",
          "Osijek",
          "New York Red Bulls",
          "Rangers",
          "Fortuna Düsseldorf",
          "Independiente",
          "Benevento",
          "LA Galaxy",
          "Fagiano Okayama",
          "Orlando City SC",
          "1. FC Köln",
          "Qatar SC",
          "Nagoya Grampus",
          "Municipal Grecia",
          "Hatayspor",
          "FC Cincinnati",
          "LDU Quito",
          "Zamalek",
          "Bari",
          "Al Ahly",
          "Dynamo Moscow",
          "Chaves",
          "US Monastir",
          "Vélez Sarsfield",
          "FC Tokyo",
          "PAOK",
          "Newell's Old Boys",
          "Ferencváros",
          "Zenit Saint Petersburg",
          "Charlotte FC",
          "Hearts of Oak",
          "Sint-Truiden",
          "Minnesota United FC",
          "Guanacasteca",
          "Brest",
          "Juárez",
          "Stoke City",
          "Alanyaspor",
          "Watford",
          "Antalyaspor",
          "Chicago Fire FC",
          "Houston Dynamo FC",
          "Caen",
          "CS Sfaxien",
          "Brescia",
          "Hertha BSC",
          "FC St. Pauli",
          "Columbus Crew",
          "Udinese",
          "Schalke 04",
          "Gent",
          "Independiente del Valle",
          "Espanyol",
          "Lugo",
          "Shonan Bellmare",
          "Amiens",
          "Al-Wakrah",
          "Gamba Osaka",
          "San Carlos",
          "Pogoń Szczecin",
          "Hannover 96",
          "Konyaspor",
          "Mechelen",
          "Auxerre",
          "Aucas",
          "Lugano",
          "Real Salt Lake",
          "Adelaide United",
          "St. Gallen",
          "Aris",
          "St Johnstone",
          "Sassuolo",
          "Milton Keynes Dons",
          "Vancouver Whitecaps FC",
          "Philadelphia Union",
          "Cercle Brugge",
          "Pafos",
          "Cremonese",
          "Urawa Red Diamonds",
          "Vejle",
          "Colombe Sportive",
          "Real Sociedad",
          "Swindon Town",
          "Inter Miami CF",
          "Portsmouth",
          "Gimcheon Sangmu",
          "Étoile du Sahel",
          "Albirex Niigata",
          "Imbabura",
          "Hajduk Split",
          "Asante Kotoko",
          "St Mirren",
          "Panetolikos",
          "Daejeon Hana Citizen",
          "Palmeiras",
          "Norwich City",
          "Heerenveen",
          "Lorient",
          "Talleres",
          "Cartaginés",
          "Al-Fateh",
          "Atromitos",
          "VfL Bochum",
          "Huddersfield Town",
          "Atlanta United FC",
          "Al-Ettifaq",
          "Bristol City",
          "Rayo Vallecano",
          "Reims",
          "New York City FC",
          "Puntarenas",
          "Leganés",
          "UNAM",
          "Almería",
          "Shabab Al-Ahli",
          "AFC Wimbledon",
          "Deinze",
          "São Paulo",
          "FC Dallas",
          "Union Berlin",
          "Ponferradina",
          "Sydney FC",
          "Millonarios",
          "Lech Poznań",
          "Shandong Taishan",
          "Athletico Paranaense",
          "Shimizu S-Pulse",
          "Charleroi",
          "Nantes",
          "Middlesbrough",
          "Standard Liège",
          "Eupen",
          "Al-Tai",
          "Shanghai Shenhua",
          "Toulouse",
          "OB",
          "Lyon",
          "Al-Ittihad",
          "Al-Wehda",
          "Club Africain",
          "Trabzonspor",
          "Brøndby",
          "Crystal Palace",
          "Angers",
          "Werder Bremen",
          "Bournemouth",
          "Basel",
          "Troyes",
          "Kayserispor",
          "Nashville SC",
          "Lazio",
          "Strasbourg",
          "Legia Warsaw",
          "Burnley",
          "Cardiff City",
          "Abha",
          "River Plate",
          "Al-Rayyan",
          "Bologna",
          "Luton Town",
          "Kawasaki Frontale",
          "Santos Laguna",
          "Clermont",
          "Kuwait SC",
          "Al-Arabi",
          "Southampton",
          "Birmingham City",
          "Getafe",
          "Luzern",
          "Montpellier",
          "Celta Vigo",
          "Valladolid",
          "Guadalajara",
          "Queens Park Rangers",
          "Dundee United",
          "Mallorca",
          "Braga",
          "FC Seoul",
          "Fenerbahçe",
          "Al-Ahli",
          "Sheffield United",
          "Spezia",
          "Sepahan",
          "Sunderland",
          "Nice",
          "Al-Ahli Doha",
          "1899 Hoffenheim",
          "Lille",
          "Osasuna",
          "Espérance de Tunis",
          "Esteghlal",
          "Al-Gharafa",
          "Young Boys",
          "Pachuca",
          "Nacional",
          "Toronto FC",
          "Reading",
          "Athletic Bilbao",
          "VfL Wolfsburg",
          "Anderlecht",
          "Leeds United",
          "Lens",
          "VfB Stuttgart",
          "Wydad AC",
          "Sampdoria",
          "Red Star Belgrade",
          "Copenhagen",
          "Central Coast Mariners",
          "Heart of Midlothian",
          "Antwerp",
          "Feyenoord",
          "América",
          "Genk",
          "Ulsan Hyundai",
          "Cruz Azul",
          "Salernitana",
          "León",
          "Swansea City",
          "Mainz 05",
          "FC Augsburg",
          "Saprissa",
          "Melbourne City",
          "Alajuelense",
          "Roma",
          "Valencia",
          "Aston Villa",
          "Beşiktaş",
          "Atalanta",
          "Fiorentina",
          "Bayer Leverkusen",
          "Hellas Verona",
          "Flamengo",
          "Celtic",
          "Olympiacos",
          "Sporting CP",
          "Red Bull Salzburg",
          "Persepolis",
          "Seattle Sounders FC",
          "Everton",
          "PSV Eindhoven",
          "Al-Shabab",
          "Nottingham Forest",
          "Real Betis",
          "West Ham United",
          "Wolverhampton Wanderers",
          "Marseille",
          "Villarreal",
          "Newcastle United",
          "SC Freiburg",
          "AEK Athens",
          "Dinamo Zagreb",
          "Torino",
          "Los Angeles FC",
          "Galatasaray",
          "Monterrey",
          "Napoli",
          "Internazionale",
          "Fulham",
          "CF Montréal",
          "Monaco",
          "Borussia Mönchengladbach",
          "Herediano",
          "Porto",
          "Jeonbuk Hyundai Motors",
          "Benfica",
          "Brentford",
          "RB Leipzig",
          "Eintracht Frankfurt",
          "Al-Nassr",
          "Liverpool",
          "Leicester City",
          "Al-Duhail",
          "Milan",
          "Club Brugge",
          "Rennes",
          "Brighton & Hove Albion",
          "Sevilla",
          "Arsenal",
          "Juventus",
          "Borussia Dortmund",
          "Ajax",
          "Tottenham Hotspur",
          "Paris Saint-Germain",
          "Chelsea",
          "Al-Hilal",
          "Atlético Madrid",
          "Real Madrid",
          "Manchester United",
          "Al-Sadd",
          "Manchester City",
          "Bayern Munich",
          "Barcelona"
         ],
         "xaxis": "x",
         "y": [
          1,
          1,
          1,
          1,
          1,
          1,
          1,
          1,
          1,
          1,
          1,
          1,
          1,
          1,
          1,
          1,
          1,
          1,
          1,
          1,
          1,
          1,
          1,
          1,
          1,
          1,
          1,
          1,
          1,
          1,
          1,
          1,
          1,
          1,
          1,
          1,
          1,
          1,
          1,
          1,
          1,
          1,
          1,
          1,
          1,
          1,
          1,
          1,
          1,
          1,
          1,
          1,
          1,
          1,
          1,
          1,
          1,
          1,
          1,
          1,
          1,
          1,
          1,
          1,
          1,
          1,
          1,
          1,
          1,
          1,
          1,
          1,
          1,
          1,
          1,
          1,
          1,
          1,
          1,
          1,
          1,
          1,
          1,
          1,
          1,
          1,
          1,
          1,
          1,
          1,
          1,
          1,
          1,
          1,
          1,
          1,
          1,
          1,
          1,
          1,
          1,
          1,
          1,
          1,
          1,
          1,
          1,
          1,
          1,
          1,
          1,
          1,
          1,
          1,
          1,
          1,
          1,
          1,
          1,
          1,
          1,
          1,
          1,
          1,
          1,
          1,
          1,
          1,
          1,
          1,
          1,
          1,
          1,
          1,
          1,
          1,
          1,
          1,
          2,
          2,
          2,
          2,
          2,
          2,
          2,
          2,
          2,
          2,
          2,
          2,
          2,
          2,
          2,
          2,
          2,
          2,
          2,
          2,
          2,
          2,
          2,
          2,
          2,
          2,
          2,
          2,
          2,
          2,
          2,
          2,
          2,
          2,
          2,
          2,
          2,
          2,
          2,
          2,
          2,
          2,
          2,
          2,
          2,
          2,
          2,
          2,
          2,
          2,
          2,
          2,
          2,
          2,
          3,
          3,
          3,
          3,
          3,
          3,
          3,
          3,
          3,
          3,
          3,
          3,
          3,
          3,
          3,
          3,
          3,
          3,
          3,
          3,
          3,
          3,
          3,
          3,
          3,
          3,
          3,
          3,
          3,
          3,
          3,
          3,
          3,
          3,
          4,
          4,
          4,
          4,
          4,
          4,
          4,
          4,
          4,
          4,
          4,
          4,
          4,
          4,
          4,
          4,
          4,
          5,
          5,
          5,
          5,
          5,
          5,
          5,
          5,
          5,
          5,
          5,
          5,
          5,
          5,
          5,
          5,
          6,
          6,
          6,
          6,
          6,
          6,
          6,
          6,
          6,
          6,
          7,
          7,
          7,
          7,
          7,
          7,
          7,
          8,
          8,
          8,
          10,
          10,
          11,
          11,
          11,
          11,
          11,
          12,
          12,
          12,
          13,
          14,
          15,
          16,
          16,
          17
         ],
         "yaxis": "y"
        }
       ],
       "layout": {
        "barmode": "relative",
        "legend": {
         "tracegroupgap": 0
        },
        "template": {
         "data": {
          "bar": [
           {
            "error_x": {
             "color": "#2a3f5f"
            },
            "error_y": {
             "color": "#2a3f5f"
            },
            "marker": {
             "line": {
              "color": "#E5ECF6",
              "width": 0.5
             },
             "pattern": {
              "fillmode": "overlay",
              "size": 10,
              "solidity": 0.2
             }
            },
            "type": "bar"
           }
          ],
          "barpolar": [
           {
            "marker": {
             "line": {
              "color": "#E5ECF6",
              "width": 0.5
             },
             "pattern": {
              "fillmode": "overlay",
              "size": 10,
              "solidity": 0.2
             }
            },
            "type": "barpolar"
           }
          ],
          "carpet": [
           {
            "aaxis": {
             "endlinecolor": "#2a3f5f",
             "gridcolor": "white",
             "linecolor": "white",
             "minorgridcolor": "white",
             "startlinecolor": "#2a3f5f"
            },
            "baxis": {
             "endlinecolor": "#2a3f5f",
             "gridcolor": "white",
             "linecolor": "white",
             "minorgridcolor": "white",
             "startlinecolor": "#2a3f5f"
            },
            "type": "carpet"
           }
          ],
          "choropleth": [
           {
            "colorbar": {
             "outlinewidth": 0,
             "ticks": ""
            },
            "type": "choropleth"
           }
          ],
          "contour": [
           {
            "colorbar": {
             "outlinewidth": 0,
             "ticks": ""
            },
            "colorscale": [
             [
              0,
              "#0d0887"
             ],
             [
              0.1111111111111111,
              "#46039f"
             ],
             [
              0.2222222222222222,
              "#7201a8"
             ],
             [
              0.3333333333333333,
              "#9c179e"
             ],
             [
              0.4444444444444444,
              "#bd3786"
             ],
             [
              0.5555555555555556,
              "#d8576b"
             ],
             [
              0.6666666666666666,
              "#ed7953"
             ],
             [
              0.7777777777777778,
              "#fb9f3a"
             ],
             [
              0.8888888888888888,
              "#fdca26"
             ],
             [
              1,
              "#f0f921"
             ]
            ],
            "type": "contour"
           }
          ],
          "contourcarpet": [
           {
            "colorbar": {
             "outlinewidth": 0,
             "ticks": ""
            },
            "type": "contourcarpet"
           }
          ],
          "heatmap": [
           {
            "colorbar": {
             "outlinewidth": 0,
             "ticks": ""
            },
            "colorscale": [
             [
              0,
              "#0d0887"
             ],
             [
              0.1111111111111111,
              "#46039f"
             ],
             [
              0.2222222222222222,
              "#7201a8"
             ],
             [
              0.3333333333333333,
              "#9c179e"
             ],
             [
              0.4444444444444444,
              "#bd3786"
             ],
             [
              0.5555555555555556,
              "#d8576b"
             ],
             [
              0.6666666666666666,
              "#ed7953"
             ],
             [
              0.7777777777777778,
              "#fb9f3a"
             ],
             [
              0.8888888888888888,
              "#fdca26"
             ],
             [
              1,
              "#f0f921"
             ]
            ],
            "type": "heatmap"
           }
          ],
          "heatmapgl": [
           {
            "colorbar": {
             "outlinewidth": 0,
             "ticks": ""
            },
            "colorscale": [
             [
              0,
              "#0d0887"
             ],
             [
              0.1111111111111111,
              "#46039f"
             ],
             [
              0.2222222222222222,
              "#7201a8"
             ],
             [
              0.3333333333333333,
              "#9c179e"
             ],
             [
              0.4444444444444444,
              "#bd3786"
             ],
             [
              0.5555555555555556,
              "#d8576b"
             ],
             [
              0.6666666666666666,
              "#ed7953"
             ],
             [
              0.7777777777777778,
              "#fb9f3a"
             ],
             [
              0.8888888888888888,
              "#fdca26"
             ],
             [
              1,
              "#f0f921"
             ]
            ],
            "type": "heatmapgl"
           }
          ],
          "histogram": [
           {
            "marker": {
             "pattern": {
              "fillmode": "overlay",
              "size": 10,
              "solidity": 0.2
             }
            },
            "type": "histogram"
           }
          ],
          "histogram2d": [
           {
            "colorbar": {
             "outlinewidth": 0,
             "ticks": ""
            },
            "colorscale": [
             [
              0,
              "#0d0887"
             ],
             [
              0.1111111111111111,
              "#46039f"
             ],
             [
              0.2222222222222222,
              "#7201a8"
             ],
             [
              0.3333333333333333,
              "#9c179e"
             ],
             [
              0.4444444444444444,
              "#bd3786"
             ],
             [
              0.5555555555555556,
              "#d8576b"
             ],
             [
              0.6666666666666666,
              "#ed7953"
             ],
             [
              0.7777777777777778,
              "#fb9f3a"
             ],
             [
              0.8888888888888888,
              "#fdca26"
             ],
             [
              1,
              "#f0f921"
             ]
            ],
            "type": "histogram2d"
           }
          ],
          "histogram2dcontour": [
           {
            "colorbar": {
             "outlinewidth": 0,
             "ticks": ""
            },
            "colorscale": [
             [
              0,
              "#0d0887"
             ],
             [
              0.1111111111111111,
              "#46039f"
             ],
             [
              0.2222222222222222,
              "#7201a8"
             ],
             [
              0.3333333333333333,
              "#9c179e"
             ],
             [
              0.4444444444444444,
              "#bd3786"
             ],
             [
              0.5555555555555556,
              "#d8576b"
             ],
             [
              0.6666666666666666,
              "#ed7953"
             ],
             [
              0.7777777777777778,
              "#fb9f3a"
             ],
             [
              0.8888888888888888,
              "#fdca26"
             ],
             [
              1,
              "#f0f921"
             ]
            ],
            "type": "histogram2dcontour"
           }
          ],
          "mesh3d": [
           {
            "colorbar": {
             "outlinewidth": 0,
             "ticks": ""
            },
            "type": "mesh3d"
           }
          ],
          "parcoords": [
           {
            "line": {
             "colorbar": {
              "outlinewidth": 0,
              "ticks": ""
             }
            },
            "type": "parcoords"
           }
          ],
          "pie": [
           {
            "automargin": true,
            "type": "pie"
           }
          ],
          "scatter": [
           {
            "marker": {
             "colorbar": {
              "outlinewidth": 0,
              "ticks": ""
             }
            },
            "type": "scatter"
           }
          ],
          "scatter3d": [
           {
            "line": {
             "colorbar": {
              "outlinewidth": 0,
              "ticks": ""
             }
            },
            "marker": {
             "colorbar": {
              "outlinewidth": 0,
              "ticks": ""
             }
            },
            "type": "scatter3d"
           }
          ],
          "scattercarpet": [
           {
            "marker": {
             "colorbar": {
              "outlinewidth": 0,
              "ticks": ""
             }
            },
            "type": "scattercarpet"
           }
          ],
          "scattergeo": [
           {
            "marker": {
             "colorbar": {
              "outlinewidth": 0,
              "ticks": ""
             }
            },
            "type": "scattergeo"
           }
          ],
          "scattergl": [
           {
            "marker": {
             "colorbar": {
              "outlinewidth": 0,
              "ticks": ""
             }
            },
            "type": "scattergl"
           }
          ],
          "scattermapbox": [
           {
            "marker": {
             "colorbar": {
              "outlinewidth": 0,
              "ticks": ""
             }
            },
            "type": "scattermapbox"
           }
          ],
          "scatterpolar": [
           {
            "marker": {
             "colorbar": {
              "outlinewidth": 0,
              "ticks": ""
             }
            },
            "type": "scatterpolar"
           }
          ],
          "scatterpolargl": [
           {
            "marker": {
             "colorbar": {
              "outlinewidth": 0,
              "ticks": ""
             }
            },
            "type": "scatterpolargl"
           }
          ],
          "scatterternary": [
           {
            "marker": {
             "colorbar": {
              "outlinewidth": 0,
              "ticks": ""
             }
            },
            "type": "scatterternary"
           }
          ],
          "surface": [
           {
            "colorbar": {
             "outlinewidth": 0,
             "ticks": ""
            },
            "colorscale": [
             [
              0,
              "#0d0887"
             ],
             [
              0.1111111111111111,
              "#46039f"
             ],
             [
              0.2222222222222222,
              "#7201a8"
             ],
             [
              0.3333333333333333,
              "#9c179e"
             ],
             [
              0.4444444444444444,
              "#bd3786"
             ],
             [
              0.5555555555555556,
              "#d8576b"
             ],
             [
              0.6666666666666666,
              "#ed7953"
             ],
             [
              0.7777777777777778,
              "#fb9f3a"
             ],
             [
              0.8888888888888888,
              "#fdca26"
             ],
             [
              1,
              "#f0f921"
             ]
            ],
            "type": "surface"
           }
          ],
          "table": [
           {
            "cells": {
             "fill": {
              "color": "#EBF0F8"
             },
             "line": {
              "color": "white"
             }
            },
            "header": {
             "fill": {
              "color": "#C8D4E3"
             },
             "line": {
              "color": "white"
             }
            },
            "type": "table"
           }
          ]
         },
         "layout": {
          "annotationdefaults": {
           "arrowcolor": "#2a3f5f",
           "arrowhead": 0,
           "arrowwidth": 1
          },
          "autotypenumbers": "strict",
          "coloraxis": {
           "colorbar": {
            "outlinewidth": 0,
            "ticks": ""
           }
          },
          "colorscale": {
           "diverging": [
            [
             0,
             "#8e0152"
            ],
            [
             0.1,
             "#c51b7d"
            ],
            [
             0.2,
             "#de77ae"
            ],
            [
             0.3,
             "#f1b6da"
            ],
            [
             0.4,
             "#fde0ef"
            ],
            [
             0.5,
             "#f7f7f7"
            ],
            [
             0.6,
             "#e6f5d0"
            ],
            [
             0.7,
             "#b8e186"
            ],
            [
             0.8,
             "#7fbc41"
            ],
            [
             0.9,
             "#4d9221"
            ],
            [
             1,
             "#276419"
            ]
           ],
           "sequential": [
            [
             0,
             "#0d0887"
            ],
            [
             0.1111111111111111,
             "#46039f"
            ],
            [
             0.2222222222222222,
             "#7201a8"
            ],
            [
             0.3333333333333333,
             "#9c179e"
            ],
            [
             0.4444444444444444,
             "#bd3786"
            ],
            [
             0.5555555555555556,
             "#d8576b"
            ],
            [
             0.6666666666666666,
             "#ed7953"
            ],
            [
             0.7777777777777778,
             "#fb9f3a"
            ],
            [
             0.8888888888888888,
             "#fdca26"
            ],
            [
             1,
             "#f0f921"
            ]
           ],
           "sequentialminus": [
            [
             0,
             "#0d0887"
            ],
            [
             0.1111111111111111,
             "#46039f"
            ],
            [
             0.2222222222222222,
             "#7201a8"
            ],
            [
             0.3333333333333333,
             "#9c179e"
            ],
            [
             0.4444444444444444,
             "#bd3786"
            ],
            [
             0.5555555555555556,
             "#d8576b"
            ],
            [
             0.6666666666666666,
             "#ed7953"
            ],
            [
             0.7777777777777778,
             "#fb9f3a"
            ],
            [
             0.8888888888888888,
             "#fdca26"
            ],
            [
             1,
             "#f0f921"
            ]
           ]
          },
          "colorway": [
           "#636efa",
           "#EF553B",
           "#00cc96",
           "#ab63fa",
           "#FFA15A",
           "#19d3f3",
           "#FF6692",
           "#B6E880",
           "#FF97FF",
           "#FECB52"
          ],
          "font": {
           "color": "#2a3f5f"
          },
          "geo": {
           "bgcolor": "white",
           "lakecolor": "white",
           "landcolor": "#E5ECF6",
           "showlakes": true,
           "showland": true,
           "subunitcolor": "white"
          },
          "hoverlabel": {
           "align": "left"
          },
          "hovermode": "closest",
          "mapbox": {
           "style": "light"
          },
          "paper_bgcolor": "white",
          "plot_bgcolor": "#E5ECF6",
          "polar": {
           "angularaxis": {
            "gridcolor": "white",
            "linecolor": "white",
            "ticks": ""
           },
           "bgcolor": "#E5ECF6",
           "radialaxis": {
            "gridcolor": "white",
            "linecolor": "white",
            "ticks": ""
           }
          },
          "scene": {
           "xaxis": {
            "backgroundcolor": "#E5ECF6",
            "gridcolor": "white",
            "gridwidth": 2,
            "linecolor": "white",
            "showbackground": true,
            "ticks": "",
            "zerolinecolor": "white"
           },
           "yaxis": {
            "backgroundcolor": "#E5ECF6",
            "gridcolor": "white",
            "gridwidth": 2,
            "linecolor": "white",
            "showbackground": true,
            "ticks": "",
            "zerolinecolor": "white"
           },
           "zaxis": {
            "backgroundcolor": "#E5ECF6",
            "gridcolor": "white",
            "gridwidth": 2,
            "linecolor": "white",
            "showbackground": true,
            "ticks": "",
            "zerolinecolor": "white"
           }
          },
          "shapedefaults": {
           "line": {
            "color": "#2a3f5f"
           }
          },
          "ternary": {
           "aaxis": {
            "gridcolor": "white",
            "linecolor": "white",
            "ticks": ""
           },
           "baxis": {
            "gridcolor": "white",
            "linecolor": "white",
            "ticks": ""
           },
           "bgcolor": "#E5ECF6",
           "caxis": {
            "gridcolor": "white",
            "linecolor": "white",
            "ticks": ""
           }
          },
          "title": {
           "x": 0.05
          },
          "xaxis": {
           "automargin": true,
           "gridcolor": "white",
           "linecolor": "white",
           "ticks": "",
           "title": {
            "standoff": 15
           },
           "zerolinecolor": "white",
           "zerolinewidth": 2
          },
          "yaxis": {
           "automargin": true,
           "gridcolor": "white",
           "linecolor": "white",
           "ticks": "",
           "title": {
            "standoff": 15
           },
           "zerolinecolor": "white",
           "zerolinewidth": 2
          }
         }
        },
        "title": {
         "text": "Football Clubs Representation"
        },
        "xaxis": {
         "anchor": "y",
         "domain": [
          0,
          1
         ],
         "title": {
          "text": "Club Name"
         }
        },
        "yaxis": {
         "anchor": "x",
         "domain": [
          0,
          1
         ],
         "title": {
          "text": "Representation"
         }
        }
       }
      },
      "text/html": [
       "<div>                            <div id=\"a5febebc-8d70-4771-afe5-ba756c683134\" class=\"plotly-graph-div\" style=\"height:525px; width:100%;\"></div>            <script type=\"text/javascript\">                require([\"plotly\"], function(Plotly) {                    window.PLOTLYENV=window.PLOTLYENV || {};                                    if (document.getElementById(\"a5febebc-8d70-4771-afe5-ba756c683134\")) {                    Plotly.newPlot(                        \"a5febebc-8d70-4771-afe5-ba756c683134\",                        [{\"alignmentgroup\":\"True\",\"customdata\":[[\"Spanish Primera Division\",\"Spain\"],[\"Cypriot First Division\",\"Cyprus\"],[\"Cameroon Premeir League\",\"Cameroon\"],[\"Korean K League 1\",\"South Korea\"],[\"Croatia Premeir League\",\"Croatia\"],[\"USA Major League Soccer\",\"United States\"],[\"Scotland Premeir League\",\"Scotland\"],[\"German 2. Bundesliga\",\"Germany\"],[\"Argentina Premeir League\",\"Argentina\"],[\"Italian Serie B\",\"Italy\"],[\"USA Major League Soccer\",\"United States\"],[\"J2 League\",\"Japan\"],[\"United States Premeir League\",\"United States\"],[\"German 1. Bundesliga\",\"Germany\"],[\"Qatar Premeir League\",\"Qatar\"],[\"Japanese J. League Division 1\",\"Japan\"],[\"Costa Rica Premeir League\",\"Costa Rica\"],[\"Turkey Premeir League\",\"Turkey\"],[\"USA Major League Soccer\",\"United States\"],[\"Ecuadorian Serie A\",\"Ecuador\"],[\"Egypt Premeir League\",\"Egypt\"],[\"Italy Premeir League\",\"Italy\"],[\"Egypt Premeir League\",\"Egypt\"],[\"Russia Premeir League\",\"Russia\"],[\"Portugal Premeir League\",\"Portugal\"],[\"Tunisia Premeir League\",\"Tunisia\"],[\"Argentina Primera Divisi\\u00f3n\",\"Argentina\"],[\"Japanese J. League Division 1\",\"Japan\"],[\"Greek Super League\",\"Greece\"],[\"Argentina Primera Divisi\\u00f3n\",\"Argentina\"],[\"Hungary Premeir League\",\"Hungary\"],[\"Russia Premeir League\",\"Russia\"],[\"USA Major League Soccer\",\"United States\"],[\"Ghana Premeir League\",\"Ghana\"],[\"Belgium Premeir League\",\"Belgium\"],[\"USA Major League Soccer\",\"United States\"],[\"Costa Rica Premeir League\",\"Costa Rica\"],[\"France Premeir League\",\"France\"],[\"Mexican Liga MX\",\"Mexico\"],[\"English League Championship\",\"England\"],[\"Turkish S\\u00fcper Lig\",\"Turkey\"],[\"English Premier League\",\"England\"],[\"Turkish S\\u00fcper Lig\",\"Turkey\"],[\"United States Premeir League\",\"United States\"],[\"USA Major League Soccer\",\"United States\"],[\"France Premeir League\",\"France\"],[\"Tunisia Premeir League\",\"Tunisia\"],[\"Italian Seria A\",\"Italy\"],[\"German 1. Bundesliga\",\"Germany\"],[\"German 2. Bundesliga\",\"Germany\"],[\"USA Major League Soccer\",\"United States\"],[\"Italy Premeir League\",\"Italy\"],[\"Germany Premeir League\",\"Germany\"],[\"Belgium Premeir League\",\"Belgium\"],[\"Ecuadorian Serie A\",\"Ecuador\"],[\"Spain Primera Division\",\"Spain\"],[\"Spain Premeir League\",\"Spain\"],[\"Japanese J. League Division 1\",\"Japan\"],[\"French Ligue 2\",\"France\"],[\"Qatar Stars League\",\"Qatar\"],[\"Japanese J. League Division 1\",\"Japan\"],[\"Costa Rica Premeir League\",\"Costa Rica\"],[\"Polish T-Mobile Ekstraklasa\",\"Poland\"],[\"German 2. Bundesliga\",\"Germany\"],[\"Turkey Premeir League\",\"Turkey\"],[\"Belgium Premeir League\",\"Belgium\"],[\"France Premeir League\",\"France\"],[\"Ecuadorian Serie A\",\"Ecuador\"],[\"Switzerland Premeir League\",\"Switzerland\"],[\"USA Major League Soccer\",\"United States\"],[\"Australian Hyundai A-League\",\"Australia\"],[\"Switzerland Premeir League\",\"Switzerland\"],[\"Greece Premeir League\",\"Greece\"],[\"Scotland Premeir League\",\"Scotland\"],[\"Italy Premeir League\",\"Italy\"],[\"English League One\",\"England\"],[\"USA Major League Soccer\",\"Canada\"],[\"USA Major League Soccer\",\"United States\"],[\"Belgian Jupiler Pro League\",\"Belgium\"],[\"Cypriot First Division\",\"Cyprus\"],[\"Italian Serie A\",\"Italy\"],[\"Japanese J. League Division 1\",\"Japan\"],[\"Danish Superliga\",\"Denmark\"],[\"Cameroon Premeir League\",\"Cameroon\"],[\"Spain Primera Division\",\"Spain\"],[\"English League Two\",\"England\"],[\"USA Major League Soccer\",\"United States\"],[\"English League One\",\"England\"],[\"South Korea Premeir League\",\"South Korea\"],[\"Tunisian Ligue Professionnelle 1\",\"Tunisia\"],[\"J2 League\",\"Japan\"],[\"Liga Pro Serie B\",\"Ecuador\"],[\"Croatian Prva HNL\",\"Croatia\"],[\"Ghana Premeir League\",\"Ghana\"],[\"Scottish Premiership\",\"Scotland\"],[\"Greece Premeir League\",\"Greece\"],[\"South Korea Premeir League\",\"South Korea\"],[\"Campeonato Brasileiro S\\u00e9rie A\",\"Brazil\"],[\"English Premier League\",\"England\"],[\"Holland Eredivisie\",\"Netherlands\"],[\"France Premeir League\",\"France\"],[\"Argentina Primera Divisi\\u00f3n\",\"Argentina\"],[\"Costa Rica Premeir League\",\"Costa Rica\"],[\"Saudi Abdul L. Jameel League\",\"Saudi Arabia\"],[\"Greece Premeir League\",\"Greece\"],[\"Germany Premeir League\",\"Germany\"],[\"English League Championship\",\"England\"],[\"USA Major League Soccer\",\"United States\"],[\"Saudi Arabia Premeir League\",\"Saudi Arabia\"],[\"English League Championship\",\"England\"],[\"Spain Primera Division\",\"Spain\"],[\"France Premeir League\",\"France\"],[\"USA Major League Soccer\",\"United States\"],[\"Costa Rica Premeir League\",\"Costa Rica\"],[\"Spain Premeir League\",\"Spain\"],[\"Mexico Premeir League\",\"Mexico\"],[\"Spain Premeir League\",\"Spain\"],[\"UAE Pro League\",\"United Arab Emirates\"],[\"English League One\",\"England\"],[\"Belgium Premeir League\",\"Belgium\"],[\"Campeonato Brasileiro S\\u00e9rie A\",\"Brazil\"],[\"USA Major League Soccer\",\"United States\"],[\"German 1. Bundesliga\",\"Germany\"],[\"Spanish Segunda Divisi\\u00f3n\",\"Spain\"],[\"Australian Hyundai A-League\",\"Australia\"],[\"Colombia Premeir League\",\"Colombia\"],[\"Polish T-Mobile Ekstraklasa\",\"Poland\"],[\"Chinese Super League\",\"China\"],[\"Brazil Premeir League\",\"Brazil\"],[\"Japanese J. League Division 1\",\"Japan\"],[\"Belgian Jupiler Pro League\",\"Belgium\"],[\"France Premeir League\",\"France\"],[\"English League Championship\",\"England\"],[\"Belgium Premeir League\",\"Belgium\"],[\"Belgium Premeir League\",\"Belgium\"],[\"Saudi Arabia Premeir League\",\"Saudi Arabia\"],[\"China Premeir League\",\"China\"],[\"France Premeir League\",\"France\"],[\"Belgian Jupiler Pro League\",\"Denmark\"],[\"French Ligue 1\",\"France\"],[\"Saudi Abdul L. Jameel League\",\"Saudi Arabia\"],[\"Saudi Arabia Premeir League\",\"Saudi Arabia\"],[\"Tunisia Premeir League\",\"Tunisia\"],[\"Turkish S\\u00fcper Lig\",\"Turkey\"],[\"Danish Superliga\",\"Denmark\"],[\"English Premier League\",\"England\"],[\"France Premeir League\",\"France\"],[\"German 1. Bundesliga\",\"Germany\"],[\"English League Championship\",\"England\"],[\"Switzerland Premeir League\",\"Switzerland\"],[\"French Ligue 1\",\"France\"],[\"Turkish S\\u00fcper Liga\",\"Turkey\"],[\"USA Major League Soccer\",\"United States\"],[\"Italian Serie A\",\"Italy\"],[\"France Premeir League\",\"France\"],[\"Polish T-Mobile Ekstraklasa\",\"Poland\"],[\"English Premier League\",\"England\"],[\"English League Championship\",\"Wales\"],[\"Saudi Abdul L. Jameel League\",\"Saudi Arabia\"],[\"Argentina Primera Divisi\\u00f3n\",\"Argentina\"],[\"Qatar Stars League\",\"Qatar\"],[\"Italian Serie A\",\"Italy\"],[\"English League Championship\",\"England\"],[\"Japanese J. League Division 1\",\"Japan\"],[\"Mexican Liga MX\",\"Mexico\"],[\"French Ligue 1\",\"France\"],[\"Kuwait Premeir League\",\"Kuwait\"],[\"Qatar Stars League\",\"Qatar\"],[\"English Premier League\",\"England\"],[\"English League Championship\",\"England\"],[\"Spain Premeir League\",\"Spain\"],[\"Switzerland Premeir League\",\"Switzerland\"],[\"France Premeir League\",\"France\"],[\"Spain Primera Division\",\"Spain\"],[\"Spanish Segunda Divisi\\u00f3n\",\"Spain\"],[\"Mexican Liga MX\",\"Mexico\"],[\"English League Championship\",\"England\"],[\"Scottish Premiership\",\"Scotland\"],[\"Spain Premeir League\",\"Spain\"],[\"Portugal Premeir League\",\"Portugal\"],[\"Korean K League 1\",\"South Korea\"],[\"Turkish S\\u00fcper Lig\",\"Turkey\"],[\"Saudi Abdul L. Jameel League\",\"Saudi Arabia\"],[\"English League Championship\",\"England\"],[\"Italian Serie A\",\"Italy\"],[\"Persian Gulf Pro League\",\"Iran\"],[\"English League One\",\"England\"],[\"French Ligue 1\",\"France\"],[\"Qatar Stars League\",\"Qatar\"],[\"German 1. Bundesliga\",\"Germany\"],[\"French Ligue 1\",\"France\"],[\"Spain Premeir League\",\"Spain\"],[\"Tunisia Premeir League\",\"Tunisia\"],[\"Persian Gulf Pro League\",\"Iran\"],[\"Qatar Stars League\",\"Qatar\"],[\"Switzerland Premeir League\",\"Switzerland\"],[\"Mexican Liga MX\",\"Mexico\"],[\"Uruguay Premeir League\",\"Uruguay\"],[\"USA Major League Soccer\",\"Canada\"],[\"English League Championship\",\"England\"],[\"Spain Primera Division\",\"Spain\"],[\"German 1. Bundesliga\",\"Germany\"],[\"Belgian Jupiler Pro League\",\"Belgium\"],[\"English Premier League\",\"England\"],[\"French Ligue 1\",\"France\"],[\"German 1. Bundesliga\",\"Germany\"],[\"Morocco Premeir League\",\"Morocco\"],[\"Italian Serie A\",\"Italy\"],[\"Serbia Premeir League\",\"Serbia\"],[\"Danish Superliga\",\"Denmark\"],[\"Australian Hyundai A-League\",\"Australia\"],[\"Scottish Premiership\",\"Scotland\"],[\"Belgian Jupiler Pro League\",\"Belgium\"],[\"Holland Eredivisie\",\"Netherlands\"],[\"Mexican Liga MX\",\"Mexico\"],[\"Belgian Jupiler Pro League\",\"Belgium\"],[\"South Korea Premeir League\",\"South Korea\"],[\"Mexican Liga MX\",\"Mexico\"],[\"Italian Serie A\",\"Italy\"],[\"Mexican Liga MX\",\"Mexico\"],[\"English League Championship\",\"Wales\"],[\"Germany Premeir League\",\"Germany\"],[\"German 1. Bundesliga\",\"Germany\"],[\"Costa Rica Premeir League\",\"Costa Rica\"],[\"Australian Hyundai A-League\",\"Australia\"],[\"Costa Rica Premeir League\",\"Costa Rica\"],[\"Italian Serie A\",\"Italy\"],[\"Spain Primera Division\",\"Spain\"],[\"English Premier League\",\"England\"],[\"Turkish S\\u00fcper Lig\",\"Turkey\"],[\"Italian Serie A\",\"Italy\"],[\"Italian Serie A\",\"Italy\"],[\"German 1. Bundesliga\",\"Germany\"],[\"Italian Serie A\",\"Italy\"],[\"Campeonato Brasileiro S\\u00e9rie A\",\"Brazil\"],[\"Scottish Premiership\",\"Scotland\"],[\"Super League Greece\",\"Greece\"],[\"Portuguese Liga ZON SAGRES\",\"Portugal\"],[\"Austria Premeir League\",\"Austria\"],[\"Persian Gulf Pro League\",\"Iran\"],[\"USA Major League Soccer\",\"United States\"],[\"English Premier League\",\"England\"],[\"Holland Eredivisie\",\"Netherlands\"],[\"UAE Pro League\",\"Saudi Arabia\"],[\"English League Championship\",\"England\"],[\"Spain Primera Division\",\"Spain\"],[\"English Premier League\",\"England\"],[\"English Premier League\",\"England\"],[\"French Ligue 1\",\"France\"],[\"Spain Primera Division\",\"Spain\"],[\"English Premier League\",\"England\"],[\"German 1. Bundesliga\",\"Germany\"],[\"Greek Super League\",\"Greece\"],[\"Croatian Prva HNL\",\"Croatia\"],[\"Italian Serie A\",\"Italy\"],[\"USA Major League Soccer\",\"United States\"],[\"Turkish S\\u00fcper Lig\",\"Turkey\"],[\"Mexican Liga MX\",\"Mexico\"],[\"Italian Serie A\",\"Italy\"],[\"Italian Serie A\",\"Italy\"],[\"English League Championship\",\"England\"],[\"Canada Premeir League\",\"Canada\"],[\"French Ligue 1\",\"France\"],[\"German 1. Bundesliga\",\"Germany\"],[\"Costa Rica Premeir League\",\"Costa Rica\"],[\"Portuguese Liga ZON SAGRES\",\"Portugal\"],[\"Korean K League 1\",\"South Korea\"],[\"Portuguese Liga ZON SAGRES\",\"Portugal\"],[\"English Premier League\",\"England\"],[\"German 1. Bundesliga\",\"Germany\"],[\"German 1. Bundesliga\",\"Germany\"],[\"Saudi Abdul L. Jameel League\",\"Saudi Arabia\"],[\"English Premier League\",\"England\"],[\"English Premier League\",\"England\"],[\"Qatar Stars League\",\"Qatar\"],[\"Italian Serie A\",\"Italy\"],[\"Belgian Jupiler Pro League\",\"Belgium\"],[\"French Ligue 1\",\"France\"],[\"English Premier League\",\"England\"],[\"Spain Primera Division\",\"Spain\"],[\"English Premier League\",\"England\"],[\"Italian Serie A\",\"Italy\"],[\"German 1. Bundesliga\",\"Germany\"],[\"Holland Eredivisie\",\"Netherlands\"],[\"English Premier League\",\"England\"],[\"French Ligue 1\",\"France\"],[\"English Premier League\",\"England\"],[\"Saudi Abdul L. Jameel League\",\"Saudi Arabia\"],[\"Spain Primera Division\",\"Spain\"],[\"Spain Primera Division\",\"Spain\"],[\"English Premier League\",\"England\"],[\"Qatar Stars League\",\"Qatar\"],[\"English Premier League\",\"England\"],[\"German 1. Bundesliga\",\"Germany\"],[\"Spain Primera Division\",\"Spain\"]],\"hovertemplate\":\"Club Name=%{x}<br>Representation=%{y}<br>League=%{customdata[0]}<br>League Country=%{customdata[1]}<extra></extra>\",\"legendgroup\":\"\",\"marker\":{\"color\":\"#636efa\",\"pattern\":{\"shape\":\"\"}},\"name\":\"\",\"offsetgroup\":\"\",\"orientation\":\"v\",\"showlegend\":false,\"textposition\":\"auto\",\"x\":[\"C\\u00e1diz\",\"Omonia\",\"Coton Sport\",\"Daegu FC\",\"Osijek\",\"New York Red Bulls\",\"Rangers\",\"Fortuna D\\u00fcsseldorf\",\"Independiente\",\"Benevento\",\"LA Galaxy\",\"Fagiano Okayama\",\"Orlando City SC\",\"1. FC K\\u00f6ln\",\"Qatar SC\",\"Nagoya Grampus\",\"Municipal Grecia\",\"Hatayspor\",\"FC Cincinnati\",\"LDU Quito\",\"Zamalek\",\"Bari\",\"Al Ahly\",\"Dynamo Moscow\",\"Chaves\",\"US Monastir\",\"V\\u00e9lez Sarsfield\",\"FC Tokyo\",\"PAOK\",\"Newell's Old Boys\",\"Ferencv\\u00e1ros\",\"Zenit Saint Petersburg\",\"Charlotte FC\",\"Hearts of Oak\",\"Sint-Truiden\",\"Minnesota United FC\",\"Guanacasteca\",\"Brest\",\"Ju\\u00e1rez\",\"Stoke City\",\"Alanyaspor\",\"Watford\",\"Antalyaspor\",\"Chicago Fire FC\",\"Houston Dynamo FC\",\"Caen\",\"CS Sfaxien\",\"Brescia\",\"Hertha BSC\",\"FC St. Pauli\",\"Columbus Crew\",\"Udinese\",\"Schalke 04\",\"Gent\",\"Independiente del Valle\",\"Espanyol\",\"Lugo\",\"Shonan Bellmare\",\"Amiens\",\"Al-Wakrah\",\"Gamba Osaka\",\"San Carlos\",\"Pogo\\u0144 Szczecin\",\"Hannover 96\",\"Konyaspor\",\"Mechelen\",\"Auxerre\",\"Aucas\",\"Lugano\",\"Real Salt Lake\",\"Adelaide United\",\"St. Gallen\",\"Aris\",\"St Johnstone\",\"Sassuolo\",\"Milton Keynes Dons\",\"Vancouver Whitecaps FC\",\"Philadelphia Union\",\"Cercle Brugge\",\"Pafos\",\"Cremonese\",\"Urawa Red Diamonds\",\"Vejle\",\"Colombe Sportive\",\"Real Sociedad\",\"Swindon Town\",\"Inter Miami CF\",\"Portsmouth\",\"Gimcheon Sangmu\",\"\\u00c9toile du Sahel\",\"Albirex Niigata\",\"Imbabura\",\"Hajduk Split\",\"Asante Kotoko\",\"St Mirren\",\"Panetolikos\",\"Daejeon Hana Citizen\",\"Palmeiras\",\"Norwich City\",\"Heerenveen\",\"Lorient\",\"Talleres\",\"Cartagin\\u00e9s\",\"Al-Fateh\",\"Atromitos\",\"VfL Bochum\",\"Huddersfield Town\",\"Atlanta United FC\",\"Al-Ettifaq\",\"Bristol City\",\"Rayo Vallecano\",\"Reims\",\"New York City FC\",\"Puntarenas\",\"Legan\\u00e9s\",\"UNAM\",\"Almer\\u00eda\",\"Shabab Al-Ahli\",\"AFC Wimbledon\",\"Deinze\",\"S\\u00e3o Paulo\",\"FC Dallas\",\"Union Berlin\",\"Ponferradina\",\"Sydney FC\",\"Millonarios\",\"Lech Pozna\\u0144\",\"Shandong Taishan\",\"Athletico Paranaense\",\"Shimizu S-Pulse\",\"Charleroi\",\"Nantes\",\"Middlesbrough\",\"Standard Li\\u00e8ge\",\"Eupen\",\"Al-Tai\",\"Shanghai Shenhua\",\"Toulouse\",\"OB\",\"Lyon\",\"Al-Ittihad\",\"Al-Wehda\",\"Club Africain\",\"Trabzonspor\",\"Br\\u00f8ndby\",\"Crystal Palace\",\"Angers\",\"Werder Bremen\",\"Bournemouth\",\"Basel\",\"Troyes\",\"Kayserispor\",\"Nashville SC\",\"Lazio\",\"Strasbourg\",\"Legia Warsaw\",\"Burnley\",\"Cardiff City\",\"Abha\",\"River Plate\",\"Al-Rayyan\",\"Bologna\",\"Luton Town\",\"Kawasaki Frontale\",\"Santos Laguna\",\"Clermont\",\"Kuwait SC\",\"Al-Arabi\",\"Southampton\",\"Birmingham City\",\"Getafe\",\"Luzern\",\"Montpellier\",\"Celta Vigo\",\"Valladolid\",\"Guadalajara\",\"Queens Park Rangers\",\"Dundee United\",\"Mallorca\",\"Braga\",\"FC Seoul\",\"Fenerbah\\u00e7e\",\"Al-Ahli\",\"Sheffield United\",\"Spezia\",\"Sepahan\",\"Sunderland\",\"Nice\",\"Al-Ahli Doha\",\"1899 Hoffenheim\",\"Lille\",\"Osasuna\",\"Esp\\u00e9rance de Tunis\",\"Esteghlal\",\"Al-Gharafa\",\"Young Boys\",\"Pachuca\",\"Nacional\",\"Toronto FC\",\"Reading\",\"Athletic Bilbao\",\"VfL Wolfsburg\",\"Anderlecht\",\"Leeds United\",\"Lens\",\"VfB Stuttgart\",\"Wydad AC\",\"Sampdoria\",\"Red Star Belgrade\",\"Copenhagen\",\"Central Coast Mariners\",\"Heart of Midlothian\",\"Antwerp\",\"Feyenoord\",\"Am\\u00e9rica\",\"Genk\",\"Ulsan Hyundai\",\"Cruz Azul\",\"Salernitana\",\"Le\\u00f3n\",\"Swansea City\",\"Mainz 05\",\"FC Augsburg\",\"Saprissa\",\"Melbourne City\",\"Alajuelense\",\"Roma\",\"Valencia\",\"Aston Villa\",\"Be\\u015fikta\\u015f\",\"Atalanta\",\"Fiorentina\",\"Bayer Leverkusen\",\"Hellas Verona\",\"Flamengo\",\"Celtic\",\"Olympiacos\",\"Sporting CP\",\"Red Bull Salzburg\",\"Persepolis\",\"Seattle Sounders FC\",\"Everton\",\"PSV Eindhoven\",\"Al-Shabab\",\"Nottingham Forest\",\"Real Betis\",\"West Ham United\",\"Wolverhampton Wanderers\",\"Marseille\",\"Villarreal\",\"Newcastle United\",\"SC Freiburg\",\"AEK Athens\",\"Dinamo Zagreb\",\"Torino\",\"Los Angeles FC\",\"Galatasaray\",\"Monterrey\",\"Napoli\",\"Internazionale\",\"Fulham\",\"CF Montr\\u00e9al\",\"Monaco\",\"Borussia M\\u00f6nchengladbach\",\"Herediano\",\"Porto\",\"Jeonbuk Hyundai Motors\",\"Benfica\",\"Brentford\",\"RB Leipzig\",\"Eintracht Frankfurt\",\"Al-Nassr\",\"Liverpool\",\"Leicester City\",\"Al-Duhail\",\"Milan\",\"Club Brugge\",\"Rennes\",\"Brighton & Hove Albion\",\"Sevilla\",\"Arsenal\",\"Juventus\",\"Borussia Dortmund\",\"Ajax\",\"Tottenham Hotspur\",\"Paris Saint-Germain\",\"Chelsea\",\"Al-Hilal\",\"Atl\\u00e9tico Madrid\",\"Real Madrid\",\"Manchester United\",\"Al-Sadd\",\"Manchester City\",\"Bayern Munich\",\"Barcelona\"],\"xaxis\":\"x\",\"y\":[1,1,1,1,1,1,1,1,1,1,1,1,1,1,1,1,1,1,1,1,1,1,1,1,1,1,1,1,1,1,1,1,1,1,1,1,1,1,1,1,1,1,1,1,1,1,1,1,1,1,1,1,1,1,1,1,1,1,1,1,1,1,1,1,1,1,1,1,1,1,1,1,1,1,1,1,1,1,1,1,1,1,1,1,1,1,1,1,1,1,1,1,1,1,1,1,1,1,1,1,1,1,1,1,1,1,1,1,1,1,1,1,1,1,1,1,1,1,1,1,1,1,1,1,1,1,1,1,1,1,1,1,1,1,1,1,1,1,2,2,2,2,2,2,2,2,2,2,2,2,2,2,2,2,2,2,2,2,2,2,2,2,2,2,2,2,2,2,2,2,2,2,2,2,2,2,2,2,2,2,2,2,2,2,2,2,2,2,2,2,2,2,3,3,3,3,3,3,3,3,3,3,3,3,3,3,3,3,3,3,3,3,3,3,3,3,3,3,3,3,3,3,3,3,3,3,4,4,4,4,4,4,4,4,4,4,4,4,4,4,4,4,4,5,5,5,5,5,5,5,5,5,5,5,5,5,5,5,5,6,6,6,6,6,6,6,6,6,6,7,7,7,7,7,7,7,8,8,8,10,10,11,11,11,11,11,12,12,12,13,14,15,16,16,17],\"yaxis\":\"y\",\"type\":\"bar\"}],                        {\"template\":{\"data\":{\"bar\":[{\"error_x\":{\"color\":\"#2a3f5f\"},\"error_y\":{\"color\":\"#2a3f5f\"},\"marker\":{\"line\":{\"color\":\"#E5ECF6\",\"width\":0.5},\"pattern\":{\"fillmode\":\"overlay\",\"size\":10,\"solidity\":0.2}},\"type\":\"bar\"}],\"barpolar\":[{\"marker\":{\"line\":{\"color\":\"#E5ECF6\",\"width\":0.5},\"pattern\":{\"fillmode\":\"overlay\",\"size\":10,\"solidity\":0.2}},\"type\":\"barpolar\"}],\"carpet\":[{\"aaxis\":{\"endlinecolor\":\"#2a3f5f\",\"gridcolor\":\"white\",\"linecolor\":\"white\",\"minorgridcolor\":\"white\",\"startlinecolor\":\"#2a3f5f\"},\"baxis\":{\"endlinecolor\":\"#2a3f5f\",\"gridcolor\":\"white\",\"linecolor\":\"white\",\"minorgridcolor\":\"white\",\"startlinecolor\":\"#2a3f5f\"},\"type\":\"carpet\"}],\"choropleth\":[{\"colorbar\":{\"outlinewidth\":0,\"ticks\":\"\"},\"type\":\"choropleth\"}],\"contour\":[{\"colorbar\":{\"outlinewidth\":0,\"ticks\":\"\"},\"colorscale\":[[0.0,\"#0d0887\"],[0.1111111111111111,\"#46039f\"],[0.2222222222222222,\"#7201a8\"],[0.3333333333333333,\"#9c179e\"],[0.4444444444444444,\"#bd3786\"],[0.5555555555555556,\"#d8576b\"],[0.6666666666666666,\"#ed7953\"],[0.7777777777777778,\"#fb9f3a\"],[0.8888888888888888,\"#fdca26\"],[1.0,\"#f0f921\"]],\"type\":\"contour\"}],\"contourcarpet\":[{\"colorbar\":{\"outlinewidth\":0,\"ticks\":\"\"},\"type\":\"contourcarpet\"}],\"heatmap\":[{\"colorbar\":{\"outlinewidth\":0,\"ticks\":\"\"},\"colorscale\":[[0.0,\"#0d0887\"],[0.1111111111111111,\"#46039f\"],[0.2222222222222222,\"#7201a8\"],[0.3333333333333333,\"#9c179e\"],[0.4444444444444444,\"#bd3786\"],[0.5555555555555556,\"#d8576b\"],[0.6666666666666666,\"#ed7953\"],[0.7777777777777778,\"#fb9f3a\"],[0.8888888888888888,\"#fdca26\"],[1.0,\"#f0f921\"]],\"type\":\"heatmap\"}],\"heatmapgl\":[{\"colorbar\":{\"outlinewidth\":0,\"ticks\":\"\"},\"colorscale\":[[0.0,\"#0d0887\"],[0.1111111111111111,\"#46039f\"],[0.2222222222222222,\"#7201a8\"],[0.3333333333333333,\"#9c179e\"],[0.4444444444444444,\"#bd3786\"],[0.5555555555555556,\"#d8576b\"],[0.6666666666666666,\"#ed7953\"],[0.7777777777777778,\"#fb9f3a\"],[0.8888888888888888,\"#fdca26\"],[1.0,\"#f0f921\"]],\"type\":\"heatmapgl\"}],\"histogram\":[{\"marker\":{\"pattern\":{\"fillmode\":\"overlay\",\"size\":10,\"solidity\":0.2}},\"type\":\"histogram\"}],\"histogram2d\":[{\"colorbar\":{\"outlinewidth\":0,\"ticks\":\"\"},\"colorscale\":[[0.0,\"#0d0887\"],[0.1111111111111111,\"#46039f\"],[0.2222222222222222,\"#7201a8\"],[0.3333333333333333,\"#9c179e\"],[0.4444444444444444,\"#bd3786\"],[0.5555555555555556,\"#d8576b\"],[0.6666666666666666,\"#ed7953\"],[0.7777777777777778,\"#fb9f3a\"],[0.8888888888888888,\"#fdca26\"],[1.0,\"#f0f921\"]],\"type\":\"histogram2d\"}],\"histogram2dcontour\":[{\"colorbar\":{\"outlinewidth\":0,\"ticks\":\"\"},\"colorscale\":[[0.0,\"#0d0887\"],[0.1111111111111111,\"#46039f\"],[0.2222222222222222,\"#7201a8\"],[0.3333333333333333,\"#9c179e\"],[0.4444444444444444,\"#bd3786\"],[0.5555555555555556,\"#d8576b\"],[0.6666666666666666,\"#ed7953\"],[0.7777777777777778,\"#fb9f3a\"],[0.8888888888888888,\"#fdca26\"],[1.0,\"#f0f921\"]],\"type\":\"histogram2dcontour\"}],\"mesh3d\":[{\"colorbar\":{\"outlinewidth\":0,\"ticks\":\"\"},\"type\":\"mesh3d\"}],\"parcoords\":[{\"line\":{\"colorbar\":{\"outlinewidth\":0,\"ticks\":\"\"}},\"type\":\"parcoords\"}],\"pie\":[{\"automargin\":true,\"type\":\"pie\"}],\"scatter\":[{\"marker\":{\"colorbar\":{\"outlinewidth\":0,\"ticks\":\"\"}},\"type\":\"scatter\"}],\"scatter3d\":[{\"line\":{\"colorbar\":{\"outlinewidth\":0,\"ticks\":\"\"}},\"marker\":{\"colorbar\":{\"outlinewidth\":0,\"ticks\":\"\"}},\"type\":\"scatter3d\"}],\"scattercarpet\":[{\"marker\":{\"colorbar\":{\"outlinewidth\":0,\"ticks\":\"\"}},\"type\":\"scattercarpet\"}],\"scattergeo\":[{\"marker\":{\"colorbar\":{\"outlinewidth\":0,\"ticks\":\"\"}},\"type\":\"scattergeo\"}],\"scattergl\":[{\"marker\":{\"colorbar\":{\"outlinewidth\":0,\"ticks\":\"\"}},\"type\":\"scattergl\"}],\"scattermapbox\":[{\"marker\":{\"colorbar\":{\"outlinewidth\":0,\"ticks\":\"\"}},\"type\":\"scattermapbox\"}],\"scatterpolar\":[{\"marker\":{\"colorbar\":{\"outlinewidth\":0,\"ticks\":\"\"}},\"type\":\"scatterpolar\"}],\"scatterpolargl\":[{\"marker\":{\"colorbar\":{\"outlinewidth\":0,\"ticks\":\"\"}},\"type\":\"scatterpolargl\"}],\"scatterternary\":[{\"marker\":{\"colorbar\":{\"outlinewidth\":0,\"ticks\":\"\"}},\"type\":\"scatterternary\"}],\"surface\":[{\"colorbar\":{\"outlinewidth\":0,\"ticks\":\"\"},\"colorscale\":[[0.0,\"#0d0887\"],[0.1111111111111111,\"#46039f\"],[0.2222222222222222,\"#7201a8\"],[0.3333333333333333,\"#9c179e\"],[0.4444444444444444,\"#bd3786\"],[0.5555555555555556,\"#d8576b\"],[0.6666666666666666,\"#ed7953\"],[0.7777777777777778,\"#fb9f3a\"],[0.8888888888888888,\"#fdca26\"],[1.0,\"#f0f921\"]],\"type\":\"surface\"}],\"table\":[{\"cells\":{\"fill\":{\"color\":\"#EBF0F8\"},\"line\":{\"color\":\"white\"}},\"header\":{\"fill\":{\"color\":\"#C8D4E3\"},\"line\":{\"color\":\"white\"}},\"type\":\"table\"}]},\"layout\":{\"annotationdefaults\":{\"arrowcolor\":\"#2a3f5f\",\"arrowhead\":0,\"arrowwidth\":1},\"autotypenumbers\":\"strict\",\"coloraxis\":{\"colorbar\":{\"outlinewidth\":0,\"ticks\":\"\"}},\"colorscale\":{\"diverging\":[[0,\"#8e0152\"],[0.1,\"#c51b7d\"],[0.2,\"#de77ae\"],[0.3,\"#f1b6da\"],[0.4,\"#fde0ef\"],[0.5,\"#f7f7f7\"],[0.6,\"#e6f5d0\"],[0.7,\"#b8e186\"],[0.8,\"#7fbc41\"],[0.9,\"#4d9221\"],[1,\"#276419\"]],\"sequential\":[[0.0,\"#0d0887\"],[0.1111111111111111,\"#46039f\"],[0.2222222222222222,\"#7201a8\"],[0.3333333333333333,\"#9c179e\"],[0.4444444444444444,\"#bd3786\"],[0.5555555555555556,\"#d8576b\"],[0.6666666666666666,\"#ed7953\"],[0.7777777777777778,\"#fb9f3a\"],[0.8888888888888888,\"#fdca26\"],[1.0,\"#f0f921\"]],\"sequentialminus\":[[0.0,\"#0d0887\"],[0.1111111111111111,\"#46039f\"],[0.2222222222222222,\"#7201a8\"],[0.3333333333333333,\"#9c179e\"],[0.4444444444444444,\"#bd3786\"],[0.5555555555555556,\"#d8576b\"],[0.6666666666666666,\"#ed7953\"],[0.7777777777777778,\"#fb9f3a\"],[0.8888888888888888,\"#fdca26\"],[1.0,\"#f0f921\"]]},\"colorway\":[\"#636efa\",\"#EF553B\",\"#00cc96\",\"#ab63fa\",\"#FFA15A\",\"#19d3f3\",\"#FF6692\",\"#B6E880\",\"#FF97FF\",\"#FECB52\"],\"font\":{\"color\":\"#2a3f5f\"},\"geo\":{\"bgcolor\":\"white\",\"lakecolor\":\"white\",\"landcolor\":\"#E5ECF6\",\"showlakes\":true,\"showland\":true,\"subunitcolor\":\"white\"},\"hoverlabel\":{\"align\":\"left\"},\"hovermode\":\"closest\",\"mapbox\":{\"style\":\"light\"},\"paper_bgcolor\":\"white\",\"plot_bgcolor\":\"#E5ECF6\",\"polar\":{\"angularaxis\":{\"gridcolor\":\"white\",\"linecolor\":\"white\",\"ticks\":\"\"},\"bgcolor\":\"#E5ECF6\",\"radialaxis\":{\"gridcolor\":\"white\",\"linecolor\":\"white\",\"ticks\":\"\"}},\"scene\":{\"xaxis\":{\"backgroundcolor\":\"#E5ECF6\",\"gridcolor\":\"white\",\"gridwidth\":2,\"linecolor\":\"white\",\"showbackground\":true,\"ticks\":\"\",\"zerolinecolor\":\"white\"},\"yaxis\":{\"backgroundcolor\":\"#E5ECF6\",\"gridcolor\":\"white\",\"gridwidth\":2,\"linecolor\":\"white\",\"showbackground\":true,\"ticks\":\"\",\"zerolinecolor\":\"white\"},\"zaxis\":{\"backgroundcolor\":\"#E5ECF6\",\"gridcolor\":\"white\",\"gridwidth\":2,\"linecolor\":\"white\",\"showbackground\":true,\"ticks\":\"\",\"zerolinecolor\":\"white\"}},\"shapedefaults\":{\"line\":{\"color\":\"#2a3f5f\"}},\"ternary\":{\"aaxis\":{\"gridcolor\":\"white\",\"linecolor\":\"white\",\"ticks\":\"\"},\"baxis\":{\"gridcolor\":\"white\",\"linecolor\":\"white\",\"ticks\":\"\"},\"bgcolor\":\"#E5ECF6\",\"caxis\":{\"gridcolor\":\"white\",\"linecolor\":\"white\",\"ticks\":\"\"}},\"title\":{\"x\":0.05},\"xaxis\":{\"automargin\":true,\"gridcolor\":\"white\",\"linecolor\":\"white\",\"ticks\":\"\",\"title\":{\"standoff\":15},\"zerolinecolor\":\"white\",\"zerolinewidth\":2},\"yaxis\":{\"automargin\":true,\"gridcolor\":\"white\",\"linecolor\":\"white\",\"ticks\":\"\",\"title\":{\"standoff\":15},\"zerolinecolor\":\"white\",\"zerolinewidth\":2}}},\"xaxis\":{\"anchor\":\"y\",\"domain\":[0.0,1.0],\"title\":{\"text\":\"Club Name\"}},\"yaxis\":{\"anchor\":\"x\",\"domain\":[0.0,1.0],\"title\":{\"text\":\"Representation\"}},\"legend\":{\"tracegroupgap\":0},\"title\":{\"text\":\"Football Clubs Representation\"},\"barmode\":\"relative\"},                        {\"responsive\": true}                    ).then(function(){\n",
       "                            \n",
       "var gd = document.getElementById('a5febebc-8d70-4771-afe5-ba756c683134');\n",
       "var x = new MutationObserver(function (mutations, observer) {{\n",
       "        var display = window.getComputedStyle(gd).display;\n",
       "        if (!display || display === 'none') {{\n",
       "            console.log([gd, 'removed!']);\n",
       "            Plotly.purge(gd);\n",
       "            observer.disconnect();\n",
       "        }}\n",
       "}});\n",
       "\n",
       "// Listen for the removal of the full notebook cells\n",
       "var notebookContainer = gd.closest('#notebook-container');\n",
       "if (notebookContainer) {{\n",
       "    x.observe(notebookContainer, {childList: true});\n",
       "}}\n",
       "\n",
       "// Listen for the clearing of the current output cell\n",
       "var outputEl = gd.closest('.output');\n",
       "if (outputEl) {{\n",
       "    x.observe(outputEl, {childList: true});\n",
       "}}\n",
       "\n",
       "                        })                };                });            </script>        </div>"
      ]
     },
     "metadata": {},
     "output_type": "display_data"
    }
   ],
   "source": [
    "club_rep_plt = px.bar(club_rep_df, x = club_rep_df[\"Club Name\"], y = club_rep_df[\"Representation\"], hover_data=[\"Club Name\", \"Representation\", \"League\", \"League Country\"], title=\"Football Clubs Representation\")\n",
    "club_rep_plt.show()"
   ]
  },
  {
   "cell_type": "markdown",
   "id": "ee49a787",
   "metadata": {},
   "source": [
    "Players of the most represented club at the World Cup"
   ]
  },
  {
   "cell_type": "code",
   "execution_count": 15,
   "id": "97a2d34c",
   "metadata": {},
   "outputs": [
    {
     "name": "stdout",
     "output_type": "stream",
     "text": [
      "Highest club representation: \n",
      "17\n"
     ]
    },
    {
     "data": {
      "text/html": [
       "<div>\n",
       "<style scoped>\n",
       "    .dataframe tbody tr th:only-of-type {\n",
       "        vertical-align: middle;\n",
       "    }\n",
       "\n",
       "    .dataframe tbody tr th {\n",
       "        vertical-align: top;\n",
       "    }\n",
       "\n",
       "    .dataframe thead th {\n",
       "        text-align: right;\n",
       "    }\n",
       "</style>\n",
       "<table border=\"1\" class=\"dataframe\">\n",
       "  <thead>\n",
       "    <tr style=\"text-align: right;\">\n",
       "      <th></th>\n",
       "      <th>No</th>\n",
       "      <th>First Name</th>\n",
       "      <th>Other Names</th>\n",
       "      <th>Full Name</th>\n",
       "      <th>DOB</th>\n",
       "      <th>Day of Birth</th>\n",
       "      <th>Month of Birth</th>\n",
       "      <th>Year of Birth</th>\n",
       "      <th>Age</th>\n",
       "      <th>Position</th>\n",
       "      <th>Nationality</th>\n",
       "      <th>International Caps</th>\n",
       "      <th>International Goals</th>\n",
       "      <th>Club</th>\n",
       "      <th>League</th>\n",
       "      <th>Club Country</th>\n",
       "      <th>GoalsToCaps</th>\n",
       "    </tr>\n",
       "  </thead>\n",
       "  <tbody>\n",
       "    <tr>\n",
       "      <th>35</th>\n",
       "      <td>36</td>\n",
       "      <td>Memphis</td>\n",
       "      <td>Depay</td>\n",
       "      <td>Depay, Memphis</td>\n",
       "      <td>13-Feb-94</td>\n",
       "      <td>13</td>\n",
       "      <td>February</td>\n",
       "      <td>1994</td>\n",
       "      <td>28</td>\n",
       "      <td>FW</td>\n",
       "      <td>Netherlands</td>\n",
       "      <td>81</td>\n",
       "      <td>42</td>\n",
       "      <td>Barcelona</td>\n",
       "      <td>Spain Primera Division</td>\n",
       "      <td>Spain</td>\n",
       "      <td>0.518519</td>\n",
       "    </tr>\n",
       "    <tr>\n",
       "      <th>46</th>\n",
       "      <td>47</td>\n",
       "      <td>Frenkie de</td>\n",
       "      <td>Jong</td>\n",
       "      <td>Jong, Frenkie de</td>\n",
       "      <td>12-May-97</td>\n",
       "      <td>12</td>\n",
       "      <td>May</td>\n",
       "      <td>1997</td>\n",
       "      <td>25</td>\n",
       "      <td>MF</td>\n",
       "      <td>Netherlands</td>\n",
       "      <td>45</td>\n",
       "      <td>1</td>\n",
       "      <td>Barcelona</td>\n",
       "      <td>Spain Primera Division</td>\n",
       "      <td>Spain</td>\n",
       "      <td>0.022222</td>\n",
       "    </tr>\n",
       "    <tr>\n",
       "      <th>267</th>\n",
       "      <td>268</td>\n",
       "      <td>Robert</td>\n",
       "      <td>Lewandowski</td>\n",
       "      <td>Lewandowski, Robert</td>\n",
       "      <td>21-Aug-88</td>\n",
       "      <td>21</td>\n",
       "      <td>August</td>\n",
       "      <td>1988</td>\n",
       "      <td>34</td>\n",
       "      <td>FW</td>\n",
       "      <td>Poland</td>\n",
       "      <td>134</td>\n",
       "      <td>76</td>\n",
       "      <td>Barcelona</td>\n",
       "      <td>Spain Primera Division</td>\n",
       "      <td>Spain</td>\n",
       "      <td>0.567164</td>\n",
       "    </tr>\n",
       "    <tr>\n",
       "      <th>342</th>\n",
       "      <td>343</td>\n",
       "      <td>Andreas</td>\n",
       "      <td>Christensen</td>\n",
       "      <td>Christensen, Andreas</td>\n",
       "      <td>10-Apr-96</td>\n",
       "      <td>10</td>\n",
       "      <td>April</td>\n",
       "      <td>1996</td>\n",
       "      <td>26</td>\n",
       "      <td>DF</td>\n",
       "      <td>Denmark</td>\n",
       "      <td>58</td>\n",
       "      <td>2</td>\n",
       "      <td>Barcelona</td>\n",
       "      <td>Spain Primera Division</td>\n",
       "      <td>Spain</td>\n",
       "      <td>0.034483</td>\n",
       "    </tr>\n",
       "    <tr>\n",
       "      <th>367</th>\n",
       "      <td>368</td>\n",
       "      <td>Jules</td>\n",
       "      <td>Kounde</td>\n",
       "      <td>Kounde, Jules</td>\n",
       "      <td>12-Nov-98</td>\n",
       "      <td>12</td>\n",
       "      <td>November</td>\n",
       "      <td>1998</td>\n",
       "      <td>24</td>\n",
       "      <td>DF</td>\n",
       "      <td>France</td>\n",
       "      <td>12</td>\n",
       "      <td>0</td>\n",
       "      <td>Barcelona</td>\n",
       "      <td>Spain Primera Division</td>\n",
       "      <td>Spain</td>\n",
       "      <td>0.000000</td>\n",
       "    </tr>\n",
       "    <tr>\n",
       "      <th>373</th>\n",
       "      <td>374</td>\n",
       "      <td>Ousmane</td>\n",
       "      <td>Dembele</td>\n",
       "      <td>Dembele, Ousmane</td>\n",
       "      <td>15-May-97</td>\n",
       "      <td>15</td>\n",
       "      <td>May</td>\n",
       "      <td>1997</td>\n",
       "      <td>25</td>\n",
       "      <td>FW</td>\n",
       "      <td>France</td>\n",
       "      <td>28</td>\n",
       "      <td>4</td>\n",
       "      <td>Barcelona</td>\n",
       "      <td>Spain Primera Division</td>\n",
       "      <td>Spain</td>\n",
       "      <td>0.142857</td>\n",
       "    </tr>\n",
       "    <tr>\n",
       "      <th>462</th>\n",
       "      <td>463</td>\n",
       "      <td>Marc-Andre</td>\n",
       "      <td>Ter Stegen</td>\n",
       "      <td>Ter Stegen, Marc-Andre</td>\n",
       "      <td>30-Apr-92</td>\n",
       "      <td>30</td>\n",
       "      <td>April</td>\n",
       "      <td>1992</td>\n",
       "      <td>30</td>\n",
       "      <td>GK</td>\n",
       "      <td>Germany</td>\n",
       "      <td>30</td>\n",
       "      <td>0</td>\n",
       "      <td>Barcelona</td>\n",
       "      <td>Spain Primera Division</td>\n",
       "      <td>Spain</td>\n",
       "      <td>0.000000</td>\n",
       "    </tr>\n",
       "    <tr>\n",
       "      <th>495</th>\n",
       "      <td>496</td>\n",
       "      <td>Eric</td>\n",
       "      <td>Garcia</td>\n",
       "      <td>Garcia, Eric</td>\n",
       "      <td>9-Jan-01</td>\n",
       "      <td>9</td>\n",
       "      <td>January</td>\n",
       "      <td>2001</td>\n",
       "      <td>21</td>\n",
       "      <td>DF</td>\n",
       "      <td>Spain</td>\n",
       "      <td>19</td>\n",
       "      <td>0</td>\n",
       "      <td>Barcelona</td>\n",
       "      <td>Spain Primera Division</td>\n",
       "      <td>Spain</td>\n",
       "      <td>0.000000</td>\n",
       "    </tr>\n",
       "    <tr>\n",
       "      <th>497</th>\n",
       "      <td>498</td>\n",
       "      <td>Sergio</td>\n",
       "      <td>Busquets</td>\n",
       "      <td>Busquets, Sergio</td>\n",
       "      <td>16-Jul-88</td>\n",
       "      <td>16</td>\n",
       "      <td>July</td>\n",
       "      <td>1988</td>\n",
       "      <td>34</td>\n",
       "      <td>MF</td>\n",
       "      <td>Spain</td>\n",
       "      <td>139</td>\n",
       "      <td>2</td>\n",
       "      <td>Barcelona</td>\n",
       "      <td>Spain Primera Division</td>\n",
       "      <td>Spain</td>\n",
       "      <td>0.014388</td>\n",
       "    </tr>\n",
       "    <tr>\n",
       "      <th>501</th>\n",
       "      <td>502</td>\n",
       "      <td>Gavi</td>\n",
       "      <td>NaN</td>\n",
       "      <td>Gavi</td>\n",
       "      <td>5-Aug-04</td>\n",
       "      <td>5</td>\n",
       "      <td>August</td>\n",
       "      <td>2004</td>\n",
       "      <td>18</td>\n",
       "      <td>MF</td>\n",
       "      <td>Spain</td>\n",
       "      <td>13</td>\n",
       "      <td>2</td>\n",
       "      <td>Barcelona</td>\n",
       "      <td>Spain Primera Division</td>\n",
       "      <td>Spain</td>\n",
       "      <td>0.153846</td>\n",
       "    </tr>\n",
       "    <tr>\n",
       "      <th>503</th>\n",
       "      <td>504</td>\n",
       "      <td>Ferran</td>\n",
       "      <td>Torres</td>\n",
       "      <td>Torres, Ferran</td>\n",
       "      <td>29-Feb-00</td>\n",
       "      <td>29</td>\n",
       "      <td>February</td>\n",
       "      <td>2000</td>\n",
       "      <td>22</td>\n",
       "      <td>FW</td>\n",
       "      <td>Spain</td>\n",
       "      <td>31</td>\n",
       "      <td>13</td>\n",
       "      <td>Barcelona</td>\n",
       "      <td>Spain Primera Division</td>\n",
       "      <td>Spain</td>\n",
       "      <td>0.419355</td>\n",
       "    </tr>\n",
       "    <tr>\n",
       "      <th>506</th>\n",
       "      <td>507</td>\n",
       "      <td>Alejandro</td>\n",
       "      <td>Balde</td>\n",
       "      <td>Balde, Alejandro</td>\n",
       "      <td>18-Oct-03</td>\n",
       "      <td>18</td>\n",
       "      <td>October</td>\n",
       "      <td>2003</td>\n",
       "      <td>19</td>\n",
       "      <td>DF</td>\n",
       "      <td>Spain</td>\n",
       "      <td>0</td>\n",
       "      <td>0</td>\n",
       "      <td>Barcelona</td>\n",
       "      <td>Spain Primera Division</td>\n",
       "      <td>Spain</td>\n",
       "      <td>NaN</td>\n",
       "    </tr>\n",
       "    <tr>\n",
       "      <th>510</th>\n",
       "      <td>511</td>\n",
       "      <td>Jordi</td>\n",
       "      <td>Alba</td>\n",
       "      <td>Alba, Jordi</td>\n",
       "      <td>21-Mar-89</td>\n",
       "      <td>21</td>\n",
       "      <td>March</td>\n",
       "      <td>1989</td>\n",
       "      <td>33</td>\n",
       "      <td>DF</td>\n",
       "      <td>Spain</td>\n",
       "      <td>87</td>\n",
       "      <td>9</td>\n",
       "      <td>Barcelona</td>\n",
       "      <td>Spain Primera Division</td>\n",
       "      <td>Spain</td>\n",
       "      <td>0.103448</td>\n",
       "    </tr>\n",
       "    <tr>\n",
       "      <th>517</th>\n",
       "      <td>518</td>\n",
       "      <td>Ansu</td>\n",
       "      <td>Fati</td>\n",
       "      <td>Fati, Ansu</td>\n",
       "      <td>31-Oct-02</td>\n",
       "      <td>31</td>\n",
       "      <td>October</td>\n",
       "      <td>2002</td>\n",
       "      <td>20</td>\n",
       "      <td>FW</td>\n",
       "      <td>Spain</td>\n",
       "      <td>5</td>\n",
       "      <td>2</td>\n",
       "      <td>Barcelona</td>\n",
       "      <td>Spain Primera Division</td>\n",
       "      <td>Spain</td>\n",
       "      <td>0.400000</td>\n",
       "    </tr>\n",
       "    <tr>\n",
       "      <th>518</th>\n",
       "      <td>519</td>\n",
       "      <td>Pedri</td>\n",
       "      <td>NaN</td>\n",
       "      <td>Pedri</td>\n",
       "      <td>25-Nov-02</td>\n",
       "      <td>25</td>\n",
       "      <td>November</td>\n",
       "      <td>2002</td>\n",
       "      <td>20</td>\n",
       "      <td>MF</td>\n",
       "      <td>Spain</td>\n",
       "      <td>14</td>\n",
       "      <td>0</td>\n",
       "      <td>Barcelona</td>\n",
       "      <td>Spain Primera Division</td>\n",
       "      <td>Spain</td>\n",
       "      <td>0.000000</td>\n",
       "    </tr>\n",
       "    <tr>\n",
       "      <th>633</th>\n",
       "      <td>634</td>\n",
       "      <td>Raphinha</td>\n",
       "      <td>NaN</td>\n",
       "      <td>Raphinha</td>\n",
       "      <td>14-Dec-96</td>\n",
       "      <td>14</td>\n",
       "      <td>December</td>\n",
       "      <td>1996</td>\n",
       "      <td>25</td>\n",
       "      <td>FW</td>\n",
       "      <td>Brazil</td>\n",
       "      <td>11</td>\n",
       "      <td>5</td>\n",
       "      <td>Barcelona</td>\n",
       "      <td>Spain Primera Division</td>\n",
       "      <td>Spain</td>\n",
       "      <td>0.454545</td>\n",
       "    </tr>\n",
       "    <tr>\n",
       "      <th>808</th>\n",
       "      <td>809</td>\n",
       "      <td>Ronald</td>\n",
       "      <td>Araujo</td>\n",
       "      <td>Araujo, Ronald</td>\n",
       "      <td>7-Mar-99</td>\n",
       "      <td>7</td>\n",
       "      <td>March</td>\n",
       "      <td>1999</td>\n",
       "      <td>23</td>\n",
       "      <td>DF</td>\n",
       "      <td>Uruguay</td>\n",
       "      <td>12</td>\n",
       "      <td>0</td>\n",
       "      <td>Barcelona</td>\n",
       "      <td>Spain Primera Division</td>\n",
       "      <td>Spain</td>\n",
       "      <td>0.000000</td>\n",
       "    </tr>\n",
       "  </tbody>\n",
       "</table>\n",
       "</div>"
      ],
      "text/plain": [
       "      No  First Name  Other Names               Full Name        DOB  \\\n",
       "35    36     Memphis        Depay          Depay, Memphis  13-Feb-94   \n",
       "46    47  Frenkie de         Jong        Jong, Frenkie de  12-May-97   \n",
       "267  268      Robert  Lewandowski     Lewandowski, Robert  21-Aug-88   \n",
       "342  343     Andreas  Christensen    Christensen, Andreas  10-Apr-96   \n",
       "367  368       Jules       Kounde           Kounde, Jules  12-Nov-98   \n",
       "373  374     Ousmane      Dembele        Dembele, Ousmane  15-May-97   \n",
       "462  463  Marc-Andre   Ter Stegen  Ter Stegen, Marc-Andre  30-Apr-92   \n",
       "495  496        Eric       Garcia            Garcia, Eric   9-Jan-01   \n",
       "497  498      Sergio     Busquets        Busquets, Sergio  16-Jul-88   \n",
       "501  502        Gavi          NaN                    Gavi   5-Aug-04   \n",
       "503  504      Ferran       Torres          Torres, Ferran  29-Feb-00   \n",
       "506  507   Alejandro        Balde        Balde, Alejandro  18-Oct-03   \n",
       "510  511       Jordi         Alba             Alba, Jordi  21-Mar-89   \n",
       "517  518        Ansu         Fati              Fati, Ansu  31-Oct-02   \n",
       "518  519       Pedri          NaN                   Pedri  25-Nov-02   \n",
       "633  634    Raphinha          NaN                Raphinha  14-Dec-96   \n",
       "808  809      Ronald       Araujo          Araujo, Ronald   7-Mar-99   \n",
       "\n",
       "     Day of Birth Month of Birth  Year of Birth  Age Position  Nationality  \\\n",
       "35             13       February           1994   28       FW  Netherlands   \n",
       "46             12            May           1997   25       MF  Netherlands   \n",
       "267            21         August           1988   34       FW       Poland   \n",
       "342            10          April           1996   26       DF      Denmark   \n",
       "367            12       November           1998   24       DF       France   \n",
       "373            15            May           1997   25       FW       France   \n",
       "462            30          April           1992   30       GK      Germany   \n",
       "495             9        January           2001   21       DF        Spain   \n",
       "497            16           July           1988   34       MF        Spain   \n",
       "501             5         August           2004   18       MF        Spain   \n",
       "503            29       February           2000   22       FW        Spain   \n",
       "506            18        October           2003   19       DF        Spain   \n",
       "510            21          March           1989   33       DF        Spain   \n",
       "517            31        October           2002   20       FW        Spain   \n",
       "518            25       November           2002   20       MF        Spain   \n",
       "633            14       December           1996   25       FW       Brazil   \n",
       "808             7          March           1999   23       DF      Uruguay   \n",
       "\n",
       "     International Caps  International Goals       Club  \\\n",
       "35                   81                   42  Barcelona   \n",
       "46                   45                    1  Barcelona   \n",
       "267                 134                   76  Barcelona   \n",
       "342                  58                    2  Barcelona   \n",
       "367                  12                    0  Barcelona   \n",
       "373                  28                    4  Barcelona   \n",
       "462                  30                    0  Barcelona   \n",
       "495                  19                    0  Barcelona   \n",
       "497                 139                    2  Barcelona   \n",
       "501                  13                    2  Barcelona   \n",
       "503                  31                   13  Barcelona   \n",
       "506                   0                    0  Barcelona   \n",
       "510                  87                    9  Barcelona   \n",
       "517                   5                    2  Barcelona   \n",
       "518                  14                    0  Barcelona   \n",
       "633                  11                    5  Barcelona   \n",
       "808                  12                    0  Barcelona   \n",
       "\n",
       "                     League Club Country  GoalsToCaps  \n",
       "35   Spain Primera Division        Spain     0.518519  \n",
       "46   Spain Primera Division        Spain     0.022222  \n",
       "267  Spain Primera Division        Spain     0.567164  \n",
       "342  Spain Primera Division        Spain     0.034483  \n",
       "367  Spain Primera Division        Spain     0.000000  \n",
       "373  Spain Primera Division        Spain     0.142857  \n",
       "462  Spain Primera Division        Spain     0.000000  \n",
       "495  Spain Primera Division        Spain     0.000000  \n",
       "497  Spain Primera Division        Spain     0.014388  \n",
       "501  Spain Primera Division        Spain     0.153846  \n",
       "503  Spain Primera Division        Spain     0.419355  \n",
       "506  Spain Primera Division        Spain          NaN  \n",
       "510  Spain Primera Division        Spain     0.103448  \n",
       "517  Spain Primera Division        Spain     0.400000  \n",
       "518  Spain Primera Division        Spain     0.000000  \n",
       "633  Spain Primera Division        Spain     0.454545  \n",
       "808  Spain Primera Division        Spain     0.000000  "
      ]
     },
     "metadata": {},
     "output_type": "display_data"
    }
   ],
   "source": [
    "print(\"Highest club representation: \")\n",
    "print(len(data.loc[data[\"Club\"] == \"Barcelona\", :]))\n",
    "display(data.loc[data[\"Club\"] == \"Barcelona\", :])"
   ]
  },
  {
   "cell_type": "markdown",
   "id": "2972cbc8",
   "metadata": {},
   "source": [
    "Players of the second most represented team (Bayern Munich) at the world cup."
   ]
  },
  {
   "cell_type": "code",
   "execution_count": 16,
   "id": "52cfc293",
   "metadata": {
    "scrolled": false
   },
   "outputs": [
    {
     "data": {
      "text/html": [
       "<div>\n",
       "<style scoped>\n",
       "    .dataframe tbody tr th:only-of-type {\n",
       "        vertical-align: middle;\n",
       "    }\n",
       "\n",
       "    .dataframe tbody tr th {\n",
       "        vertical-align: top;\n",
       "    }\n",
       "\n",
       "    .dataframe thead th {\n",
       "        text-align: right;\n",
       "    }\n",
       "</style>\n",
       "<table border=\"1\" class=\"dataframe\">\n",
       "  <thead>\n",
       "    <tr style=\"text-align: right;\">\n",
       "      <th></th>\n",
       "      <th>No</th>\n",
       "      <th>First Name</th>\n",
       "      <th>Other Names</th>\n",
       "      <th>Full Name</th>\n",
       "      <th>DOB</th>\n",
       "      <th>Day of Birth</th>\n",
       "      <th>Month of Birth</th>\n",
       "      <th>Year of Birth</th>\n",
       "      <th>Age</th>\n",
       "      <th>Position</th>\n",
       "      <th>Nationality</th>\n",
       "      <th>International Caps</th>\n",
       "      <th>International Goals</th>\n",
       "      <th>Club</th>\n",
       "      <th>League</th>\n",
       "      <th>Club Country</th>\n",
       "      <th>GoalsToCaps</th>\n",
       "    </tr>\n",
       "  </thead>\n",
       "  <tbody>\n",
       "    <tr>\n",
       "      <th>28</th>\n",
       "      <td>29</td>\n",
       "      <td>Matthijs de</td>\n",
       "      <td>Ligt</td>\n",
       "      <td>Ligt, Matthijs de</td>\n",
       "      <td>12-Aug-99</td>\n",
       "      <td>12</td>\n",
       "      <td>August</td>\n",
       "      <td>1999</td>\n",
       "      <td>23</td>\n",
       "      <td>DF</td>\n",
       "      <td>Netherlands</td>\n",
       "      <td>38</td>\n",
       "      <td>2</td>\n",
       "      <td>Bayern Munich</td>\n",
       "      <td>German 1. Bundesliga</td>\n",
       "      <td>Germany</td>\n",
       "      <td>0.052632</td>\n",
       "    </tr>\n",
       "    <tr>\n",
       "      <th>364</th>\n",
       "      <td>365</td>\n",
       "      <td>Benjamin</td>\n",
       "      <td>Pavard</td>\n",
       "      <td>Pavard, Benjamin</td>\n",
       "      <td>28-Mar-96</td>\n",
       "      <td>28</td>\n",
       "      <td>March</td>\n",
       "      <td>1996</td>\n",
       "      <td>26</td>\n",
       "      <td>DF</td>\n",
       "      <td>France</td>\n",
       "      <td>46</td>\n",
       "      <td>2</td>\n",
       "      <td>Bayern Munich</td>\n",
       "      <td>German 1. Bundesliga</td>\n",
       "      <td>Germany</td>\n",
       "      <td>0.043478</td>\n",
       "    </tr>\n",
       "    <tr>\n",
       "      <th>380</th>\n",
       "      <td>381</td>\n",
       "      <td>Dayot</td>\n",
       "      <td>Upamecano</td>\n",
       "      <td>Upamecano, Dayot</td>\n",
       "      <td>27-Oct-98</td>\n",
       "      <td>27</td>\n",
       "      <td>October</td>\n",
       "      <td>1998</td>\n",
       "      <td>24</td>\n",
       "      <td>DF</td>\n",
       "      <td>France</td>\n",
       "      <td>7</td>\n",
       "      <td>1</td>\n",
       "      <td>Bayern Munich</td>\n",
       "      <td>German 1. Bundesliga</td>\n",
       "      <td>Germany</td>\n",
       "      <td>0.142857</td>\n",
       "    </tr>\n",
       "    <tr>\n",
       "      <th>382</th>\n",
       "      <td>383</td>\n",
       "      <td>Kingsley</td>\n",
       "      <td>Coman</td>\n",
       "      <td>Coman, Kingsley</td>\n",
       "      <td>13-Jun-96</td>\n",
       "      <td>13</td>\n",
       "      <td>June</td>\n",
       "      <td>1996</td>\n",
       "      <td>26</td>\n",
       "      <td>FW</td>\n",
       "      <td>France</td>\n",
       "      <td>40</td>\n",
       "      <td>5</td>\n",
       "      <td>Bayern Munich</td>\n",
       "      <td>German 1. Bundesliga</td>\n",
       "      <td>Germany</td>\n",
       "      <td>0.125000</td>\n",
       "    </tr>\n",
       "    <tr>\n",
       "      <th>383</th>\n",
       "      <td>384</td>\n",
       "      <td>Lucas</td>\n",
       "      <td>Hernandez</td>\n",
       "      <td>Hernandez, Lucas</td>\n",
       "      <td>14-Feb-96</td>\n",
       "      <td>14</td>\n",
       "      <td>February</td>\n",
       "      <td>1996</td>\n",
       "      <td>26</td>\n",
       "      <td>DF</td>\n",
       "      <td>France</td>\n",
       "      <td>32</td>\n",
       "      <td>0</td>\n",
       "      <td>Bayern Munich</td>\n",
       "      <td>German 1. Bundesliga</td>\n",
       "      <td>Germany</td>\n",
       "      <td>0.000000</td>\n",
       "    </tr>\n",
       "    <tr>\n",
       "      <th>441</th>\n",
       "      <td>442</td>\n",
       "      <td>Manuel</td>\n",
       "      <td>Neuer</td>\n",
       "      <td>Neuer, Manuel</td>\n",
       "      <td>27-Mar-86</td>\n",
       "      <td>27</td>\n",
       "      <td>March</td>\n",
       "      <td>1986</td>\n",
       "      <td>36</td>\n",
       "      <td>GK</td>\n",
       "      <td>Germany</td>\n",
       "      <td>114</td>\n",
       "      <td>0</td>\n",
       "      <td>Bayern Munich</td>\n",
       "      <td>German 1. Bundesliga</td>\n",
       "      <td>Germany</td>\n",
       "      <td>0.000000</td>\n",
       "    </tr>\n",
       "    <tr>\n",
       "      <th>446</th>\n",
       "      <td>447</td>\n",
       "      <td>Joshua</td>\n",
       "      <td>Kimmich</td>\n",
       "      <td>Kimmich, Joshua</td>\n",
       "      <td>8-Feb-95</td>\n",
       "      <td>8</td>\n",
       "      <td>February</td>\n",
       "      <td>1995</td>\n",
       "      <td>27</td>\n",
       "      <td>MF</td>\n",
       "      <td>Germany</td>\n",
       "      <td>71</td>\n",
       "      <td>5</td>\n",
       "      <td>Bayern Munich</td>\n",
       "      <td>German 1. Bundesliga</td>\n",
       "      <td>Germany</td>\n",
       "      <td>0.070423</td>\n",
       "    </tr>\n",
       "    <tr>\n",
       "      <th>448</th>\n",
       "      <td>449</td>\n",
       "      <td>Leon</td>\n",
       "      <td>Goretzka</td>\n",
       "      <td>Goretzka, Leon</td>\n",
       "      <td>6-Feb-95</td>\n",
       "      <td>6</td>\n",
       "      <td>February</td>\n",
       "      <td>1995</td>\n",
       "      <td>27</td>\n",
       "      <td>MF</td>\n",
       "      <td>Germany</td>\n",
       "      <td>45</td>\n",
       "      <td>14</td>\n",
       "      <td>Bayern Munich</td>\n",
       "      <td>German 1. Bundesliga</td>\n",
       "      <td>Germany</td>\n",
       "      <td>0.311111</td>\n",
       "    </tr>\n",
       "    <tr>\n",
       "      <th>450</th>\n",
       "      <td>451</td>\n",
       "      <td>Serge</td>\n",
       "      <td>Gnabry</td>\n",
       "      <td>Gnabry, Serge</td>\n",
       "      <td>14-Jul-95</td>\n",
       "      <td>14</td>\n",
       "      <td>July</td>\n",
       "      <td>1995</td>\n",
       "      <td>27</td>\n",
       "      <td>FW</td>\n",
       "      <td>Germany</td>\n",
       "      <td>36</td>\n",
       "      <td>20</td>\n",
       "      <td>Bayern Munich</td>\n",
       "      <td>German 1. Bundesliga</td>\n",
       "      <td>Germany</td>\n",
       "      <td>0.555556</td>\n",
       "    </tr>\n",
       "    <tr>\n",
       "      <th>453</th>\n",
       "      <td>454</td>\n",
       "      <td>Thomas</td>\n",
       "      <td>Muller</td>\n",
       "      <td>Muller, Thomas</td>\n",
       "      <td>13-Sep-89</td>\n",
       "      <td>13</td>\n",
       "      <td>September</td>\n",
       "      <td>1989</td>\n",
       "      <td>33</td>\n",
       "      <td>MF</td>\n",
       "      <td>Germany</td>\n",
       "      <td>118</td>\n",
       "      <td>44</td>\n",
       "      <td>Bayern Munich</td>\n",
       "      <td>German 1. Bundesliga</td>\n",
       "      <td>Germany</td>\n",
       "      <td>0.372881</td>\n",
       "    </tr>\n",
       "    <tr>\n",
       "      <th>454</th>\n",
       "      <td>455</td>\n",
       "      <td>Jamal</td>\n",
       "      <td>Musiala</td>\n",
       "      <td>Musiala, Jamal</td>\n",
       "      <td>26-Feb-03</td>\n",
       "      <td>26</td>\n",
       "      <td>February</td>\n",
       "      <td>2003</td>\n",
       "      <td>19</td>\n",
       "      <td>MF</td>\n",
       "      <td>Germany</td>\n",
       "      <td>17</td>\n",
       "      <td>1</td>\n",
       "      <td>Bayern Munich</td>\n",
       "      <td>German 1. Bundesliga</td>\n",
       "      <td>Germany</td>\n",
       "      <td>0.058824</td>\n",
       "    </tr>\n",
       "    <tr>\n",
       "      <th>459</th>\n",
       "      <td>460</td>\n",
       "      <td>Leroy</td>\n",
       "      <td>Sane</td>\n",
       "      <td>Sane, Leroy</td>\n",
       "      <td>11-Jan-96</td>\n",
       "      <td>11</td>\n",
       "      <td>January</td>\n",
       "      <td>1996</td>\n",
       "      <td>26</td>\n",
       "      <td>MF</td>\n",
       "      <td>Germany</td>\n",
       "      <td>48</td>\n",
       "      <td>11</td>\n",
       "      <td>Bayern Munich</td>\n",
       "      <td>German 1. Bundesliga</td>\n",
       "      <td>Germany</td>\n",
       "      <td>0.229167</td>\n",
       "    </tr>\n",
       "    <tr>\n",
       "      <th>563</th>\n",
       "      <td>564</td>\n",
       "      <td>Alphonso</td>\n",
       "      <td>Davies</td>\n",
       "      <td>Davies, Alphonso</td>\n",
       "      <td>2-Nov-00</td>\n",
       "      <td>2</td>\n",
       "      <td>November</td>\n",
       "      <td>2000</td>\n",
       "      <td>22</td>\n",
       "      <td>FW</td>\n",
       "      <td>Canada</td>\n",
       "      <td>34</td>\n",
       "      <td>12</td>\n",
       "      <td>Bayern Munich</td>\n",
       "      <td>German 1. Bundesliga</td>\n",
       "      <td>Germany</td>\n",
       "      <td>0.352941</td>\n",
       "    </tr>\n",
       "    <tr>\n",
       "      <th>572</th>\n",
       "      <td>573</td>\n",
       "      <td>Josip</td>\n",
       "      <td>Stanisic</td>\n",
       "      <td>Stanisic, Josip</td>\n",
       "      <td>2-Apr-00</td>\n",
       "      <td>2</td>\n",
       "      <td>April</td>\n",
       "      <td>2000</td>\n",
       "      <td>22</td>\n",
       "      <td>DF</td>\n",
       "      <td>Croatia</td>\n",
       "      <td>7</td>\n",
       "      <td>0</td>\n",
       "      <td>Bayern Munich</td>\n",
       "      <td>German 1. Bundesliga</td>\n",
       "      <td>Germany</td>\n",
       "      <td>0.000000</td>\n",
       "    </tr>\n",
       "    <tr>\n",
       "      <th>599</th>\n",
       "      <td>600</td>\n",
       "      <td>Noussair</td>\n",
       "      <td>Mazraoui</td>\n",
       "      <td>Mazraoui, Noussair</td>\n",
       "      <td>14-Nov-97</td>\n",
       "      <td>14</td>\n",
       "      <td>November</td>\n",
       "      <td>1997</td>\n",
       "      <td>25</td>\n",
       "      <td>DF</td>\n",
       "      <td>Morocco</td>\n",
       "      <td>15</td>\n",
       "      <td>2</td>\n",
       "      <td>Bayern Munich</td>\n",
       "      <td>German 1. Bundesliga</td>\n",
       "      <td>Germany</td>\n",
       "      <td>0.133333</td>\n",
       "    </tr>\n",
       "    <tr>\n",
       "      <th>661</th>\n",
       "      <td>662</td>\n",
       "      <td>Eric Maxim</td>\n",
       "      <td>Choupo-Moting</td>\n",
       "      <td>Choupo-Moting, Eric Maxim</td>\n",
       "      <td>23-Mar-89</td>\n",
       "      <td>23</td>\n",
       "      <td>March</td>\n",
       "      <td>1989</td>\n",
       "      <td>33</td>\n",
       "      <td>FW</td>\n",
       "      <td>Cameroon</td>\n",
       "      <td>70</td>\n",
       "      <td>20</td>\n",
       "      <td>Bayern Munich</td>\n",
       "      <td>German 1. Bundesliga</td>\n",
       "      <td>Germany</td>\n",
       "      <td>0.285714</td>\n",
       "    </tr>\n",
       "  </tbody>\n",
       "</table>\n",
       "</div>"
      ],
      "text/plain": [
       "      No   First Name    Other Names                  Full Name        DOB  \\\n",
       "28    29  Matthijs de           Ligt          Ligt, Matthijs de  12-Aug-99   \n",
       "364  365     Benjamin         Pavard           Pavard, Benjamin  28-Mar-96   \n",
       "380  381        Dayot      Upamecano           Upamecano, Dayot  27-Oct-98   \n",
       "382  383     Kingsley          Coman            Coman, Kingsley  13-Jun-96   \n",
       "383  384        Lucas      Hernandez           Hernandez, Lucas  14-Feb-96   \n",
       "441  442       Manuel          Neuer              Neuer, Manuel  27-Mar-86   \n",
       "446  447       Joshua        Kimmich            Kimmich, Joshua   8-Feb-95   \n",
       "448  449         Leon       Goretzka             Goretzka, Leon   6-Feb-95   \n",
       "450  451        Serge         Gnabry              Gnabry, Serge  14-Jul-95   \n",
       "453  454       Thomas         Muller             Muller, Thomas  13-Sep-89   \n",
       "454  455        Jamal        Musiala             Musiala, Jamal  26-Feb-03   \n",
       "459  460        Leroy           Sane                Sane, Leroy  11-Jan-96   \n",
       "563  564     Alphonso         Davies           Davies, Alphonso   2-Nov-00   \n",
       "572  573        Josip       Stanisic            Stanisic, Josip   2-Apr-00   \n",
       "599  600     Noussair       Mazraoui         Mazraoui, Noussair  14-Nov-97   \n",
       "661  662   Eric Maxim  Choupo-Moting  Choupo-Moting, Eric Maxim  23-Mar-89   \n",
       "\n",
       "     Day of Birth Month of Birth  Year of Birth  Age Position  Nationality  \\\n",
       "28             12         August           1999   23       DF  Netherlands   \n",
       "364            28          March           1996   26       DF       France   \n",
       "380            27        October           1998   24       DF       France   \n",
       "382            13           June           1996   26       FW       France   \n",
       "383            14       February           1996   26       DF       France   \n",
       "441            27          March           1986   36       GK      Germany   \n",
       "446             8       February           1995   27       MF      Germany   \n",
       "448             6       February           1995   27       MF      Germany   \n",
       "450            14           July           1995   27       FW      Germany   \n",
       "453            13      September           1989   33       MF      Germany   \n",
       "454            26       February           2003   19       MF      Germany   \n",
       "459            11        January           1996   26       MF      Germany   \n",
       "563             2       November           2000   22       FW       Canada   \n",
       "572             2          April           2000   22       DF      Croatia   \n",
       "599            14       November           1997   25       DF      Morocco   \n",
       "661            23          March           1989   33       FW     Cameroon   \n",
       "\n",
       "     International Caps  International Goals           Club  \\\n",
       "28                   38                    2  Bayern Munich   \n",
       "364                  46                    2  Bayern Munich   \n",
       "380                   7                    1  Bayern Munich   \n",
       "382                  40                    5  Bayern Munich   \n",
       "383                  32                    0  Bayern Munich   \n",
       "441                 114                    0  Bayern Munich   \n",
       "446                  71                    5  Bayern Munich   \n",
       "448                  45                   14  Bayern Munich   \n",
       "450                  36                   20  Bayern Munich   \n",
       "453                 118                   44  Bayern Munich   \n",
       "454                  17                    1  Bayern Munich   \n",
       "459                  48                   11  Bayern Munich   \n",
       "563                  34                   12  Bayern Munich   \n",
       "572                   7                    0  Bayern Munich   \n",
       "599                  15                    2  Bayern Munich   \n",
       "661                  70                   20  Bayern Munich   \n",
       "\n",
       "                   League Club Country  GoalsToCaps  \n",
       "28   German 1. Bundesliga      Germany     0.052632  \n",
       "364  German 1. Bundesliga      Germany     0.043478  \n",
       "380  German 1. Bundesliga      Germany     0.142857  \n",
       "382  German 1. Bundesliga      Germany     0.125000  \n",
       "383  German 1. Bundesliga      Germany     0.000000  \n",
       "441  German 1. Bundesliga      Germany     0.000000  \n",
       "446  German 1. Bundesliga      Germany     0.070423  \n",
       "448  German 1. Bundesliga      Germany     0.311111  \n",
       "450  German 1. Bundesliga      Germany     0.555556  \n",
       "453  German 1. Bundesliga      Germany     0.372881  \n",
       "454  German 1. Bundesliga      Germany     0.058824  \n",
       "459  German 1. Bundesliga      Germany     0.229167  \n",
       "563  German 1. Bundesliga      Germany     0.352941  \n",
       "572  German 1. Bundesliga      Germany     0.000000  \n",
       "599  German 1. Bundesliga      Germany     0.133333  \n",
       "661  German 1. Bundesliga      Germany     0.285714  "
      ]
     },
     "metadata": {},
     "output_type": "display_data"
    }
   ],
   "source": [
    "display(data.loc[data[\"Club\"] == \"Bayern Munich\", :])"
   ]
  },
  {
   "cell_type": "markdown",
   "id": "5b0c5eac",
   "metadata": {},
   "source": [
    "Players of the second most represnted team (Manchester City) at the world cup."
   ]
  },
  {
   "cell_type": "code",
   "execution_count": 17,
   "id": "408381ba",
   "metadata": {},
   "outputs": [
    {
     "data": {
      "text/html": [
       "<div>\n",
       "<style scoped>\n",
       "    .dataframe tbody tr th:only-of-type {\n",
       "        vertical-align: middle;\n",
       "    }\n",
       "\n",
       "    .dataframe tbody tr th {\n",
       "        vertical-align: top;\n",
       "    }\n",
       "\n",
       "    .dataframe thead th {\n",
       "        text-align: right;\n",
       "    }\n",
       "</style>\n",
       "<table border=\"1\" class=\"dataframe\">\n",
       "  <thead>\n",
       "    <tr style=\"text-align: right;\">\n",
       "      <th></th>\n",
       "      <th>No</th>\n",
       "      <th>First Name</th>\n",
       "      <th>Other Names</th>\n",
       "      <th>Full Name</th>\n",
       "      <th>DOB</th>\n",
       "      <th>Day of Birth</th>\n",
       "      <th>Month of Birth</th>\n",
       "      <th>Year of Birth</th>\n",
       "      <th>Age</th>\n",
       "      <th>Position</th>\n",
       "      <th>Nationality</th>\n",
       "      <th>International Caps</th>\n",
       "      <th>International Goals</th>\n",
       "      <th>Club</th>\n",
       "      <th>League</th>\n",
       "      <th>Club Country</th>\n",
       "      <th>GoalsToCaps</th>\n",
       "    </tr>\n",
       "  </thead>\n",
       "  <tbody>\n",
       "    <tr>\n",
       "      <th>30</th>\n",
       "      <td>31</td>\n",
       "      <td>Nathan</td>\n",
       "      <td>Ake</td>\n",
       "      <td>Ake, Nathan</td>\n",
       "      <td>18-Feb-95</td>\n",
       "      <td>18</td>\n",
       "      <td>February</td>\n",
       "      <td>1995</td>\n",
       "      <td>27</td>\n",
       "      <td>DF</td>\n",
       "      <td>Netherlands</td>\n",
       "      <td>29</td>\n",
       "      <td>3</td>\n",
       "      <td>Manchester City</td>\n",
       "      <td>English Premier League</td>\n",
       "      <td>England</td>\n",
       "      <td>0.103448</td>\n",
       "    </tr>\n",
       "    <tr>\n",
       "      <th>105</th>\n",
       "      <td>106</td>\n",
       "      <td>Kyle</td>\n",
       "      <td>Walker</td>\n",
       "      <td>Walker, Kyle</td>\n",
       "      <td>28-May-90</td>\n",
       "      <td>28</td>\n",
       "      <td>May</td>\n",
       "      <td>1990</td>\n",
       "      <td>32</td>\n",
       "      <td>DF</td>\n",
       "      <td>England</td>\n",
       "      <td>70</td>\n",
       "      <td>0</td>\n",
       "      <td>Manchester City</td>\n",
       "      <td>English Premier League</td>\n",
       "      <td>England</td>\n",
       "      <td>0.000000</td>\n",
       "    </tr>\n",
       "    <tr>\n",
       "      <th>108</th>\n",
       "      <td>109</td>\n",
       "      <td>John</td>\n",
       "      <td>Stones</td>\n",
       "      <td>Stones, John</td>\n",
       "      <td>28-May-94</td>\n",
       "      <td>28</td>\n",
       "      <td>May</td>\n",
       "      <td>1994</td>\n",
       "      <td>28</td>\n",
       "      <td>DF</td>\n",
       "      <td>England</td>\n",
       "      <td>59</td>\n",
       "      <td>3</td>\n",
       "      <td>Manchester City</td>\n",
       "      <td>English Premier League</td>\n",
       "      <td>England</td>\n",
       "      <td>0.050847</td>\n",
       "    </tr>\n",
       "    <tr>\n",
       "      <th>110</th>\n",
       "      <td>111</td>\n",
       "      <td>Jack</td>\n",
       "      <td>Grealish</td>\n",
       "      <td>Grealish, Jack</td>\n",
       "      <td>10-Sep-95</td>\n",
       "      <td>10</td>\n",
       "      <td>September</td>\n",
       "      <td>1995</td>\n",
       "      <td>27</td>\n",
       "      <td>FW</td>\n",
       "      <td>England</td>\n",
       "      <td>24</td>\n",
       "      <td>1</td>\n",
       "      <td>Manchester City</td>\n",
       "      <td>English Premier League</td>\n",
       "      <td>England</td>\n",
       "      <td>0.041667</td>\n",
       "    </tr>\n",
       "    <tr>\n",
       "      <th>117</th>\n",
       "      <td>118</td>\n",
       "      <td>Kalvin</td>\n",
       "      <td>Phillips</td>\n",
       "      <td>Phillips, Kalvin</td>\n",
       "      <td>2-Dec-95</td>\n",
       "      <td>2</td>\n",
       "      <td>December</td>\n",
       "      <td>1995</td>\n",
       "      <td>26</td>\n",
       "      <td>MF</td>\n",
       "      <td>England</td>\n",
       "      <td>23</td>\n",
       "      <td>0</td>\n",
       "      <td>Manchester City</td>\n",
       "      <td>English Premier League</td>\n",
       "      <td>England</td>\n",
       "      <td>0.000000</td>\n",
       "    </tr>\n",
       "    <tr>\n",
       "      <th>123</th>\n",
       "      <td>124</td>\n",
       "      <td>Phil</td>\n",
       "      <td>Foden</td>\n",
       "      <td>Foden, Phil</td>\n",
       "      <td>28-May-00</td>\n",
       "      <td>28</td>\n",
       "      <td>May</td>\n",
       "      <td>2000</td>\n",
       "      <td>22</td>\n",
       "      <td>MF</td>\n",
       "      <td>England</td>\n",
       "      <td>18</td>\n",
       "      <td>2</td>\n",
       "      <td>Manchester City</td>\n",
       "      <td>English Premier League</td>\n",
       "      <td>England</td>\n",
       "      <td>0.111111</td>\n",
       "    </tr>\n",
       "    <tr>\n",
       "      <th>215</th>\n",
       "      <td>216</td>\n",
       "      <td>Julian</td>\n",
       "      <td>Alvarez</td>\n",
       "      <td>Alvarez, Julian</td>\n",
       "      <td>31-Jan-00</td>\n",
       "      <td>31</td>\n",
       "      <td>January</td>\n",
       "      <td>2000</td>\n",
       "      <td>22</td>\n",
       "      <td>FW</td>\n",
       "      <td>Argentina</td>\n",
       "      <td>12</td>\n",
       "      <td>3</td>\n",
       "      <td>Manchester City</td>\n",
       "      <td>English Premier League</td>\n",
       "      <td>England</td>\n",
       "      <td>0.250000</td>\n",
       "    </tr>\n",
       "    <tr>\n",
       "      <th>461</th>\n",
       "      <td>462</td>\n",
       "      <td>Ilkay</td>\n",
       "      <td>Gundogan</td>\n",
       "      <td>Gundogan, Ilkay</td>\n",
       "      <td>24-Oct-90</td>\n",
       "      <td>24</td>\n",
       "      <td>October</td>\n",
       "      <td>1990</td>\n",
       "      <td>32</td>\n",
       "      <td>MF</td>\n",
       "      <td>Germany</td>\n",
       "      <td>63</td>\n",
       "      <td>16</td>\n",
       "      <td>Manchester City</td>\n",
       "      <td>English Premier League</td>\n",
       "      <td>England</td>\n",
       "      <td>0.253968</td>\n",
       "    </tr>\n",
       "    <tr>\n",
       "      <th>508</th>\n",
       "      <td>509</td>\n",
       "      <td>Rodri</td>\n",
       "      <td>NaN</td>\n",
       "      <td>Rodri</td>\n",
       "      <td>22-Jun-96</td>\n",
       "      <td>22</td>\n",
       "      <td>June</td>\n",
       "      <td>1996</td>\n",
       "      <td>26</td>\n",
       "      <td>MF</td>\n",
       "      <td>Spain</td>\n",
       "      <td>35</td>\n",
       "      <td>1</td>\n",
       "      <td>Manchester City</td>\n",
       "      <td>English Premier League</td>\n",
       "      <td>England</td>\n",
       "      <td>0.028571</td>\n",
       "    </tr>\n",
       "    <tr>\n",
       "      <th>516</th>\n",
       "      <td>517</td>\n",
       "      <td>Aymeric</td>\n",
       "      <td>Laporte</td>\n",
       "      <td>Laporte, Aymeric</td>\n",
       "      <td>27-May-94</td>\n",
       "      <td>27</td>\n",
       "      <td>May</td>\n",
       "      <td>1994</td>\n",
       "      <td>28</td>\n",
       "      <td>DF</td>\n",
       "      <td>Spain</td>\n",
       "      <td>16</td>\n",
       "      <td>1</td>\n",
       "      <td>Manchester City</td>\n",
       "      <td>English Premier League</td>\n",
       "      <td>England</td>\n",
       "      <td>0.062500</td>\n",
       "    </tr>\n",
       "    <tr>\n",
       "      <th>525</th>\n",
       "      <td>526</td>\n",
       "      <td>Kevin</td>\n",
       "      <td>De Bruyne</td>\n",
       "      <td>De Bruyne, Kevin</td>\n",
       "      <td>28-Jun-91</td>\n",
       "      <td>28</td>\n",
       "      <td>June</td>\n",
       "      <td>1991</td>\n",
       "      <td>31</td>\n",
       "      <td>MF</td>\n",
       "      <td>Belgium</td>\n",
       "      <td>94</td>\n",
       "      <td>25</td>\n",
       "      <td>Manchester City</td>\n",
       "      <td>English Premier League</td>\n",
       "      <td>England</td>\n",
       "      <td>0.265957</td>\n",
       "    </tr>\n",
       "    <tr>\n",
       "      <th>645</th>\n",
       "      <td>646</td>\n",
       "      <td>Ederson</td>\n",
       "      <td>NaN</td>\n",
       "      <td>Ederson</td>\n",
       "      <td>17-Aug-93</td>\n",
       "      <td>17</td>\n",
       "      <td>August</td>\n",
       "      <td>1993</td>\n",
       "      <td>29</td>\n",
       "      <td>GK</td>\n",
       "      <td>Brazil</td>\n",
       "      <td>18</td>\n",
       "      <td>0</td>\n",
       "      <td>Manchester City</td>\n",
       "      <td>English Premier League</td>\n",
       "      <td>England</td>\n",
       "      <td>0.000000</td>\n",
       "    </tr>\n",
       "    <tr>\n",
       "      <th>705</th>\n",
       "      <td>706</td>\n",
       "      <td>Manuel</td>\n",
       "      <td>Akanji</td>\n",
       "      <td>Akanji, Manuel</td>\n",
       "      <td>19-Jul-95</td>\n",
       "      <td>19</td>\n",
       "      <td>July</td>\n",
       "      <td>1995</td>\n",
       "      <td>27</td>\n",
       "      <td>DF</td>\n",
       "      <td>Switzerland</td>\n",
       "      <td>43</td>\n",
       "      <td>1</td>\n",
       "      <td>Manchester City</td>\n",
       "      <td>English Premier League</td>\n",
       "      <td>England</td>\n",
       "      <td>0.023256</td>\n",
       "    </tr>\n",
       "    <tr>\n",
       "      <th>756</th>\n",
       "      <td>757</td>\n",
       "      <td>Ruben</td>\n",
       "      <td>Dias</td>\n",
       "      <td>Dias, Ruben</td>\n",
       "      <td>14-May-97</td>\n",
       "      <td>14</td>\n",
       "      <td>May</td>\n",
       "      <td>1997</td>\n",
       "      <td>25</td>\n",
       "      <td>DF</td>\n",
       "      <td>Portugal</td>\n",
       "      <td>40</td>\n",
       "      <td>2</td>\n",
       "      <td>Manchester City</td>\n",
       "      <td>English Premier League</td>\n",
       "      <td>England</td>\n",
       "      <td>0.050000</td>\n",
       "    </tr>\n",
       "    <tr>\n",
       "      <th>762</th>\n",
       "      <td>763</td>\n",
       "      <td>Bernardo</td>\n",
       "      <td>Silva</td>\n",
       "      <td>Silva, Bernardo</td>\n",
       "      <td>10-Aug-94</td>\n",
       "      <td>10</td>\n",
       "      <td>August</td>\n",
       "      <td>1994</td>\n",
       "      <td>28</td>\n",
       "      <td>FW</td>\n",
       "      <td>Portugal</td>\n",
       "      <td>73</td>\n",
       "      <td>8</td>\n",
       "      <td>Manchester City</td>\n",
       "      <td>English Premier League</td>\n",
       "      <td>England</td>\n",
       "      <td>0.109589</td>\n",
       "    </tr>\n",
       "    <tr>\n",
       "      <th>772</th>\n",
       "      <td>773</td>\n",
       "      <td>Joao</td>\n",
       "      <td>Cancelo</td>\n",
       "      <td>Cancelo, Joao</td>\n",
       "      <td>27-May-94</td>\n",
       "      <td>27</td>\n",
       "      <td>May</td>\n",
       "      <td>1994</td>\n",
       "      <td>28</td>\n",
       "      <td>DF</td>\n",
       "      <td>Portugal</td>\n",
       "      <td>37</td>\n",
       "      <td>7</td>\n",
       "      <td>Manchester City</td>\n",
       "      <td>English Premier League</td>\n",
       "      <td>England</td>\n",
       "      <td>0.189189</td>\n",
       "    </tr>\n",
       "  </tbody>\n",
       "</table>\n",
       "</div>"
      ],
      "text/plain": [
       "      No First Name Other Names         Full Name        DOB  Day of Birth  \\\n",
       "30    31     Nathan         Ake       Ake, Nathan  18-Feb-95            18   \n",
       "105  106       Kyle      Walker      Walker, Kyle  28-May-90            28   \n",
       "108  109       John      Stones      Stones, John  28-May-94            28   \n",
       "110  111       Jack    Grealish    Grealish, Jack  10-Sep-95            10   \n",
       "117  118     Kalvin    Phillips  Phillips, Kalvin   2-Dec-95             2   \n",
       "123  124       Phil       Foden       Foden, Phil  28-May-00            28   \n",
       "215  216     Julian     Alvarez   Alvarez, Julian  31-Jan-00            31   \n",
       "461  462      Ilkay    Gundogan   Gundogan, Ilkay  24-Oct-90            24   \n",
       "508  509      Rodri         NaN             Rodri  22-Jun-96            22   \n",
       "516  517    Aymeric     Laporte  Laporte, Aymeric  27-May-94            27   \n",
       "525  526      Kevin   De Bruyne  De Bruyne, Kevin  28-Jun-91            28   \n",
       "645  646    Ederson         NaN           Ederson  17-Aug-93            17   \n",
       "705  706     Manuel      Akanji    Akanji, Manuel  19-Jul-95            19   \n",
       "756  757      Ruben        Dias       Dias, Ruben  14-May-97            14   \n",
       "762  763   Bernardo       Silva   Silva, Bernardo  10-Aug-94            10   \n",
       "772  773       Joao     Cancelo     Cancelo, Joao  27-May-94            27   \n",
       "\n",
       "    Month of Birth  Year of Birth  Age Position  Nationality  \\\n",
       "30        February           1995   27       DF  Netherlands   \n",
       "105            May           1990   32       DF      England   \n",
       "108            May           1994   28       DF      England   \n",
       "110      September           1995   27       FW      England   \n",
       "117       December           1995   26       MF      England   \n",
       "123            May           2000   22       MF      England   \n",
       "215        January           2000   22       FW    Argentina   \n",
       "461        October           1990   32       MF      Germany   \n",
       "508           June           1996   26       MF        Spain   \n",
       "516            May           1994   28       DF        Spain   \n",
       "525           June           1991   31       MF      Belgium   \n",
       "645         August           1993   29       GK       Brazil   \n",
       "705           July           1995   27       DF  Switzerland   \n",
       "756            May           1997   25       DF     Portugal   \n",
       "762         August           1994   28       FW     Portugal   \n",
       "772            May           1994   28       DF     Portugal   \n",
       "\n",
       "     International Caps  International Goals             Club  \\\n",
       "30                   29                    3  Manchester City   \n",
       "105                  70                    0  Manchester City   \n",
       "108                  59                    3  Manchester City   \n",
       "110                  24                    1  Manchester City   \n",
       "117                  23                    0  Manchester City   \n",
       "123                  18                    2  Manchester City   \n",
       "215                  12                    3  Manchester City   \n",
       "461                  63                   16  Manchester City   \n",
       "508                  35                    1  Manchester City   \n",
       "516                  16                    1  Manchester City   \n",
       "525                  94                   25  Manchester City   \n",
       "645                  18                    0  Manchester City   \n",
       "705                  43                    1  Manchester City   \n",
       "756                  40                    2  Manchester City   \n",
       "762                  73                    8  Manchester City   \n",
       "772                  37                    7  Manchester City   \n",
       "\n",
       "                     League Club Country  GoalsToCaps  \n",
       "30   English Premier League      England     0.103448  \n",
       "105  English Premier League      England     0.000000  \n",
       "108  English Premier League      England     0.050847  \n",
       "110  English Premier League      England     0.041667  \n",
       "117  English Premier League      England     0.000000  \n",
       "123  English Premier League      England     0.111111  \n",
       "215  English Premier League      England     0.250000  \n",
       "461  English Premier League      England     0.253968  \n",
       "508  English Premier League      England     0.028571  \n",
       "516  English Premier League      England     0.062500  \n",
       "525  English Premier League      England     0.265957  \n",
       "645  English Premier League      England     0.000000  \n",
       "705  English Premier League      England     0.023256  \n",
       "756  English Premier League      England     0.050000  \n",
       "762  English Premier League      England     0.109589  \n",
       "772  English Premier League      England     0.189189  "
      ]
     },
     "metadata": {},
     "output_type": "display_data"
    }
   ],
   "source": [
    "display(data.loc[data[\"Club\"] == \"Manchester City\", :])"
   ]
  },
  {
   "cell_type": "markdown",
   "id": "a7c066c6",
   "metadata": {},
   "source": [
    "Because I am biased, Arsenal players at the world cup."
   ]
  },
  {
   "cell_type": "code",
   "execution_count": 18,
   "id": "2ade4a23",
   "metadata": {},
   "outputs": [
    {
     "data": {
      "text/html": [
       "<div>\n",
       "<style scoped>\n",
       "    .dataframe tbody tr th:only-of-type {\n",
       "        vertical-align: middle;\n",
       "    }\n",
       "\n",
       "    .dataframe tbody tr th {\n",
       "        vertical-align: top;\n",
       "    }\n",
       "\n",
       "    .dataframe thead th {\n",
       "        text-align: right;\n",
       "    }\n",
       "</style>\n",
       "<table border=\"1\" class=\"dataframe\">\n",
       "  <thead>\n",
       "    <tr style=\"text-align: right;\">\n",
       "      <th></th>\n",
       "      <th>No</th>\n",
       "      <th>First Name</th>\n",
       "      <th>Other Names</th>\n",
       "      <th>Full Name</th>\n",
       "      <th>DOB</th>\n",
       "      <th>Day of Birth</th>\n",
       "      <th>Month of Birth</th>\n",
       "      <th>Year of Birth</th>\n",
       "      <th>Age</th>\n",
       "      <th>Position</th>\n",
       "      <th>Nationality</th>\n",
       "      <th>International Caps</th>\n",
       "      <th>International Goals</th>\n",
       "      <th>Club</th>\n",
       "      <th>League</th>\n",
       "      <th>Club Country</th>\n",
       "      <th>GoalsToCaps</th>\n",
       "    </tr>\n",
       "  </thead>\n",
       "  <tbody>\n",
       "    <tr>\n",
       "      <th>120</th>\n",
       "      <td>121</td>\n",
       "      <td>Bukayo</td>\n",
       "      <td>Saka</td>\n",
       "      <td>Saka, Bukayo</td>\n",
       "      <td>5-Sep-01</td>\n",
       "      <td>5</td>\n",
       "      <td>September</td>\n",
       "      <td>2001</td>\n",
       "      <td>21</td>\n",
       "      <td>FW</td>\n",
       "      <td>England</td>\n",
       "      <td>20</td>\n",
       "      <td>4</td>\n",
       "      <td>Arsenal</td>\n",
       "      <td>English Premier League</td>\n",
       "      <td>England</td>\n",
       "      <td>0.200000</td>\n",
       "    </tr>\n",
       "    <tr>\n",
       "      <th>124</th>\n",
       "      <td>125</td>\n",
       "      <td>Ben</td>\n",
       "      <td>White</td>\n",
       "      <td>White, Ben</td>\n",
       "      <td>8-Oct-97</td>\n",
       "      <td>8</td>\n",
       "      <td>October</td>\n",
       "      <td>1997</td>\n",
       "      <td>25</td>\n",
       "      <td>DF</td>\n",
       "      <td>England</td>\n",
       "      <td>4</td>\n",
       "      <td>0</td>\n",
       "      <td>Arsenal</td>\n",
       "      <td>English Premier League</td>\n",
       "      <td>England</td>\n",
       "      <td>0.000000</td>\n",
       "    </tr>\n",
       "    <tr>\n",
       "      <th>126</th>\n",
       "      <td>127</td>\n",
       "      <td>Aaron</td>\n",
       "      <td>Ramsdale</td>\n",
       "      <td>Ramsdale, Aaron</td>\n",
       "      <td>14-May-98</td>\n",
       "      <td>14</td>\n",
       "      <td>May</td>\n",
       "      <td>1998</td>\n",
       "      <td>24</td>\n",
       "      <td>GK</td>\n",
       "      <td>England</td>\n",
       "      <td>3</td>\n",
       "      <td>0</td>\n",
       "      <td>Arsenal</td>\n",
       "      <td>English Premier League</td>\n",
       "      <td>England</td>\n",
       "      <td>0.000000</td>\n",
       "    </tr>\n",
       "    <tr>\n",
       "      <th>155</th>\n",
       "      <td>156</td>\n",
       "      <td>Matt</td>\n",
       "      <td>Turner</td>\n",
       "      <td>Turner, Matt</td>\n",
       "      <td>24-Jun-94</td>\n",
       "      <td>24</td>\n",
       "      <td>June</td>\n",
       "      <td>1994</td>\n",
       "      <td>28</td>\n",
       "      <td>GK</td>\n",
       "      <td>United States</td>\n",
       "      <td>20</td>\n",
       "      <td>0</td>\n",
       "      <td>Arsenal</td>\n",
       "      <td>English Premier League</td>\n",
       "      <td>England</td>\n",
       "      <td>0.000000</td>\n",
       "    </tr>\n",
       "    <tr>\n",
       "      <th>379</th>\n",
       "      <td>380</td>\n",
       "      <td>William</td>\n",
       "      <td>Saliba</td>\n",
       "      <td>Saliba, William</td>\n",
       "      <td>24-Mar-01</td>\n",
       "      <td>24</td>\n",
       "      <td>March</td>\n",
       "      <td>2001</td>\n",
       "      <td>21</td>\n",
       "      <td>DF</td>\n",
       "      <td>France</td>\n",
       "      <td>7</td>\n",
       "      <td>0</td>\n",
       "      <td>Arsenal</td>\n",
       "      <td>English Premier League</td>\n",
       "      <td>England</td>\n",
       "      <td>0.000000</td>\n",
       "    </tr>\n",
       "    <tr>\n",
       "      <th>482</th>\n",
       "      <td>483</td>\n",
       "      <td>Takehiro</td>\n",
       "      <td>Tomiyasu</td>\n",
       "      <td>Tomiyasu, Takehiro</td>\n",
       "      <td>5-Nov-98</td>\n",
       "      <td>5</td>\n",
       "      <td>November</td>\n",
       "      <td>1998</td>\n",
       "      <td>24</td>\n",
       "      <td>DF</td>\n",
       "      <td>Japan</td>\n",
       "      <td>29</td>\n",
       "      <td>1</td>\n",
       "      <td>Arsenal</td>\n",
       "      <td>English Premier League</td>\n",
       "      <td>England</td>\n",
       "      <td>0.034483</td>\n",
       "    </tr>\n",
       "    <tr>\n",
       "      <th>640</th>\n",
       "      <td>641</td>\n",
       "      <td>Gabriel</td>\n",
       "      <td>Jesus</td>\n",
       "      <td>Jesus, Gabriel</td>\n",
       "      <td>3-Apr-97</td>\n",
       "      <td>3</td>\n",
       "      <td>April</td>\n",
       "      <td>1997</td>\n",
       "      <td>25</td>\n",
       "      <td>FW</td>\n",
       "      <td>Brazil</td>\n",
       "      <td>56</td>\n",
       "      <td>19</td>\n",
       "      <td>Arsenal</td>\n",
       "      <td>English Premier League</td>\n",
       "      <td>England</td>\n",
       "      <td>0.339286</td>\n",
       "    </tr>\n",
       "    <tr>\n",
       "      <th>648</th>\n",
       "      <td>649</td>\n",
       "      <td>Gabriel</td>\n",
       "      <td>Martinelli</td>\n",
       "      <td>Martinelli, Gabriel</td>\n",
       "      <td>18-Jun-01</td>\n",
       "      <td>18</td>\n",
       "      <td>June</td>\n",
       "      <td>2001</td>\n",
       "      <td>21</td>\n",
       "      <td>FW</td>\n",
       "      <td>Brazil</td>\n",
       "      <td>3</td>\n",
       "      <td>0</td>\n",
       "      <td>Arsenal</td>\n",
       "      <td>English Premier League</td>\n",
       "      <td>England</td>\n",
       "      <td>0.000000</td>\n",
       "    </tr>\n",
       "    <tr>\n",
       "      <th>710</th>\n",
       "      <td>711</td>\n",
       "      <td>Granit</td>\n",
       "      <td>Xhaka</td>\n",
       "      <td>Xhaka, Granit</td>\n",
       "      <td>27-Sep-92</td>\n",
       "      <td>27</td>\n",
       "      <td>September</td>\n",
       "      <td>1992</td>\n",
       "      <td>30</td>\n",
       "      <td>MF</td>\n",
       "      <td>Switzerland</td>\n",
       "      <td>107</td>\n",
       "      <td>12</td>\n",
       "      <td>Arsenal</td>\n",
       "      <td>English Premier League</td>\n",
       "      <td>England</td>\n",
       "      <td>0.112150</td>\n",
       "    </tr>\n",
       "    <tr>\n",
       "      <th>731</th>\n",
       "      <td>732</td>\n",
       "      <td>Thomas</td>\n",
       "      <td>Partey</td>\n",
       "      <td>Partey, Thomas</td>\n",
       "      <td>13-Jun-93</td>\n",
       "      <td>13</td>\n",
       "      <td>June</td>\n",
       "      <td>1993</td>\n",
       "      <td>29</td>\n",
       "      <td>MF</td>\n",
       "      <td>Ghana</td>\n",
       "      <td>40</td>\n",
       "      <td>13</td>\n",
       "      <td>Arsenal</td>\n",
       "      <td>English Premier League</td>\n",
       "      <td>England</td>\n",
       "      <td>0.325000</td>\n",
       "    </tr>\n",
       "  </tbody>\n",
       "</table>\n",
       "</div>"
      ],
      "text/plain": [
       "      No First Name Other Names            Full Name        DOB  Day of Birth  \\\n",
       "120  121     Bukayo        Saka         Saka, Bukayo   5-Sep-01             5   \n",
       "124  125        Ben       White           White, Ben   8-Oct-97             8   \n",
       "126  127      Aaron    Ramsdale      Ramsdale, Aaron  14-May-98            14   \n",
       "155  156       Matt      Turner         Turner, Matt  24-Jun-94            24   \n",
       "379  380    William      Saliba      Saliba, William  24-Mar-01            24   \n",
       "482  483   Takehiro    Tomiyasu   Tomiyasu, Takehiro   5-Nov-98             5   \n",
       "640  641    Gabriel       Jesus       Jesus, Gabriel   3-Apr-97             3   \n",
       "648  649    Gabriel  Martinelli  Martinelli, Gabriel  18-Jun-01            18   \n",
       "710  711     Granit       Xhaka        Xhaka, Granit  27-Sep-92            27   \n",
       "731  732     Thomas      Partey       Partey, Thomas  13-Jun-93            13   \n",
       "\n",
       "    Month of Birth  Year of Birth  Age Position    Nationality  \\\n",
       "120      September           2001   21       FW        England   \n",
       "124        October           1997   25       DF        England   \n",
       "126            May           1998   24       GK        England   \n",
       "155           June           1994   28       GK  United States   \n",
       "379          March           2001   21       DF         France   \n",
       "482       November           1998   24       DF          Japan   \n",
       "640          April           1997   25       FW         Brazil   \n",
       "648           June           2001   21       FW         Brazil   \n",
       "710      September           1992   30       MF    Switzerland   \n",
       "731           June           1993   29       MF          Ghana   \n",
       "\n",
       "     International Caps  International Goals     Club                  League  \\\n",
       "120                  20                    4  Arsenal  English Premier League   \n",
       "124                   4                    0  Arsenal  English Premier League   \n",
       "126                   3                    0  Arsenal  English Premier League   \n",
       "155                  20                    0  Arsenal  English Premier League   \n",
       "379                   7                    0  Arsenal  English Premier League   \n",
       "482                  29                    1  Arsenal  English Premier League   \n",
       "640                  56                   19  Arsenal  English Premier League   \n",
       "648                   3                    0  Arsenal  English Premier League   \n",
       "710                 107                   12  Arsenal  English Premier League   \n",
       "731                  40                   13  Arsenal  English Premier League   \n",
       "\n",
       "    Club Country  GoalsToCaps  \n",
       "120      England     0.200000  \n",
       "124      England     0.000000  \n",
       "126      England     0.000000  \n",
       "155      England     0.000000  \n",
       "379      England     0.000000  \n",
       "482      England     0.034483  \n",
       "640      England     0.339286  \n",
       "648      England     0.000000  \n",
       "710      England     0.112150  \n",
       "731      England     0.325000  "
      ]
     },
     "metadata": {},
     "output_type": "display_data"
    }
   ],
   "source": [
    "display(data.loc[data[\"Club\"] == \"Arsenal\", :])"
   ]
  },
  {
   "cell_type": "markdown",
   "id": "77bfae45",
   "metadata": {},
   "source": [
    "Representation in the 0.75 Quantile"
   ]
  },
  {
   "cell_type": "code",
   "execution_count": 19,
   "id": "001eb710",
   "metadata": {},
   "outputs": [
    {
     "data": {
      "application/vnd.plotly.v1+json": {
       "config": {
        "plotlyServerURL": "https://plot.ly"
       },
       "data": [
        {
         "alignmentgroup": "True",
         "customdata": [
          [
           "Italian Serie A",
           "Italy"
          ],
          [
           "English League Championship",
           "England"
          ],
          [
           "Canada Premeir League",
           "Canada"
          ],
          [
           "French Ligue 1",
           "France"
          ],
          [
           "German 1. Bundesliga",
           "Germany"
          ],
          [
           "Costa Rica Premeir League",
           "Costa Rica"
          ],
          [
           "Portuguese Liga ZON SAGRES",
           "Portugal"
          ],
          [
           "Korean K League 1",
           "South Korea"
          ],
          [
           "Portuguese Liga ZON SAGRES",
           "Portugal"
          ],
          [
           "English Premier League",
           "England"
          ],
          [
           "German 1. Bundesliga",
           "Germany"
          ],
          [
           "German 1. Bundesliga",
           "Germany"
          ],
          [
           "Saudi Abdul L. Jameel League",
           "Saudi Arabia"
          ],
          [
           "English Premier League",
           "England"
          ],
          [
           "English Premier League",
           "England"
          ],
          [
           "Qatar Stars League",
           "Qatar"
          ],
          [
           "Italian Serie A",
           "Italy"
          ],
          [
           "Belgian Jupiler Pro League",
           "Belgium"
          ],
          [
           "French Ligue 1",
           "France"
          ],
          [
           "English Premier League",
           "England"
          ],
          [
           "Spain Primera Division",
           "Spain"
          ],
          [
           "English Premier League",
           "England"
          ],
          [
           "Italian Serie A",
           "Italy"
          ],
          [
           "German 1. Bundesliga",
           "Germany"
          ],
          [
           "Holland Eredivisie",
           "Netherlands"
          ],
          [
           "English Premier League",
           "England"
          ],
          [
           "French Ligue 1",
           "France"
          ],
          [
           "English Premier League",
           "England"
          ],
          [
           "Saudi Abdul L. Jameel League",
           "Saudi Arabia"
          ],
          [
           "Spain Primera Division",
           "Spain"
          ],
          [
           "Spain Primera Division",
           "Spain"
          ],
          [
           "English Premier League",
           "England"
          ],
          [
           "Qatar Stars League",
           "Qatar"
          ],
          [
           "English Premier League",
           "England"
          ],
          [
           "German 1. Bundesliga",
           "Germany"
          ],
          [
           "Spain Primera Division",
           "Spain"
          ]
         ],
         "hovertemplate": "Club Name=%{x}<br>Representation=%{y}<br>League=%{customdata[0]}<br>League Country=%{customdata[1]}<extra></extra>",
         "legendgroup": "",
         "marker": {
          "color": "#636efa",
          "pattern": {
           "shape": ""
          }
         },
         "name": "",
         "offsetgroup": "",
         "orientation": "v",
         "showlegend": false,
         "textposition": "auto",
         "type": "bar",
         "x": [
          "Internazionale",
          "Fulham",
          "CF Montréal",
          "Monaco",
          "Borussia Mönchengladbach",
          "Herediano",
          "Porto",
          "Jeonbuk Hyundai Motors",
          "Benfica",
          "Brentford",
          "RB Leipzig",
          "Eintracht Frankfurt",
          "Al-Nassr",
          "Liverpool",
          "Leicester City",
          "Al-Duhail",
          "Milan",
          "Club Brugge",
          "Rennes",
          "Brighton & Hove Albion",
          "Sevilla",
          "Arsenal",
          "Juventus",
          "Borussia Dortmund",
          "Ajax",
          "Tottenham Hotspur",
          "Paris Saint-Germain",
          "Chelsea",
          "Al-Hilal",
          "Atlético Madrid",
          "Real Madrid",
          "Manchester United",
          "Al-Sadd",
          "Manchester City",
          "Bayern Munich",
          "Barcelona"
         ],
         "xaxis": "x",
         "y": [
          6,
          6,
          6,
          6,
          6,
          6,
          6,
          6,
          6,
          6,
          7,
          7,
          7,
          7,
          7,
          7,
          7,
          8,
          8,
          8,
          10,
          10,
          11,
          11,
          11,
          11,
          11,
          12,
          12,
          12,
          13,
          14,
          15,
          16,
          16,
          17
         ],
         "yaxis": "y"
        }
       ],
       "layout": {
        "barmode": "relative",
        "legend": {
         "tracegroupgap": 0
        },
        "template": {
         "data": {
          "bar": [
           {
            "error_x": {
             "color": "#2a3f5f"
            },
            "error_y": {
             "color": "#2a3f5f"
            },
            "marker": {
             "line": {
              "color": "#E5ECF6",
              "width": 0.5
             },
             "pattern": {
              "fillmode": "overlay",
              "size": 10,
              "solidity": 0.2
             }
            },
            "type": "bar"
           }
          ],
          "barpolar": [
           {
            "marker": {
             "line": {
              "color": "#E5ECF6",
              "width": 0.5
             },
             "pattern": {
              "fillmode": "overlay",
              "size": 10,
              "solidity": 0.2
             }
            },
            "type": "barpolar"
           }
          ],
          "carpet": [
           {
            "aaxis": {
             "endlinecolor": "#2a3f5f",
             "gridcolor": "white",
             "linecolor": "white",
             "minorgridcolor": "white",
             "startlinecolor": "#2a3f5f"
            },
            "baxis": {
             "endlinecolor": "#2a3f5f",
             "gridcolor": "white",
             "linecolor": "white",
             "minorgridcolor": "white",
             "startlinecolor": "#2a3f5f"
            },
            "type": "carpet"
           }
          ],
          "choropleth": [
           {
            "colorbar": {
             "outlinewidth": 0,
             "ticks": ""
            },
            "type": "choropleth"
           }
          ],
          "contour": [
           {
            "colorbar": {
             "outlinewidth": 0,
             "ticks": ""
            },
            "colorscale": [
             [
              0,
              "#0d0887"
             ],
             [
              0.1111111111111111,
              "#46039f"
             ],
             [
              0.2222222222222222,
              "#7201a8"
             ],
             [
              0.3333333333333333,
              "#9c179e"
             ],
             [
              0.4444444444444444,
              "#bd3786"
             ],
             [
              0.5555555555555556,
              "#d8576b"
             ],
             [
              0.6666666666666666,
              "#ed7953"
             ],
             [
              0.7777777777777778,
              "#fb9f3a"
             ],
             [
              0.8888888888888888,
              "#fdca26"
             ],
             [
              1,
              "#f0f921"
             ]
            ],
            "type": "contour"
           }
          ],
          "contourcarpet": [
           {
            "colorbar": {
             "outlinewidth": 0,
             "ticks": ""
            },
            "type": "contourcarpet"
           }
          ],
          "heatmap": [
           {
            "colorbar": {
             "outlinewidth": 0,
             "ticks": ""
            },
            "colorscale": [
             [
              0,
              "#0d0887"
             ],
             [
              0.1111111111111111,
              "#46039f"
             ],
             [
              0.2222222222222222,
              "#7201a8"
             ],
             [
              0.3333333333333333,
              "#9c179e"
             ],
             [
              0.4444444444444444,
              "#bd3786"
             ],
             [
              0.5555555555555556,
              "#d8576b"
             ],
             [
              0.6666666666666666,
              "#ed7953"
             ],
             [
              0.7777777777777778,
              "#fb9f3a"
             ],
             [
              0.8888888888888888,
              "#fdca26"
             ],
             [
              1,
              "#f0f921"
             ]
            ],
            "type": "heatmap"
           }
          ],
          "heatmapgl": [
           {
            "colorbar": {
             "outlinewidth": 0,
             "ticks": ""
            },
            "colorscale": [
             [
              0,
              "#0d0887"
             ],
             [
              0.1111111111111111,
              "#46039f"
             ],
             [
              0.2222222222222222,
              "#7201a8"
             ],
             [
              0.3333333333333333,
              "#9c179e"
             ],
             [
              0.4444444444444444,
              "#bd3786"
             ],
             [
              0.5555555555555556,
              "#d8576b"
             ],
             [
              0.6666666666666666,
              "#ed7953"
             ],
             [
              0.7777777777777778,
              "#fb9f3a"
             ],
             [
              0.8888888888888888,
              "#fdca26"
             ],
             [
              1,
              "#f0f921"
             ]
            ],
            "type": "heatmapgl"
           }
          ],
          "histogram": [
           {
            "marker": {
             "pattern": {
              "fillmode": "overlay",
              "size": 10,
              "solidity": 0.2
             }
            },
            "type": "histogram"
           }
          ],
          "histogram2d": [
           {
            "colorbar": {
             "outlinewidth": 0,
             "ticks": ""
            },
            "colorscale": [
             [
              0,
              "#0d0887"
             ],
             [
              0.1111111111111111,
              "#46039f"
             ],
             [
              0.2222222222222222,
              "#7201a8"
             ],
             [
              0.3333333333333333,
              "#9c179e"
             ],
             [
              0.4444444444444444,
              "#bd3786"
             ],
             [
              0.5555555555555556,
              "#d8576b"
             ],
             [
              0.6666666666666666,
              "#ed7953"
             ],
             [
              0.7777777777777778,
              "#fb9f3a"
             ],
             [
              0.8888888888888888,
              "#fdca26"
             ],
             [
              1,
              "#f0f921"
             ]
            ],
            "type": "histogram2d"
           }
          ],
          "histogram2dcontour": [
           {
            "colorbar": {
             "outlinewidth": 0,
             "ticks": ""
            },
            "colorscale": [
             [
              0,
              "#0d0887"
             ],
             [
              0.1111111111111111,
              "#46039f"
             ],
             [
              0.2222222222222222,
              "#7201a8"
             ],
             [
              0.3333333333333333,
              "#9c179e"
             ],
             [
              0.4444444444444444,
              "#bd3786"
             ],
             [
              0.5555555555555556,
              "#d8576b"
             ],
             [
              0.6666666666666666,
              "#ed7953"
             ],
             [
              0.7777777777777778,
              "#fb9f3a"
             ],
             [
              0.8888888888888888,
              "#fdca26"
             ],
             [
              1,
              "#f0f921"
             ]
            ],
            "type": "histogram2dcontour"
           }
          ],
          "mesh3d": [
           {
            "colorbar": {
             "outlinewidth": 0,
             "ticks": ""
            },
            "type": "mesh3d"
           }
          ],
          "parcoords": [
           {
            "line": {
             "colorbar": {
              "outlinewidth": 0,
              "ticks": ""
             }
            },
            "type": "parcoords"
           }
          ],
          "pie": [
           {
            "automargin": true,
            "type": "pie"
           }
          ],
          "scatter": [
           {
            "marker": {
             "colorbar": {
              "outlinewidth": 0,
              "ticks": ""
             }
            },
            "type": "scatter"
           }
          ],
          "scatter3d": [
           {
            "line": {
             "colorbar": {
              "outlinewidth": 0,
              "ticks": ""
             }
            },
            "marker": {
             "colorbar": {
              "outlinewidth": 0,
              "ticks": ""
             }
            },
            "type": "scatter3d"
           }
          ],
          "scattercarpet": [
           {
            "marker": {
             "colorbar": {
              "outlinewidth": 0,
              "ticks": ""
             }
            },
            "type": "scattercarpet"
           }
          ],
          "scattergeo": [
           {
            "marker": {
             "colorbar": {
              "outlinewidth": 0,
              "ticks": ""
             }
            },
            "type": "scattergeo"
           }
          ],
          "scattergl": [
           {
            "marker": {
             "colorbar": {
              "outlinewidth": 0,
              "ticks": ""
             }
            },
            "type": "scattergl"
           }
          ],
          "scattermapbox": [
           {
            "marker": {
             "colorbar": {
              "outlinewidth": 0,
              "ticks": ""
             }
            },
            "type": "scattermapbox"
           }
          ],
          "scatterpolar": [
           {
            "marker": {
             "colorbar": {
              "outlinewidth": 0,
              "ticks": ""
             }
            },
            "type": "scatterpolar"
           }
          ],
          "scatterpolargl": [
           {
            "marker": {
             "colorbar": {
              "outlinewidth": 0,
              "ticks": ""
             }
            },
            "type": "scatterpolargl"
           }
          ],
          "scatterternary": [
           {
            "marker": {
             "colorbar": {
              "outlinewidth": 0,
              "ticks": ""
             }
            },
            "type": "scatterternary"
           }
          ],
          "surface": [
           {
            "colorbar": {
             "outlinewidth": 0,
             "ticks": ""
            },
            "colorscale": [
             [
              0,
              "#0d0887"
             ],
             [
              0.1111111111111111,
              "#46039f"
             ],
             [
              0.2222222222222222,
              "#7201a8"
             ],
             [
              0.3333333333333333,
              "#9c179e"
             ],
             [
              0.4444444444444444,
              "#bd3786"
             ],
             [
              0.5555555555555556,
              "#d8576b"
             ],
             [
              0.6666666666666666,
              "#ed7953"
             ],
             [
              0.7777777777777778,
              "#fb9f3a"
             ],
             [
              0.8888888888888888,
              "#fdca26"
             ],
             [
              1,
              "#f0f921"
             ]
            ],
            "type": "surface"
           }
          ],
          "table": [
           {
            "cells": {
             "fill": {
              "color": "#EBF0F8"
             },
             "line": {
              "color": "white"
             }
            },
            "header": {
             "fill": {
              "color": "#C8D4E3"
             },
             "line": {
              "color": "white"
             }
            },
            "type": "table"
           }
          ]
         },
         "layout": {
          "annotationdefaults": {
           "arrowcolor": "#2a3f5f",
           "arrowhead": 0,
           "arrowwidth": 1
          },
          "autotypenumbers": "strict",
          "coloraxis": {
           "colorbar": {
            "outlinewidth": 0,
            "ticks": ""
           }
          },
          "colorscale": {
           "diverging": [
            [
             0,
             "#8e0152"
            ],
            [
             0.1,
             "#c51b7d"
            ],
            [
             0.2,
             "#de77ae"
            ],
            [
             0.3,
             "#f1b6da"
            ],
            [
             0.4,
             "#fde0ef"
            ],
            [
             0.5,
             "#f7f7f7"
            ],
            [
             0.6,
             "#e6f5d0"
            ],
            [
             0.7,
             "#b8e186"
            ],
            [
             0.8,
             "#7fbc41"
            ],
            [
             0.9,
             "#4d9221"
            ],
            [
             1,
             "#276419"
            ]
           ],
           "sequential": [
            [
             0,
             "#0d0887"
            ],
            [
             0.1111111111111111,
             "#46039f"
            ],
            [
             0.2222222222222222,
             "#7201a8"
            ],
            [
             0.3333333333333333,
             "#9c179e"
            ],
            [
             0.4444444444444444,
             "#bd3786"
            ],
            [
             0.5555555555555556,
             "#d8576b"
            ],
            [
             0.6666666666666666,
             "#ed7953"
            ],
            [
             0.7777777777777778,
             "#fb9f3a"
            ],
            [
             0.8888888888888888,
             "#fdca26"
            ],
            [
             1,
             "#f0f921"
            ]
           ],
           "sequentialminus": [
            [
             0,
             "#0d0887"
            ],
            [
             0.1111111111111111,
             "#46039f"
            ],
            [
             0.2222222222222222,
             "#7201a8"
            ],
            [
             0.3333333333333333,
             "#9c179e"
            ],
            [
             0.4444444444444444,
             "#bd3786"
            ],
            [
             0.5555555555555556,
             "#d8576b"
            ],
            [
             0.6666666666666666,
             "#ed7953"
            ],
            [
             0.7777777777777778,
             "#fb9f3a"
            ],
            [
             0.8888888888888888,
             "#fdca26"
            ],
            [
             1,
             "#f0f921"
            ]
           ]
          },
          "colorway": [
           "#636efa",
           "#EF553B",
           "#00cc96",
           "#ab63fa",
           "#FFA15A",
           "#19d3f3",
           "#FF6692",
           "#B6E880",
           "#FF97FF",
           "#FECB52"
          ],
          "font": {
           "color": "#2a3f5f"
          },
          "geo": {
           "bgcolor": "white",
           "lakecolor": "white",
           "landcolor": "#E5ECF6",
           "showlakes": true,
           "showland": true,
           "subunitcolor": "white"
          },
          "hoverlabel": {
           "align": "left"
          },
          "hovermode": "closest",
          "mapbox": {
           "style": "light"
          },
          "paper_bgcolor": "white",
          "plot_bgcolor": "#E5ECF6",
          "polar": {
           "angularaxis": {
            "gridcolor": "white",
            "linecolor": "white",
            "ticks": ""
           },
           "bgcolor": "#E5ECF6",
           "radialaxis": {
            "gridcolor": "white",
            "linecolor": "white",
            "ticks": ""
           }
          },
          "scene": {
           "xaxis": {
            "backgroundcolor": "#E5ECF6",
            "gridcolor": "white",
            "gridwidth": 2,
            "linecolor": "white",
            "showbackground": true,
            "ticks": "",
            "zerolinecolor": "white"
           },
           "yaxis": {
            "backgroundcolor": "#E5ECF6",
            "gridcolor": "white",
            "gridwidth": 2,
            "linecolor": "white",
            "showbackground": true,
            "ticks": "",
            "zerolinecolor": "white"
           },
           "zaxis": {
            "backgroundcolor": "#E5ECF6",
            "gridcolor": "white",
            "gridwidth": 2,
            "linecolor": "white",
            "showbackground": true,
            "ticks": "",
            "zerolinecolor": "white"
           }
          },
          "shapedefaults": {
           "line": {
            "color": "#2a3f5f"
           }
          },
          "ternary": {
           "aaxis": {
            "gridcolor": "white",
            "linecolor": "white",
            "ticks": ""
           },
           "baxis": {
            "gridcolor": "white",
            "linecolor": "white",
            "ticks": ""
           },
           "bgcolor": "#E5ECF6",
           "caxis": {
            "gridcolor": "white",
            "linecolor": "white",
            "ticks": ""
           }
          },
          "title": {
           "x": 0.05
          },
          "xaxis": {
           "automargin": true,
           "gridcolor": "white",
           "linecolor": "white",
           "ticks": "",
           "title": {
            "standoff": 15
           },
           "zerolinecolor": "white",
           "zerolinewidth": 2
          },
          "yaxis": {
           "automargin": true,
           "gridcolor": "white",
           "linecolor": "white",
           "ticks": "",
           "title": {
            "standoff": 15
           },
           "zerolinecolor": "white",
           "zerolinewidth": 2
          }
         }
        },
        "title": {
         "text": "Football Club Representation Above 0.75 Quantile"
        },
        "xaxis": {
         "anchor": "y",
         "domain": [
          0,
          1
         ],
         "title": {
          "text": "Club Name"
         }
        },
        "yaxis": {
         "anchor": "x",
         "domain": [
          0,
          1
         ],
         "title": {
          "text": "Representation"
         }
        }
       }
      },
      "text/html": [
       "<div>                            <div id=\"b61ada8c-e49d-4176-aedc-ca76763843e1\" class=\"plotly-graph-div\" style=\"height:525px; width:100%;\"></div>            <script type=\"text/javascript\">                require([\"plotly\"], function(Plotly) {                    window.PLOTLYENV=window.PLOTLYENV || {};                                    if (document.getElementById(\"b61ada8c-e49d-4176-aedc-ca76763843e1\")) {                    Plotly.newPlot(                        \"b61ada8c-e49d-4176-aedc-ca76763843e1\",                        [{\"alignmentgroup\":\"True\",\"customdata\":[[\"Italian Serie A\",\"Italy\"],[\"English League Championship\",\"England\"],[\"Canada Premeir League\",\"Canada\"],[\"French Ligue 1\",\"France\"],[\"German 1. Bundesliga\",\"Germany\"],[\"Costa Rica Premeir League\",\"Costa Rica\"],[\"Portuguese Liga ZON SAGRES\",\"Portugal\"],[\"Korean K League 1\",\"South Korea\"],[\"Portuguese Liga ZON SAGRES\",\"Portugal\"],[\"English Premier League\",\"England\"],[\"German 1. Bundesliga\",\"Germany\"],[\"German 1. Bundesliga\",\"Germany\"],[\"Saudi Abdul L. Jameel League\",\"Saudi Arabia\"],[\"English Premier League\",\"England\"],[\"English Premier League\",\"England\"],[\"Qatar Stars League\",\"Qatar\"],[\"Italian Serie A\",\"Italy\"],[\"Belgian Jupiler Pro League\",\"Belgium\"],[\"French Ligue 1\",\"France\"],[\"English Premier League\",\"England\"],[\"Spain Primera Division\",\"Spain\"],[\"English Premier League\",\"England\"],[\"Italian Serie A\",\"Italy\"],[\"German 1. Bundesliga\",\"Germany\"],[\"Holland Eredivisie\",\"Netherlands\"],[\"English Premier League\",\"England\"],[\"French Ligue 1\",\"France\"],[\"English Premier League\",\"England\"],[\"Saudi Abdul L. Jameel League\",\"Saudi Arabia\"],[\"Spain Primera Division\",\"Spain\"],[\"Spain Primera Division\",\"Spain\"],[\"English Premier League\",\"England\"],[\"Qatar Stars League\",\"Qatar\"],[\"English Premier League\",\"England\"],[\"German 1. Bundesliga\",\"Germany\"],[\"Spain Primera Division\",\"Spain\"]],\"hovertemplate\":\"Club Name=%{x}<br>Representation=%{y}<br>League=%{customdata[0]}<br>League Country=%{customdata[1]}<extra></extra>\",\"legendgroup\":\"\",\"marker\":{\"color\":\"#636efa\",\"pattern\":{\"shape\":\"\"}},\"name\":\"\",\"offsetgroup\":\"\",\"orientation\":\"v\",\"showlegend\":false,\"textposition\":\"auto\",\"x\":[\"Internazionale\",\"Fulham\",\"CF Montr\\u00e9al\",\"Monaco\",\"Borussia M\\u00f6nchengladbach\",\"Herediano\",\"Porto\",\"Jeonbuk Hyundai Motors\",\"Benfica\",\"Brentford\",\"RB Leipzig\",\"Eintracht Frankfurt\",\"Al-Nassr\",\"Liverpool\",\"Leicester City\",\"Al-Duhail\",\"Milan\",\"Club Brugge\",\"Rennes\",\"Brighton & Hove Albion\",\"Sevilla\",\"Arsenal\",\"Juventus\",\"Borussia Dortmund\",\"Ajax\",\"Tottenham Hotspur\",\"Paris Saint-Germain\",\"Chelsea\",\"Al-Hilal\",\"Atl\\u00e9tico Madrid\",\"Real Madrid\",\"Manchester United\",\"Al-Sadd\",\"Manchester City\",\"Bayern Munich\",\"Barcelona\"],\"xaxis\":\"x\",\"y\":[6,6,6,6,6,6,6,6,6,6,7,7,7,7,7,7,7,8,8,8,10,10,11,11,11,11,11,12,12,12,13,14,15,16,16,17],\"yaxis\":\"y\",\"type\":\"bar\"}],                        {\"template\":{\"data\":{\"bar\":[{\"error_x\":{\"color\":\"#2a3f5f\"},\"error_y\":{\"color\":\"#2a3f5f\"},\"marker\":{\"line\":{\"color\":\"#E5ECF6\",\"width\":0.5},\"pattern\":{\"fillmode\":\"overlay\",\"size\":10,\"solidity\":0.2}},\"type\":\"bar\"}],\"barpolar\":[{\"marker\":{\"line\":{\"color\":\"#E5ECF6\",\"width\":0.5},\"pattern\":{\"fillmode\":\"overlay\",\"size\":10,\"solidity\":0.2}},\"type\":\"barpolar\"}],\"carpet\":[{\"aaxis\":{\"endlinecolor\":\"#2a3f5f\",\"gridcolor\":\"white\",\"linecolor\":\"white\",\"minorgridcolor\":\"white\",\"startlinecolor\":\"#2a3f5f\"},\"baxis\":{\"endlinecolor\":\"#2a3f5f\",\"gridcolor\":\"white\",\"linecolor\":\"white\",\"minorgridcolor\":\"white\",\"startlinecolor\":\"#2a3f5f\"},\"type\":\"carpet\"}],\"choropleth\":[{\"colorbar\":{\"outlinewidth\":0,\"ticks\":\"\"},\"type\":\"choropleth\"}],\"contour\":[{\"colorbar\":{\"outlinewidth\":0,\"ticks\":\"\"},\"colorscale\":[[0.0,\"#0d0887\"],[0.1111111111111111,\"#46039f\"],[0.2222222222222222,\"#7201a8\"],[0.3333333333333333,\"#9c179e\"],[0.4444444444444444,\"#bd3786\"],[0.5555555555555556,\"#d8576b\"],[0.6666666666666666,\"#ed7953\"],[0.7777777777777778,\"#fb9f3a\"],[0.8888888888888888,\"#fdca26\"],[1.0,\"#f0f921\"]],\"type\":\"contour\"}],\"contourcarpet\":[{\"colorbar\":{\"outlinewidth\":0,\"ticks\":\"\"},\"type\":\"contourcarpet\"}],\"heatmap\":[{\"colorbar\":{\"outlinewidth\":0,\"ticks\":\"\"},\"colorscale\":[[0.0,\"#0d0887\"],[0.1111111111111111,\"#46039f\"],[0.2222222222222222,\"#7201a8\"],[0.3333333333333333,\"#9c179e\"],[0.4444444444444444,\"#bd3786\"],[0.5555555555555556,\"#d8576b\"],[0.6666666666666666,\"#ed7953\"],[0.7777777777777778,\"#fb9f3a\"],[0.8888888888888888,\"#fdca26\"],[1.0,\"#f0f921\"]],\"type\":\"heatmap\"}],\"heatmapgl\":[{\"colorbar\":{\"outlinewidth\":0,\"ticks\":\"\"},\"colorscale\":[[0.0,\"#0d0887\"],[0.1111111111111111,\"#46039f\"],[0.2222222222222222,\"#7201a8\"],[0.3333333333333333,\"#9c179e\"],[0.4444444444444444,\"#bd3786\"],[0.5555555555555556,\"#d8576b\"],[0.6666666666666666,\"#ed7953\"],[0.7777777777777778,\"#fb9f3a\"],[0.8888888888888888,\"#fdca26\"],[1.0,\"#f0f921\"]],\"type\":\"heatmapgl\"}],\"histogram\":[{\"marker\":{\"pattern\":{\"fillmode\":\"overlay\",\"size\":10,\"solidity\":0.2}},\"type\":\"histogram\"}],\"histogram2d\":[{\"colorbar\":{\"outlinewidth\":0,\"ticks\":\"\"},\"colorscale\":[[0.0,\"#0d0887\"],[0.1111111111111111,\"#46039f\"],[0.2222222222222222,\"#7201a8\"],[0.3333333333333333,\"#9c179e\"],[0.4444444444444444,\"#bd3786\"],[0.5555555555555556,\"#d8576b\"],[0.6666666666666666,\"#ed7953\"],[0.7777777777777778,\"#fb9f3a\"],[0.8888888888888888,\"#fdca26\"],[1.0,\"#f0f921\"]],\"type\":\"histogram2d\"}],\"histogram2dcontour\":[{\"colorbar\":{\"outlinewidth\":0,\"ticks\":\"\"},\"colorscale\":[[0.0,\"#0d0887\"],[0.1111111111111111,\"#46039f\"],[0.2222222222222222,\"#7201a8\"],[0.3333333333333333,\"#9c179e\"],[0.4444444444444444,\"#bd3786\"],[0.5555555555555556,\"#d8576b\"],[0.6666666666666666,\"#ed7953\"],[0.7777777777777778,\"#fb9f3a\"],[0.8888888888888888,\"#fdca26\"],[1.0,\"#f0f921\"]],\"type\":\"histogram2dcontour\"}],\"mesh3d\":[{\"colorbar\":{\"outlinewidth\":0,\"ticks\":\"\"},\"type\":\"mesh3d\"}],\"parcoords\":[{\"line\":{\"colorbar\":{\"outlinewidth\":0,\"ticks\":\"\"}},\"type\":\"parcoords\"}],\"pie\":[{\"automargin\":true,\"type\":\"pie\"}],\"scatter\":[{\"marker\":{\"colorbar\":{\"outlinewidth\":0,\"ticks\":\"\"}},\"type\":\"scatter\"}],\"scatter3d\":[{\"line\":{\"colorbar\":{\"outlinewidth\":0,\"ticks\":\"\"}},\"marker\":{\"colorbar\":{\"outlinewidth\":0,\"ticks\":\"\"}},\"type\":\"scatter3d\"}],\"scattercarpet\":[{\"marker\":{\"colorbar\":{\"outlinewidth\":0,\"ticks\":\"\"}},\"type\":\"scattercarpet\"}],\"scattergeo\":[{\"marker\":{\"colorbar\":{\"outlinewidth\":0,\"ticks\":\"\"}},\"type\":\"scattergeo\"}],\"scattergl\":[{\"marker\":{\"colorbar\":{\"outlinewidth\":0,\"ticks\":\"\"}},\"type\":\"scattergl\"}],\"scattermapbox\":[{\"marker\":{\"colorbar\":{\"outlinewidth\":0,\"ticks\":\"\"}},\"type\":\"scattermapbox\"}],\"scatterpolar\":[{\"marker\":{\"colorbar\":{\"outlinewidth\":0,\"ticks\":\"\"}},\"type\":\"scatterpolar\"}],\"scatterpolargl\":[{\"marker\":{\"colorbar\":{\"outlinewidth\":0,\"ticks\":\"\"}},\"type\":\"scatterpolargl\"}],\"scatterternary\":[{\"marker\":{\"colorbar\":{\"outlinewidth\":0,\"ticks\":\"\"}},\"type\":\"scatterternary\"}],\"surface\":[{\"colorbar\":{\"outlinewidth\":0,\"ticks\":\"\"},\"colorscale\":[[0.0,\"#0d0887\"],[0.1111111111111111,\"#46039f\"],[0.2222222222222222,\"#7201a8\"],[0.3333333333333333,\"#9c179e\"],[0.4444444444444444,\"#bd3786\"],[0.5555555555555556,\"#d8576b\"],[0.6666666666666666,\"#ed7953\"],[0.7777777777777778,\"#fb9f3a\"],[0.8888888888888888,\"#fdca26\"],[1.0,\"#f0f921\"]],\"type\":\"surface\"}],\"table\":[{\"cells\":{\"fill\":{\"color\":\"#EBF0F8\"},\"line\":{\"color\":\"white\"}},\"header\":{\"fill\":{\"color\":\"#C8D4E3\"},\"line\":{\"color\":\"white\"}},\"type\":\"table\"}]},\"layout\":{\"annotationdefaults\":{\"arrowcolor\":\"#2a3f5f\",\"arrowhead\":0,\"arrowwidth\":1},\"autotypenumbers\":\"strict\",\"coloraxis\":{\"colorbar\":{\"outlinewidth\":0,\"ticks\":\"\"}},\"colorscale\":{\"diverging\":[[0,\"#8e0152\"],[0.1,\"#c51b7d\"],[0.2,\"#de77ae\"],[0.3,\"#f1b6da\"],[0.4,\"#fde0ef\"],[0.5,\"#f7f7f7\"],[0.6,\"#e6f5d0\"],[0.7,\"#b8e186\"],[0.8,\"#7fbc41\"],[0.9,\"#4d9221\"],[1,\"#276419\"]],\"sequential\":[[0.0,\"#0d0887\"],[0.1111111111111111,\"#46039f\"],[0.2222222222222222,\"#7201a8\"],[0.3333333333333333,\"#9c179e\"],[0.4444444444444444,\"#bd3786\"],[0.5555555555555556,\"#d8576b\"],[0.6666666666666666,\"#ed7953\"],[0.7777777777777778,\"#fb9f3a\"],[0.8888888888888888,\"#fdca26\"],[1.0,\"#f0f921\"]],\"sequentialminus\":[[0.0,\"#0d0887\"],[0.1111111111111111,\"#46039f\"],[0.2222222222222222,\"#7201a8\"],[0.3333333333333333,\"#9c179e\"],[0.4444444444444444,\"#bd3786\"],[0.5555555555555556,\"#d8576b\"],[0.6666666666666666,\"#ed7953\"],[0.7777777777777778,\"#fb9f3a\"],[0.8888888888888888,\"#fdca26\"],[1.0,\"#f0f921\"]]},\"colorway\":[\"#636efa\",\"#EF553B\",\"#00cc96\",\"#ab63fa\",\"#FFA15A\",\"#19d3f3\",\"#FF6692\",\"#B6E880\",\"#FF97FF\",\"#FECB52\"],\"font\":{\"color\":\"#2a3f5f\"},\"geo\":{\"bgcolor\":\"white\",\"lakecolor\":\"white\",\"landcolor\":\"#E5ECF6\",\"showlakes\":true,\"showland\":true,\"subunitcolor\":\"white\"},\"hoverlabel\":{\"align\":\"left\"},\"hovermode\":\"closest\",\"mapbox\":{\"style\":\"light\"},\"paper_bgcolor\":\"white\",\"plot_bgcolor\":\"#E5ECF6\",\"polar\":{\"angularaxis\":{\"gridcolor\":\"white\",\"linecolor\":\"white\",\"ticks\":\"\"},\"bgcolor\":\"#E5ECF6\",\"radialaxis\":{\"gridcolor\":\"white\",\"linecolor\":\"white\",\"ticks\":\"\"}},\"scene\":{\"xaxis\":{\"backgroundcolor\":\"#E5ECF6\",\"gridcolor\":\"white\",\"gridwidth\":2,\"linecolor\":\"white\",\"showbackground\":true,\"ticks\":\"\",\"zerolinecolor\":\"white\"},\"yaxis\":{\"backgroundcolor\":\"#E5ECF6\",\"gridcolor\":\"white\",\"gridwidth\":2,\"linecolor\":\"white\",\"showbackground\":true,\"ticks\":\"\",\"zerolinecolor\":\"white\"},\"zaxis\":{\"backgroundcolor\":\"#E5ECF6\",\"gridcolor\":\"white\",\"gridwidth\":2,\"linecolor\":\"white\",\"showbackground\":true,\"ticks\":\"\",\"zerolinecolor\":\"white\"}},\"shapedefaults\":{\"line\":{\"color\":\"#2a3f5f\"}},\"ternary\":{\"aaxis\":{\"gridcolor\":\"white\",\"linecolor\":\"white\",\"ticks\":\"\"},\"baxis\":{\"gridcolor\":\"white\",\"linecolor\":\"white\",\"ticks\":\"\"},\"bgcolor\":\"#E5ECF6\",\"caxis\":{\"gridcolor\":\"white\",\"linecolor\":\"white\",\"ticks\":\"\"}},\"title\":{\"x\":0.05},\"xaxis\":{\"automargin\":true,\"gridcolor\":\"white\",\"linecolor\":\"white\",\"ticks\":\"\",\"title\":{\"standoff\":15},\"zerolinecolor\":\"white\",\"zerolinewidth\":2},\"yaxis\":{\"automargin\":true,\"gridcolor\":\"white\",\"linecolor\":\"white\",\"ticks\":\"\",\"title\":{\"standoff\":15},\"zerolinecolor\":\"white\",\"zerolinewidth\":2}}},\"xaxis\":{\"anchor\":\"y\",\"domain\":[0.0,1.0],\"title\":{\"text\":\"Club Name\"}},\"yaxis\":{\"anchor\":\"x\",\"domain\":[0.0,1.0],\"title\":{\"text\":\"Representation\"}},\"legend\":{\"tracegroupgap\":0},\"title\":{\"text\":\"Football Club Representation Above 0.75 Quantile\"},\"barmode\":\"relative\"},                        {\"responsive\": true}                    ).then(function(){\n",
       "                            \n",
       "var gd = document.getElementById('b61ada8c-e49d-4176-aedc-ca76763843e1');\n",
       "var x = new MutationObserver(function (mutations, observer) {{\n",
       "        var display = window.getComputedStyle(gd).display;\n",
       "        if (!display || display === 'none') {{\n",
       "            console.log([gd, 'removed!']);\n",
       "            Plotly.purge(gd);\n",
       "            observer.disconnect();\n",
       "        }}\n",
       "}});\n",
       "\n",
       "// Listen for the removal of the full notebook cells\n",
       "var notebookContainer = gd.closest('#notebook-container');\n",
       "if (notebookContainer) {{\n",
       "    x.observe(notebookContainer, {childList: true});\n",
       "}}\n",
       "\n",
       "// Listen for the clearing of the current output cell\n",
       "var outputEl = gd.closest('.output');\n",
       "if (outputEl) {{\n",
       "    x.observe(outputEl, {childList: true});\n",
       "}}\n",
       "\n",
       "                        })                };                });            </script>        </div>"
      ]
     },
     "metadata": {},
     "output_type": "display_data"
    }
   ],
   "source": [
    "rep = club_rep_df[\"Representation\"]\n",
    "rep_quantiles = np.quantile(rep, [0, 0.25, 0.5, 0.75, 1])\n",
    "# print(quantiles)\n",
    "# Plotting International Caps\n",
    "rep_plt = px.bar(club_rep_df.loc[club_rep_df[\"Representation\"] >= quantiles[3], :], x=\"Club Name\", y=\"Representation\", hover_data=[\"Club Name\", \"Representation\", \"League\", \"League Country\"], title=\"Football Club Representation Above 0.75 Quantile\")\n",
    "rep_plt.show()"
   ]
  },
  {
   "cell_type": "code",
   "execution_count": 20,
   "id": "c5cf18d7",
   "metadata": {},
   "outputs": [
    {
     "data": {
      "application/vnd.plotly.v1+json": {
       "config": {
        "plotlyServerURL": "https://plot.ly"
       },
       "data": [
        {
         "alignmentgroup": "True",
         "hovertemplate": "League=%{x}<br>Representation=%{y}<extra></extra>",
         "legendgroup": "",
         "marker": {
          "color": "#636efa",
          "pattern": {
           "shape": ""
          }
         },
         "name": "",
         "offsetgroup": "",
         "orientation": "v",
         "showlegend": false,
         "textposition": "auto",
         "type": "bar",
         "x": [
          "Super League Greece",
          "Uruguay Premeir League",
          "Egypt Premeir League",
          "Scotland Premeir League",
          "Spain Primera Division",
          "Scottish Premiership",
          "Saudi Arabia Premeir League",
          "Turkish Süper Liga",
          "German 2. Bundesliga",
          "German 1. Bundesliga",
          "Saudi Abdul L. Jameel League",
          "Mexico Premeir League",
          "Greek Super League",
          "Ecuadorian Serie A",
          "Cameroon Premeir League",
          "USA Major League Soccer",
          "Spanish Primera Division",
          "Qatar Premeir League",
          "Liga Pro Serie B",
          "Qatar Stars League",
          "English League Two",
          "Croatian Prva HNL",
          "Morocco Premeir League",
          "Tunisian Ligue Professionnelle 1",
          "English Premier League",
          "Turkish Süper Lig",
          "Turkey Premeir League",
          "Campeonato Brasileiro Série A",
          "French Ligue 1",
          "Mexican Liga MX",
          "Austria Premeir League",
          "Italian Seria A",
          "UAE Pro League",
          "Kuwait Premeir League",
          "Colombia Premeir League",
          "United States Premeir League",
          "Korean K League 1",
          "Australian Hyundai A-League",
          "Canada Premeir League",
          "Russia Premeir League",
          "Persian Gulf Pro League",
          "Italian Serie 1",
          "Argentina Primera División",
          "Italy Premeir League",
          "China Premeir League",
          "Greece Premeir League",
          "Switzerland Premeir League",
          "Japanese J. League Division 1",
          "Croatia Premeir League",
          "Belgian Jupiler Pro League",
          "France Premeir League",
          "Serbia Premeir League",
          "Danish Superliga",
          "Chinese Super League",
          "Italian Serie A",
          "Hungary Premeir League",
          "Spanish Segunda División",
          "J2 League",
          "Ghana Premeir League",
          "English League Championship",
          "Belgium Premeir League",
          "Costa Rica Premeir League",
          "Argentina Premeir League",
          "Tunisia Premeir League",
          "Brazil Premeir League",
          "Polish T-Mobile Ekstraklasa",
          "French Ligue 2",
          "Denmark Premeir League",
          "English League One",
          "Spain Premeir League",
          "Holland Eredivisie",
          "Germany Premeir League",
          "South Korea Premeir League",
          "Portuguese Liga ZON SAGRES",
          "Cypriot First Division",
          "Portugal Premeir League",
          "Italian Serie B",
          "Poland Premeir League"
         ],
         "xaxis": "x",
         "y": [
          1,
          3,
          2,
          2,
          67,
          10,
          8,
          2,
          3,
          68,
          26,
          2,
          6,
          3,
          2,
          28,
          1,
          5,
          1,
          28,
          1,
          6,
          3,
          1,
          125,
          10,
          7,
          6,
          30,
          21,
          4,
          1,
          2,
          2,
          1,
          2,
          9,
          8,
          6,
          2,
          9,
          1,
          5,
          13,
          1,
          6,
          9,
          8,
          1,
          17,
          24,
          3,
          5,
          1,
          52,
          1,
          3,
          2,
          2,
          33,
          9,
          17,
          1,
          7,
          1,
          3,
          3,
          2,
          5,
          16,
          19,
          9,
          5,
          14,
          2,
          5,
          1,
          1
         ],
         "yaxis": "y"
        }
       ],
       "layout": {
        "barmode": "relative",
        "legend": {
         "tracegroupgap": 0
        },
        "template": {
         "data": {
          "bar": [
           {
            "error_x": {
             "color": "#2a3f5f"
            },
            "error_y": {
             "color": "#2a3f5f"
            },
            "marker": {
             "line": {
              "color": "#E5ECF6",
              "width": 0.5
             },
             "pattern": {
              "fillmode": "overlay",
              "size": 10,
              "solidity": 0.2
             }
            },
            "type": "bar"
           }
          ],
          "barpolar": [
           {
            "marker": {
             "line": {
              "color": "#E5ECF6",
              "width": 0.5
             },
             "pattern": {
              "fillmode": "overlay",
              "size": 10,
              "solidity": 0.2
             }
            },
            "type": "barpolar"
           }
          ],
          "carpet": [
           {
            "aaxis": {
             "endlinecolor": "#2a3f5f",
             "gridcolor": "white",
             "linecolor": "white",
             "minorgridcolor": "white",
             "startlinecolor": "#2a3f5f"
            },
            "baxis": {
             "endlinecolor": "#2a3f5f",
             "gridcolor": "white",
             "linecolor": "white",
             "minorgridcolor": "white",
             "startlinecolor": "#2a3f5f"
            },
            "type": "carpet"
           }
          ],
          "choropleth": [
           {
            "colorbar": {
             "outlinewidth": 0,
             "ticks": ""
            },
            "type": "choropleth"
           }
          ],
          "contour": [
           {
            "colorbar": {
             "outlinewidth": 0,
             "ticks": ""
            },
            "colorscale": [
             [
              0,
              "#0d0887"
             ],
             [
              0.1111111111111111,
              "#46039f"
             ],
             [
              0.2222222222222222,
              "#7201a8"
             ],
             [
              0.3333333333333333,
              "#9c179e"
             ],
             [
              0.4444444444444444,
              "#bd3786"
             ],
             [
              0.5555555555555556,
              "#d8576b"
             ],
             [
              0.6666666666666666,
              "#ed7953"
             ],
             [
              0.7777777777777778,
              "#fb9f3a"
             ],
             [
              0.8888888888888888,
              "#fdca26"
             ],
             [
              1,
              "#f0f921"
             ]
            ],
            "type": "contour"
           }
          ],
          "contourcarpet": [
           {
            "colorbar": {
             "outlinewidth": 0,
             "ticks": ""
            },
            "type": "contourcarpet"
           }
          ],
          "heatmap": [
           {
            "colorbar": {
             "outlinewidth": 0,
             "ticks": ""
            },
            "colorscale": [
             [
              0,
              "#0d0887"
             ],
             [
              0.1111111111111111,
              "#46039f"
             ],
             [
              0.2222222222222222,
              "#7201a8"
             ],
             [
              0.3333333333333333,
              "#9c179e"
             ],
             [
              0.4444444444444444,
              "#bd3786"
             ],
             [
              0.5555555555555556,
              "#d8576b"
             ],
             [
              0.6666666666666666,
              "#ed7953"
             ],
             [
              0.7777777777777778,
              "#fb9f3a"
             ],
             [
              0.8888888888888888,
              "#fdca26"
             ],
             [
              1,
              "#f0f921"
             ]
            ],
            "type": "heatmap"
           }
          ],
          "heatmapgl": [
           {
            "colorbar": {
             "outlinewidth": 0,
             "ticks": ""
            },
            "colorscale": [
             [
              0,
              "#0d0887"
             ],
             [
              0.1111111111111111,
              "#46039f"
             ],
             [
              0.2222222222222222,
              "#7201a8"
             ],
             [
              0.3333333333333333,
              "#9c179e"
             ],
             [
              0.4444444444444444,
              "#bd3786"
             ],
             [
              0.5555555555555556,
              "#d8576b"
             ],
             [
              0.6666666666666666,
              "#ed7953"
             ],
             [
              0.7777777777777778,
              "#fb9f3a"
             ],
             [
              0.8888888888888888,
              "#fdca26"
             ],
             [
              1,
              "#f0f921"
             ]
            ],
            "type": "heatmapgl"
           }
          ],
          "histogram": [
           {
            "marker": {
             "pattern": {
              "fillmode": "overlay",
              "size": 10,
              "solidity": 0.2
             }
            },
            "type": "histogram"
           }
          ],
          "histogram2d": [
           {
            "colorbar": {
             "outlinewidth": 0,
             "ticks": ""
            },
            "colorscale": [
             [
              0,
              "#0d0887"
             ],
             [
              0.1111111111111111,
              "#46039f"
             ],
             [
              0.2222222222222222,
              "#7201a8"
             ],
             [
              0.3333333333333333,
              "#9c179e"
             ],
             [
              0.4444444444444444,
              "#bd3786"
             ],
             [
              0.5555555555555556,
              "#d8576b"
             ],
             [
              0.6666666666666666,
              "#ed7953"
             ],
             [
              0.7777777777777778,
              "#fb9f3a"
             ],
             [
              0.8888888888888888,
              "#fdca26"
             ],
             [
              1,
              "#f0f921"
             ]
            ],
            "type": "histogram2d"
           }
          ],
          "histogram2dcontour": [
           {
            "colorbar": {
             "outlinewidth": 0,
             "ticks": ""
            },
            "colorscale": [
             [
              0,
              "#0d0887"
             ],
             [
              0.1111111111111111,
              "#46039f"
             ],
             [
              0.2222222222222222,
              "#7201a8"
             ],
             [
              0.3333333333333333,
              "#9c179e"
             ],
             [
              0.4444444444444444,
              "#bd3786"
             ],
             [
              0.5555555555555556,
              "#d8576b"
             ],
             [
              0.6666666666666666,
              "#ed7953"
             ],
             [
              0.7777777777777778,
              "#fb9f3a"
             ],
             [
              0.8888888888888888,
              "#fdca26"
             ],
             [
              1,
              "#f0f921"
             ]
            ],
            "type": "histogram2dcontour"
           }
          ],
          "mesh3d": [
           {
            "colorbar": {
             "outlinewidth": 0,
             "ticks": ""
            },
            "type": "mesh3d"
           }
          ],
          "parcoords": [
           {
            "line": {
             "colorbar": {
              "outlinewidth": 0,
              "ticks": ""
             }
            },
            "type": "parcoords"
           }
          ],
          "pie": [
           {
            "automargin": true,
            "type": "pie"
           }
          ],
          "scatter": [
           {
            "marker": {
             "colorbar": {
              "outlinewidth": 0,
              "ticks": ""
             }
            },
            "type": "scatter"
           }
          ],
          "scatter3d": [
           {
            "line": {
             "colorbar": {
              "outlinewidth": 0,
              "ticks": ""
             }
            },
            "marker": {
             "colorbar": {
              "outlinewidth": 0,
              "ticks": ""
             }
            },
            "type": "scatter3d"
           }
          ],
          "scattercarpet": [
           {
            "marker": {
             "colorbar": {
              "outlinewidth": 0,
              "ticks": ""
             }
            },
            "type": "scattercarpet"
           }
          ],
          "scattergeo": [
           {
            "marker": {
             "colorbar": {
              "outlinewidth": 0,
              "ticks": ""
             }
            },
            "type": "scattergeo"
           }
          ],
          "scattergl": [
           {
            "marker": {
             "colorbar": {
              "outlinewidth": 0,
              "ticks": ""
             }
            },
            "type": "scattergl"
           }
          ],
          "scattermapbox": [
           {
            "marker": {
             "colorbar": {
              "outlinewidth": 0,
              "ticks": ""
             }
            },
            "type": "scattermapbox"
           }
          ],
          "scatterpolar": [
           {
            "marker": {
             "colorbar": {
              "outlinewidth": 0,
              "ticks": ""
             }
            },
            "type": "scatterpolar"
           }
          ],
          "scatterpolargl": [
           {
            "marker": {
             "colorbar": {
              "outlinewidth": 0,
              "ticks": ""
             }
            },
            "type": "scatterpolargl"
           }
          ],
          "scatterternary": [
           {
            "marker": {
             "colorbar": {
              "outlinewidth": 0,
              "ticks": ""
             }
            },
            "type": "scatterternary"
           }
          ],
          "surface": [
           {
            "colorbar": {
             "outlinewidth": 0,
             "ticks": ""
            },
            "colorscale": [
             [
              0,
              "#0d0887"
             ],
             [
              0.1111111111111111,
              "#46039f"
             ],
             [
              0.2222222222222222,
              "#7201a8"
             ],
             [
              0.3333333333333333,
              "#9c179e"
             ],
             [
              0.4444444444444444,
              "#bd3786"
             ],
             [
              0.5555555555555556,
              "#d8576b"
             ],
             [
              0.6666666666666666,
              "#ed7953"
             ],
             [
              0.7777777777777778,
              "#fb9f3a"
             ],
             [
              0.8888888888888888,
              "#fdca26"
             ],
             [
              1,
              "#f0f921"
             ]
            ],
            "type": "surface"
           }
          ],
          "table": [
           {
            "cells": {
             "fill": {
              "color": "#EBF0F8"
             },
             "line": {
              "color": "white"
             }
            },
            "header": {
             "fill": {
              "color": "#C8D4E3"
             },
             "line": {
              "color": "white"
             }
            },
            "type": "table"
           }
          ]
         },
         "layout": {
          "annotationdefaults": {
           "arrowcolor": "#2a3f5f",
           "arrowhead": 0,
           "arrowwidth": 1
          },
          "autotypenumbers": "strict",
          "coloraxis": {
           "colorbar": {
            "outlinewidth": 0,
            "ticks": ""
           }
          },
          "colorscale": {
           "diverging": [
            [
             0,
             "#8e0152"
            ],
            [
             0.1,
             "#c51b7d"
            ],
            [
             0.2,
             "#de77ae"
            ],
            [
             0.3,
             "#f1b6da"
            ],
            [
             0.4,
             "#fde0ef"
            ],
            [
             0.5,
             "#f7f7f7"
            ],
            [
             0.6,
             "#e6f5d0"
            ],
            [
             0.7,
             "#b8e186"
            ],
            [
             0.8,
             "#7fbc41"
            ],
            [
             0.9,
             "#4d9221"
            ],
            [
             1,
             "#276419"
            ]
           ],
           "sequential": [
            [
             0,
             "#0d0887"
            ],
            [
             0.1111111111111111,
             "#46039f"
            ],
            [
             0.2222222222222222,
             "#7201a8"
            ],
            [
             0.3333333333333333,
             "#9c179e"
            ],
            [
             0.4444444444444444,
             "#bd3786"
            ],
            [
             0.5555555555555556,
             "#d8576b"
            ],
            [
             0.6666666666666666,
             "#ed7953"
            ],
            [
             0.7777777777777778,
             "#fb9f3a"
            ],
            [
             0.8888888888888888,
             "#fdca26"
            ],
            [
             1,
             "#f0f921"
            ]
           ],
           "sequentialminus": [
            [
             0,
             "#0d0887"
            ],
            [
             0.1111111111111111,
             "#46039f"
            ],
            [
             0.2222222222222222,
             "#7201a8"
            ],
            [
             0.3333333333333333,
             "#9c179e"
            ],
            [
             0.4444444444444444,
             "#bd3786"
            ],
            [
             0.5555555555555556,
             "#d8576b"
            ],
            [
             0.6666666666666666,
             "#ed7953"
            ],
            [
             0.7777777777777778,
             "#fb9f3a"
            ],
            [
             0.8888888888888888,
             "#fdca26"
            ],
            [
             1,
             "#f0f921"
            ]
           ]
          },
          "colorway": [
           "#636efa",
           "#EF553B",
           "#00cc96",
           "#ab63fa",
           "#FFA15A",
           "#19d3f3",
           "#FF6692",
           "#B6E880",
           "#FF97FF",
           "#FECB52"
          ],
          "font": {
           "color": "#2a3f5f"
          },
          "geo": {
           "bgcolor": "white",
           "lakecolor": "white",
           "landcolor": "#E5ECF6",
           "showlakes": true,
           "showland": true,
           "subunitcolor": "white"
          },
          "hoverlabel": {
           "align": "left"
          },
          "hovermode": "closest",
          "mapbox": {
           "style": "light"
          },
          "paper_bgcolor": "white",
          "plot_bgcolor": "#E5ECF6",
          "polar": {
           "angularaxis": {
            "gridcolor": "white",
            "linecolor": "white",
            "ticks": ""
           },
           "bgcolor": "#E5ECF6",
           "radialaxis": {
            "gridcolor": "white",
            "linecolor": "white",
            "ticks": ""
           }
          },
          "scene": {
           "xaxis": {
            "backgroundcolor": "#E5ECF6",
            "gridcolor": "white",
            "gridwidth": 2,
            "linecolor": "white",
            "showbackground": true,
            "ticks": "",
            "zerolinecolor": "white"
           },
           "yaxis": {
            "backgroundcolor": "#E5ECF6",
            "gridcolor": "white",
            "gridwidth": 2,
            "linecolor": "white",
            "showbackground": true,
            "ticks": "",
            "zerolinecolor": "white"
           },
           "zaxis": {
            "backgroundcolor": "#E5ECF6",
            "gridcolor": "white",
            "gridwidth": 2,
            "linecolor": "white",
            "showbackground": true,
            "ticks": "",
            "zerolinecolor": "white"
           }
          },
          "shapedefaults": {
           "line": {
            "color": "#2a3f5f"
           }
          },
          "ternary": {
           "aaxis": {
            "gridcolor": "white",
            "linecolor": "white",
            "ticks": ""
           },
           "baxis": {
            "gridcolor": "white",
            "linecolor": "white",
            "ticks": ""
           },
           "bgcolor": "#E5ECF6",
           "caxis": {
            "gridcolor": "white",
            "linecolor": "white",
            "ticks": ""
           }
          },
          "title": {
           "x": 0.05
          },
          "xaxis": {
           "automargin": true,
           "gridcolor": "white",
           "linecolor": "white",
           "ticks": "",
           "title": {
            "standoff": 15
           },
           "zerolinecolor": "white",
           "zerolinewidth": 2
          },
          "yaxis": {
           "automargin": true,
           "gridcolor": "white",
           "linecolor": "white",
           "ticks": "",
           "title": {
            "standoff": 15
           },
           "zerolinecolor": "white",
           "zerolinewidth": 2
          }
         }
        },
        "title": {
         "text": "Football Leagues Representation"
        },
        "xaxis": {
         "anchor": "y",
         "domain": [
          0,
          1
         ],
         "title": {
          "text": "League"
         }
        },
        "yaxis": {
         "anchor": "x",
         "domain": [
          0,
          1
         ],
         "title": {
          "text": "Representation"
         }
        }
       }
      },
      "text/html": [
       "<div>                            <div id=\"eca2ee38-419e-4234-a066-793155996a49\" class=\"plotly-graph-div\" style=\"height:525px; width:100%;\"></div>            <script type=\"text/javascript\">                require([\"plotly\"], function(Plotly) {                    window.PLOTLYENV=window.PLOTLYENV || {};                                    if (document.getElementById(\"eca2ee38-419e-4234-a066-793155996a49\")) {                    Plotly.newPlot(                        \"eca2ee38-419e-4234-a066-793155996a49\",                        [{\"alignmentgroup\":\"True\",\"hovertemplate\":\"League=%{x}<br>Representation=%{y}<extra></extra>\",\"legendgroup\":\"\",\"marker\":{\"color\":\"#636efa\",\"pattern\":{\"shape\":\"\"}},\"name\":\"\",\"offsetgroup\":\"\",\"orientation\":\"v\",\"showlegend\":false,\"textposition\":\"auto\",\"x\":[\"Super League Greece\",\"Uruguay Premeir League\",\"Egypt Premeir League\",\"Scotland Premeir League\",\"Spain Primera Division\",\"Scottish Premiership\",\"Saudi Arabia Premeir League\",\"Turkish S\\u00fcper Liga\",\"German 2. Bundesliga\",\"German 1. Bundesliga\",\"Saudi Abdul L. Jameel League\",\"Mexico Premeir League\",\"Greek Super League\",\"Ecuadorian Serie A\",\"Cameroon Premeir League\",\"USA Major League Soccer\",\"Spanish Primera Division\",\"Qatar Premeir League\",\"Liga Pro Serie B\",\"Qatar Stars League\",\"English League Two\",\"Croatian Prva HNL\",\"Morocco Premeir League\",\"Tunisian Ligue Professionnelle 1\",\"English Premier League\",\"Turkish S\\u00fcper Lig\",\"Turkey Premeir League\",\"Campeonato Brasileiro S\\u00e9rie A\",\"French Ligue 1\",\"Mexican Liga MX\",\"Austria Premeir League\",\"Italian Seria A\",\"UAE Pro League\",\"Kuwait Premeir League\",\"Colombia Premeir League\",\"United States Premeir League\",\"Korean K League 1\",\"Australian Hyundai A-League\",\"Canada Premeir League\",\"Russia Premeir League\",\"Persian Gulf Pro League\",\"Italian Serie 1\",\"Argentina Primera Divisi\\u00f3n\",\"Italy Premeir League\",\"China Premeir League\",\"Greece Premeir League\",\"Switzerland Premeir League\",\"Japanese J. League Division 1\",\"Croatia Premeir League\",\"Belgian Jupiler Pro League\",\"France Premeir League\",\"Serbia Premeir League\",\"Danish Superliga\",\"Chinese Super League\",\"Italian Serie A\",\"Hungary Premeir League\",\"Spanish Segunda Divisi\\u00f3n\",\"J2 League\",\"Ghana Premeir League\",\"English League Championship\",\"Belgium Premeir League\",\"Costa Rica Premeir League\",\"Argentina Premeir League\",\"Tunisia Premeir League\",\"Brazil Premeir League\",\"Polish T-Mobile Ekstraklasa\",\"French Ligue 2\",\"Denmark Premeir League\",\"English League One\",\"Spain Premeir League\",\"Holland Eredivisie\",\"Germany Premeir League\",\"South Korea Premeir League\",\"Portuguese Liga ZON SAGRES\",\"Cypriot First Division\",\"Portugal Premeir League\",\"Italian Serie B\",\"Poland Premeir League\"],\"xaxis\":\"x\",\"y\":[1,3,2,2,67,10,8,2,3,68,26,2,6,3,2,28,1,5,1,28,1,6,3,1,125,10,7,6,30,21,4,1,2,2,1,2,9,8,6,2,9,1,5,13,1,6,9,8,1,17,24,3,5,1,52,1,3,2,2,33,9,17,1,7,1,3,3,2,5,16,19,9,5,14,2,5,1,1],\"yaxis\":\"y\",\"type\":\"bar\"}],                        {\"template\":{\"data\":{\"bar\":[{\"error_x\":{\"color\":\"#2a3f5f\"},\"error_y\":{\"color\":\"#2a3f5f\"},\"marker\":{\"line\":{\"color\":\"#E5ECF6\",\"width\":0.5},\"pattern\":{\"fillmode\":\"overlay\",\"size\":10,\"solidity\":0.2}},\"type\":\"bar\"}],\"barpolar\":[{\"marker\":{\"line\":{\"color\":\"#E5ECF6\",\"width\":0.5},\"pattern\":{\"fillmode\":\"overlay\",\"size\":10,\"solidity\":0.2}},\"type\":\"barpolar\"}],\"carpet\":[{\"aaxis\":{\"endlinecolor\":\"#2a3f5f\",\"gridcolor\":\"white\",\"linecolor\":\"white\",\"minorgridcolor\":\"white\",\"startlinecolor\":\"#2a3f5f\"},\"baxis\":{\"endlinecolor\":\"#2a3f5f\",\"gridcolor\":\"white\",\"linecolor\":\"white\",\"minorgridcolor\":\"white\",\"startlinecolor\":\"#2a3f5f\"},\"type\":\"carpet\"}],\"choropleth\":[{\"colorbar\":{\"outlinewidth\":0,\"ticks\":\"\"},\"type\":\"choropleth\"}],\"contour\":[{\"colorbar\":{\"outlinewidth\":0,\"ticks\":\"\"},\"colorscale\":[[0.0,\"#0d0887\"],[0.1111111111111111,\"#46039f\"],[0.2222222222222222,\"#7201a8\"],[0.3333333333333333,\"#9c179e\"],[0.4444444444444444,\"#bd3786\"],[0.5555555555555556,\"#d8576b\"],[0.6666666666666666,\"#ed7953\"],[0.7777777777777778,\"#fb9f3a\"],[0.8888888888888888,\"#fdca26\"],[1.0,\"#f0f921\"]],\"type\":\"contour\"}],\"contourcarpet\":[{\"colorbar\":{\"outlinewidth\":0,\"ticks\":\"\"},\"type\":\"contourcarpet\"}],\"heatmap\":[{\"colorbar\":{\"outlinewidth\":0,\"ticks\":\"\"},\"colorscale\":[[0.0,\"#0d0887\"],[0.1111111111111111,\"#46039f\"],[0.2222222222222222,\"#7201a8\"],[0.3333333333333333,\"#9c179e\"],[0.4444444444444444,\"#bd3786\"],[0.5555555555555556,\"#d8576b\"],[0.6666666666666666,\"#ed7953\"],[0.7777777777777778,\"#fb9f3a\"],[0.8888888888888888,\"#fdca26\"],[1.0,\"#f0f921\"]],\"type\":\"heatmap\"}],\"heatmapgl\":[{\"colorbar\":{\"outlinewidth\":0,\"ticks\":\"\"},\"colorscale\":[[0.0,\"#0d0887\"],[0.1111111111111111,\"#46039f\"],[0.2222222222222222,\"#7201a8\"],[0.3333333333333333,\"#9c179e\"],[0.4444444444444444,\"#bd3786\"],[0.5555555555555556,\"#d8576b\"],[0.6666666666666666,\"#ed7953\"],[0.7777777777777778,\"#fb9f3a\"],[0.8888888888888888,\"#fdca26\"],[1.0,\"#f0f921\"]],\"type\":\"heatmapgl\"}],\"histogram\":[{\"marker\":{\"pattern\":{\"fillmode\":\"overlay\",\"size\":10,\"solidity\":0.2}},\"type\":\"histogram\"}],\"histogram2d\":[{\"colorbar\":{\"outlinewidth\":0,\"ticks\":\"\"},\"colorscale\":[[0.0,\"#0d0887\"],[0.1111111111111111,\"#46039f\"],[0.2222222222222222,\"#7201a8\"],[0.3333333333333333,\"#9c179e\"],[0.4444444444444444,\"#bd3786\"],[0.5555555555555556,\"#d8576b\"],[0.6666666666666666,\"#ed7953\"],[0.7777777777777778,\"#fb9f3a\"],[0.8888888888888888,\"#fdca26\"],[1.0,\"#f0f921\"]],\"type\":\"histogram2d\"}],\"histogram2dcontour\":[{\"colorbar\":{\"outlinewidth\":0,\"ticks\":\"\"},\"colorscale\":[[0.0,\"#0d0887\"],[0.1111111111111111,\"#46039f\"],[0.2222222222222222,\"#7201a8\"],[0.3333333333333333,\"#9c179e\"],[0.4444444444444444,\"#bd3786\"],[0.5555555555555556,\"#d8576b\"],[0.6666666666666666,\"#ed7953\"],[0.7777777777777778,\"#fb9f3a\"],[0.8888888888888888,\"#fdca26\"],[1.0,\"#f0f921\"]],\"type\":\"histogram2dcontour\"}],\"mesh3d\":[{\"colorbar\":{\"outlinewidth\":0,\"ticks\":\"\"},\"type\":\"mesh3d\"}],\"parcoords\":[{\"line\":{\"colorbar\":{\"outlinewidth\":0,\"ticks\":\"\"}},\"type\":\"parcoords\"}],\"pie\":[{\"automargin\":true,\"type\":\"pie\"}],\"scatter\":[{\"marker\":{\"colorbar\":{\"outlinewidth\":0,\"ticks\":\"\"}},\"type\":\"scatter\"}],\"scatter3d\":[{\"line\":{\"colorbar\":{\"outlinewidth\":0,\"ticks\":\"\"}},\"marker\":{\"colorbar\":{\"outlinewidth\":0,\"ticks\":\"\"}},\"type\":\"scatter3d\"}],\"scattercarpet\":[{\"marker\":{\"colorbar\":{\"outlinewidth\":0,\"ticks\":\"\"}},\"type\":\"scattercarpet\"}],\"scattergeo\":[{\"marker\":{\"colorbar\":{\"outlinewidth\":0,\"ticks\":\"\"}},\"type\":\"scattergeo\"}],\"scattergl\":[{\"marker\":{\"colorbar\":{\"outlinewidth\":0,\"ticks\":\"\"}},\"type\":\"scattergl\"}],\"scattermapbox\":[{\"marker\":{\"colorbar\":{\"outlinewidth\":0,\"ticks\":\"\"}},\"type\":\"scattermapbox\"}],\"scatterpolar\":[{\"marker\":{\"colorbar\":{\"outlinewidth\":0,\"ticks\":\"\"}},\"type\":\"scatterpolar\"}],\"scatterpolargl\":[{\"marker\":{\"colorbar\":{\"outlinewidth\":0,\"ticks\":\"\"}},\"type\":\"scatterpolargl\"}],\"scatterternary\":[{\"marker\":{\"colorbar\":{\"outlinewidth\":0,\"ticks\":\"\"}},\"type\":\"scatterternary\"}],\"surface\":[{\"colorbar\":{\"outlinewidth\":0,\"ticks\":\"\"},\"colorscale\":[[0.0,\"#0d0887\"],[0.1111111111111111,\"#46039f\"],[0.2222222222222222,\"#7201a8\"],[0.3333333333333333,\"#9c179e\"],[0.4444444444444444,\"#bd3786\"],[0.5555555555555556,\"#d8576b\"],[0.6666666666666666,\"#ed7953\"],[0.7777777777777778,\"#fb9f3a\"],[0.8888888888888888,\"#fdca26\"],[1.0,\"#f0f921\"]],\"type\":\"surface\"}],\"table\":[{\"cells\":{\"fill\":{\"color\":\"#EBF0F8\"},\"line\":{\"color\":\"white\"}},\"header\":{\"fill\":{\"color\":\"#C8D4E3\"},\"line\":{\"color\":\"white\"}},\"type\":\"table\"}]},\"layout\":{\"annotationdefaults\":{\"arrowcolor\":\"#2a3f5f\",\"arrowhead\":0,\"arrowwidth\":1},\"autotypenumbers\":\"strict\",\"coloraxis\":{\"colorbar\":{\"outlinewidth\":0,\"ticks\":\"\"}},\"colorscale\":{\"diverging\":[[0,\"#8e0152\"],[0.1,\"#c51b7d\"],[0.2,\"#de77ae\"],[0.3,\"#f1b6da\"],[0.4,\"#fde0ef\"],[0.5,\"#f7f7f7\"],[0.6,\"#e6f5d0\"],[0.7,\"#b8e186\"],[0.8,\"#7fbc41\"],[0.9,\"#4d9221\"],[1,\"#276419\"]],\"sequential\":[[0.0,\"#0d0887\"],[0.1111111111111111,\"#46039f\"],[0.2222222222222222,\"#7201a8\"],[0.3333333333333333,\"#9c179e\"],[0.4444444444444444,\"#bd3786\"],[0.5555555555555556,\"#d8576b\"],[0.6666666666666666,\"#ed7953\"],[0.7777777777777778,\"#fb9f3a\"],[0.8888888888888888,\"#fdca26\"],[1.0,\"#f0f921\"]],\"sequentialminus\":[[0.0,\"#0d0887\"],[0.1111111111111111,\"#46039f\"],[0.2222222222222222,\"#7201a8\"],[0.3333333333333333,\"#9c179e\"],[0.4444444444444444,\"#bd3786\"],[0.5555555555555556,\"#d8576b\"],[0.6666666666666666,\"#ed7953\"],[0.7777777777777778,\"#fb9f3a\"],[0.8888888888888888,\"#fdca26\"],[1.0,\"#f0f921\"]]},\"colorway\":[\"#636efa\",\"#EF553B\",\"#00cc96\",\"#ab63fa\",\"#FFA15A\",\"#19d3f3\",\"#FF6692\",\"#B6E880\",\"#FF97FF\",\"#FECB52\"],\"font\":{\"color\":\"#2a3f5f\"},\"geo\":{\"bgcolor\":\"white\",\"lakecolor\":\"white\",\"landcolor\":\"#E5ECF6\",\"showlakes\":true,\"showland\":true,\"subunitcolor\":\"white\"},\"hoverlabel\":{\"align\":\"left\"},\"hovermode\":\"closest\",\"mapbox\":{\"style\":\"light\"},\"paper_bgcolor\":\"white\",\"plot_bgcolor\":\"#E5ECF6\",\"polar\":{\"angularaxis\":{\"gridcolor\":\"white\",\"linecolor\":\"white\",\"ticks\":\"\"},\"bgcolor\":\"#E5ECF6\",\"radialaxis\":{\"gridcolor\":\"white\",\"linecolor\":\"white\",\"ticks\":\"\"}},\"scene\":{\"xaxis\":{\"backgroundcolor\":\"#E5ECF6\",\"gridcolor\":\"white\",\"gridwidth\":2,\"linecolor\":\"white\",\"showbackground\":true,\"ticks\":\"\",\"zerolinecolor\":\"white\"},\"yaxis\":{\"backgroundcolor\":\"#E5ECF6\",\"gridcolor\":\"white\",\"gridwidth\":2,\"linecolor\":\"white\",\"showbackground\":true,\"ticks\":\"\",\"zerolinecolor\":\"white\"},\"zaxis\":{\"backgroundcolor\":\"#E5ECF6\",\"gridcolor\":\"white\",\"gridwidth\":2,\"linecolor\":\"white\",\"showbackground\":true,\"ticks\":\"\",\"zerolinecolor\":\"white\"}},\"shapedefaults\":{\"line\":{\"color\":\"#2a3f5f\"}},\"ternary\":{\"aaxis\":{\"gridcolor\":\"white\",\"linecolor\":\"white\",\"ticks\":\"\"},\"baxis\":{\"gridcolor\":\"white\",\"linecolor\":\"white\",\"ticks\":\"\"},\"bgcolor\":\"#E5ECF6\",\"caxis\":{\"gridcolor\":\"white\",\"linecolor\":\"white\",\"ticks\":\"\"}},\"title\":{\"x\":0.05},\"xaxis\":{\"automargin\":true,\"gridcolor\":\"white\",\"linecolor\":\"white\",\"ticks\":\"\",\"title\":{\"standoff\":15},\"zerolinecolor\":\"white\",\"zerolinewidth\":2},\"yaxis\":{\"automargin\":true,\"gridcolor\":\"white\",\"linecolor\":\"white\",\"ticks\":\"\",\"title\":{\"standoff\":15},\"zerolinecolor\":\"white\",\"zerolinewidth\":2}}},\"xaxis\":{\"anchor\":\"y\",\"domain\":[0.0,1.0],\"title\":{\"text\":\"League\"}},\"yaxis\":{\"anchor\":\"x\",\"domain\":[0.0,1.0],\"title\":{\"text\":\"Representation\"}},\"legend\":{\"tracegroupgap\":0},\"title\":{\"text\":\"Football Leagues Representation\"},\"barmode\":\"relative\"},                        {\"responsive\": true}                    ).then(function(){\n",
       "                            \n",
       "var gd = document.getElementById('eca2ee38-419e-4234-a066-793155996a49');\n",
       "var x = new MutationObserver(function (mutations, observer) {{\n",
       "        var display = window.getComputedStyle(gd).display;\n",
       "        if (!display || display === 'none') {{\n",
       "            console.log([gd, 'removed!']);\n",
       "            Plotly.purge(gd);\n",
       "            observer.disconnect();\n",
       "        }}\n",
       "}});\n",
       "\n",
       "// Listen for the removal of the full notebook cells\n",
       "var notebookContainer = gd.closest('#notebook-container');\n",
       "if (notebookContainer) {{\n",
       "    x.observe(notebookContainer, {childList: true});\n",
       "}}\n",
       "\n",
       "// Listen for the clearing of the current output cell\n",
       "var outputEl = gd.closest('.output');\n",
       "if (outputEl) {{\n",
       "    x.observe(outputEl, {childList: true});\n",
       "}}\n",
       "\n",
       "                        })                };                });            </script>        </div>"
      ]
     },
     "metadata": {},
     "output_type": "display_data"
    }
   ],
   "source": [
    "# Most represented Nation in terms of players that for a club in a certain nation\n",
    "leagues = list(set(data[\"League\"]))\n",
    "lgs_count = []\n",
    "for league in leagues:\n",
    "    count = 0\n",
    "    for index in data.index:\n",
    "        if data[\"League\"][index] == league:\n",
    "            count += 1\n",
    "    lgs_count.append(count)\n",
    "# print(leagues)\n",
    "# print(len(lgs_count))\n",
    "# print(len(leagues))\n",
    "leagues_rep_df = pd.DataFrame(list(zip(leagues, lgs_count)), columns=[\"League\", \"Representation\"])\n",
    "leagues_rep_df.head()\n",
    "leagues_rep_fig = px.bar(leagues_rep_df, x=\"League\", y=\"Representation\", title=\"Football Leagues Representation\")\n",
    "leagues_rep_fig.show()"
   ]
  },
  {
   "cell_type": "markdown",
   "id": "fa4b1894",
   "metadata": {},
   "source": [
    "English Premier League has the highest representation at 125 players. The English Championship has more representation than French League 1, 33 to 30."
   ]
  },
  {
   "cell_type": "code",
   "execution_count": 21,
   "id": "0dad9776",
   "metadata": {},
   "outputs": [
    {
     "name": "stdout",
     "output_type": "stream",
     "text": [
      "19.133574007220215\n",
      "10.469314079422382\n"
     ]
    },
    {
     "data": {
      "application/vnd.plotly.v1+json": {
       "config": {
        "plotlyServerURL": "https://plot.ly"
       },
       "data": [
        {
         "alignmentgroup": "True",
         "hovertemplate": "League Country=%{x}<br>Representation=%{y}<extra></extra>",
         "legendgroup": "",
         "marker": {
          "color": "#636efa",
          "pattern": {
           "shape": ""
          }
         },
         "name": "",
         "offsetgroup": "",
         "orientation": "v",
         "showlegend": false,
         "textposition": "auto",
         "type": "bar",
         "x": [
          "Uruguay",
          "Hungary",
          "Cyprus",
          "Iran",
          "France",
          "Colombia",
          "Wales",
          "Netherlands",
          "Argentina",
          "United Arab Emirates",
          "Switzerland",
          "Russia",
          "Mexico",
          "Spain",
          "Austria",
          "Poland",
          "Morocco",
          "Cameroon",
          "Egypt",
          "Greece",
          "South Korea",
          "Australia",
          "Kuwait",
          "Costa Rica",
          "Ghana",
          "Ecuador",
          "Denmark",
          "England",
          "Japan",
          "Saudi Arabia",
          "Serbia",
          "Turkey",
          "Germany",
          "China",
          "Tunisia",
          "Italy",
          "United States",
          "Portugal",
          "Brazil",
          "Scotland",
          "Belgium",
          "Croatia",
          "Qatar",
          "Canada"
         ],
         "xaxis": "x",
         "y": [
          3,
          1,
          2,
          9,
          57,
          1,
          5,
          19,
          6,
          1,
          9,
          2,
          23,
          87,
          4,
          4,
          3,
          2,
          2,
          13,
          14,
          8,
          2,
          17,
          2,
          4,
          8,
          159,
          10,
          35,
          3,
          19,
          80,
          2,
          8,
          68,
          26,
          19,
          7,
          12,
          25,
          7,
          33,
          10
         ],
         "yaxis": "y"
        }
       ],
       "layout": {
        "barmode": "relative",
        "legend": {
         "tracegroupgap": 0
        },
        "template": {
         "data": {
          "bar": [
           {
            "error_x": {
             "color": "#2a3f5f"
            },
            "error_y": {
             "color": "#2a3f5f"
            },
            "marker": {
             "line": {
              "color": "#E5ECF6",
              "width": 0.5
             },
             "pattern": {
              "fillmode": "overlay",
              "size": 10,
              "solidity": 0.2
             }
            },
            "type": "bar"
           }
          ],
          "barpolar": [
           {
            "marker": {
             "line": {
              "color": "#E5ECF6",
              "width": 0.5
             },
             "pattern": {
              "fillmode": "overlay",
              "size": 10,
              "solidity": 0.2
             }
            },
            "type": "barpolar"
           }
          ],
          "carpet": [
           {
            "aaxis": {
             "endlinecolor": "#2a3f5f",
             "gridcolor": "white",
             "linecolor": "white",
             "minorgridcolor": "white",
             "startlinecolor": "#2a3f5f"
            },
            "baxis": {
             "endlinecolor": "#2a3f5f",
             "gridcolor": "white",
             "linecolor": "white",
             "minorgridcolor": "white",
             "startlinecolor": "#2a3f5f"
            },
            "type": "carpet"
           }
          ],
          "choropleth": [
           {
            "colorbar": {
             "outlinewidth": 0,
             "ticks": ""
            },
            "type": "choropleth"
           }
          ],
          "contour": [
           {
            "colorbar": {
             "outlinewidth": 0,
             "ticks": ""
            },
            "colorscale": [
             [
              0,
              "#0d0887"
             ],
             [
              0.1111111111111111,
              "#46039f"
             ],
             [
              0.2222222222222222,
              "#7201a8"
             ],
             [
              0.3333333333333333,
              "#9c179e"
             ],
             [
              0.4444444444444444,
              "#bd3786"
             ],
             [
              0.5555555555555556,
              "#d8576b"
             ],
             [
              0.6666666666666666,
              "#ed7953"
             ],
             [
              0.7777777777777778,
              "#fb9f3a"
             ],
             [
              0.8888888888888888,
              "#fdca26"
             ],
             [
              1,
              "#f0f921"
             ]
            ],
            "type": "contour"
           }
          ],
          "contourcarpet": [
           {
            "colorbar": {
             "outlinewidth": 0,
             "ticks": ""
            },
            "type": "contourcarpet"
           }
          ],
          "heatmap": [
           {
            "colorbar": {
             "outlinewidth": 0,
             "ticks": ""
            },
            "colorscale": [
             [
              0,
              "#0d0887"
             ],
             [
              0.1111111111111111,
              "#46039f"
             ],
             [
              0.2222222222222222,
              "#7201a8"
             ],
             [
              0.3333333333333333,
              "#9c179e"
             ],
             [
              0.4444444444444444,
              "#bd3786"
             ],
             [
              0.5555555555555556,
              "#d8576b"
             ],
             [
              0.6666666666666666,
              "#ed7953"
             ],
             [
              0.7777777777777778,
              "#fb9f3a"
             ],
             [
              0.8888888888888888,
              "#fdca26"
             ],
             [
              1,
              "#f0f921"
             ]
            ],
            "type": "heatmap"
           }
          ],
          "heatmapgl": [
           {
            "colorbar": {
             "outlinewidth": 0,
             "ticks": ""
            },
            "colorscale": [
             [
              0,
              "#0d0887"
             ],
             [
              0.1111111111111111,
              "#46039f"
             ],
             [
              0.2222222222222222,
              "#7201a8"
             ],
             [
              0.3333333333333333,
              "#9c179e"
             ],
             [
              0.4444444444444444,
              "#bd3786"
             ],
             [
              0.5555555555555556,
              "#d8576b"
             ],
             [
              0.6666666666666666,
              "#ed7953"
             ],
             [
              0.7777777777777778,
              "#fb9f3a"
             ],
             [
              0.8888888888888888,
              "#fdca26"
             ],
             [
              1,
              "#f0f921"
             ]
            ],
            "type": "heatmapgl"
           }
          ],
          "histogram": [
           {
            "marker": {
             "pattern": {
              "fillmode": "overlay",
              "size": 10,
              "solidity": 0.2
             }
            },
            "type": "histogram"
           }
          ],
          "histogram2d": [
           {
            "colorbar": {
             "outlinewidth": 0,
             "ticks": ""
            },
            "colorscale": [
             [
              0,
              "#0d0887"
             ],
             [
              0.1111111111111111,
              "#46039f"
             ],
             [
              0.2222222222222222,
              "#7201a8"
             ],
             [
              0.3333333333333333,
              "#9c179e"
             ],
             [
              0.4444444444444444,
              "#bd3786"
             ],
             [
              0.5555555555555556,
              "#d8576b"
             ],
             [
              0.6666666666666666,
              "#ed7953"
             ],
             [
              0.7777777777777778,
              "#fb9f3a"
             ],
             [
              0.8888888888888888,
              "#fdca26"
             ],
             [
              1,
              "#f0f921"
             ]
            ],
            "type": "histogram2d"
           }
          ],
          "histogram2dcontour": [
           {
            "colorbar": {
             "outlinewidth": 0,
             "ticks": ""
            },
            "colorscale": [
             [
              0,
              "#0d0887"
             ],
             [
              0.1111111111111111,
              "#46039f"
             ],
             [
              0.2222222222222222,
              "#7201a8"
             ],
             [
              0.3333333333333333,
              "#9c179e"
             ],
             [
              0.4444444444444444,
              "#bd3786"
             ],
             [
              0.5555555555555556,
              "#d8576b"
             ],
             [
              0.6666666666666666,
              "#ed7953"
             ],
             [
              0.7777777777777778,
              "#fb9f3a"
             ],
             [
              0.8888888888888888,
              "#fdca26"
             ],
             [
              1,
              "#f0f921"
             ]
            ],
            "type": "histogram2dcontour"
           }
          ],
          "mesh3d": [
           {
            "colorbar": {
             "outlinewidth": 0,
             "ticks": ""
            },
            "type": "mesh3d"
           }
          ],
          "parcoords": [
           {
            "line": {
             "colorbar": {
              "outlinewidth": 0,
              "ticks": ""
             }
            },
            "type": "parcoords"
           }
          ],
          "pie": [
           {
            "automargin": true,
            "type": "pie"
           }
          ],
          "scatter": [
           {
            "marker": {
             "colorbar": {
              "outlinewidth": 0,
              "ticks": ""
             }
            },
            "type": "scatter"
           }
          ],
          "scatter3d": [
           {
            "line": {
             "colorbar": {
              "outlinewidth": 0,
              "ticks": ""
             }
            },
            "marker": {
             "colorbar": {
              "outlinewidth": 0,
              "ticks": ""
             }
            },
            "type": "scatter3d"
           }
          ],
          "scattercarpet": [
           {
            "marker": {
             "colorbar": {
              "outlinewidth": 0,
              "ticks": ""
             }
            },
            "type": "scattercarpet"
           }
          ],
          "scattergeo": [
           {
            "marker": {
             "colorbar": {
              "outlinewidth": 0,
              "ticks": ""
             }
            },
            "type": "scattergeo"
           }
          ],
          "scattergl": [
           {
            "marker": {
             "colorbar": {
              "outlinewidth": 0,
              "ticks": ""
             }
            },
            "type": "scattergl"
           }
          ],
          "scattermapbox": [
           {
            "marker": {
             "colorbar": {
              "outlinewidth": 0,
              "ticks": ""
             }
            },
            "type": "scattermapbox"
           }
          ],
          "scatterpolar": [
           {
            "marker": {
             "colorbar": {
              "outlinewidth": 0,
              "ticks": ""
             }
            },
            "type": "scatterpolar"
           }
          ],
          "scatterpolargl": [
           {
            "marker": {
             "colorbar": {
              "outlinewidth": 0,
              "ticks": ""
             }
            },
            "type": "scatterpolargl"
           }
          ],
          "scatterternary": [
           {
            "marker": {
             "colorbar": {
              "outlinewidth": 0,
              "ticks": ""
             }
            },
            "type": "scatterternary"
           }
          ],
          "surface": [
           {
            "colorbar": {
             "outlinewidth": 0,
             "ticks": ""
            },
            "colorscale": [
             [
              0,
              "#0d0887"
             ],
             [
              0.1111111111111111,
              "#46039f"
             ],
             [
              0.2222222222222222,
              "#7201a8"
             ],
             [
              0.3333333333333333,
              "#9c179e"
             ],
             [
              0.4444444444444444,
              "#bd3786"
             ],
             [
              0.5555555555555556,
              "#d8576b"
             ],
             [
              0.6666666666666666,
              "#ed7953"
             ],
             [
              0.7777777777777778,
              "#fb9f3a"
             ],
             [
              0.8888888888888888,
              "#fdca26"
             ],
             [
              1,
              "#f0f921"
             ]
            ],
            "type": "surface"
           }
          ],
          "table": [
           {
            "cells": {
             "fill": {
              "color": "#EBF0F8"
             },
             "line": {
              "color": "white"
             }
            },
            "header": {
             "fill": {
              "color": "#C8D4E3"
             },
             "line": {
              "color": "white"
             }
            },
            "type": "table"
           }
          ]
         },
         "layout": {
          "annotationdefaults": {
           "arrowcolor": "#2a3f5f",
           "arrowhead": 0,
           "arrowwidth": 1
          },
          "autotypenumbers": "strict",
          "coloraxis": {
           "colorbar": {
            "outlinewidth": 0,
            "ticks": ""
           }
          },
          "colorscale": {
           "diverging": [
            [
             0,
             "#8e0152"
            ],
            [
             0.1,
             "#c51b7d"
            ],
            [
             0.2,
             "#de77ae"
            ],
            [
             0.3,
             "#f1b6da"
            ],
            [
             0.4,
             "#fde0ef"
            ],
            [
             0.5,
             "#f7f7f7"
            ],
            [
             0.6,
             "#e6f5d0"
            ],
            [
             0.7,
             "#b8e186"
            ],
            [
             0.8,
             "#7fbc41"
            ],
            [
             0.9,
             "#4d9221"
            ],
            [
             1,
             "#276419"
            ]
           ],
           "sequential": [
            [
             0,
             "#0d0887"
            ],
            [
             0.1111111111111111,
             "#46039f"
            ],
            [
             0.2222222222222222,
             "#7201a8"
            ],
            [
             0.3333333333333333,
             "#9c179e"
            ],
            [
             0.4444444444444444,
             "#bd3786"
            ],
            [
             0.5555555555555556,
             "#d8576b"
            ],
            [
             0.6666666666666666,
             "#ed7953"
            ],
            [
             0.7777777777777778,
             "#fb9f3a"
            ],
            [
             0.8888888888888888,
             "#fdca26"
            ],
            [
             1,
             "#f0f921"
            ]
           ],
           "sequentialminus": [
            [
             0,
             "#0d0887"
            ],
            [
             0.1111111111111111,
             "#46039f"
            ],
            [
             0.2222222222222222,
             "#7201a8"
            ],
            [
             0.3333333333333333,
             "#9c179e"
            ],
            [
             0.4444444444444444,
             "#bd3786"
            ],
            [
             0.5555555555555556,
             "#d8576b"
            ],
            [
             0.6666666666666666,
             "#ed7953"
            ],
            [
             0.7777777777777778,
             "#fb9f3a"
            ],
            [
             0.8888888888888888,
             "#fdca26"
            ],
            [
             1,
             "#f0f921"
            ]
           ]
          },
          "colorway": [
           "#636efa",
           "#EF553B",
           "#00cc96",
           "#ab63fa",
           "#FFA15A",
           "#19d3f3",
           "#FF6692",
           "#B6E880",
           "#FF97FF",
           "#FECB52"
          ],
          "font": {
           "color": "#2a3f5f"
          },
          "geo": {
           "bgcolor": "white",
           "lakecolor": "white",
           "landcolor": "#E5ECF6",
           "showlakes": true,
           "showland": true,
           "subunitcolor": "white"
          },
          "hoverlabel": {
           "align": "left"
          },
          "hovermode": "closest",
          "mapbox": {
           "style": "light"
          },
          "paper_bgcolor": "white",
          "plot_bgcolor": "#E5ECF6",
          "polar": {
           "angularaxis": {
            "gridcolor": "white",
            "linecolor": "white",
            "ticks": ""
           },
           "bgcolor": "#E5ECF6",
           "radialaxis": {
            "gridcolor": "white",
            "linecolor": "white",
            "ticks": ""
           }
          },
          "scene": {
           "xaxis": {
            "backgroundcolor": "#E5ECF6",
            "gridcolor": "white",
            "gridwidth": 2,
            "linecolor": "white",
            "showbackground": true,
            "ticks": "",
            "zerolinecolor": "white"
           },
           "yaxis": {
            "backgroundcolor": "#E5ECF6",
            "gridcolor": "white",
            "gridwidth": 2,
            "linecolor": "white",
            "showbackground": true,
            "ticks": "",
            "zerolinecolor": "white"
           },
           "zaxis": {
            "backgroundcolor": "#E5ECF6",
            "gridcolor": "white",
            "gridwidth": 2,
            "linecolor": "white",
            "showbackground": true,
            "ticks": "",
            "zerolinecolor": "white"
           }
          },
          "shapedefaults": {
           "line": {
            "color": "#2a3f5f"
           }
          },
          "ternary": {
           "aaxis": {
            "gridcolor": "white",
            "linecolor": "white",
            "ticks": ""
           },
           "baxis": {
            "gridcolor": "white",
            "linecolor": "white",
            "ticks": ""
           },
           "bgcolor": "#E5ECF6",
           "caxis": {
            "gridcolor": "white",
            "linecolor": "white",
            "ticks": ""
           }
          },
          "title": {
           "x": 0.05
          },
          "xaxis": {
           "automargin": true,
           "gridcolor": "white",
           "linecolor": "white",
           "ticks": "",
           "title": {
            "standoff": 15
           },
           "zerolinecolor": "white",
           "zerolinewidth": 2
          },
          "yaxis": {
           "automargin": true,
           "gridcolor": "white",
           "linecolor": "white",
           "ticks": "",
           "title": {
            "standoff": 15
           },
           "zerolinecolor": "white",
           "zerolinewidth": 2
          }
         }
        },
        "title": {
         "text": "Football Leagues' Country Representation"
        },
        "xaxis": {
         "anchor": "y",
         "domain": [
          0,
          1
         ],
         "title": {
          "text": "League Country"
         }
        },
        "yaxis": {
         "anchor": "x",
         "domain": [
          0,
          1
         ],
         "title": {
          "text": "Representation"
         }
        }
       }
      },
      "text/html": [
       "<div>                            <div id=\"db94c914-fe90-4045-bc44-30ceed39cab5\" class=\"plotly-graph-div\" style=\"height:525px; width:100%;\"></div>            <script type=\"text/javascript\">                require([\"plotly\"], function(Plotly) {                    window.PLOTLYENV=window.PLOTLYENV || {};                                    if (document.getElementById(\"db94c914-fe90-4045-bc44-30ceed39cab5\")) {                    Plotly.newPlot(                        \"db94c914-fe90-4045-bc44-30ceed39cab5\",                        [{\"alignmentgroup\":\"True\",\"hovertemplate\":\"League Country=%{x}<br>Representation=%{y}<extra></extra>\",\"legendgroup\":\"\",\"marker\":{\"color\":\"#636efa\",\"pattern\":{\"shape\":\"\"}},\"name\":\"\",\"offsetgroup\":\"\",\"orientation\":\"v\",\"showlegend\":false,\"textposition\":\"auto\",\"x\":[\"Uruguay\",\"Hungary\",\"Cyprus\",\"Iran\",\"France\",\"Colombia\",\"Wales\",\"Netherlands\",\"Argentina\",\"United Arab Emirates\",\"Switzerland\",\"Russia\",\"Mexico\",\"Spain\",\"Austria\",\"Poland\",\"Morocco\",\"Cameroon\",\"Egypt\",\"Greece\",\"South Korea\",\"Australia\",\"Kuwait\",\"Costa Rica\",\"Ghana\",\"Ecuador\",\"Denmark\",\"England\",\"Japan\",\"Saudi Arabia\",\"Serbia\",\"Turkey\",\"Germany\",\"China\",\"Tunisia\",\"Italy\",\"United States\",\"Portugal\",\"Brazil\",\"Scotland\",\"Belgium\",\"Croatia\",\"Qatar\",\"Canada\"],\"xaxis\":\"x\",\"y\":[3,1,2,9,57,1,5,19,6,1,9,2,23,87,4,4,3,2,2,13,14,8,2,17,2,4,8,159,10,35,3,19,80,2,8,68,26,19,7,12,25,7,33,10],\"yaxis\":\"y\",\"type\":\"bar\"}],                        {\"template\":{\"data\":{\"bar\":[{\"error_x\":{\"color\":\"#2a3f5f\"},\"error_y\":{\"color\":\"#2a3f5f\"},\"marker\":{\"line\":{\"color\":\"#E5ECF6\",\"width\":0.5},\"pattern\":{\"fillmode\":\"overlay\",\"size\":10,\"solidity\":0.2}},\"type\":\"bar\"}],\"barpolar\":[{\"marker\":{\"line\":{\"color\":\"#E5ECF6\",\"width\":0.5},\"pattern\":{\"fillmode\":\"overlay\",\"size\":10,\"solidity\":0.2}},\"type\":\"barpolar\"}],\"carpet\":[{\"aaxis\":{\"endlinecolor\":\"#2a3f5f\",\"gridcolor\":\"white\",\"linecolor\":\"white\",\"minorgridcolor\":\"white\",\"startlinecolor\":\"#2a3f5f\"},\"baxis\":{\"endlinecolor\":\"#2a3f5f\",\"gridcolor\":\"white\",\"linecolor\":\"white\",\"minorgridcolor\":\"white\",\"startlinecolor\":\"#2a3f5f\"},\"type\":\"carpet\"}],\"choropleth\":[{\"colorbar\":{\"outlinewidth\":0,\"ticks\":\"\"},\"type\":\"choropleth\"}],\"contour\":[{\"colorbar\":{\"outlinewidth\":0,\"ticks\":\"\"},\"colorscale\":[[0.0,\"#0d0887\"],[0.1111111111111111,\"#46039f\"],[0.2222222222222222,\"#7201a8\"],[0.3333333333333333,\"#9c179e\"],[0.4444444444444444,\"#bd3786\"],[0.5555555555555556,\"#d8576b\"],[0.6666666666666666,\"#ed7953\"],[0.7777777777777778,\"#fb9f3a\"],[0.8888888888888888,\"#fdca26\"],[1.0,\"#f0f921\"]],\"type\":\"contour\"}],\"contourcarpet\":[{\"colorbar\":{\"outlinewidth\":0,\"ticks\":\"\"},\"type\":\"contourcarpet\"}],\"heatmap\":[{\"colorbar\":{\"outlinewidth\":0,\"ticks\":\"\"},\"colorscale\":[[0.0,\"#0d0887\"],[0.1111111111111111,\"#46039f\"],[0.2222222222222222,\"#7201a8\"],[0.3333333333333333,\"#9c179e\"],[0.4444444444444444,\"#bd3786\"],[0.5555555555555556,\"#d8576b\"],[0.6666666666666666,\"#ed7953\"],[0.7777777777777778,\"#fb9f3a\"],[0.8888888888888888,\"#fdca26\"],[1.0,\"#f0f921\"]],\"type\":\"heatmap\"}],\"heatmapgl\":[{\"colorbar\":{\"outlinewidth\":0,\"ticks\":\"\"},\"colorscale\":[[0.0,\"#0d0887\"],[0.1111111111111111,\"#46039f\"],[0.2222222222222222,\"#7201a8\"],[0.3333333333333333,\"#9c179e\"],[0.4444444444444444,\"#bd3786\"],[0.5555555555555556,\"#d8576b\"],[0.6666666666666666,\"#ed7953\"],[0.7777777777777778,\"#fb9f3a\"],[0.8888888888888888,\"#fdca26\"],[1.0,\"#f0f921\"]],\"type\":\"heatmapgl\"}],\"histogram\":[{\"marker\":{\"pattern\":{\"fillmode\":\"overlay\",\"size\":10,\"solidity\":0.2}},\"type\":\"histogram\"}],\"histogram2d\":[{\"colorbar\":{\"outlinewidth\":0,\"ticks\":\"\"},\"colorscale\":[[0.0,\"#0d0887\"],[0.1111111111111111,\"#46039f\"],[0.2222222222222222,\"#7201a8\"],[0.3333333333333333,\"#9c179e\"],[0.4444444444444444,\"#bd3786\"],[0.5555555555555556,\"#d8576b\"],[0.6666666666666666,\"#ed7953\"],[0.7777777777777778,\"#fb9f3a\"],[0.8888888888888888,\"#fdca26\"],[1.0,\"#f0f921\"]],\"type\":\"histogram2d\"}],\"histogram2dcontour\":[{\"colorbar\":{\"outlinewidth\":0,\"ticks\":\"\"},\"colorscale\":[[0.0,\"#0d0887\"],[0.1111111111111111,\"#46039f\"],[0.2222222222222222,\"#7201a8\"],[0.3333333333333333,\"#9c179e\"],[0.4444444444444444,\"#bd3786\"],[0.5555555555555556,\"#d8576b\"],[0.6666666666666666,\"#ed7953\"],[0.7777777777777778,\"#fb9f3a\"],[0.8888888888888888,\"#fdca26\"],[1.0,\"#f0f921\"]],\"type\":\"histogram2dcontour\"}],\"mesh3d\":[{\"colorbar\":{\"outlinewidth\":0,\"ticks\":\"\"},\"type\":\"mesh3d\"}],\"parcoords\":[{\"line\":{\"colorbar\":{\"outlinewidth\":0,\"ticks\":\"\"}},\"type\":\"parcoords\"}],\"pie\":[{\"automargin\":true,\"type\":\"pie\"}],\"scatter\":[{\"marker\":{\"colorbar\":{\"outlinewidth\":0,\"ticks\":\"\"}},\"type\":\"scatter\"}],\"scatter3d\":[{\"line\":{\"colorbar\":{\"outlinewidth\":0,\"ticks\":\"\"}},\"marker\":{\"colorbar\":{\"outlinewidth\":0,\"ticks\":\"\"}},\"type\":\"scatter3d\"}],\"scattercarpet\":[{\"marker\":{\"colorbar\":{\"outlinewidth\":0,\"ticks\":\"\"}},\"type\":\"scattercarpet\"}],\"scattergeo\":[{\"marker\":{\"colorbar\":{\"outlinewidth\":0,\"ticks\":\"\"}},\"type\":\"scattergeo\"}],\"scattergl\":[{\"marker\":{\"colorbar\":{\"outlinewidth\":0,\"ticks\":\"\"}},\"type\":\"scattergl\"}],\"scattermapbox\":[{\"marker\":{\"colorbar\":{\"outlinewidth\":0,\"ticks\":\"\"}},\"type\":\"scattermapbox\"}],\"scatterpolar\":[{\"marker\":{\"colorbar\":{\"outlinewidth\":0,\"ticks\":\"\"}},\"type\":\"scatterpolar\"}],\"scatterpolargl\":[{\"marker\":{\"colorbar\":{\"outlinewidth\":0,\"ticks\":\"\"}},\"type\":\"scatterpolargl\"}],\"scatterternary\":[{\"marker\":{\"colorbar\":{\"outlinewidth\":0,\"ticks\":\"\"}},\"type\":\"scatterternary\"}],\"surface\":[{\"colorbar\":{\"outlinewidth\":0,\"ticks\":\"\"},\"colorscale\":[[0.0,\"#0d0887\"],[0.1111111111111111,\"#46039f\"],[0.2222222222222222,\"#7201a8\"],[0.3333333333333333,\"#9c179e\"],[0.4444444444444444,\"#bd3786\"],[0.5555555555555556,\"#d8576b\"],[0.6666666666666666,\"#ed7953\"],[0.7777777777777778,\"#fb9f3a\"],[0.8888888888888888,\"#fdca26\"],[1.0,\"#f0f921\"]],\"type\":\"surface\"}],\"table\":[{\"cells\":{\"fill\":{\"color\":\"#EBF0F8\"},\"line\":{\"color\":\"white\"}},\"header\":{\"fill\":{\"color\":\"#C8D4E3\"},\"line\":{\"color\":\"white\"}},\"type\":\"table\"}]},\"layout\":{\"annotationdefaults\":{\"arrowcolor\":\"#2a3f5f\",\"arrowhead\":0,\"arrowwidth\":1},\"autotypenumbers\":\"strict\",\"coloraxis\":{\"colorbar\":{\"outlinewidth\":0,\"ticks\":\"\"}},\"colorscale\":{\"diverging\":[[0,\"#8e0152\"],[0.1,\"#c51b7d\"],[0.2,\"#de77ae\"],[0.3,\"#f1b6da\"],[0.4,\"#fde0ef\"],[0.5,\"#f7f7f7\"],[0.6,\"#e6f5d0\"],[0.7,\"#b8e186\"],[0.8,\"#7fbc41\"],[0.9,\"#4d9221\"],[1,\"#276419\"]],\"sequential\":[[0.0,\"#0d0887\"],[0.1111111111111111,\"#46039f\"],[0.2222222222222222,\"#7201a8\"],[0.3333333333333333,\"#9c179e\"],[0.4444444444444444,\"#bd3786\"],[0.5555555555555556,\"#d8576b\"],[0.6666666666666666,\"#ed7953\"],[0.7777777777777778,\"#fb9f3a\"],[0.8888888888888888,\"#fdca26\"],[1.0,\"#f0f921\"]],\"sequentialminus\":[[0.0,\"#0d0887\"],[0.1111111111111111,\"#46039f\"],[0.2222222222222222,\"#7201a8\"],[0.3333333333333333,\"#9c179e\"],[0.4444444444444444,\"#bd3786\"],[0.5555555555555556,\"#d8576b\"],[0.6666666666666666,\"#ed7953\"],[0.7777777777777778,\"#fb9f3a\"],[0.8888888888888888,\"#fdca26\"],[1.0,\"#f0f921\"]]},\"colorway\":[\"#636efa\",\"#EF553B\",\"#00cc96\",\"#ab63fa\",\"#FFA15A\",\"#19d3f3\",\"#FF6692\",\"#B6E880\",\"#FF97FF\",\"#FECB52\"],\"font\":{\"color\":\"#2a3f5f\"},\"geo\":{\"bgcolor\":\"white\",\"lakecolor\":\"white\",\"landcolor\":\"#E5ECF6\",\"showlakes\":true,\"showland\":true,\"subunitcolor\":\"white\"},\"hoverlabel\":{\"align\":\"left\"},\"hovermode\":\"closest\",\"mapbox\":{\"style\":\"light\"},\"paper_bgcolor\":\"white\",\"plot_bgcolor\":\"#E5ECF6\",\"polar\":{\"angularaxis\":{\"gridcolor\":\"white\",\"linecolor\":\"white\",\"ticks\":\"\"},\"bgcolor\":\"#E5ECF6\",\"radialaxis\":{\"gridcolor\":\"white\",\"linecolor\":\"white\",\"ticks\":\"\"}},\"scene\":{\"xaxis\":{\"backgroundcolor\":\"#E5ECF6\",\"gridcolor\":\"white\",\"gridwidth\":2,\"linecolor\":\"white\",\"showbackground\":true,\"ticks\":\"\",\"zerolinecolor\":\"white\"},\"yaxis\":{\"backgroundcolor\":\"#E5ECF6\",\"gridcolor\":\"white\",\"gridwidth\":2,\"linecolor\":\"white\",\"showbackground\":true,\"ticks\":\"\",\"zerolinecolor\":\"white\"},\"zaxis\":{\"backgroundcolor\":\"#E5ECF6\",\"gridcolor\":\"white\",\"gridwidth\":2,\"linecolor\":\"white\",\"showbackground\":true,\"ticks\":\"\",\"zerolinecolor\":\"white\"}},\"shapedefaults\":{\"line\":{\"color\":\"#2a3f5f\"}},\"ternary\":{\"aaxis\":{\"gridcolor\":\"white\",\"linecolor\":\"white\",\"ticks\":\"\"},\"baxis\":{\"gridcolor\":\"white\",\"linecolor\":\"white\",\"ticks\":\"\"},\"bgcolor\":\"#E5ECF6\",\"caxis\":{\"gridcolor\":\"white\",\"linecolor\":\"white\",\"ticks\":\"\"}},\"title\":{\"x\":0.05},\"xaxis\":{\"automargin\":true,\"gridcolor\":\"white\",\"linecolor\":\"white\",\"ticks\":\"\",\"title\":{\"standoff\":15},\"zerolinecolor\":\"white\",\"zerolinewidth\":2},\"yaxis\":{\"automargin\":true,\"gridcolor\":\"white\",\"linecolor\":\"white\",\"ticks\":\"\",\"title\":{\"standoff\":15},\"zerolinecolor\":\"white\",\"zerolinewidth\":2}}},\"xaxis\":{\"anchor\":\"y\",\"domain\":[0.0,1.0],\"title\":{\"text\":\"League Country\"}},\"yaxis\":{\"anchor\":\"x\",\"domain\":[0.0,1.0],\"title\":{\"text\":\"Representation\"}},\"legend\":{\"tracegroupgap\":0},\"title\":{\"text\":\"Football Leagues' Country Representation\"},\"barmode\":\"relative\"},                        {\"responsive\": true}                    ).then(function(){\n",
       "                            \n",
       "var gd = document.getElementById('db94c914-fe90-4045-bc44-30ceed39cab5');\n",
       "var x = new MutationObserver(function (mutations, observer) {{\n",
       "        var display = window.getComputedStyle(gd).display;\n",
       "        if (!display || display === 'none') {{\n",
       "            console.log([gd, 'removed!']);\n",
       "            Plotly.purge(gd);\n",
       "            observer.disconnect();\n",
       "        }}\n",
       "}});\n",
       "\n",
       "// Listen for the removal of the full notebook cells\n",
       "var notebookContainer = gd.closest('#notebook-container');\n",
       "if (notebookContainer) {{\n",
       "    x.observe(notebookContainer, {childList: true});\n",
       "}}\n",
       "\n",
       "// Listen for the clearing of the current output cell\n",
       "var outputEl = gd.closest('.output');\n",
       "if (outputEl) {{\n",
       "    x.observe(outputEl, {childList: true});\n",
       "}}\n",
       "\n",
       "                        })                };                });            </script>        </div>"
      ]
     },
     "metadata": {},
     "output_type": "display_data"
    }
   ],
   "source": [
    "# Most represented Nation in terms of players that for a club in a certain nation\n",
    "league_countries = list(set(data[\"Club Country\"]))\n",
    "lg_cntry_count = []\n",
    "for country in league_countries:\n",
    "    count = 0\n",
    "    for index in data.index:\n",
    "        if data[\"Club Country\"][index] == country:\n",
    "            count += 1\n",
    "    lg_cntry_count.append(count)\n",
    "# print(len(lg_cntry_count))\n",
    "# print(len(league_countries))\n",
    "most_plyr_percent = (max(lg_cntry_count)/len(data))*100\n",
    "print(most_plyr_percent)\n",
    "second_most_plyr_percent = (87/len(data))*100\n",
    "print(second_most_plyr_percent)\n",
    "league_cntry_rep_df = pd.DataFrame(list(zip(league_countries, lg_cntry_count)), columns=[\"League Country\", \"Representation\"])\n",
    "league_cntry_rep_df.head()\n",
    "league_cntry_rep_fig = px.bar(league_cntry_rep_df, x=\"League Country\", y=\"Representation\", title=\"Football Leagues' Country Representation\")\n",
    "league_cntry_rep_fig.show()"
   ]
  },
  {
   "cell_type": "markdown",
   "id": "e4e598b3",
   "metadata": {},
   "source": [
    "159 players at the 2022 World Cup play for football clubs in England. English clubs are the most represented at the World Club, that is 19.33% of players at the World Cup. Second is SpanishClubs with 87 players, that is 10.47% of players at the World Cup. 2 Tunisian plays play for clubs in Egypt. Dejan Lovren of Croatia and Moumi Ngameleu of Cameroon represent the Russian Premier League."
   ]
  },
  {
   "cell_type": "code",
   "execution_count": 22,
   "id": "0aeab699",
   "metadata": {},
   "outputs": [
    {
     "name": "stdout",
     "output_type": "stream",
     "text": [
      "32\n",
      "32\n",
      "32\n"
     ]
    },
    {
     "data": {
      "application/vnd.plotly.v1+json": {
       "config": {
        "plotlyServerURL": "https://plot.ly"
       },
       "data": [
        {
         "alignmentgroup": "True",
         "customdata": [
          [
           11.538461538461538
          ],
          [
           36
          ],
          [
           23.076923076923077
          ],
          [
           15.384615384615385
          ],
          [
           46.15384615384615
          ],
          [
           3.8461538461538463
          ],
          [
           19.230769230769234
          ],
          [
           61.53846153846154
          ],
          [
           69.23076923076923
          ],
          [
           11.538461538461538
          ],
          [
           11.538461538461538
          ],
          [
           7.6923076923076925
          ],
          [
           53.84615384615385
          ],
          [
           30.76923076923077
          ],
          [
           65.38461538461539
          ],
          [
           7.6923076923076925
          ],
          [
           15.384615384615385
          ],
          [
           7.6923076923076925
          ],
          [
           96.15384615384616
          ],
          [
           26.923076923076923
          ],
          [
           100
          ],
          [
           3.8461538461538463
          ],
          [
           76.92307692307693
          ],
          [
           30.76923076923077
          ],
          [
           34.61538461538461
          ],
          [
           26.923076923076923
          ],
          [
           11.538461538461538
          ],
          [
           19.230769230769234
          ],
          [
           23.076923076923077
          ],
          [
           100
          ],
          [
           0
          ],
          [
           38.46153846153847
          ]
         ],
         "hovertemplate": "Country=%{x}<br>Local Players=%{y}<br>Local Percentage Representation=%{customdata[0]}<extra></extra>",
         "legendgroup": "",
         "marker": {
          "color": "#636efa",
          "pattern": {
           "shape": ""
          }
         },
         "name": "",
         "offsetgroup": "",
         "orientation": "v",
         "showlegend": false,
         "textposition": "auto",
         "type": "bar",
         "x": [
          "Uruguay",
          "Iran",
          "France",
          "Wales",
          "Netherlands",
          "Argentina",
          "Switzerland",
          "Mexico",
          "Spain",
          "Poland",
          "Morocco",
          "Cameroon",
          "South Korea",
          "Australia",
          "Costa Rica",
          "Ghana",
          "Ecuador",
          "Denmark",
          "England",
          "Japan",
          "Saudi Arabia",
          "Serbia",
          "Germany",
          "Tunisia",
          "United States",
          "Portugal",
          "Brazil",
          "Belgium",
          "Croatia",
          "Qatar",
          "Senegal",
          "Canada"
         ],
         "xaxis": "x",
         "y": [
          3,
          9,
          6,
          4,
          12,
          1,
          5,
          16,
          18,
          3,
          3,
          2,
          14,
          8,
          17,
          2,
          4,
          2,
          25,
          7,
          26,
          1,
          20,
          8,
          9,
          7,
          3,
          5,
          6,
          26,
          0,
          10
         ],
         "yaxis": "y"
        }
       ],
       "layout": {
        "barmode": "relative",
        "legend": {
         "tracegroupgap": 0
        },
        "template": {
         "data": {
          "bar": [
           {
            "error_x": {
             "color": "#2a3f5f"
            },
            "error_y": {
             "color": "#2a3f5f"
            },
            "marker": {
             "line": {
              "color": "#E5ECF6",
              "width": 0.5
             },
             "pattern": {
              "fillmode": "overlay",
              "size": 10,
              "solidity": 0.2
             }
            },
            "type": "bar"
           }
          ],
          "barpolar": [
           {
            "marker": {
             "line": {
              "color": "#E5ECF6",
              "width": 0.5
             },
             "pattern": {
              "fillmode": "overlay",
              "size": 10,
              "solidity": 0.2
             }
            },
            "type": "barpolar"
           }
          ],
          "carpet": [
           {
            "aaxis": {
             "endlinecolor": "#2a3f5f",
             "gridcolor": "white",
             "linecolor": "white",
             "minorgridcolor": "white",
             "startlinecolor": "#2a3f5f"
            },
            "baxis": {
             "endlinecolor": "#2a3f5f",
             "gridcolor": "white",
             "linecolor": "white",
             "minorgridcolor": "white",
             "startlinecolor": "#2a3f5f"
            },
            "type": "carpet"
           }
          ],
          "choropleth": [
           {
            "colorbar": {
             "outlinewidth": 0,
             "ticks": ""
            },
            "type": "choropleth"
           }
          ],
          "contour": [
           {
            "colorbar": {
             "outlinewidth": 0,
             "ticks": ""
            },
            "colorscale": [
             [
              0,
              "#0d0887"
             ],
             [
              0.1111111111111111,
              "#46039f"
             ],
             [
              0.2222222222222222,
              "#7201a8"
             ],
             [
              0.3333333333333333,
              "#9c179e"
             ],
             [
              0.4444444444444444,
              "#bd3786"
             ],
             [
              0.5555555555555556,
              "#d8576b"
             ],
             [
              0.6666666666666666,
              "#ed7953"
             ],
             [
              0.7777777777777778,
              "#fb9f3a"
             ],
             [
              0.8888888888888888,
              "#fdca26"
             ],
             [
              1,
              "#f0f921"
             ]
            ],
            "type": "contour"
           }
          ],
          "contourcarpet": [
           {
            "colorbar": {
             "outlinewidth": 0,
             "ticks": ""
            },
            "type": "contourcarpet"
           }
          ],
          "heatmap": [
           {
            "colorbar": {
             "outlinewidth": 0,
             "ticks": ""
            },
            "colorscale": [
             [
              0,
              "#0d0887"
             ],
             [
              0.1111111111111111,
              "#46039f"
             ],
             [
              0.2222222222222222,
              "#7201a8"
             ],
             [
              0.3333333333333333,
              "#9c179e"
             ],
             [
              0.4444444444444444,
              "#bd3786"
             ],
             [
              0.5555555555555556,
              "#d8576b"
             ],
             [
              0.6666666666666666,
              "#ed7953"
             ],
             [
              0.7777777777777778,
              "#fb9f3a"
             ],
             [
              0.8888888888888888,
              "#fdca26"
             ],
             [
              1,
              "#f0f921"
             ]
            ],
            "type": "heatmap"
           }
          ],
          "heatmapgl": [
           {
            "colorbar": {
             "outlinewidth": 0,
             "ticks": ""
            },
            "colorscale": [
             [
              0,
              "#0d0887"
             ],
             [
              0.1111111111111111,
              "#46039f"
             ],
             [
              0.2222222222222222,
              "#7201a8"
             ],
             [
              0.3333333333333333,
              "#9c179e"
             ],
             [
              0.4444444444444444,
              "#bd3786"
             ],
             [
              0.5555555555555556,
              "#d8576b"
             ],
             [
              0.6666666666666666,
              "#ed7953"
             ],
             [
              0.7777777777777778,
              "#fb9f3a"
             ],
             [
              0.8888888888888888,
              "#fdca26"
             ],
             [
              1,
              "#f0f921"
             ]
            ],
            "type": "heatmapgl"
           }
          ],
          "histogram": [
           {
            "marker": {
             "pattern": {
              "fillmode": "overlay",
              "size": 10,
              "solidity": 0.2
             }
            },
            "type": "histogram"
           }
          ],
          "histogram2d": [
           {
            "colorbar": {
             "outlinewidth": 0,
             "ticks": ""
            },
            "colorscale": [
             [
              0,
              "#0d0887"
             ],
             [
              0.1111111111111111,
              "#46039f"
             ],
             [
              0.2222222222222222,
              "#7201a8"
             ],
             [
              0.3333333333333333,
              "#9c179e"
             ],
             [
              0.4444444444444444,
              "#bd3786"
             ],
             [
              0.5555555555555556,
              "#d8576b"
             ],
             [
              0.6666666666666666,
              "#ed7953"
             ],
             [
              0.7777777777777778,
              "#fb9f3a"
             ],
             [
              0.8888888888888888,
              "#fdca26"
             ],
             [
              1,
              "#f0f921"
             ]
            ],
            "type": "histogram2d"
           }
          ],
          "histogram2dcontour": [
           {
            "colorbar": {
             "outlinewidth": 0,
             "ticks": ""
            },
            "colorscale": [
             [
              0,
              "#0d0887"
             ],
             [
              0.1111111111111111,
              "#46039f"
             ],
             [
              0.2222222222222222,
              "#7201a8"
             ],
             [
              0.3333333333333333,
              "#9c179e"
             ],
             [
              0.4444444444444444,
              "#bd3786"
             ],
             [
              0.5555555555555556,
              "#d8576b"
             ],
             [
              0.6666666666666666,
              "#ed7953"
             ],
             [
              0.7777777777777778,
              "#fb9f3a"
             ],
             [
              0.8888888888888888,
              "#fdca26"
             ],
             [
              1,
              "#f0f921"
             ]
            ],
            "type": "histogram2dcontour"
           }
          ],
          "mesh3d": [
           {
            "colorbar": {
             "outlinewidth": 0,
             "ticks": ""
            },
            "type": "mesh3d"
           }
          ],
          "parcoords": [
           {
            "line": {
             "colorbar": {
              "outlinewidth": 0,
              "ticks": ""
             }
            },
            "type": "parcoords"
           }
          ],
          "pie": [
           {
            "automargin": true,
            "type": "pie"
           }
          ],
          "scatter": [
           {
            "marker": {
             "colorbar": {
              "outlinewidth": 0,
              "ticks": ""
             }
            },
            "type": "scatter"
           }
          ],
          "scatter3d": [
           {
            "line": {
             "colorbar": {
              "outlinewidth": 0,
              "ticks": ""
             }
            },
            "marker": {
             "colorbar": {
              "outlinewidth": 0,
              "ticks": ""
             }
            },
            "type": "scatter3d"
           }
          ],
          "scattercarpet": [
           {
            "marker": {
             "colorbar": {
              "outlinewidth": 0,
              "ticks": ""
             }
            },
            "type": "scattercarpet"
           }
          ],
          "scattergeo": [
           {
            "marker": {
             "colorbar": {
              "outlinewidth": 0,
              "ticks": ""
             }
            },
            "type": "scattergeo"
           }
          ],
          "scattergl": [
           {
            "marker": {
             "colorbar": {
              "outlinewidth": 0,
              "ticks": ""
             }
            },
            "type": "scattergl"
           }
          ],
          "scattermapbox": [
           {
            "marker": {
             "colorbar": {
              "outlinewidth": 0,
              "ticks": ""
             }
            },
            "type": "scattermapbox"
           }
          ],
          "scatterpolar": [
           {
            "marker": {
             "colorbar": {
              "outlinewidth": 0,
              "ticks": ""
             }
            },
            "type": "scatterpolar"
           }
          ],
          "scatterpolargl": [
           {
            "marker": {
             "colorbar": {
              "outlinewidth": 0,
              "ticks": ""
             }
            },
            "type": "scatterpolargl"
           }
          ],
          "scatterternary": [
           {
            "marker": {
             "colorbar": {
              "outlinewidth": 0,
              "ticks": ""
             }
            },
            "type": "scatterternary"
           }
          ],
          "surface": [
           {
            "colorbar": {
             "outlinewidth": 0,
             "ticks": ""
            },
            "colorscale": [
             [
              0,
              "#0d0887"
             ],
             [
              0.1111111111111111,
              "#46039f"
             ],
             [
              0.2222222222222222,
              "#7201a8"
             ],
             [
              0.3333333333333333,
              "#9c179e"
             ],
             [
              0.4444444444444444,
              "#bd3786"
             ],
             [
              0.5555555555555556,
              "#d8576b"
             ],
             [
              0.6666666666666666,
              "#ed7953"
             ],
             [
              0.7777777777777778,
              "#fb9f3a"
             ],
             [
              0.8888888888888888,
              "#fdca26"
             ],
             [
              1,
              "#f0f921"
             ]
            ],
            "type": "surface"
           }
          ],
          "table": [
           {
            "cells": {
             "fill": {
              "color": "#EBF0F8"
             },
             "line": {
              "color": "white"
             }
            },
            "header": {
             "fill": {
              "color": "#C8D4E3"
             },
             "line": {
              "color": "white"
             }
            },
            "type": "table"
           }
          ]
         },
         "layout": {
          "annotationdefaults": {
           "arrowcolor": "#2a3f5f",
           "arrowhead": 0,
           "arrowwidth": 1
          },
          "autotypenumbers": "strict",
          "coloraxis": {
           "colorbar": {
            "outlinewidth": 0,
            "ticks": ""
           }
          },
          "colorscale": {
           "diverging": [
            [
             0,
             "#8e0152"
            ],
            [
             0.1,
             "#c51b7d"
            ],
            [
             0.2,
             "#de77ae"
            ],
            [
             0.3,
             "#f1b6da"
            ],
            [
             0.4,
             "#fde0ef"
            ],
            [
             0.5,
             "#f7f7f7"
            ],
            [
             0.6,
             "#e6f5d0"
            ],
            [
             0.7,
             "#b8e186"
            ],
            [
             0.8,
             "#7fbc41"
            ],
            [
             0.9,
             "#4d9221"
            ],
            [
             1,
             "#276419"
            ]
           ],
           "sequential": [
            [
             0,
             "#0d0887"
            ],
            [
             0.1111111111111111,
             "#46039f"
            ],
            [
             0.2222222222222222,
             "#7201a8"
            ],
            [
             0.3333333333333333,
             "#9c179e"
            ],
            [
             0.4444444444444444,
             "#bd3786"
            ],
            [
             0.5555555555555556,
             "#d8576b"
            ],
            [
             0.6666666666666666,
             "#ed7953"
            ],
            [
             0.7777777777777778,
             "#fb9f3a"
            ],
            [
             0.8888888888888888,
             "#fdca26"
            ],
            [
             1,
             "#f0f921"
            ]
           ],
           "sequentialminus": [
            [
             0,
             "#0d0887"
            ],
            [
             0.1111111111111111,
             "#46039f"
            ],
            [
             0.2222222222222222,
             "#7201a8"
            ],
            [
             0.3333333333333333,
             "#9c179e"
            ],
            [
             0.4444444444444444,
             "#bd3786"
            ],
            [
             0.5555555555555556,
             "#d8576b"
            ],
            [
             0.6666666666666666,
             "#ed7953"
            ],
            [
             0.7777777777777778,
             "#fb9f3a"
            ],
            [
             0.8888888888888888,
             "#fdca26"
            ],
            [
             1,
             "#f0f921"
            ]
           ]
          },
          "colorway": [
           "#636efa",
           "#EF553B",
           "#00cc96",
           "#ab63fa",
           "#FFA15A",
           "#19d3f3",
           "#FF6692",
           "#B6E880",
           "#FF97FF",
           "#FECB52"
          ],
          "font": {
           "color": "#2a3f5f"
          },
          "geo": {
           "bgcolor": "white",
           "lakecolor": "white",
           "landcolor": "#E5ECF6",
           "showlakes": true,
           "showland": true,
           "subunitcolor": "white"
          },
          "hoverlabel": {
           "align": "left"
          },
          "hovermode": "closest",
          "mapbox": {
           "style": "light"
          },
          "paper_bgcolor": "white",
          "plot_bgcolor": "#E5ECF6",
          "polar": {
           "angularaxis": {
            "gridcolor": "white",
            "linecolor": "white",
            "ticks": ""
           },
           "bgcolor": "#E5ECF6",
           "radialaxis": {
            "gridcolor": "white",
            "linecolor": "white",
            "ticks": ""
           }
          },
          "scene": {
           "xaxis": {
            "backgroundcolor": "#E5ECF6",
            "gridcolor": "white",
            "gridwidth": 2,
            "linecolor": "white",
            "showbackground": true,
            "ticks": "",
            "zerolinecolor": "white"
           },
           "yaxis": {
            "backgroundcolor": "#E5ECF6",
            "gridcolor": "white",
            "gridwidth": 2,
            "linecolor": "white",
            "showbackground": true,
            "ticks": "",
            "zerolinecolor": "white"
           },
           "zaxis": {
            "backgroundcolor": "#E5ECF6",
            "gridcolor": "white",
            "gridwidth": 2,
            "linecolor": "white",
            "showbackground": true,
            "ticks": "",
            "zerolinecolor": "white"
           }
          },
          "shapedefaults": {
           "line": {
            "color": "#2a3f5f"
           }
          },
          "ternary": {
           "aaxis": {
            "gridcolor": "white",
            "linecolor": "white",
            "ticks": ""
           },
           "baxis": {
            "gridcolor": "white",
            "linecolor": "white",
            "ticks": ""
           },
           "bgcolor": "#E5ECF6",
           "caxis": {
            "gridcolor": "white",
            "linecolor": "white",
            "ticks": ""
           }
          },
          "title": {
           "x": 0.05
          },
          "xaxis": {
           "automargin": true,
           "gridcolor": "white",
           "linecolor": "white",
           "ticks": "",
           "title": {
            "standoff": 15
           },
           "zerolinecolor": "white",
           "zerolinewidth": 2
          },
          "yaxis": {
           "automargin": true,
           "gridcolor": "white",
           "linecolor": "white",
           "ticks": "",
           "title": {
            "standoff": 15
           },
           "zerolinecolor": "white",
           "zerolinewidth": 2
          }
         }
        },
        "title": {
         "text": "Number of National Players Playing For Teams in Their Country"
        },
        "xaxis": {
         "anchor": "y",
         "domain": [
          0,
          1
         ],
         "title": {
          "text": "Country"
         }
        },
        "yaxis": {
         "anchor": "x",
         "domain": [
          0,
          1
         ],
         "title": {
          "text": "Local Players"
         }
        }
       }
      },
      "text/html": [
       "<div>                            <div id=\"7a091e46-f11d-49ea-87f9-7c9378ca04bd\" class=\"plotly-graph-div\" style=\"height:525px; width:100%;\"></div>            <script type=\"text/javascript\">                require([\"plotly\"], function(Plotly) {                    window.PLOTLYENV=window.PLOTLYENV || {};                                    if (document.getElementById(\"7a091e46-f11d-49ea-87f9-7c9378ca04bd\")) {                    Plotly.newPlot(                        \"7a091e46-f11d-49ea-87f9-7c9378ca04bd\",                        [{\"alignmentgroup\":\"True\",\"customdata\":[[11.538461538461538],[36.0],[23.076923076923077],[15.384615384615385],[46.15384615384615],[3.8461538461538463],[19.230769230769234],[61.53846153846154],[69.23076923076923],[11.538461538461538],[11.538461538461538],[7.6923076923076925],[53.84615384615385],[30.76923076923077],[65.38461538461539],[7.6923076923076925],[15.384615384615385],[7.6923076923076925],[96.15384615384616],[26.923076923076923],[100.0],[3.8461538461538463],[76.92307692307693],[30.76923076923077],[34.61538461538461],[26.923076923076923],[11.538461538461538],[19.230769230769234],[23.076923076923077],[100.0],[0.0],[38.46153846153847]],\"hovertemplate\":\"Country=%{x}<br>Local Players=%{y}<br>Local Percentage Representation=%{customdata[0]}<extra></extra>\",\"legendgroup\":\"\",\"marker\":{\"color\":\"#636efa\",\"pattern\":{\"shape\":\"\"}},\"name\":\"\",\"offsetgroup\":\"\",\"orientation\":\"v\",\"showlegend\":false,\"textposition\":\"auto\",\"x\":[\"Uruguay\",\"Iran\",\"France\",\"Wales\",\"Netherlands\",\"Argentina\",\"Switzerland\",\"Mexico\",\"Spain\",\"Poland\",\"Morocco\",\"Cameroon\",\"South Korea\",\"Australia\",\"Costa Rica\",\"Ghana\",\"Ecuador\",\"Denmark\",\"England\",\"Japan\",\"Saudi Arabia\",\"Serbia\",\"Germany\",\"Tunisia\",\"United States\",\"Portugal\",\"Brazil\",\"Belgium\",\"Croatia\",\"Qatar\",\"Senegal\",\"Canada\"],\"xaxis\":\"x\",\"y\":[3,9,6,4,12,1,5,16,18,3,3,2,14,8,17,2,4,2,25,7,26,1,20,8,9,7,3,5,6,26,0,10],\"yaxis\":\"y\",\"type\":\"bar\"}],                        {\"template\":{\"data\":{\"bar\":[{\"error_x\":{\"color\":\"#2a3f5f\"},\"error_y\":{\"color\":\"#2a3f5f\"},\"marker\":{\"line\":{\"color\":\"#E5ECF6\",\"width\":0.5},\"pattern\":{\"fillmode\":\"overlay\",\"size\":10,\"solidity\":0.2}},\"type\":\"bar\"}],\"barpolar\":[{\"marker\":{\"line\":{\"color\":\"#E5ECF6\",\"width\":0.5},\"pattern\":{\"fillmode\":\"overlay\",\"size\":10,\"solidity\":0.2}},\"type\":\"barpolar\"}],\"carpet\":[{\"aaxis\":{\"endlinecolor\":\"#2a3f5f\",\"gridcolor\":\"white\",\"linecolor\":\"white\",\"minorgridcolor\":\"white\",\"startlinecolor\":\"#2a3f5f\"},\"baxis\":{\"endlinecolor\":\"#2a3f5f\",\"gridcolor\":\"white\",\"linecolor\":\"white\",\"minorgridcolor\":\"white\",\"startlinecolor\":\"#2a3f5f\"},\"type\":\"carpet\"}],\"choropleth\":[{\"colorbar\":{\"outlinewidth\":0,\"ticks\":\"\"},\"type\":\"choropleth\"}],\"contour\":[{\"colorbar\":{\"outlinewidth\":0,\"ticks\":\"\"},\"colorscale\":[[0.0,\"#0d0887\"],[0.1111111111111111,\"#46039f\"],[0.2222222222222222,\"#7201a8\"],[0.3333333333333333,\"#9c179e\"],[0.4444444444444444,\"#bd3786\"],[0.5555555555555556,\"#d8576b\"],[0.6666666666666666,\"#ed7953\"],[0.7777777777777778,\"#fb9f3a\"],[0.8888888888888888,\"#fdca26\"],[1.0,\"#f0f921\"]],\"type\":\"contour\"}],\"contourcarpet\":[{\"colorbar\":{\"outlinewidth\":0,\"ticks\":\"\"},\"type\":\"contourcarpet\"}],\"heatmap\":[{\"colorbar\":{\"outlinewidth\":0,\"ticks\":\"\"},\"colorscale\":[[0.0,\"#0d0887\"],[0.1111111111111111,\"#46039f\"],[0.2222222222222222,\"#7201a8\"],[0.3333333333333333,\"#9c179e\"],[0.4444444444444444,\"#bd3786\"],[0.5555555555555556,\"#d8576b\"],[0.6666666666666666,\"#ed7953\"],[0.7777777777777778,\"#fb9f3a\"],[0.8888888888888888,\"#fdca26\"],[1.0,\"#f0f921\"]],\"type\":\"heatmap\"}],\"heatmapgl\":[{\"colorbar\":{\"outlinewidth\":0,\"ticks\":\"\"},\"colorscale\":[[0.0,\"#0d0887\"],[0.1111111111111111,\"#46039f\"],[0.2222222222222222,\"#7201a8\"],[0.3333333333333333,\"#9c179e\"],[0.4444444444444444,\"#bd3786\"],[0.5555555555555556,\"#d8576b\"],[0.6666666666666666,\"#ed7953\"],[0.7777777777777778,\"#fb9f3a\"],[0.8888888888888888,\"#fdca26\"],[1.0,\"#f0f921\"]],\"type\":\"heatmapgl\"}],\"histogram\":[{\"marker\":{\"pattern\":{\"fillmode\":\"overlay\",\"size\":10,\"solidity\":0.2}},\"type\":\"histogram\"}],\"histogram2d\":[{\"colorbar\":{\"outlinewidth\":0,\"ticks\":\"\"},\"colorscale\":[[0.0,\"#0d0887\"],[0.1111111111111111,\"#46039f\"],[0.2222222222222222,\"#7201a8\"],[0.3333333333333333,\"#9c179e\"],[0.4444444444444444,\"#bd3786\"],[0.5555555555555556,\"#d8576b\"],[0.6666666666666666,\"#ed7953\"],[0.7777777777777778,\"#fb9f3a\"],[0.8888888888888888,\"#fdca26\"],[1.0,\"#f0f921\"]],\"type\":\"histogram2d\"}],\"histogram2dcontour\":[{\"colorbar\":{\"outlinewidth\":0,\"ticks\":\"\"},\"colorscale\":[[0.0,\"#0d0887\"],[0.1111111111111111,\"#46039f\"],[0.2222222222222222,\"#7201a8\"],[0.3333333333333333,\"#9c179e\"],[0.4444444444444444,\"#bd3786\"],[0.5555555555555556,\"#d8576b\"],[0.6666666666666666,\"#ed7953\"],[0.7777777777777778,\"#fb9f3a\"],[0.8888888888888888,\"#fdca26\"],[1.0,\"#f0f921\"]],\"type\":\"histogram2dcontour\"}],\"mesh3d\":[{\"colorbar\":{\"outlinewidth\":0,\"ticks\":\"\"},\"type\":\"mesh3d\"}],\"parcoords\":[{\"line\":{\"colorbar\":{\"outlinewidth\":0,\"ticks\":\"\"}},\"type\":\"parcoords\"}],\"pie\":[{\"automargin\":true,\"type\":\"pie\"}],\"scatter\":[{\"marker\":{\"colorbar\":{\"outlinewidth\":0,\"ticks\":\"\"}},\"type\":\"scatter\"}],\"scatter3d\":[{\"line\":{\"colorbar\":{\"outlinewidth\":0,\"ticks\":\"\"}},\"marker\":{\"colorbar\":{\"outlinewidth\":0,\"ticks\":\"\"}},\"type\":\"scatter3d\"}],\"scattercarpet\":[{\"marker\":{\"colorbar\":{\"outlinewidth\":0,\"ticks\":\"\"}},\"type\":\"scattercarpet\"}],\"scattergeo\":[{\"marker\":{\"colorbar\":{\"outlinewidth\":0,\"ticks\":\"\"}},\"type\":\"scattergeo\"}],\"scattergl\":[{\"marker\":{\"colorbar\":{\"outlinewidth\":0,\"ticks\":\"\"}},\"type\":\"scattergl\"}],\"scattermapbox\":[{\"marker\":{\"colorbar\":{\"outlinewidth\":0,\"ticks\":\"\"}},\"type\":\"scattermapbox\"}],\"scatterpolar\":[{\"marker\":{\"colorbar\":{\"outlinewidth\":0,\"ticks\":\"\"}},\"type\":\"scatterpolar\"}],\"scatterpolargl\":[{\"marker\":{\"colorbar\":{\"outlinewidth\":0,\"ticks\":\"\"}},\"type\":\"scatterpolargl\"}],\"scatterternary\":[{\"marker\":{\"colorbar\":{\"outlinewidth\":0,\"ticks\":\"\"}},\"type\":\"scatterternary\"}],\"surface\":[{\"colorbar\":{\"outlinewidth\":0,\"ticks\":\"\"},\"colorscale\":[[0.0,\"#0d0887\"],[0.1111111111111111,\"#46039f\"],[0.2222222222222222,\"#7201a8\"],[0.3333333333333333,\"#9c179e\"],[0.4444444444444444,\"#bd3786\"],[0.5555555555555556,\"#d8576b\"],[0.6666666666666666,\"#ed7953\"],[0.7777777777777778,\"#fb9f3a\"],[0.8888888888888888,\"#fdca26\"],[1.0,\"#f0f921\"]],\"type\":\"surface\"}],\"table\":[{\"cells\":{\"fill\":{\"color\":\"#EBF0F8\"},\"line\":{\"color\":\"white\"}},\"header\":{\"fill\":{\"color\":\"#C8D4E3\"},\"line\":{\"color\":\"white\"}},\"type\":\"table\"}]},\"layout\":{\"annotationdefaults\":{\"arrowcolor\":\"#2a3f5f\",\"arrowhead\":0,\"arrowwidth\":1},\"autotypenumbers\":\"strict\",\"coloraxis\":{\"colorbar\":{\"outlinewidth\":0,\"ticks\":\"\"}},\"colorscale\":{\"diverging\":[[0,\"#8e0152\"],[0.1,\"#c51b7d\"],[0.2,\"#de77ae\"],[0.3,\"#f1b6da\"],[0.4,\"#fde0ef\"],[0.5,\"#f7f7f7\"],[0.6,\"#e6f5d0\"],[0.7,\"#b8e186\"],[0.8,\"#7fbc41\"],[0.9,\"#4d9221\"],[1,\"#276419\"]],\"sequential\":[[0.0,\"#0d0887\"],[0.1111111111111111,\"#46039f\"],[0.2222222222222222,\"#7201a8\"],[0.3333333333333333,\"#9c179e\"],[0.4444444444444444,\"#bd3786\"],[0.5555555555555556,\"#d8576b\"],[0.6666666666666666,\"#ed7953\"],[0.7777777777777778,\"#fb9f3a\"],[0.8888888888888888,\"#fdca26\"],[1.0,\"#f0f921\"]],\"sequentialminus\":[[0.0,\"#0d0887\"],[0.1111111111111111,\"#46039f\"],[0.2222222222222222,\"#7201a8\"],[0.3333333333333333,\"#9c179e\"],[0.4444444444444444,\"#bd3786\"],[0.5555555555555556,\"#d8576b\"],[0.6666666666666666,\"#ed7953\"],[0.7777777777777778,\"#fb9f3a\"],[0.8888888888888888,\"#fdca26\"],[1.0,\"#f0f921\"]]},\"colorway\":[\"#636efa\",\"#EF553B\",\"#00cc96\",\"#ab63fa\",\"#FFA15A\",\"#19d3f3\",\"#FF6692\",\"#B6E880\",\"#FF97FF\",\"#FECB52\"],\"font\":{\"color\":\"#2a3f5f\"},\"geo\":{\"bgcolor\":\"white\",\"lakecolor\":\"white\",\"landcolor\":\"#E5ECF6\",\"showlakes\":true,\"showland\":true,\"subunitcolor\":\"white\"},\"hoverlabel\":{\"align\":\"left\"},\"hovermode\":\"closest\",\"mapbox\":{\"style\":\"light\"},\"paper_bgcolor\":\"white\",\"plot_bgcolor\":\"#E5ECF6\",\"polar\":{\"angularaxis\":{\"gridcolor\":\"white\",\"linecolor\":\"white\",\"ticks\":\"\"},\"bgcolor\":\"#E5ECF6\",\"radialaxis\":{\"gridcolor\":\"white\",\"linecolor\":\"white\",\"ticks\":\"\"}},\"scene\":{\"xaxis\":{\"backgroundcolor\":\"#E5ECF6\",\"gridcolor\":\"white\",\"gridwidth\":2,\"linecolor\":\"white\",\"showbackground\":true,\"ticks\":\"\",\"zerolinecolor\":\"white\"},\"yaxis\":{\"backgroundcolor\":\"#E5ECF6\",\"gridcolor\":\"white\",\"gridwidth\":2,\"linecolor\":\"white\",\"showbackground\":true,\"ticks\":\"\",\"zerolinecolor\":\"white\"},\"zaxis\":{\"backgroundcolor\":\"#E5ECF6\",\"gridcolor\":\"white\",\"gridwidth\":2,\"linecolor\":\"white\",\"showbackground\":true,\"ticks\":\"\",\"zerolinecolor\":\"white\"}},\"shapedefaults\":{\"line\":{\"color\":\"#2a3f5f\"}},\"ternary\":{\"aaxis\":{\"gridcolor\":\"white\",\"linecolor\":\"white\",\"ticks\":\"\"},\"baxis\":{\"gridcolor\":\"white\",\"linecolor\":\"white\",\"ticks\":\"\"},\"bgcolor\":\"#E5ECF6\",\"caxis\":{\"gridcolor\":\"white\",\"linecolor\":\"white\",\"ticks\":\"\"}},\"title\":{\"x\":0.05},\"xaxis\":{\"automargin\":true,\"gridcolor\":\"white\",\"linecolor\":\"white\",\"ticks\":\"\",\"title\":{\"standoff\":15},\"zerolinecolor\":\"white\",\"zerolinewidth\":2},\"yaxis\":{\"automargin\":true,\"gridcolor\":\"white\",\"linecolor\":\"white\",\"ticks\":\"\",\"title\":{\"standoff\":15},\"zerolinecolor\":\"white\",\"zerolinewidth\":2}}},\"xaxis\":{\"anchor\":\"y\",\"domain\":[0.0,1.0],\"title\":{\"text\":\"Country\"}},\"yaxis\":{\"anchor\":\"x\",\"domain\":[0.0,1.0],\"title\":{\"text\":\"Local Players\"}},\"legend\":{\"tracegroupgap\":0},\"title\":{\"text\":\"Number of National Players Playing For Teams in Their Country\"},\"barmode\":\"relative\"},                        {\"responsive\": true}                    ).then(function(){\n",
       "                            \n",
       "var gd = document.getElementById('7a091e46-f11d-49ea-87f9-7c9378ca04bd');\n",
       "var x = new MutationObserver(function (mutations, observer) {{\n",
       "        var display = window.getComputedStyle(gd).display;\n",
       "        if (!display || display === 'none') {{\n",
       "            console.log([gd, 'removed!']);\n",
       "            Plotly.purge(gd);\n",
       "            observer.disconnect();\n",
       "        }}\n",
       "}});\n",
       "\n",
       "// Listen for the removal of the full notebook cells\n",
       "var notebookContainer = gd.closest('#notebook-container');\n",
       "if (notebookContainer) {{\n",
       "    x.observe(notebookContainer, {childList: true});\n",
       "}}\n",
       "\n",
       "// Listen for the clearing of the current output cell\n",
       "var outputEl = gd.closest('.output');\n",
       "if (outputEl) {{\n",
       "    x.observe(outputEl, {childList: true});\n",
       "}}\n",
       "\n",
       "                        })                };                });            </script>        </div>"
      ]
     },
     "metadata": {},
     "output_type": "display_data"
    }
   ],
   "source": [
    "# Players who play for their local leagues\n",
    "nations = list(set(data[\"Nationality\"]))\n",
    "no_players = []\n",
    "local_players = []\n",
    "# print(nations)\n",
    "for nation in nations:\n",
    "    nation_df = data.loc[data[\"Nationality\"] == nation, :]\n",
    "    no_players.append(len(nation_df))\n",
    "    local_cnt = 0\n",
    "    for index in nation_df.index:\n",
    "        if nation_df[\"Club Country\"][index] == nation:\n",
    "            local_cnt += 1\n",
    "    local_players.append(local_cnt)\n",
    "\n",
    "print(len(nations))\n",
    "print(len(no_players))\n",
    "print(len(local_players))\n",
    "\n",
    "local_rep_df = pd.DataFrame(list(zip(nations, local_players, no_players)), columns=[\"Country\", \"Local Players\", \"Total Players\"])\n",
    "local_rep_df[\"Local Percentage Representation\"] = (local_rep_df[\"Local Players\"]/local_rep_df[\"Total Players\"])*100\n",
    "local_rep_df.head()\n",
    "local_rep_fig = px.bar(local_rep_df, x=\"Country\", y=\"Local Players\", hover_data=[\"Country\", \"Local Players\", \"Local Percentage Representation\"], title=\"Number of National Players Playing For Teams in Their Country\")\n",
    "local_rep_fig.show()"
   ]
  },
  {
   "cell_type": "markdown",
   "id": "13db6da0",
   "metadata": {},
   "source": [
    "All players in the Saudi Arabia and Qatar national teams play for football clubs in their respective countries. All players in the England national team except one play in the Premier League, Jude Bellingham of Borrusia Dortmund. Senegal have no players the play in their local leagues."
   ]
  }
 ],
 "metadata": {
  "kernelspec": {
   "display_name": "Python 3 (ipykernel)",
   "language": "python",
   "name": "python3"
  },
  "language_info": {
   "codemirror_mode": {
    "name": "ipython",
    "version": 3
   },
   "file_extension": ".py",
   "mimetype": "text/x-python",
   "name": "python",
   "nbconvert_exporter": "python",
   "pygments_lexer": "ipython3",
   "version": "3.9.12"
  }
 },
 "nbformat": 4,
 "nbformat_minor": 5
}
